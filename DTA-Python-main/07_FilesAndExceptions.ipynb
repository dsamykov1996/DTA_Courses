{
 "cells": [
  {
   "cell_type": "code",
   "execution_count": null,
   "metadata": {
    "autorun": true,
    "jupyterlab-hide-cells:hidden": true,
    "tags": []
   },
   "outputs": [],
   "source": [
    "from IPython.display import HTML; HTML(f\"\"\"<style>{open(\"./styles/styles.css\").read()}</style>\"\"\")"
   ]
  },
  {
   "attachments": {
    "LuFgi9.png": {
     "image/png": "[encoded data removed]"
    }
   },
   "cell_type": "markdown",
   "metadata": {},
   "source": [
    "<center><img width=\"250\" align=\"right\" src=\"attachment:LuFgi9.png\" /></center>"
   ]
  },
  {
   "cell_type": "markdown",
   "metadata": {
    "jp-MarkdownHeadingCollapsed": true,
    "tags": []
   },
   "source": [
    "<a id=\"top\"></a>\n",
    "# File Handling & Exceptions\n",
    "## Overview\n",
    "### [File Handling](#file_handling)\n",
    "* [Reading Text & `with` Statement](#readingTextAndWithStatement)\n",
    "* [Writing Text: New File and Appending](#writingText)\n",
    "* [Reading & Writing `CSV`](#readingWritingCsv)\n",
    "* [Object Serialization](#objectSerialization)\n",
    "### [Exceptions](#exceptions)\n",
    "* [Most common Exceptions](#commonExceptions)\n",
    "* [Exceptions vs. Syntax Errors](#syntaxErrors)\n",
    "* [Raising an Exception](#raisingException)\n",
    "* [Exception Handling](#exceptionHandling)\n",
    "  * [Handling Various Exceptions](#variousExceptions)\n",
    "* [Exception Handling along the Call Stack](#exceptionHandlingCallStack)\n",
    "* [Defining your own Exceptions](#definingOwnExceptions)\n",
    "  * [Inheriting from Exception](#inheritingFromException) "
   ]
  },
  {
   "cell_type": "markdown",
   "metadata": {},
   "source": [
    "<a id=\"file_handling\"></a>\n",
    "# File Handling"
   ]
  },
  {
   "cell_type": "markdown",
   "metadata": {},
   "source": [
    "Reading content from a file is pretty simple: you open a __file object__ either for __reading or writing or appending__ text or biniary data. The `with` statement in combination with the `open` function opens the file and closes it automatically after execution of its statement block. "
   ]
  },
  {
   "cell_type": "markdown",
   "metadata": {},
   "source": [
    "---\n",
    "<a name=\"readingTextAndWithStatement\"></a>\n",
    "## [Reading Text & `with` Statement](#top)\n",
    "\n",
    "Files can be opened with the built-in function `open(file, mode)`. The file or the file path must always be specified as well as a corresponding mode (*reading, writing, appending, ...*). <br>\n",
    "\n",
    "Open files should always be closed after reading/editing. This is done with the `close()` function. <br>\n",
    "However, as this can be forgotten during implementation, the `with` statement is usually used in Python: \n",
    "```Python\n",
    "with open(file, mode) as shortname:\n",
    "    # indented block using shortname\n",
    "```"
   ]
  },
  {
   "cell_type": "code",
   "execution_count": null,
   "metadata": {},
   "outputs": [],
   "source": [
    "with open(\"./data/threeLines.txt\", \"r\") as f: # r ==> open for reading\n",
    "    for line in f:\n",
    "        print (line.strip()) # whitespace at beginning and end of string is removed\n",
    "# after the with block f is automatically closed\n",
    "\n",
    "f.read() # error, because f is closed"
   ]
  },
  {
   "cell_type": "markdown",
   "metadata": {},
   "source": [
    "If the file does not exist, an `FileNotFoundError` is raised:"
   ]
  },
  {
   "cell_type": "code",
   "execution_count": null,
   "metadata": {},
   "outputs": [],
   "source": [
    "with open(\"./data/FileDoesNotExist.txt\", \"r\") as f: # r ==> open for reading\n",
    "    for line in f:\n",
    "        print (line.strip())"
   ]
  },
  {
   "cell_type": "markdown",
   "metadata": {},
   "source": [
    "<div class=\"learnmore\">As mentioned in the comment, the <code>strip( )</code> method removes leading and trailing whitespaces from a string. This method is not restricted to file text lines and works because we iterate each line within the <code>for</code> loop. But there are <a href=\"https://docs.python.org/3/tutorial/inputoutput.html#methods-of-file-objects\">more</a> options to read file content:</div>\n",
    "\n",
    "| Built-In Function | Description | Example |\n",
    "|----|---|---|\n",
    "| **`strip()`**  | Removes leading and trailing whitespace from string | `interesting_string = s.strip()` |\n",
    "| **`read()`**  | Reading all lines of `f` into a `str` separated by newlines. | `allLinesStr = f.read()` |\n",
    "| **`readline()`**  | Reads a single line of `f`. | `singleLine = f.readline()` |\n",
    "| **`readlines()`**  | Reading all lines of `f` into a `list` separated by newlines. | `allLinesList = f.readlines()` |\n",
    "| **`write(`**_`str`_**`)`**  | Writing the content of `str` into the file `f`. | `f.write(\"This is sample text!)` |"
   ]
  },
  {
   "cell_type": "code",
   "execution_count": null,
   "metadata": {},
   "outputs": [],
   "source": [
    "with open('./data/threeLines.txt') as f:\n",
    "    print(f)\n",
    "    lines = f.read()\n",
    "    \n",
    "print(\"Lines: \", lines)\n",
    "print(type(lines))"
   ]
  },
  {
   "cell_type": "code",
   "execution_count": null,
   "metadata": {},
   "outputs": [],
   "source": [
    "with open('./data/threeLines.txt') as f:\n",
    "    print(f)\n",
    "    lines = f.readlines()\n",
    "    \n",
    "print(\"Lines: \", lines)\n",
    "print(type(lines))"
   ]
  },
  {
   "cell_type": "markdown",
   "metadata": {},
   "source": [
    "Because we stored some content from the file in a variable, we can access it outside the `with` block. \n",
    "> **Note:** The with block does not create its own namespace."
   ]
  },
  {
   "cell_type": "markdown",
   "metadata": {},
   "source": [
    "---\n",
    "<a name=\"writingText\"></a>\n",
    "## [Writing Text: New File and Appending](#top)\n",
    "Writing contents to a file is equally easy. Let's assume, we want to write strings to a file, each in a separate line:"
   ]
  },
  {
   "cell_type": "code",
   "execution_count": null,
   "metadata": {},
   "outputs": [],
   "source": [
    "my_list = [\"Line A\", \"Line B\", \"Line C\", \"Line D\"]"
   ]
  },
  {
   "cell_type": "markdown",
   "metadata": {},
   "source": [
    "If you open files, you can do this in different modes. <br>\n",
    "With `w`, an (existing) file is first deleted and then created again. This means that if the file already existed before, the previous content is deleted and writing starts from the beginning."
   ]
  },
  {
   "cell_type": "code",
   "execution_count": null,
   "metadata": {},
   "outputs": [],
   "source": [
    "with open(\"./data/moreLines.txt\", \"w\") as f: # w ==> open for writing: create or overwrite\n",
    "    for element in my_list:\n",
    "        f.write(element + \"\\n\")"
   ]
  },
  {
   "cell_type": "markdown",
   "metadata": {},
   "source": [
    "`a` opens a file and continues writing at the end of the file, i.e. previous entries are not lost."
   ]
  },
  {
   "cell_type": "code",
   "execution_count": null,
   "metadata": {},
   "outputs": [],
   "source": [
    "with open(\"./data/moreLines.txt\", \"a\") as f: # a ==> for appending\n",
    "    f.write (\"This line gets appended separately.\\n And so does this one after the newline\")"
   ]
  },
  {
   "cell_type": "code",
   "execution_count": null,
   "metadata": {},
   "outputs": [],
   "source": [
    "with open(\"./data/moreLines.txt\") as f: # default value for mode=\"rt\" => read text\n",
    "    for line in f:\n",
    "        print (line.strip()) "
   ]
  },
  {
   "cell_type": "markdown",
   "metadata": {},
   "source": [
    "As we've seen, depending on what we want to do with a file, we have to pass different mode strings to the `open` function:\n",
    "\n",
    "| Mode | argument for `open` |\n",
    "|:----:|:-------:|\n",
    "| Reading | **\"r\"** |\n",
    "| Writing | **\"w\"** |\n",
    "| Appending | **\"a\"** |\n",
    "| Reading and Writing | **\"r+\"** or **\"w+\"** |\n"
   ]
  },
  {
   "cell_type": "markdown",
   "metadata": {},
   "source": [
    "---\n",
    "<a name=\"readingWritingCsv\"></a>\n",
    "## [Reading & Writing `CSV`](#top)\n",
    "There are standard formats for data, such as `csv` (*Comma Separated Values*). Python supports csv-reading and writing using the [csv module](https://docs.python.org/3/library/csv.html). `csv` files are just what is says on the tin - they are text files representing a table of data by separating the values from different columns by some delimiter, often a _comma_. You can define the delimiter (usually a comma or semicolon, sometimes blank, tab or `|`).\n",
    "\n",
    "To help make sense of the data in a `csv` file, authors will often include a _header row_, essentially giving each column a name.\n",
    "\n",
    "Let's read in file `./data/Bundesliga-Spieltag1.csv` (have a look at it first in Jupyter Notebook: [Bundesliga Spieltag 1](./data/Bundesliga-Spieltag1.csv)). "
   ]
  },
  {
   "cell_type": "code",
   "execution_count": null,
   "metadata": {},
   "outputs": [],
   "source": [
    "import csv\n",
    "\n",
    "# list containing all data for the whole gameday\n",
    "gameday = [] \n",
    "\n",
    "with open('./data/Bundesliga-Spieltag1.csv') as csv_file:\n",
    "    reader = csv.reader(csv_file, delimiter=\";\")\n",
    "    # csv cloumn indices (0 = HomeTeam , 1 = AwayTeam, 2 = HomeGoals, 3 = AwayGoals, 4 = HomeShots, 5 = AwayShots)\n",
    "    for game_stat in reader:\n",
    "        gameday.append(game_stat)\n",
    "print( gameday )"
   ]
  },
  {
   "cell_type": "markdown",
   "metadata": {},
   "source": [
    "We access the file also by using a `with` statement. But instead of iterating to the `csv_file` object, we hand it over to the _csv reader_. This is an object of the `csv` module, we imported in the first line of the code cell.\n",
    "This module has a function that _reads_ a csv file and transforms each row in a list with each cell as an element. To do this, we have to tell the reader, which character is used as a separator/delimiter.\n",
    "\n",
    "Now, that we have represented each row of the file as a list containing each 6 items, we can interpret the data and print it out. The first list contains the header. We play around with some format specifications to make it look nice:"
   ]
  },
  {
   "cell_type": "code",
   "execution_count": null,
   "metadata": {},
   "outputs": [],
   "source": [
    "# print the header in a readable format\n",
    "print(f\"{'Home':>13} - {'Visitor':<13}   result   shots on goal\")\n",
    "print(\"========================================================\")\n",
    "        \n",
    "# each tupel represents one game, ignore header\n",
    "for game in gameday[1:]:\n",
    "    print(f\"{game[0]:>13} - {game[1]:<13}   {game[2]} : {game[3]}      {game[4]: >2} : {game[5]: >2}  \")"
   ]
  },
  {
   "cell_type": "markdown",
   "metadata": {},
   "source": [
    "The standard function `csv.reader()` gave us each row of data from our file as a `list`. The header row, which tells us what the columns of the following rows mean, is treated just like all other rows.\n",
    "\n",
    "Sometimes that might be what you want, but it can often be more convenient to get the rows of data as a dictionary where the keys are the header of the row from which a particular piece of data was read. `csv.DictReader()` does just that:"
   ]
  },
  {
   "cell_type": "code",
   "execution_count": null,
   "metadata": {},
   "outputs": [],
   "source": [
    "import csv\n",
    "\n",
    "# list containing all data for the whole gameday\n",
    "gameday = [] \n",
    "\n",
    "with open('./data/Bundesliga-Spieltag1.csv') as csv_file:\n",
    "    reader = csv.DictReader(csv_file, delimiter=\";\")\n",
    "    for game_stat in reader:\n",
    "        gameday.append(game_stat)\n",
    "print( gameday )"
   ]
  },
  {
   "cell_type": "markdown",
   "metadata": {},
   "source": [
    "### Storing Animal Weights of a Zoo into a `csv` File\n",
    "For our `Zoo` objects from the [object-oriented lecture](09_ObjectOrientation.ipynb), we might want to use `csv` reading/writing to save and load the weights of all animals within the zoo.  Additonally to the [object-oriented lecture](09_ObjectOrientation.ipynb), each `Animal` now has a `name`. See [Animals_10.py](Animals_10.py) for all classes. <br>\n",
    "For this purpose, the zoo class is extended to include the functions `write_current_weights_to_csv()` and `read_weights_from_csv()`:"
   ]
  },
  {
   "cell_type": "code",
   "execution_count": null,
   "metadata": {},
   "outputs": [],
   "source": [
    "# Import CSV module\n",
    "import csv\n",
    "from Animals_10 import Animal \n",
    "from Animals_10 import Carnivore \n",
    "from Animals_10 import Seal \n",
    "\n",
    "class Zoo:\n",
    "\n",
    "    def __init__(self):\n",
    "        self.animals = set()\n",
    "\n",
    "    def add_animal(self, animal):\n",
    "        self.animals.add(animal)\n",
    "\n",
    "    def public_feeding_day(self):\n",
    "        print(\"PUBLIC FEEDING ONGOING\")\n",
    "        for animal in self.animals:\n",
    "            print(\"Now feeding\", animal)\n",
    "            animal.feed(animal.weight_in_grammes * 0.02)\n",
    "        print(\"PUBLIC FEEDING FINISHED\")\n",
    "    \n",
    "##############################################################\n",
    "### CSV zoo writing & reading\n",
    "    def write_current_weights_to_csv(self, filepath):\n",
    "        with open(filepath, mode=\"w\") as csv_file:\n",
    "            csv_writer = csv.writer(csv_file, delimiter=\",\")\n",
    "            csv_writer.writerow([\"Animal\", \"Name\", \"Weight\"])\n",
    "            for animal in self.animals:\n",
    "                row = [animal.__class__.__name__, animal.name, animal.weight_in_grammes ]\n",
    "                csv_writer.writerow(row)\n",
    "        \n",
    "    def read_weights_from_csv(self, filepath):\n",
    "        with open(filepath) as csv_file:\n",
    "            reader = csv.reader(csv_file, delimiter=\",\")\n",
    "            # csv cloumn indices (0 = Animal, 1 = Name, 2 = Weight)\n",
    "            # Read each line\n",
    "            for row in reader:\n",
    "                print(f\"Weight of the {row[0]} {row[1]} is {row[2]}\")\n",
    "### CSV zoo writing & reading\n",
    "##############################################################"
   ]
  },
  {
   "cell_type": "code",
   "execution_count": null,
   "metadata": {},
   "outputs": [],
   "source": [
    "zoo = Zoo()\n",
    "simba = Carnivore(250_000, \"Simba\")\n",
    "sharp_seal = Seal(50_000, \"Sharp Seal\")\n",
    "nemo = Animal(500, \"Nemo\")\n",
    "\n",
    "zoo.add_animal(simba)\n",
    "zoo.add_animal(sharp_seal)\n",
    "zoo.add_animal(nemo)\n",
    "\n",
    "zoo.write_current_weights_to_csv('./data/zoo_history.csv')"
   ]
  },
  {
   "cell_type": "markdown",
   "metadata": {},
   "source": [
    "The data is stored within [./data/zoo_history.csv](./data/zoo_history.csv). \n",
    "> **Note:** The first line is displayed as a header in Jupyter, although we have not explicitly written one."
   ]
  },
  {
   "cell_type": "markdown",
   "metadata": {},
   "source": [
    "Later (somewhere else in our program), e.g. after reorganisation ouf our zoo management, the data of the animals can be read in from our csv file."
   ]
  },
  {
   "cell_type": "code",
   "execution_count": null,
   "metadata": {},
   "outputs": [],
   "source": [
    "reorganized_zoo = Zoo();\n",
    "reorganized_zoo.read_weights_from_csv('./data/zoo_history.csv')"
   ]
  },
  {
   "cell_type": "markdown",
   "metadata": {},
   "source": [
    "### Storing Animal Weights of a Zoo into a `csv` File\n",
    "In this example we store information about animals of a zoo in a list of dictionaries, where each dictionary represents one animal. We now want to store this data persistently in a csv file. For this purpose we use the functions `write_current_weights_to_csv()` and `read_weights_from_csv()` to store this data in a csv file and read it again:"
   ]
  },
  {
   "cell_type": "code",
   "execution_count": null,
   "metadata": {},
   "outputs": [],
   "source": [
    "import csv\n",
    "\n",
    "animals = list()\n",
    "\n",
    "def add_animal(animal_class, name, weight_in_grams):\n",
    "    new_animal = {\n",
    "        \"animal_class\" : animal_class,\n",
    "        \"name\" : name,\n",
    "        \"weight_in_grams\" : weight_in_grams\n",
    "    }\n",
    "    animals.append(new_animal)\n",
    "\n",
    "def write_current_weights_to_csv(filepath):\n",
    "    with open(filepath, mode=\"w\", newline='') as csv_file:\n",
    "        csv_writer = csv.writer(csv_file, delimiter=\",\")\n",
    "        csv_writer.writerow([\"Animal class\", \"Name\", \"Weight\"])\n",
    "        for animal in animals:\n",
    "            row = [animal[\"animal_class\"], animal[\"name\"], animal[\"weight_in_grams\"]]\n",
    "            csv_writer.writerow(row)\n",
    "\n",
    "def read_weights_from_csv(filepath):\n",
    "    with open(filepath) as csv_file:\n",
    "        reader = csv.reader(csv_file, delimiter=\",\")\n",
    "        # csv cloumn indices (0 = Animal, 1 = Name, 2 = Weight)\n",
    "        # Read each line\n",
    "        header = next(reader) # skip header\n",
    "        for row in reader:\n",
    "            if(row):\n",
    "                print(\"Weight of the {} {} is {}\".format(row[0], row[1], row[2]))"
   ]
  },
  {
   "cell_type": "code",
   "execution_count": null,
   "metadata": {},
   "outputs": [],
   "source": [
    "add_animal(\"Carnivore\", \"Simba\", 250_000)\n",
    "add_animal(\"Seal\", \"Sharp Seal\", 50_000,)\n",
    "add_animal(\"Animal\", \"Nemo\", 500,)\n",
    "\n",
    "write_current_weights_to_csv('./data/zoo_history.csv')"
   ]
  },
  {
   "cell_type": "markdown",
   "metadata": {},
   "source": [
    "The data is stored within [./data/zoo_history.csv](./data/zoo_history.csv). \n",
    "> **Note:** The first line is displayed as a header in Jupyter, although we have not explicitly written one."
   ]
  },
  {
   "cell_type": "markdown",
   "metadata": {},
   "source": [
    "Later (somewhere else in our program), e.g. after reorganisation ouf our zoo management, the data of the animals can be read in from our csv file."
   ]
  },
  {
   "cell_type": "code",
   "execution_count": null,
   "metadata": {},
   "outputs": [],
   "source": [
    "read_weights_from_csv('./data/zoo_history.csv')"
   ]
  },
  {
   "cell_type": "markdown",
   "metadata": {},
   "source": [
    "---\n",
    "<a name=\"objectSerialization\"></a>\n",
    "## [Object Serialization](#top)\n",
    "When writing data from our objects to a text or csv file, we have to come up with our own structure, how to represent the object state (the values of its attributes) in a csv line. Thus, we define our own protocol for reading and writing objects. This becomes harder, if objects contain other objects, such as the zoo with its corresponding animals etc.\n",
    "\n",
    "Luckily, there are also predefined ways to write and read whole objects. The [pickle module](https://docs.python.org/3/library/pickle.html) offers a convenient way to store and load basically any Python object directly to/from a file. It should not be used as a general exchange format since its only readable by Python (and often also only with the correct Python version). <br>\n",
    "\n",
    "> **Note:** The `\"wb\"` option opens a file in writing binary data (as opposed to strings)\n",
    "\n",
    "Using the two functions `pickle.dump()`, which saves objects into a file and `pickle.load()`, which loads objects from a file, we can we can get a rudimentary storage option for our programs in essentially two lines of code. For demonstration purposes we use `repr` to print out the memory addresses of the individual anminals:"
   ]
  },
  {
   "cell_type": "code",
   "execution_count": null,
   "metadata": {},
   "outputs": [],
   "source": [
    "import pickle\n",
    "\n",
    "zoo = Zoo()\n",
    "simba = Carnivore(250_000, \"Simba\")\n",
    "sharp_seal = Seal(50_000, \"Sharp Seal\")\n",
    "nemo = Animal(500, \"Nemo\")\n",
    "\n",
    "zoo.add_animal(simba)\n",
    "zoo.add_animal(sharp_seal)\n",
    "zoo.add_animal(nemo)\n",
    "\n",
    "print('Zoo before saving:\\n', zoo)\n",
    "print('Animals in zoo before saving:')\n",
    "for an in zoo.animals:\n",
    "    print(\"    \"+str(an))\n",
    "\n",
    "# Serialize all accounts => into file accounts.p\n",
    "with open (\"./data/zoo.p\", \"wb\") as pickle_file:\n",
    "    pickle.dump(zoo, pickle_file) # write binary mode"
   ]
  },
  {
   "cell_type": "markdown",
   "metadata": {},
   "source": [
    "With the help of `pickle`, objects can now be completely saved. When they are loaded again using `pickle.load()`, they also receive new storage locations.\n",
    "\n",
    "Serializing whole object structures can be used to store the state of a program (or parts of it) and restart it later in the same state. It can thus also be used to run a distributed program, because object structures can be serialized, stored, and transferred via networks and read in at another location:"
   ]
  },
  {
   "cell_type": "code",
   "execution_count": null,
   "metadata": {},
   "outputs": [],
   "source": [
    "# another instance of the object zoo is read in and stored at antoher location\n",
    "\n",
    "# load the complete object structure from file \n",
    "# this could have been transmitted through internet ... to some other program ...\n",
    "with open(\"./data/zoo.p\", \"rb\") as pickle_file:\n",
    "    loaded_zoo = pickle.load(pickle_file) # read binary mode\n",
    "    \n",
    "print('\\nLoaded Zoo:\\n', loaded_zoo)\n",
    "\n",
    "print('Accounts read from file ./data/zoo.p:')\n",
    "for an in loaded_zoo.animals:\n",
    "    print(\"    \"+str(an))"
   ]
  },
  {
   "cell_type": "markdown",
   "metadata": {},
   "source": [
    "---\n",
    "# File Handling: Summary\n",
    "In this section of the chapter, we have learned the following:\n",
    "+ how to open, read from and write to files on disk\n",
    "+ how to work with csv files using the [_csv_ module](https://docs.python.org/3/library/csv.html)\n",
    "+ how to serialize Python data structures using the [_Pickle_ module](https://docs.python.org/3/library/pickle.html)"
   ]
  },
  {
   "cell_type": "markdown",
   "metadata": {},
   "source": [
    "---\n",
    "<a id=\"exceptions\"></a>\n",
    "## [Exceptions](#top)"
   ]
  },
  {
   "cell_type": "markdown",
   "metadata": {},
   "source": [
    "`Exceptions` signal that something went wrong during the execution of some code. This allows the calling code to react accordingly. While testing our code in the last chapters, we sometimes encountered errors. The interpreter helped out, by showing the code and the exact line, where the problem occurred and described the error with a name and some text. Thus, we could easily repair the misbehaving code.\n",
    "\n",
    "In the following, we take a more detailed look at those errors, which are `Exceptions` in the code from the intended behavior. `Exception Handling` is a way in our program code, to tell the interpreter how to react instead of stopping program execution and showing the reason. Good _error handling_ is especially important for critical software that should not _crash_ if e.g. a user input cannot be converted to a type which we are expecting.\n",
    "\n",
    "When doing no error handling, code execution will be stopped when an error occurs:"
   ]
  },
  {
   "cell_type": "code",
   "execution_count": null,
   "metadata": {},
   "outputs": [],
   "source": [
    "def to_int(x):\n",
    "    return int(x)"
   ]
  },
  {
   "cell_type": "code",
   "execution_count": null,
   "metadata": {},
   "outputs": [],
   "source": [
    "to_int(\"5\")\n",
    "print('Hi') # Will be executed"
   ]
  },
  {
   "cell_type": "code",
   "execution_count": null,
   "metadata": {},
   "outputs": [],
   "source": [
    "to_int(\"5.5\")\n",
    "print('Hi') # Won't be executed"
   ]
  },
  {
   "cell_type": "markdown",
   "metadata": {},
   "source": [
    "The last line of the error message tells us the type of the _exception_ that occured (actually: was _thrown_ or _raised_ by the interpreter), followed by a short explanation what exactly failed: The `ValueError` has been raised and the explanation is, that the string literal `'5.5'` cannot be converted to an integer value.\n",
    "\n",
    "Above, the _Traceback_ is printed. From top to bottom, each call leading to the exception is marked such that we, as the developers, know where to search for the problem. \n",
    "\n",
    "In the example above, in line 1 we called the `to_int( )` function, which led to another part of the code (the function definition). There in line 2, the exception was thrown when the `int( )` function tried to convert the given string '5.5'.\n",
    "\n",
    "So, the reason was not the `to_int( )` function itself, but calling `int(x)` within."
   ]
  },
  {
   "cell_type": "markdown",
   "metadata": {},
   "source": [
    "<a name=\"commonExceptions\"></a>\n",
    "## [Most common Exceptions](#top)\n",
    "The `ValueError` is just one example of the exceptions that can be thrown by `Python`. Here is a small excerpt from the complete list that can be viewed in the [Python documentation](https://docs.python.org/3/library/exceptions.html#concrete-exceptions):\n",
    "\n",
    "| Exception | Description |\n",
    "| ----- | ----- |\n",
    "| `NameError` | Raised when a local or global name is not found. |\n",
    "| `TypeError` | Raised when an operation or function is applied to an object of inappropriate type. |\n",
    "| `IndexError` | Raised when a sequence subscript is out of range. |\n",
    "| `IndentationError` | Raised when the code has an incorrect indentation.|\n",
    "| `AttributeError` | Raised when an attribute reference or assignment fails.|\n",
    "| `ValueError` | Raised when an operation or function receives an argument that has the right type <br/> but an inappropriate value, and the situation is not described by a more precise exception such as `IndexError`.|\n",
    "| `FileNotFoundError` | Raised when a file or directory is requested but doesn’t exist. |"
   ]
  },
  {
   "attachments": {
    "syntexerror.png": {
     "image/png": "[encoded data removed]"
    }
   },
   "cell_type": "markdown",
   "metadata": {},
   "source": [
    "<a name=\"syntaxErrors\"></a>\n",
    "## [SyntaxError vs. Exceptions](#top)\n",
    "\n",
    "There is another error that occurs very frequently: **`SyntaxError`**\n",
    "\n",
    "This always occurs when there is an error within the syntax of the code. So certain instructions are missing so that the code can't be interpreted correctly. The code is therefore not executed at all.\n",
    "In the error message itself, a small arrow (marked with a red box in the picture below) points to the location of the potential `SyntaxError`:\n",
    "<center><img width=\"450\"  align=\"center\" src=\"attachment:syntexerror.png\" /></center> <br>\n",
    "\n",
    "**`Exceptions`**, on the other hand, only occur when code is executed. Thus, the code is syntactically correct, but errors occur during its execution.\n",
    "\n",
    "If you suspect that exceptions may occur during runtime, you should handle them explicitly in your code instead of having the program 'crash'."
   ]
  },
  {
   "cell_type": "markdown",
   "metadata": {},
   "source": [
    "---\n",
    "<a name=\"raisingException\"></a>\n",
    "## [Raising an Exception](#top)\n",
    "But before looking at how to react on _occurring_ exceptions, we need to understand how they are raised and how we can raise exceptions ourself.\n",
    "We can do this by constructing an exception object and throw or raise it with the built-in keyword `raise`. \n",
    "```\n",
    "raise Exception(\"Message To Be Printed\") # \"Message To Be Printed\" is optional\n",
    "```\n",
    "The execution of the code is interrupted at this point (`raise ...`) and is not continued afterwards. The program is therefore stopped. \n",
    "\n",
    "A typical example of this is intercepting a division by 0. For this, throwing the predefined Exceptions `ZeroDivisionError` with the message `\"Division by zero is not defined!\"` is suitable:"
   ]
  },
  {
   "cell_type": "code",
   "execution_count": null,
   "metadata": {},
   "outputs": [],
   "source": [
    "def our_division(x, y):\n",
    "    print (f\"We try to divide {x} by {y}\")\n",
    "    if (y == 0):\n",
    "        raise ZeroDivisionError(f\"Dividing {x} by zero is not defined, dummy!\")\n",
    "    return x/y"
   ]
  },
  {
   "cell_type": "code",
   "execution_count": null,
   "metadata": {},
   "outputs": [],
   "source": [
    "our_division(12,3)"
   ]
  },
  {
   "cell_type": "code",
   "execution_count": null,
   "metadata": {},
   "outputs": [],
   "source": [
    "our_division(12,0)"
   ]
  },
  {
   "cell_type": "markdown",
   "metadata": {},
   "source": [
    "The _normal_ execution of code is stopped before our function tries to divide by zero and return the non-defined result. Instead, we explicitly raise our exception object, which carries the textual information of what has happened.\n",
    "\n",
    "When an exception is raised, we know that the interpreter shows the traceback and prints out the error message in the last line. We can even inform about the current values and situation in this message (trying to divide current value 12 by zero ...)."
   ]
  },
  {
   "cell_type": "markdown",
   "metadata": {},
   "source": [
    "Raising exceptions to deal with _edge cases_ is a good practice to prevent side effects. By this, we hand over the responsibility of handling the error to the code, calling this function."
   ]
  },
  {
   "cell_type": "markdown",
   "metadata": {},
   "source": [
    "---\n",
    "<a name=\"exceptionHandling\"></a>\n",
    "## [Exception Handling](#top)\n",
    "Instead of raising an exception and therefore stopping the programme at this position, you can also handle the exception. For this purpose, `Python` provides the `try ... except` block:"
   ]
  },
  {
   "attachments": {
    "Exception.png": {
     "image/png": "[encoded data removed]"
    }
   },
   "cell_type": "markdown",
   "metadata": {},
   "source": [
    "![Exception.png](attachment:Exception.png)"
   ]
  },
  {
   "cell_type": "code",
   "execution_count": null,
   "metadata": {},
   "outputs": [],
   "source": [
    "def to_int_safe(x):\n",
    "    try:\n",
    "        z = int(x)\n",
    "    except:\n",
    "        print (f\"We cannot convert {x} to int!\")\n",
    "        return None # we cannot return an int value\n",
    "    return z"
   ]
  },
  {
   "cell_type": "code",
   "execution_count": null,
   "metadata": {},
   "outputs": [],
   "source": [
    "to_int_safe (\"5\")"
   ]
  },
  {
   "cell_type": "code",
   "execution_count": null,
   "metadata": {},
   "outputs": [],
   "source": [
    "to_int_safe (\"5.5\")"
   ]
  },
  {
   "cell_type": "markdown",
   "metadata": {},
   "source": [
    "The function `to_int_safe` catches all possible exceptions. If any exception occurs within the `try` part, it will be aborted and the code in the `except` part will be executed. `None` is returned in this case such that the code, calling the `to_int_safe` function, that something went wrong.\n",
    "\n",
    "That `None` might be returned as possible result must be known by the developers using our function in order to react appropriately!"
   ]
  },
  {
   "cell_type": "markdown",
   "metadata": {},
   "source": [
    "However, with the help of the `try ... except` block you can also filter for certain exceptions by specifying them, such as `except ValueError:`.\n",
    "This can be used, for example, to check the correctness of a user's input:"
   ]
  },
  {
   "cell_type": "code",
   "execution_count": null,
   "metadata": {},
   "outputs": [],
   "source": [
    "while True:\n",
    "    try:\n",
    "        x = input(\"Please enter an integer: \")\n",
    "        x = int(x)\n",
    "        break   # the endless while loop, when no Exception is raised\n",
    "    except ValueError:\n",
    "        print(f\"Oops! >>{x}<< is no valid integer. Please, try again...\")\n",
    "\n",
    "print(\"Fine, now we can use your integer input: \", x)"
   ]
  },
  {
   "cell_type": "markdown",
   "metadata": {},
   "source": [
    "It is also possible to integrate `raise` within the `try ... except` block. Our function `our_division` throws a `ZeroDivisionError` as soon as the second parameter is 0. If this function is now called within the `try` part and a 0 is passed, the `ZeroDivisionError` is raised. The code is not stopped, instead it continues in the `except` part:"
   ]
  },
  {
   "cell_type": "code",
   "execution_count": null,
   "metadata": {},
   "outputs": [],
   "source": [
    "try:\n",
    "    print(\"  => \", our_division(12, int(input(\"Enter divisor: \"))))\n",
    "except Exception:\n",
    "    print(\"Oops, sth. went wrong.\")\n",
    "    print(\"well, we continue without our division ...\")\n",
    "print(\"Ok. Here we continue anyways ...\")"
   ]
  },
  {
   "cell_type": "markdown",
   "metadata": {},
   "source": [
    ">__Note__: we caught and handled the _general_ `Exception` not the _specific_ `ZeroDivisionError` which was thrown by the function. There is a whole Exception hierarchy: `ZeroDivisionError` is an `ArtihmeticError`, which is an  `Exception`. When handling `Exception` in the except clause, we catch any exception, also the more specific ones. "
   ]
  },
  {
   "cell_type": "markdown",
   "metadata": {},
   "source": [
    "<a name=\"variousExceptions\"></a>\n",
    "### [Handling various errors](#top)\n",
    "We can also specify various handlers for different exceptions within one try statement. At most one handler will be executed:"
   ]
  },
  {
   "cell_type": "code",
   "execution_count": null,
   "metadata": {},
   "outputs": [],
   "source": [
    "try:\n",
    "    print(\"  => \", our_division(12, int(input(\"Enter divisor: \"))))\n",
    "except ZeroDivisionError:\n",
    "    print(\"Here we can handle the possible ZeroDivisionError ...\")\n",
    "except ArithmeticError:\n",
    "    print(\"An ArithmeticError occurred. Do sth. appropriate ...\")\n",
    "except Exception:\n",
    "    print( \"Oops, sth. went wrong. (any of the many possible Exceptions)\")\n",
    "print(\"Ok. Here we continue anyways ...\")\n",
    "# try asdf and then 0  to see the differences"
   ]
  },
  {
   "cell_type": "markdown",
   "metadata": {},
   "source": [
    ">__Note:__ The order of the different except clause is _important_. Since `Exception` is the most general case, it must not be specified before the other two. Also, the more general `ArithmeticError` must not be specified before the more specific `ZeroDivisionError`."
   ]
  },
  {
   "cell_type": "code",
   "execution_count": null,
   "metadata": {},
   "outputs": [],
   "source": [
    "try:\n",
    "    print(\"  => \", our_division(12, int(input(\"Enter divisor: \"))))\n",
    "except ArithmeticError:\n",
    "    print(\"An ArithmeticError occurred.\")\n",
    "except ZeroDivisionError:\n",
    "    print(\"Here we handle the possible ZeroDivisionError ...\")\n",
    "except Exception:\n",
    "    print( \"Oops, sth. went wrong. (any of the many possible Exceptions)\")\n",
    "print(\"Ok. Here we continue anyways ...\")\n",
    "# try out various divisors\n",
    "#  - 3\n",
    "#  - 0\n",
    "#  - asdf"
   ]
  },
  {
   "cell_type": "code",
   "execution_count": null,
   "metadata": {},
   "outputs": [],
   "source": [
    "try:\n",
    "    print(\"  => \", our_division(12, int(input(\"Enter divisor: \"))))\n",
    "except Exception:\n",
    "    print(\"Oops, sth. went wrong. (any of the many possible Exceptions)\")\n",
    "except ZeroDivisionError:\n",
    "    print(\"Here we could handle the possible ZeroDivisionError ...\")\n",
    "    print(\"..., but this will never be the case, because Exception is already handled.\")\n",
    "except ArithmeticError:\n",
    "    print(\"An ArithmeticError occurred ...\")\n",
    "    print(\"..., but this will never be the case, because Exception is already handled.\")\n",
    "print(\"Ok. Here we continue anyways ...\")\n",
    "# try out various divisors\n",
    "#  - 3\n",
    "#  - 0\n",
    "#  - asdf"
   ]
  },
  {
   "cell_type": "markdown",
   "metadata": {},
   "source": [
    "---\n",
    "<a name=\"exceptionHandlingCallStack\"></a>\n",
    "## [Exception Handling along the Call Stack](#top)\n",
    "\n",
    "If an `Exception` cannot be handled by the caller of the function, which raises the exception, it will be forwarded to its caller, which can either handle the exception, or forward it to its caller up the calling hierachy.\n",
    "\n",
    "To demonstrate this, let's define some funtions, to build a function calling hierarchy. In our first version none of these functions handle the raised exception, thus it get's forwarded to the highest level, which is the `IPython` interpreter, which handles all the upcoming the `Exception`s by printing out the complete traceback (function calling hierachy and spot, where the Exception occured). After that, the program is finished in a controlled manner (no program crash or blue screen) by Interpreter message."
   ]
  },
  {
   "cell_type": "code",
   "execution_count": null,
   "metadata": {},
   "outputs": [],
   "source": [
    "def f1():\n",
    "    f2() # just call f2( ) to build a function calling stack\n",
    "    print(\"f1: f2() has successfully finished.\")\n",
    "    \n",
    "def f2():\n",
    "    f3()\n",
    "    print(\"f2: f3() has successfully finished.\")\n",
    "    \n",
    "def f3():\n",
    "    our_division(42, 0) # raises an Exception, not handled here\n",
    "    print(\"f3: I have successfully finished.\")\n",
    "\n",
    "f1()\n",
    "print(\"Program finished successfully.\")"
   ]
  },
  {
   "cell_type": "markdown",
   "metadata": {},
   "source": [
    "Knowing that the division might go wrong, ususally the calling function should handle the problem. In our case this would be function `f3()`. So if this function knows how to deal with the problem, we would change the code in `f3()`:"
   ]
  },
  {
   "cell_type": "code",
   "execution_count": null,
   "metadata": {},
   "outputs": [],
   "source": [
    "def f3():\n",
    "    try:\n",
    "        our_division(42,0) # raises an Exception\n",
    "    except ZeroDivisionError:\n",
    "        print(\"Oh, sth. went wrong with the division. I (f3) can repair that. No one else will even notice ...\")\n",
    "\n",
    "f1()\n",
    "print(\"Program finished successfully.\")"
   ]
  },
  {
   "cell_type": "markdown",
   "metadata": {},
   "source": [
    "But sometimes, the caller `f3()` just does not know, how to handle the problem, because it is missing the context. So we cannot use the `try .. except` in f3( ). So again, the problem is passed to `f2()`, which also might not know what to do with the situation, thus passing the `Exception` to `f1()`. Let's assume, here the programmer knows how to handle the problem and call the function after making some corrections:"
   ]
  },
  {
   "cell_type": "code",
   "execution_count": null,
   "metadata": {},
   "outputs": [],
   "source": [
    "def f1():\n",
    "    try:\n",
    "        f2(0)\n",
    "        print(\"f1: f2() has successfully finished.\")\n",
    "    except ZeroDivisionError:\n",
    "        print(\"I f1() know how to handle errors: Better divide by sth. else than 0\")\n",
    "        f2(3)\n",
    "        print(\"f1: f2() has successfully finished.\")\n",
    "    print(\"Ok, everything worked out fine. We can finish f1( ) and the program.\")\n",
    "\n",
    "def f2(i):\n",
    "    f3(i)  # might raise an Exception, but I do not know what to do\n",
    "    print(\"f2: f3() successfully finished.\")\n",
    "    \n",
    "def f3(i):\n",
    "    our_division(42,i) # might raise an Exception, but I do not know what to do\n",
    "    print(\"f3: I have successfully finished.\")\n",
    "\n",
    "f1()\n",
    "print(\"IPython: Program finished successfully.\")"
   ]
  },
  {
   "cell_type": "markdown",
   "metadata": {},
   "source": [
    "---\n",
    "<a name=\"definingOwnExceptions\"></a>\n",
    "## [Defining our own Exceptions](#top)\n",
    "So far, we have used one of the predefined `Exception`s. There are exceptions for many of the situations which might go wrong, such as `IndexError` when iterating or slicing with indices out of range, `TypeErrors` when converting, `ArithmeticErrors` when computing, or `FileNotFoundError` or `ConnectionError` when trying to read data from various streams. So most cases are covered by the built in exceptions.\n",
    "\n",
    "We can also define our own exception classes for our programs, if the exceptions shall transport more information about the error case. For the zoo example we might want to raise an `AnimalNotAliveError` if any operation is performed on a non-living animal.\n",
    "\n",
    "You already got to know the principle of __inheritance__ in the [object-oriented lecture](09_ObjectOrientation.ipynb#inheritance). "
   ]
  },
  {
   "cell_type": "markdown",
   "metadata": {},
   "source": [
    "---\n",
    "<a name=\"inheritingFromException\"></a>\n",
    "### [Inheriting from Exception](#top)\n",
    "For exceptions, we build on the already existing hierarchy of exceptions, when defining `AnimalNotAliveError` for our zoo example. We need not to implement everything which is needed for a class to be raised and caught, which needs some knowledge about the run time environment and sometimes OS specific implementations. So we inherit all the features from the class `Exception`, and only add our own properties and functionality."
   ]
  },
  {
   "cell_type": "code",
   "execution_count": null,
   "metadata": {},
   "outputs": [],
   "source": [
    "class AnimalNotAliveError(Exception):\n",
    "    pass"
   ]
  },
  {
   "cell_type": "code",
   "execution_count": null,
   "metadata": {},
   "outputs": [],
   "source": [
    "anae = AnimalNotAliveError('Animal not alive.')\n",
    "raise anae"
   ]
  },
  {
   "cell_type": "code",
   "execution_count": null,
   "metadata": {
    "tags": []
   },
   "outputs": [],
   "source": [
    "help(anae) # see all the inherited properties"
   ]
  },
  {
   "cell_type": "markdown",
   "metadata": {},
   "source": [
    "Our specific information, which might be added to the normal exception, is the name of the zoo animal, which is still in the list of publicly displayed animals for the feeding day so the `Zoo` object can act accordingly. For demonstration reasons we thus enhance our `Animal` class definition by adding another attribute, which carries the name of each of the `Animal` objects in the zoo."
   ]
  },
  {
   "cell_type": "code",
   "execution_count": null,
   "metadata": {},
   "outputs": [],
   "source": [
    "class AnimalNotAliveError(Exception):\n",
    "    '''Exception class to be raised if an animal is not alive anymore,\n",
    "       but an operation is performed on that non-living animal'''\n",
    "    \n",
    "    def __init__(self, title, name):\n",
    "        Exception.__init__(self, title)\n",
    "        self.name = name\n",
    "        \n",
    "    def __str__(self):\n",
    "        return Exception.__str__(self) + f\"\\nThe animal {str(self.name)} is not alive anymore\""
   ]
  },
  {
   "cell_type": "markdown",
   "metadata": {},
   "source": [
    "Now with this exception class, we could enhance our classes `Animal` and `Carnivore` accordingly, as for example within the function `feed()`:"
   ]
  },
  {
   "cell_type": "code",
   "execution_count": null,
   "metadata": {},
   "outputs": [],
   "source": [
    "class Animal:\n",
    "\n",
    "    def __init__(self, initial_weight, name):\n",
    "        self.weight_in_grammes = initial_weight\n",
    "        self.name = name                   # our zoo animals have names\n",
    "        self.is_alive = True\n",
    "\n",
    "    def feed(self, food_in_grammes):\n",
    "        ##############################################################\n",
    "        ### raising AnimalNotAliveError when an animal is not alive anymore\n",
    "        if not self.is_alive:\n",
    "            raise AnimalNotAliveError(\"Animal not alive.\", self.name)\n",
    "        ##############################################################\n",
    "        self.weight_in_grammes += (food_in_grammes * 0.05)\n",
    "\n",
    "    def kill(self):\n",
    "        self.is_alive = False\n",
    "\n",
    "    def __str__(self):\n",
    "        return f\"A{'n' if self.is_alive else ' dead'} animal weighing {self.weight_in_grammes} grammes\"\n",
    "    \n",
    "    \n",
    "class Carnivore(Animal):\n",
    "\n",
    "    def feed(self, food):\n",
    "        ##############################################################\n",
    "        ### raising AnimalNotAliveError when an animal is not alive anymore\n",
    "        if not self.is_alive:\n",
    "            raise AnimalNotAliveError(\"Animal not alive.\", self.name)\n",
    "        ##############################################################\n",
    "        if isinstance(food, Animal):\n",
    "            food.kill()\n",
    "            self.weight_in_grammes += food.weight_in_grammes * 0.1\n",
    "        else:\n",
    "            Animal.feed(self, food)\n",
    "           \n",
    "        \n",
    "class Seal(Carnivore):\n",
    "\n",
    "    def __init__(self, *args, **kwargs):\n",
    "        self.tricks = list()\n",
    "        super().__init__(*args, **kwargs)\n",
    "\n",
    "    def learn_trick(self, trick_name):\n",
    "        self.tricks.append(trick_name)\n",
    "        \n",
    "\n",
    "class Zoo:\n",
    "\n",
    "    def __init__(self):\n",
    "        self.animals = set()\n",
    "\n",
    "    def add_animal(self, animal):\n",
    "        self.animals.add(animal)\n",
    "\n",
    "    def public_feeding_day(self):\n",
    "        print(\"PUBLIC FEEDING ONGOING\")\n",
    "        for animal in self.animals:\n",
    "            print(\"Now feeding\", animal)\n",
    "            animal.feed(animal.weight_in_grammes * 0.02)\n",
    "        print(\"PUBLIC FEEDING FINISHED\")"
   ]
  },
  {
   "cell_type": "markdown",
   "metadata": {},
   "source": [
    "We first create the zoo that we already know from the last two lectures and feed the animals:"
   ]
  },
  {
   "cell_type": "code",
   "execution_count": null,
   "metadata": {},
   "outputs": [],
   "source": [
    "zoo = Zoo()\n",
    "simba = Carnivore(250_000, \"Simba\")\n",
    "sharp_seal = Seal(50_000, \"Sharp Seal\")\n",
    "nemo = Animal(500, \"Nemo\")\n",
    "\n",
    "zoo.add_animal(simba)\n",
    "zoo.add_animal(sharp_seal)\n",
    "zoo.add_animal(nemo)\n",
    "\n",
    "zoo.public_feeding_day()"
   ]
  },
  {
   "cell_type": "markdown",
   "metadata": {},
   "source": [
    "Unfortunately, the `sharp_seal` became seriously sick in the zoo and later died. However, it is still in the zoo's animal listing, so an error should be made here that the `sharp_seal` is not alive when all animals are fed:"
   ]
  },
  {
   "cell_type": "code",
   "execution_count": null,
   "metadata": {},
   "outputs": [],
   "source": [
    "sharp_seal.kill()\n",
    "\n",
    "zoo.public_feeding_day()"
   ]
  },
  {
   "cell_type": "markdown",
   "metadata": {},
   "source": [
    "So far, the feeding of the animals stops at this point because the exception `AnimalNotAliveError` is thrown, but not handled in our program.\n",
    "\n",
    "The Zoo class is therefore extended so that such an error can be dealt with accordingly:"
   ]
  },
  {
   "cell_type": "code",
   "execution_count": null,
   "metadata": {},
   "outputs": [],
   "source": [
    "class Zoo:\n",
    "\n",
    "    def __init__(self):\n",
    "        self.animals = set()\n",
    "\n",
    "    def add_animal(self, animal):\n",
    "        self.animals.add(animal)\n",
    "\n",
    "    def public_feeding_day(self):\n",
    "        print(\"PUBLIC FEEDING ONGOING\")\n",
    "        for animal in self.animals:\n",
    "            try:\n",
    "                print(\"Now feeding\", animal)\n",
    "                animal.feed(animal.weight_in_grammes * 0.02)\n",
    "            except AnimalNotAliveError as anae:\n",
    "                # the exception object carries information to be used by the hanlder:\n",
    "                print('Inform the zoo director that the animal', anae.name, 'must be removed from the set of animals.' )\n",
    "        print(\"PUBLIC FEEDING FINISHED\")"
   ]
  },
  {
   "cell_type": "code",
   "execution_count": null,
   "metadata": {},
   "outputs": [],
   "source": [
    "zoo = Zoo()\n",
    "simba = Carnivore(250_000, \"Simba\")\n",
    "sharp_seal = Seal(50_000, \"Sharp Seal\")\n",
    "nemo = Animal(500, \"Nemo\")\n",
    "\n",
    "zoo.add_animal(simba)\n",
    "zoo.add_animal(sharp_seal)\n",
    "zoo.add_animal(nemo)\n",
    "\n",
    "zoo.public_feeding_day()\n",
    "\n",
    "sharp_seal.kill()\n",
    "\n",
    "zoo.public_feeding_day()"
   ]
  },
  {
   "cell_type": "markdown",
   "metadata": {},
   "source": [
    "> **Reminder:** Similar to [importing external modules with a shorter name](05_ExternalModules.ipynb), exceptions can also be used with a shorter name afterwards (`except AnimalNotAliveError as anae:`)"
   ]
  },
  {
   "cell_type": "markdown",
   "metadata": {},
   "source": [
    "---\n",
    "# Exceptions: Summary\n",
    "In this section, we have learned the following about _Exceptions_:\n",
    "\n",
    "* how to `raise` them to indicate an error state\n",
    "* how to recover from errors during program execution using `try...except`\n",
    "* how to define our own Exception classes\n",
    "\n",
    "In the [next lecture](08_Pandas.ipynb), you will get to know the library `Pandas`, which is a popular Python package for exploration and analysis of large datasets.\n"
   ]
  }
 ],
 "metadata": {
  "celltoolbar": "Edit Metadata",
  "interpreter": {
   "hash": "b0fa6594d8f4cbf19f97940f81e996739fb7646882a419484c72d19e05852a7e"
  },
  "kernelspec": {
   "display_name": "Python 3 (ipykernel)",
   "language": "python",
   "name": "python3"
  },
  "language_info": {
   "codemirror_mode": {
    "name": "ipython",
    "version": 3
   },
   "file_extension": ".py",
   "mimetype": "text/x-python",
   "name": "python",
   "nbconvert_exporter": "python",
   "pygments_lexer": "ipython3",
   "version": "3.10.11"
  }
 },
 "nbformat": 4,
 "nbformat_minor": 4
}
