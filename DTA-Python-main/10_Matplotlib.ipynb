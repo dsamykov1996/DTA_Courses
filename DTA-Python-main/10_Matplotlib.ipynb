{
 "cells": [
  {
   "cell_type": "code",
   "execution_count": null,
   "id": "9b3b4d8e",
   "metadata": {
    "autorun": true,
    "jupyterlab-hide-cells:hidden": true,
    "tags": []
   },
   "outputs": [],
   "source": [
    "from IPython.display import HTML; HTML(f\"\"\"<style>{open(\"./styles/styles.css\").read()}</style>\"\"\")"
   ]
  },
  {
   "attachments": {
    "LuFgi9.png": {
     "image/png": "[encoded data removed]"
    }
   },
   "cell_type": "markdown",
   "id": "64aa03fd",
   "metadata": {},
   "source": [
    "<center><img width=\"250\" align=\"right\" src=\"attachment:LuFgi9.png\" /></center>"
   ]
  },
  {
   "cell_type": "markdown",
   "id": "891314af",
   "metadata": {},
   "source": [
    "<a name=\"top\"></a>\n",
    "# Matplotlib\n",
    "## Overview\n",
    "* [Introduction to Matplotlib](#intro)\n",
    "    * [Installation](#installation)\n",
    "    * [Importing Matplotlib](#import)\n",
    "    * [Yout first plot](#plot)\n",
    "* [Customizing Plots](#customizing)\n",
    "* [Figures and Axes](#figures)\n",
    "* [Scatter Plots](#scatter)\n",
    "* [Box Plots](#boxplots)\n",
    "* [Histograms](#histograms)\n",
    "* [Image Visualization](#image)"
   ]
  },
  {
   "cell_type": "markdown",
   "id": "9a77e115",
   "metadata": {},
   "source": [
    "<a name=\"intro\"></a>\n",
    "## Introduction to Matplotlib\n",
    "\n",
    "Matplotlib is a very useful package to visualize data. In this Chapter we are especially talking about the module `matplotlib.pyplot` to create different kinds of plots.\n",
    "\n",
    "<a name=\"installation\"></a>\n",
    "### Installation\n",
    "\n",
    "If you are using our Jupyter profile, Matplotlib is already installed and you can import and use it it right away. If you are using your own local installation you can install Matplotlib as follows:\n",
    "\n",
    "#### Anaconda \n",
    "Anaconda already comes with Matplotlib, that's why you normally do not have to install it again. But if you want/have to install it manually you can do so by typing the following into the conda-prompt:\n",
    "\n",
    "```console\n",
    "conda install matplotlib\n",
    "```\n",
    "\n",
    "#### pip\n",
    "To install Matplotlib with pip, type the following into your terminal: \n",
    "\n",
    "```console\n",
    "pip install matplotlib\n",
    "```\n",
    "This command installs Matplotlib in the current working Python environment.\n",
    "\n",
    "<a name=\"import\"></a>\n",
    "### Import Matplotlib\n",
    "When you have succesfully installed Matplotlib you have to import it to use it. We are only using `matplotlib.pyplot`, so we will only import this submodule. Excecute the following code-cell, otherwise the all other cells in this Notebook will not work!"
   ]
  },
  {
   "cell_type": "code",
   "execution_count": null,
   "id": "55b56391",
   "metadata": {
    "autorun": true,
    "tags": []
   },
   "outputs": [],
   "source": [
    "from matplotlib import pyplot as plt"
   ]
  },
  {
   "cell_type": "markdown",
   "id": "c2a5a822",
   "metadata": {},
   "source": [
    "<a name=\"plot\"></a>\n",
    "### Your first plot\n",
    "\n",
    "We now want to plot some data. For this we use the data stored in a python list, but it could be stored in an array as well. Internally any sequence given as data will be converted to a `numpy.ndarray` first:"
   ]
  },
  {
   "cell_type": "code",
   "execution_count": null,
   "id": "d152b740",
   "metadata": {},
   "outputs": [],
   "source": [
    "data = [1,2,3,4,5,6]\n",
    "\n",
    "plt.plot(data)\n",
    "plt.show()"
   ]
  },
  {
   "cell_type": "markdown",
   "id": "5da9f926",
   "metadata": {},
   "source": [
    "With `pyplot.plot` we create a new plot. When we only give a one-dimensional sequence as an input, it will be interpreted as y-values, while the indices form the x-value. If we give two sequences as input we can plot them against each other."
   ]
  },
  {
   "cell_type": "code",
   "execution_count": null,
   "id": "39c20945",
   "metadata": {},
   "outputs": [],
   "source": [
    "x = [1,2,3,4,5,6]\n",
    "y = [1,3,2,4,6,5]\n",
    "\n",
    "plt.plot(x,y)\n",
    "plt.show()"
   ]
  },
  {
   "cell_type": "markdown",
   "id": "72b65e95",
   "metadata": {},
   "source": [
    "We are not restricted to only numerical data. With `strings` as an input we can also visualize categorical data in the same way: "
   ]
  },
  {
   "cell_type": "code",
   "execution_count": null,
   "id": "a9ba549a",
   "metadata": {},
   "outputs": [],
   "source": [
    "country = [\"Germany\",\"Netherlands\",\"Belgium\",\"France\",\"Spain\"]\n",
    "population_in_millions = [83.2,17.53,11.59,67.75,47.42]\n",
    "\n",
    "plt.plot(country,population_in_millions)\n",
    "plt.show()"
   ]
  },
  {
   "cell_type": "markdown",
   "id": "e2409225",
   "metadata": {},
   "source": [
    "We will have a closer look at how this plotting works in detail in the section [Figures and Axes](#figures) where we explain what is actually happening when we type `plt.plot()`. But for now lets take our population data and change the way we visualize it. "
   ]
  },
  {
   "cell_type": "markdown",
   "id": "f9274d43",
   "metadata": {},
   "source": [
    "<a name=\"customizing\"></a>\n",
    "## Customizing Plots\n",
    "\n",
    "The first things we want to add are a title and lables on the axes."
   ]
  },
  {
   "cell_type": "code",
   "execution_count": null,
   "id": "50bac9cf",
   "metadata": {},
   "outputs": [],
   "source": [
    "plt.plot(country,population_in_millions)\n",
    "plt.title(\"Population of selected European States\")\n",
    "plt.ylabel(\"Population in Mio.\")\n",
    "# plt.xlabel(\"-----  STATE  -----\") - deemed unecessary\n",
    "plt.show()"
   ]
  },
  {
   "cell_type": "markdown",
   "id": "c871d0e6",
   "metadata": {},
   "source": [
    "Then we want to change the way the graph is drawn. At the moment we have the default linegraph. One way to customize this line is via optional keyword-arguments. You can find a list of the possible arguments in the [documentation](https://matplotlib.org/stable/api/_as_gen/matplotlib.pyplot.plot.html). For example we can change the linewidth:"
   ]
  },
  {
   "cell_type": "code",
   "execution_count": null,
   "id": "7ad647d3",
   "metadata": {},
   "outputs": [],
   "source": [
    "plt.plot(country,population_in_millions,linewidth=10)\n",
    "plt.title(\"Population of selected European States\")\n",
    "plt.ylabel(\"Population in Mio.\")\n",
    "# plt.xlabel(\"-----  STATE  -----\") - deemed unecessary\n",
    "plt.show()"
   ]
  },
  {
   "cell_type": "markdown",
   "id": "c76fc748",
   "metadata": {},
   "source": [
    "Another way of formatting the graph is via the argument `fmt` which is a string to format the style of the graph. It consits of a character for the marker, one or two characters for the line and a character for the color. For example `\"--\"` represents a dashed line and `\"r\"` stands for the color red. Again you can find all the possible format strings in the [documenntation](https://matplotlib.org/stable/api/_as_gen/matplotlib.pyplot.plot.html)"
   ]
  },
  {
   "cell_type": "code",
   "execution_count": null,
   "id": "d6266f47",
   "metadata": {},
   "outputs": [],
   "source": [
    "plt.plot(country,population_in_millions,\"r--\", linewidth=3)\n",
    "plt.title(\"Population of selected European States\")\n",
    "plt.ylabel(\"Population in Mio.\")\n",
    "# plt.xlabel(\"-----  STATE  -----\") - deemed unecessary\n",
    "plt.show()"
   ]
  },
  {
   "cell_type": "code",
   "execution_count": null,
   "id": "4fa44059",
   "metadata": {},
   "outputs": [],
   "source": [
    "plt.plot(country,population_in_millions,\"g--o\")\n",
    "plt.title(\"Population of selected European States\")\n",
    "plt.ylabel(\"Population in Mio.\")\n",
    "# plt.xlabel(\"-----  STATE  -----\") - deemed unecessary\n",
    "plt.show()"
   ]
  },
  {
   "cell_type": "markdown",
   "id": "32c66090",
   "metadata": {},
   "source": [
    "<div class=\"learnmore\"><b>Read more:</b> There many more options to customize a plot. You can find them in the <a href=\"https://matplotlib.org/stable/api/_as_gen/matplotlib.pyplot.plot.html\">documentation</a>.</div>"
   ]
  },
  {
   "attachments": {
    "Anatomy.png": {
     "image/png": "[encoded data removed]"
    }
   },
   "cell_type": "markdown",
   "id": "deb9923b",
   "metadata": {},
   "source": [
    "<a name=\"figures\"></a>\n",
    "## Figures and Axes\n",
    "\n",
    "Now we want to dive a bit more into detail and understand what is happening and how to control the result that we get. First, we have to understand the anatomy of our plots:\n",
    "\n",
    "Our data is drawn into a `figure` (a window, Jupyter Widget, etc.) which forms the most outer part of our plot. In this figure we have one or more `axes`. An `axes`-Object contains the region to plot our data, including the title, lables and usually two (or three) `Axis`-Objects (be aware of the difference between `Axes` and `Axis`. An `Axes` is the area where we plot our data, an `Axis` sets the scale of one data-variable.)\n",
    "\n",
    "![Anatomy.png](attachment:Anatomy.png)\n",
    "\n",
    "To create a new figure we can use the function `pyplot.figure`. On this figure we then call the function `Figure.subplots` to create new `Axes`-Objects inside of this figure. Then we can plot our data on this `Axes`-Object:"
   ]
  },
  {
   "cell_type": "code",
   "execution_count": null,
   "id": "9e327809",
   "metadata": {},
   "outputs": [],
   "source": [
    "fig = plt.figure()\n",
    "ax = fig.subplots()\n",
    "ax.plot([1,2,3,4])\n",
    "\n",
    "plt.show()"
   ]
  },
  {
   "cell_type": "markdown",
   "id": "1cc7c2be",
   "metadata": {},
   "source": [
    "But we have already achieved this result in the beginning without thinking about figures and axes by simply using `plt.plot`. The reason that this worked is, that pyplot can take care of your figures and axes for you. If you do not specify them explictly pyplot creates them for you or uses the current figure and axes. We call this the **implicit interface**. This may be very convinient for small interactive graphs but if you want to go back to an older plot, or work with several figures containing several axes at the same time, the implicit way can become very confusing. That is why we recommend to use the **explicit interface**, always explictly working on your axes and figures. With this you get easier control over your plots and can create more complex ones:\n",
    "\n",
    "Above we have used the function `Figure.subplots` to create a new axes in our figure. We can specify a grid of several axes be giving the number of rows and columns as an argument to this function:"
   ]
  },
  {
   "cell_type": "code",
   "execution_count": null,
   "id": "4c2cee19",
   "metadata": {},
   "outputs": [],
   "source": [
    "fig = plt.figure()\n",
    "axs = fig.subplots(2,3)\n",
    "\n",
    "plt.show()"
   ]
  },
  {
   "cell_type": "markdown",
   "id": "004249bb",
   "metadata": {},
   "source": [
    "Then it does not return one axes but an array of axes, so that we can access each one with an index:"
   ]
  },
  {
   "cell_type": "code",
   "execution_count": null,
   "id": "00980486",
   "metadata": {},
   "outputs": [],
   "source": [
    "fig = plt.figure()\n",
    "axs = fig.subplots(2,3)\n",
    "axs[0,1].plot([1,2,3,4])\n",
    "axs[1,0].plot([3,2,3,4])\n",
    "axs[1,2].plot([0.3,1.2,0.7,0.9])\n",
    "\n",
    "plt.show()"
   ]
  },
  {
   "cell_type": "markdown",
   "id": "254de8bb",
   "metadata": {},
   "source": [
    "You can also add the axes one by one with the function `Figure.add_subplot`. A three digit integer as an argument indicates the grid shape onto which the axes should be added and the position in this grid counting from 1. You must take care yourself, that the axes do not overlap (the last one plotted overrides prvious):"
   ]
  },
  {
   "cell_type": "code",
   "execution_count": null,
   "id": "1ab36e85",
   "metadata": {},
   "outputs": [],
   "source": [
    "fig = plt.figure()\n",
    "# non-overlapping axes:\n",
    "ax1 = fig.add_subplot(231) # 2 x 3 grid, 1. position\n",
    "ax2 = fig.add_subplot(212) # 2 x 1 grid, 2. position => whole row\n",
    "ax3 = fig.add_subplot(422) # 4 x 2 grid, 2. position\n",
    "\n",
    "ax1.plot([1,2,3,4])\n",
    "ax2.plot([1,2,3,4,3,2,1])\n",
    "ax3.plot([3,2,3,4])\n",
    "plt.show()"
   ]
  },
  {
   "cell_type": "markdown",
   "id": "c21a7adf",
   "metadata": {},
   "source": [
    "You can also specify ranges within the common grid (2 x 3):"
   ]
  },
  {
   "cell_type": "code",
   "execution_count": null,
   "id": "07dfd274",
   "metadata": {},
   "outputs": [],
   "source": [
    "plt.subplot(2,3,1)        # 2 x 3 grid, position 1\n",
    "plt.plot([1,2,3,4])\n",
    "\n",
    "plt.subplot(2,3,(4,6))    # specify range: occupying postions 4 .. 6\n",
    "plt.plot([1,2,3,4,3,2,1])\n",
    "\n",
    "plt.subplot(2,3,(2,3))    # specify range: occupying postions 2 .. 3\n",
    "plt.plot([3,2,3,4])\n",
    "\n",
    "plt.show()"
   ]
  },
  {
   "cell_type": "code",
   "execution_count": null,
   "id": "f69a013a-ef72-44cf-92b5-78cee332d26c",
   "metadata": {},
   "outputs": [],
   "source": [
    "plt.subplot(2,3,1)        # 2 x 3 grid, position 1\n",
    "plt.plot([1,2,3,4])\n",
    "\n",
    "plt.subplot(2,3,(4,6))    # specify range: occupying postions 4 .. 6\n",
    "plt.plot([1,2,3,4,3,2,1])\n",
    "\n",
    "plt.subplot(2,3,(1,2))    # specify range: occupying postions 1 .. 3\n",
    "plt.plot([3,2,3,4])\n",
    "\n",
    "plt.show()"
   ]
  },
  {
   "cell_type": "markdown",
   "id": "eea4875a",
   "metadata": {},
   "source": [
    "<a name=\"scatter\"></a>\n",
    "## Scatter Plots\n",
    "\n",
    "Now that we understand how plotting works with Matplotlib, we want to have a look at different plots, which are available. For this, we use NumPy to generate random data to plot. The first plot type we will cover is the scatter plot. It requires two one-dimensional arrays (or array-like objects) of the same length, one for the x and one for the y coordinate. Each point will be plotted as a dot:   "
   ]
  },
  {
   "cell_type": "code",
   "execution_count": null,
   "id": "db3949dd",
   "metadata": {},
   "outputs": [],
   "source": [
    "import numpy as np\n",
    "\n",
    "# Generating random data\n",
    "np.random.seed(546)\n",
    "N = 50\n",
    "x = np.random.rand(N)\n",
    "y = np.random.rand(N)\n",
    "\n",
    "# plotting with pyplot\n",
    "fig = plt.figure()\n",
    "ax = fig.add_subplot()\n",
    "\n",
    "ax.scatter(x, y)\n",
    "plt.show()"
   ]
  },
  {
   "cell_type": "markdown",
   "id": "cc0caca8",
   "metadata": {},
   "source": [
    "Or using the implicit interface:"
   ]
  },
  {
   "cell_type": "code",
   "execution_count": null,
   "id": "2380d6d8",
   "metadata": {},
   "outputs": [],
   "source": [
    "# plotting with plt\n",
    "plt.scatter(x, y)\n",
    "plt.show()"
   ]
  },
  {
   "cell_type": "markdown",
   "id": "ddaa70d0",
   "metadata": {},
   "source": [
    "Now we want to customize this plot. With the argument `s`, we can specify the size of the dots with a float. If we want to give every dot a special size, we can also give an array as the argument `s`:"
   ]
  },
  {
   "cell_type": "code",
   "execution_count": null,
   "id": "ac71d48f",
   "metadata": {},
   "outputs": [],
   "source": [
    "fig = plt.figure()\n",
    "ax = fig.add_subplot()\n",
    "\n",
    "size  = (np.random.rand(N)*10)**3   # note: vectorization is used here\n",
    "\n",
    "ax.scatter(x, y, s=size)\n",
    "plt.show()"
   ]
  },
  {
   "cell_type": "markdown",
   "id": "c74d15dd",
   "metadata": {},
   "source": [
    "To better visualize the overlapping areas, we can set the opacity of the dots with the argument `alpha`:"
   ]
  },
  {
   "cell_type": "code",
   "execution_count": null,
   "id": "c9b2c265",
   "metadata": {},
   "outputs": [],
   "source": [
    "fig = plt.figure()\n",
    "ax = fig.add_subplot()\n",
    "\n",
    "size  = (np.random.rand(N)*10)**3   # note: vectorization is used here\n",
    "\n",
    "ax.scatter(x, y, s=size, alpha=0.5)\n",
    "plt.show()"
   ]
  },
  {
   "cell_type": "markdown",
   "id": "c90aeb4c",
   "metadata": {},
   "source": [
    "We can also change the color of the dots with the argument `c`, where we give an array of colors. There are different ways you can specify those colors. One is to simply give numerical values for each data point. Those values are then mapped to colors, by a special function. If you want to specify this mapping you can use the `cmap` argument (see: [documentation](https://matplotlib.org/stable/api/_as_gen/matplotlib.pyplot.scatter.html)), otherwise a default mapping is used:"
   ]
  },
  {
   "cell_type": "code",
   "execution_count": null,
   "id": "9f22c2b9",
   "metadata": {},
   "outputs": [],
   "source": [
    "fig = plt.figure()\n",
    "ax = fig.add_subplot()\n",
    "\n",
    "size  = (np.random.rand(N)*10)**3 \n",
    "colors = np.random.rand(N)*10\n",
    "\n",
    "ax.scatter(x, y, s=size, c=colors, alpha=0.5)\n",
    "plt.show()"
   ]
  },
  {
   "cell_type": "markdown",
   "id": "0bfedd2e",
   "metadata": {},
   "source": [
    "You can also specify the colors via RGB(A). For this you use a 2D-array (or array-like object), where each row (second dimension) contains the RGB(A) values for one point:"
   ]
  },
  {
   "cell_type": "code",
   "execution_count": null,
   "id": "b6dc7ebb",
   "metadata": {},
   "outputs": [],
   "source": [
    "fig = plt.figure()\n",
    "ax = fig.add_subplot()\n",
    "\n",
    "size  = (np.random.rand(N)*10)**3 \n",
    "red = np.random.rand(N)\n",
    "green = np.random.rand(N)\n",
    "blue = np.random.rand(N)\n",
    "\n",
    "colorsAsRGB = np.array([red, green, blue]).transpose()   #  N x 3 shape\n",
    "\n",
    "ax.scatter(x, y, s=size, c=colorsAsRGB, alpha=0.5)\n",
    "plt.show()"
   ]
  },
  {
   "cell_type": "markdown",
   "id": "8597f9c1",
   "metadata": {},
   "source": [
    "The last thing we change are the markers. You can change them by giving a string representing a different type of marker as the `marker` argument. (You can find the available markers in the [documentation](https://matplotlib.org/stable/api/markers_api.html#module-matplotlib.markers))"
   ]
  },
  {
   "cell_type": "code",
   "execution_count": null,
   "id": "d262cdf6",
   "metadata": {},
   "outputs": [],
   "source": [
    "fig = plt.figure()\n",
    "ax = fig.add_subplot()\n",
    "\n",
    "size  = (np.random.rand(N)*10)**3 \n",
    "red = np.random.rand(N)\n",
    "green = np.random.rand(N)\n",
    "blue = np.random.rand(N)\n",
    "\n",
    "colorsAsRGB = np.array([red, green, blue]).transpose()\n",
    "\n",
    "ax.scatter(x, y, s=size, c=colorsAsRGB, alpha=0.5, marker=\"d\")  # try 'o', '+', ...\n",
    "plt.show()"
   ]
  },
  {
   "cell_type": "markdown",
   "id": "0fd6cba5",
   "metadata": {},
   "source": [
    "<a name=\"boxplots\"></a>\n",
    "## Box Plots"
   ]
  },
  {
   "attachments": {
    "BoxPlots.png": {
     "image/png": "[encoded data removed]"
    }
   },
   "cell_type": "markdown",
   "id": "8574101d",
   "metadata": {},
   "source": [
    "Another type of a plot is the Box Plot. It is used to display numerical data by showing its quantiles. The parts of a boxplot are shown in the image below:\n",
    "\n",
    "![BoxPlots.png](attachment:BoxPlots.png)\n",
    "\n",
    "To create such a plot with Matplotlib we can use the function `pyplot.boxplot`:"
   ]
  },
  {
   "cell_type": "code",
   "execution_count": null,
   "id": "0ddce67d",
   "metadata": {},
   "outputs": [],
   "source": [
    "data = np.arange(1,10)\n",
    "\n",
    "fig = plt.figure()\n",
    "ax = fig.subplots()\n",
    "\n",
    "ax.boxplot(data)\n",
    "ax.set_yticks(range(0,11))\n",
    "\n",
    "plt.show()"
   ]
  },
  {
   "cell_type": "markdown",
   "id": "17642c54",
   "metadata": {},
   "source": [
    "If we add some outliers to the data we can see that pyplot will display them properly:"
   ]
  },
  {
   "cell_type": "code",
   "execution_count": null,
   "id": "3bdf7e83",
   "metadata": {},
   "outputs": [],
   "source": [
    "dataWithOutliers = np.append(data, 15)\n",
    "\n",
    "fig = plt.figure()\n",
    "ax = fig.subplots()\n",
    "\n",
    "ax.boxplot(dataWithOutliers)\n",
    "\n",
    "plt.show()"
   ]
  },
  {
   "cell_type": "markdown",
   "id": "6ed4c7e0",
   "metadata": {},
   "source": [
    "If we do not want them to be plotted at all, we can set the argument `showfliers` to `False`:"
   ]
  },
  {
   "cell_type": "code",
   "execution_count": null,
   "id": "f851f383",
   "metadata": {},
   "outputs": [],
   "source": [
    "fig = plt.figure()\n",
    "ax = fig.subplots()\n",
    "\n",
    "ax.boxplot(dataWithOutliers, showfliers=False)\n",
    "\n",
    "plt.show()"
   ]
  },
  {
   "cell_type": "markdown",
   "id": "41d85da7",
   "metadata": {},
   "source": [
    "If you give a 2D-array or sequence as data input, each sub-sequence will be plotted in a seperate Box Plot:"
   ]
  },
  {
   "cell_type": "code",
   "execution_count": null,
   "id": "f138c3ae",
   "metadata": {},
   "outputs": [],
   "source": [
    "np.random.seed(546)\n",
    "data1 = np.arange(1,10)\n",
    "data2 = np.random.rand(20)*10 + 10\n",
    "multiData = [data1, data2]\n",
    "\n",
    "fig = plt.figure()\n",
    "ax = fig.subplots()\n",
    "\n",
    "ax.boxplot(multiData)\n",
    "ax.set_yticks(range(0,21))\n",
    "\n",
    "plt.show()"
   ]
  },
  {
   "cell_type": "markdown",
   "id": "30da6354",
   "metadata": {},
   "source": [
    "Bix plots also come with a lot of arguments you can use to customize the plot. For example you can set the argument `showmeans` to `True` to also plot the arithmetic mean:"
   ]
  },
  {
   "cell_type": "code",
   "execution_count": null,
   "id": "e63f2c77",
   "metadata": {},
   "outputs": [],
   "source": [
    "fig = plt.figure()\n",
    "ax = fig.subplots()\n",
    "\n",
    "ax.boxplot(multiData, showmeans=True)\n",
    "\n",
    "plt.show()"
   ]
  },
  {
   "cell_type": "markdown",
   "id": "ec4c5404",
   "metadata": {},
   "source": [
    "We can also give labels for each dataset which is plotted:"
   ]
  },
  {
   "cell_type": "code",
   "execution_count": null,
   "id": "e3120f5e",
   "metadata": {},
   "outputs": [],
   "source": [
    "labels = [\"dataset1\", \"dataset2\"]\n",
    "\n",
    "fig = plt.figure()\n",
    "ax = fig.subplots()\n",
    "\n",
    "ax.boxplot(multiData, showmeans=True, labels=labels)\n",
    "\n",
    "plt.show()"
   ]
  },
  {
   "cell_type": "markdown",
   "id": "f6dace7b",
   "metadata": {},
   "source": [
    "<div class=\"learnmore\"><b>Learn more:</b> See the <a href=\"https://matplotlib.org/stable/api/_as_gen/matplotlib.pyplot.boxplot.html\">documentation</a> for more customization options.</div>"
   ]
  },
  {
   "cell_type": "markdown",
   "id": "0d9417e7",
   "metadata": {},
   "source": [
    "<a name=\"histograms\"></a>\n",
    "## Histograms"
   ]
  },
  {
   "cell_type": "markdown",
   "id": "c423e06c",
   "metadata": {},
   "source": [
    "We can use the function `pyplot.hist` to show the distribution of a variable in a histogram. It takes the data and groups it to so called bins, where a bin is defined by a lower and upper bound. For each bin a bar shows how many datapoints are inside this bin:"
   ]
  },
  {
   "cell_type": "code",
   "execution_count": null,
   "id": "3112bf24",
   "metadata": {},
   "outputs": [],
   "source": [
    "import numpy as np\n",
    "normal_data = np.random.randn(10000)\n",
    "\n",
    "fig = plt.figure()\n",
    "ax = fig.subplots()\n",
    "\n",
    "ax.hist(normal_data)\n",
    "\n",
    "plt.show()"
   ]
  },
  {
   "cell_type": "markdown",
   "id": "e6848924",
   "metadata": {},
   "source": [
    "To change the amount of bins we can use the argument `bins`. If we pass an integer, there will be `bins` many bins of equal width:"
   ]
  },
  {
   "cell_type": "code",
   "execution_count": null,
   "id": "9beb2b7b",
   "metadata": {},
   "outputs": [],
   "source": [
    "import numpy as np\n",
    "normal_data = np.random.randn(10000)\n",
    "\n",
    "fig = plt.figure()\n",
    "ax = fig.subplots()\n",
    "\n",
    "ax.hist(normal_data, bins=25)\n",
    "\n",
    "plt.show()"
   ]
  },
  {
   "cell_type": "markdown",
   "id": "bbfb0ba5",
   "metadata": {},
   "source": [
    "We can also pass a sequence to `bins`. Then it defines the bin edges, including the left edge of the first bin and the right edge of the last bin, which may lead to unequally spaced bins. All bins but the last one are half-open:"
   ]
  },
  {
   "cell_type": "code",
   "execution_count": null,
   "id": "c0af9149",
   "metadata": {},
   "outputs": [],
   "source": [
    "import numpy as np\n",
    "normal_data = np.random.randn(10000)\n",
    "\n",
    "fig = plt.figure()\n",
    "ax = fig.subplots()\n",
    "\n",
    "ax.hist(normal_data, bins=[-3,-1.5,-0.75,0,0.5,1,2,4])\n",
    "\n",
    "plt.show()"
   ]
  },
  {
   "cell_type": "markdown",
   "id": "d696dc99",
   "metadata": {},
   "source": [
    "If we set the argument `density` to `True`, the bars do not show the amount of instances in a bin, but the bin's raw count divided by the total number of counts, which creates a probability density:"
   ]
  },
  {
   "cell_type": "code",
   "execution_count": null,
   "id": "15ef1ba1",
   "metadata": {},
   "outputs": [],
   "source": [
    "import numpy as np\n",
    "normal_data = np.random.randn(10000)\n",
    "\n",
    "fig = plt.figure()\n",
    "ax = fig.subplots()\n",
    "\n",
    "ax.hist(normal_data, bins=80, density=True)\n",
    "\n",
    "plt.show()"
   ]
  },
  {
   "cell_type": "markdown",
   "id": "672830b2",
   "metadata": {},
   "source": [
    "We can also plot multple datasets as one, by giving them as a nested sequence/array:"
   ]
  },
  {
   "cell_type": "code",
   "execution_count": null,
   "id": "310003f9",
   "metadata": {},
   "outputs": [],
   "source": [
    "import numpy as np\n",
    "normal_data = np.random.randn(10000)\n",
    "equal_data = np.random.randint(-4,4, (10000,))\n",
    "\n",
    "x = [normal_data, equal_data]\n",
    "\n",
    "fig = plt.figure()\n",
    "ax = fig.subplots()\n",
    "\n",
    "ax.hist(x)\n",
    "\n",
    "plt.show()"
   ]
  },
  {
   "cell_type": "markdown",
   "id": "fed6f0c1",
   "metadata": {},
   "source": [
    "With the argument `color` we can change the color of the bars. For multiple data, we give a sequence of colors: "
   ]
  },
  {
   "cell_type": "code",
   "execution_count": null,
   "id": "8c2bc3e0",
   "metadata": {},
   "outputs": [],
   "source": [
    "import numpy as np\n",
    "normal_data = np.random.randn(10000)\n",
    "equal_data = np.random.randint(-4,4, (10000,))\n",
    "\n",
    "x = [normal_data, equal_data]\n",
    "\n",
    "fig = plt.figure()\n",
    "ax = fig.subplots()\n",
    "\n",
    "ax.hist(x, color=[\"cornflowerblue\", \"darkorchid\"])\n",
    "\n",
    "plt.show()"
   ]
  },
  {
   "cell_type": "markdown",
   "id": "9eb88fd3",
   "metadata": {},
   "source": [
    "<div class=\"learnmore\"><b>Learn more:</b> See the <a href=\"https://matplotlib.org/stable/api/_as_gen/matplotlib.pyplot.hist.html\">documentation</a> for more customization options.</div>"
   ]
  },
  {
   "cell_type": "markdown",
   "id": "dd76b4c8",
   "metadata": {},
   "source": [
    "There are much more diagrams available, which you can [explore](https://matplotlib.org/stable/plot_types/index.html). For example take a look at the 2d-Histogram which visualizes the distirbution of two variables. Here we show some example data which simulates the distribution of the weight and the height of newborns:"
   ]
  },
  {
   "cell_type": "code",
   "execution_count": null,
   "id": "b100153f",
   "metadata": {},
   "outputs": [],
   "source": [
    "from matplotlib.colors import LogNorm\n",
    "import matplotlib.pyplot as plt\n",
    "import numpy as np\n",
    "\n",
    "height, weight = np.loadtxt(\"data/newborns.csv\", delimiter=\",\")\n",
    "\n",
    "plt.hist2d(height, weight, bins=30, norm=LogNorm(), cmap=\"plasma\", )\n",
    "plt.xlabel(\"Height [cm]\")\n",
    "plt.ylabel(\"Weight [kg]\")\n",
    "plt.title(\"Height and Weight Distribution of Newborns\")\n",
    "plt.colorbar()\n",
    "plt.show()"
   ]
  },
  {
   "cell_type": "markdown",
   "id": "248fb4b1",
   "metadata": {},
   "source": [
    "<a name=\"image\"></a>\n",
    "## Image Visualization\n",
    "\n",
    "Matplotlib can also be used to visualize data as images. For this we use the function `pyplot.imshow`:"
   ]
  },
  {
   "cell_type": "code",
   "execution_count": null,
   "id": "fe263f86",
   "metadata": {},
   "outputs": [],
   "source": [
    "import numpy as np\n",
    "\n",
    "# create a sequence with the shape (5x7)\n",
    "image_data = []\n",
    "for i in range(5):\n",
    "    image_data.append(np.random.randn(7))\n",
    "\n",
    "# plot this data as image\n",
    "fig = plt.figure()\n",
    "ax = fig.subplots()\n",
    "\n",
    "ax.imshow(image_data)\n",
    "\n",
    "plt.show()"
   ]
  },
  {
   "cell_type": "code",
   "execution_count": null,
   "id": "f73705e2-48f7-4ef9-8ed3-852f91af3ab0",
   "metadata": {},
   "outputs": [],
   "source": [
    "import numpy as np\n",
    "\n",
    "# create a sequence with the shape (100x120)\n",
    "image_data = []\n",
    "for i in range(100):\n",
    "    image_data.append(np.random.randn(120))\n",
    "\n",
    "# plot this data as image\n",
    "fig = plt.figure()\n",
    "ax = fig.subplots()\n",
    "\n",
    "ax.imshow(image_data)\n",
    "\n",
    "plt.show()"
   ]
  },
  {
   "cell_type": "markdown",
   "id": "9b3e7f91",
   "metadata": {},
   "source": [
    "As you can see, we pass an array/sequence as input with the shape (100, 120). If `imshow` gets data in this form (i.e. of shape (M, N)), each element of the array will be interpreted as a pixel, resulting in an image with dimension M x N. The mapping of a pixel to a color is again done by a colormap (and a normalization) function. You can find many available colormaps in the [documentation](https://matplotlib.org/stable/tutorials/colors/colormaps.html)"
   ]
  },
  {
   "cell_type": "code",
   "execution_count": null,
   "id": "ee560bac",
   "metadata": {},
   "outputs": [],
   "source": [
    "import numpy as np\n",
    "from matplotlib.colors import PowerNorm\n",
    "\n",
    "# create some data to plot:\n",
    "x = y = np.arange(-3.0, 3.0, 0.01)\n",
    "X, Y = np.meshgrid(x, y)\n",
    "Z1 = np.exp(-X**2 - Y**2)\n",
    "Z2 = np.exp(-(X - 1)**2 - (Y - 1)**2)\n",
    "Z = (Z1 - Z2)\n",
    "\n",
    "fig = plt.figure()\n",
    "ax = fig.subplots()\n",
    "\n",
    "# use the \"rainbow\" colormap and the \"PowerNorm\" to visualize the data\n",
    "ax.imshow(Z, cmap=\"rainbow\", norm=PowerNorm(1.9))\n",
    "\n",
    "plt.show()"
   ]
  },
  {
   "cell_type": "markdown",
   "id": "dd02e8d6",
   "metadata": {},
   "source": [
    "If you provide data in with the shape (M, N, 3), it is assumed that the three values of the last dimension represent an RGB value. With the shape (M, N, 4) you get an image with RGBA values. Have a look at the shape of `data` after the generation and try to understand how the image is created with RGB values:"
   ]
  },
  {
   "cell_type": "code",
   "execution_count": null,
   "id": "4699dafe",
   "metadata": {},
   "outputs": [],
   "source": [
    "import numpy as np\n",
    "\n",
    "dim = 50\n",
    "data = []\n",
    "for i in range(dim):\n",
    "    r = np.linspace(50, 200, dim, dtype=np.int_)\n",
    "    g = np.linspace(100, 255, dim, dtype=np.int_)\n",
    "    b = np.linspace(100, 150, dim, dtype=np.int_)\n",
    "    \n",
    "    data.append(np.stack((r, g, b)).transpose())\n",
    "\n",
    "fig = plt.figure()\n",
    "ax = fig.subplots()\n",
    "\n",
    "ax.imshow(data)\n",
    "\n",
    "plt.show()"
   ]
  },
  {
   "cell_type": "markdown",
   "id": "5d7594ee",
   "metadata": {},
   "source": [
    "Up to now we created the data to plot artificially with NumPy. Another way to create the data is the function `pyplot.imread`, which reads an image and converts it to an array in the specific format. Then you can plot this data again:"
   ]
  },
  {
   "cell_type": "code",
   "execution_count": null,
   "id": "3815add5",
   "metadata": {},
   "outputs": [],
   "source": [
    "image = plt.imread(\"./data/Meme.jpg\")\n",
    "\n",
    "fig = plt.figure()\n",
    "ax = fig.subplots()\n",
    "\n",
    "ax.imshow(image)\n",
    "\n",
    "plt.show()"
   ]
  },
  {
   "cell_type": "markdown",
   "id": "59582e47",
   "metadata": {},
   "source": [
    "## Summary\n",
    "\n",
    "Within this lecture you have made your first experiences with Matplotlib. This includes in particular:\n",
    "\n",
    "* The basics of plotting data with `pyplot.plot`\n",
    "* Customizing plots with Matplotlib's extensive customization options\n",
    "* Understanding the anatomy of a figure\n",
    "* Different kinds of plots like:\n",
    "    * Scatter Plots\n",
    "    * Box Plots\n",
    "    * Histograms\n",
    "* Image Visualization"
   ]
  }
 ],
 "metadata": {
  "celltoolbar": "Edit Metadata",
  "kernelspec": {
   "display_name": "Python 3.10 (ipykernel)",
   "language": "python",
   "name": "python310"
  },
  "language_info": {
   "codemirror_mode": {
    "name": "ipython",
    "version": 3
   },
   "file_extension": ".py",
   "mimetype": "text/x-python",
   "name": "python",
   "nbconvert_exporter": "python",
   "pygments_lexer": "ipython3",
   "version": "3.10.12"
  }
 },
 "nbformat": 4,
 "nbformat_minor": 5
}
