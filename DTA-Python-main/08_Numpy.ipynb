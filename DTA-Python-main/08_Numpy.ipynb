{
 "cells": [
  {
   "cell_type": "code",
   "execution_count": 1,
   "id": "9b3b4d8e",
   "metadata": {
    "autorun": true,
    "jupyterlab-hide-cells:hidden": true,
    "tags": []
   },
   "outputs": [
    {
     "data": {
      "text/html": [
       "<style>summary {\n",
       "    display: list-item;\n",
       "    cursor: pointer;\n",
       "}\n",
       "\n",
       ".task {\n",
       "    border: 2px solid cornflowerblue;\n",
       "    padding: 0.5rem;\n",
       "    margin-top: 0.5rem;\n",
       "    margin-bottom: 0.5rem;\n",
       "    counter-increment: task-counter 1;\n",
       "}\n",
       "\n",
       ".excursion {\n",
       "    border: 2px solid darkgray;\n",
       "    padding: 0.5rem;\n",
       "    margin-top: 0.5rem;\n",
       "    margin-bottom: 0.5rem;\n",
       "    background: rgba(0, 0, 0, 0.1);\n",
       "    counter-increment: excursion-counter 1;\n",
       "}\n",
       "\n",
       ".pyfeature {\n",
       "    text-decoration: underline darkgreen;\n",
       "    text-decoration-thickness: 2px;\n",
       "}\n",
       "\n",
       ".javafeature {\n",
       "    text-decoration: underline darkorange;\n",
       "    text-decoration-thickness: 2px;\n",
       "}\n",
       "\n",
       ".title{\n",
       "    font-weight: bold;\n",
       "}\n",
       "\n",
       ".learnmore {\n",
       "    border: 2px solid burlywood;\n",
       "    padding: 0.5rem;\n",
       "    margin-top: 0.5rem;\n",
       "    margin-bottom: 0.5rem;\n",
       "}\n",
       "\n",
       ".meta {\n",
       "    border: 2px dashed darkgray;\n",
       "    padding: 0.5rem;\n",
       "    margin-top: 0.5rem;\n",
       "    margin-bottom: 0.5rem;\n",
       "}\n",
       "\n",
       "h2 {\n",
       "    margin-top: 50px;\n",
       "}</style>"
      ],
      "text/plain": [
       "<IPython.core.display.HTML object>"
      ]
     },
     "execution_count": 1,
     "metadata": {},
     "output_type": "execute_result"
    }
   ],
   "source": [
    "from IPython.display import HTML; HTML(f\"\"\"<style>{open(\"./styles/styles.css\").read()}</style>\"\"\")"
   ]
  },
  {
   "attachments": {
    "LuFgi9.png": {
     "image/png": "[encoded data removed]"
    }
   },
   "cell_type": "markdown",
   "id": "64aa03fd",
   "metadata": {},
   "source": [
    "<center><img width=\"250\" align=\"right\" src=\"attachment:LuFgi9.png\" /></center>"
   ]
  },
  {
   "cell_type": "markdown",
   "id": "891314af",
   "metadata": {},
   "source": [
    "<a id=\"top\"></a>\n",
    "# NumPy\n",
    "## Overview\n",
    "* [Installation](#installation)\n",
    "* [Datatypes of Elements](#datatypes)\n",
    "* [The NumPy array](#array)\n",
    "    * [Array creation](#arrayCreation) and [main properties](#arrayProperties)\n",
    "    * [Array vs. `list`](#arrayVsList): data types, [storage](#storage), and [computing efficiency](#compEffeciency)\n",
    "    * [Shape](#shape)\n",
    "    * [Indexing](#indexing)\n",
    "    * [Array manipulation](#arrayManipulation)\n",
    "* Vectorization and [Broadcasting](#broadcasting)\n",
    "* [Array I/0](#io)\n",
    "* [Statistical Analysis](#statisitics)\n",
    "* [Linear Algebra](#linAlg)\n",
    "* [Random Numbers](#random)\n",
    "* [Masking and Filtering](#masking)"
   ]
  },
  {
   "cell_type": "markdown",
   "id": "83e2244a",
   "metadata": {},
   "source": [
    "A well-known disadvantage of Python is its performance: Due to the fact that Python is dynamically typed and an interpreted language, it is often less performant than typical compiled languages such as C/C++ and Java. While this is not a problem for many applications, it can be problematic for certain purposes, such as arithmetic operations with large numbers and operations on big vectors and matrices. Unfortunatly, such calculations have to be done all the time for scientifc programming like in data science and machine learning. To still be able to perform these programming tasks efficiently, we use the `NumPy` library (numerical Python), which is internally written in C and therefore can be much faster than plain Python code. \n",
    "\n",
    "The core feature of NumPy is the support for a powerful and efficient data structure: the n-dimensional array called the `ndarray`. NumPy arrays are similar to lists but have\n",
    "* a fixed size and\n",
    "* a homogeneous element datatype\n",
    "\n",
    "Thus, for numerical computations they are far more efficient to use (faster computation, less storage) than lists.\n",
    "\n",
    "Based on this data structure, NumPy offers an assortment of routines for fast operations on arrays, including mathematical calculations, sorting, basic linear algebra, basic statistical operations, random simulation and much more.\n",
    "\n",
    "NumPy is one of the most fundamental packages in data science and machine learning. Even many other packages that you will use like `Matplotlib`, `Pandas`, and `SciPy` are built mostly upon Numpy."
   ]
  },
  {
   "cell_type": "markdown",
   "id": "80fa6ff0",
   "metadata": {},
   "source": [
    "<a name=\"installation\"></a>\n",
    "## Installation\n",
    "\n",
    "If you are using our RWTHJupyterlab profile, NumPy is already installed and you can import and use it it right away. If you are using your own local installation you can install NumPy as follows:\n",
    "\n",
    "### Anaconda \n",
    "Anaconda already comes with NumPy, that's why you normally do not have to install it again. But if you want/have to install it manually you can do so by typing the following into the conda-prompt:\n",
    "\n",
    "```console\n",
    "conda install numpy\n",
    "```\n",
    "\n",
    "### pip\n",
    "To install NumPy with pip, type the following into your terminal: \n",
    "\n",
    "```console\n",
    "pip install numpy\n",
    "```\n",
    "This command installs NumPy in the current working Python environment.\n",
    "\n",
    "\n",
    "### Import NumPy\n",
    "In order to use NumPy we import it and usually name it as `np`:"
   ]
  },
  {
   "cell_type": "code",
   "execution_count": 2,
   "id": "cb5db884",
   "metadata": {
    "autorun": true,
    "tags": []
   },
   "outputs": [],
   "source": [
    "import numpy as np"
   ]
  },
  {
   "cell_type": "markdown",
   "id": "f48c281a",
   "metadata": {},
   "source": [
    "---\n",
    "<a id=\"datatypes\"></a>\n",
    "## [Element datatypes](#top)\n",
    "\n",
    "First have a closer look at the provided datatypes of Numpy. Python has only a few built-in types (like integer or float) and while programming we do not have to take care of them as much as in other statically typed languages. This makes Python very easy, but also slower than other languages. Numpy provides 24 fundamental datatypes, which are mostly based on the types available in C. They form a hierachy shown in the image below, where every type is derived from the base-type `generic`: "
   ]
  },
  {
   "attachments": {
    "Datatypes.png": {
     "image/png": "[encoded data removed]"
    }
   },
   "cell_type": "markdown",
   "id": "24f8750c",
   "metadata": {},
   "source": [
    "![Datatypes.png](attachment:Datatypes.png)"
   ]
  },
  {
   "cell_type": "markdown",
   "id": "80cbcf43",
   "metadata": {},
   "source": [
    "There are 5 basic numerical types representing booleans (bool), integers (int), unsigned integers (uint) floating point (float) and complex. Those with numbers in their name indicate, how many bits are needed to represent a single value in memory.\n",
    "<br><br>\n",
    "\n",
    "<div class=\"learnmore\"><b> Learn more</b>:If you are not familiar with the difference between signed and unsigned integers, you can read about it here: <a href=\"https://en.wikipedia.org/wiki/Signedness\">https://en.wikipedia.org/wiki/Signedness</a> and here: <a href=\"https://en.wikipedia.org/wiki/Two%27s_complement\">https://en.wikipedia.org/wiki/Two%27s_complement</a>)</div>\n",
    "<div class=\"learnmore\"><b> Learn more</b>:If you want to find out more about the datatypes in NumPy you can read about it in the <a href=\"https://numpy.org/doc/stable/reference/arrays.scalars.html\">documentation</a></div>"
   ]
  },
  {
   "cell_type": "markdown",
   "id": "93ce3d9f",
   "metadata": {},
   "source": [
    "---\n",
    "<a name=\"array\"></a>\n",
    "## [The NumPy-Array](#top)\n",
    "\n",
    "The core of the NumPy package is the `ndarray` (n-dimensional array), which is a container of items. Almost like a (nested) list, it provides a grid structure to store values and access them with indices. The main difference between the Python list and a NumPy Array is that all the elements in the Array have to be of the same datatype and size in memory. Thus, they are organized as a continous block in memory and each element can be directly adressed from the start adress, instead of looping over the sequence in lists. This is the main reason why operations on Arrays can be implemented much faster than on Python lists."
   ]
  },
  {
   "attachments": {
    "Array.png": {
     "image/png": "[encoded data removed]"
    }
   },
   "cell_type": "markdown",
   "id": "e8d0e9a4",
   "metadata": {},
   "source": [
    "![Array.png](attachment:Array.png)"
   ]
  },
  {
   "cell_type": "markdown",
   "id": "47537018",
   "metadata": {},
   "source": [
    "<a id=\"arrayCreation\"></a>\n",
    "### [Array creation](#top)\n",
    "\n",
    "There are many ways to create a new `ndarray`, to be more precise more than 40. They can be roughly differentiated between 1d-, 2d-, and n-dimensional arrays creations. One way is to convert an existing python sequence into an `ndarray` with the `numpy.array`-constructor:"
   ]
  },
  {
   "cell_type": "code",
   "execution_count": null,
   "id": "d0b8c3b6",
   "metadata": {},
   "outputs": [],
   "source": [
    "array1D = np.array([1, 2, 3, 4])\n",
    "array2D = np.array([[1, 2], [3, 4]])\n",
    "array3D = np.array([[[1, 2], [3, 4]], [[5, 6], [7, 8]]])\n",
    "\n",
    "print(\"1-dimensional:\")\n",
    "print(array1D)\n",
    "print(\"2-dimensional:\")\n",
    "print(array2D)\n",
    "print(\"3-dimensional:\")\n",
    "print(array3D)"
   ]
  },
  {
   "cell_type": "markdown",
   "id": "95cba963-9899-4941-a0bd-d40c2662a1be",
   "metadata": {},
   "source": [
    ">**Note**: when printed `ndarrays` almost look like n-dimensional lists, but they are represented without commas seperating the items."
   ]
  },
  {
   "cell_type": "markdown",
   "id": "1660b16b",
   "metadata": {},
   "source": [
    "When you create a new array with `numpy.array` you can also explictly specifify the data-type of the objects. This can be useful when the datatype of the python sequence is not clear, for example`numpy.int_` or `numpy.uint_`:"
   ]
  },
  {
   "cell_type": "code",
   "execution_count": null,
   "id": "5b1e14e9",
   "metadata": {},
   "outputs": [],
   "source": [
    "# the number of bits is important as 129 gets -127 in int8 (two's complement of signed integer):\n",
    "np.array([126, 127, 128, 129, 130], dtype=np.int8) "
   ]
  },
  {
   "cell_type": "code",
   "execution_count": null,
   "id": "fcc74169-9b2b-4b2f-a0df-c562bca0426b",
   "metadata": {},
   "outputs": [],
   "source": [
    "# the number of bits is important as 129 gets -127 in int8 (two's complement of signed integer):\n",
    "np.array([127, 128, 129], dtype=np.uint8) "
   ]
  },
  {
   "cell_type": "markdown",
   "id": "de7052b9",
   "metadata": {},
   "source": [
    "Instead of first creating an iterable with data, only to convert it to an ndarray, you can rather use  `numpy.arange`. The function `numpy.arange` works almost like the Python function `range`, but returns an `ndarray` and not a range instance:"
   ]
  },
  {
   "cell_type": "code",
   "execution_count": null,
   "id": "f24927a2",
   "metadata": {},
   "outputs": [],
   "source": [
    "np.arange(10)"
   ]
  },
  {
   "cell_type": "code",
   "execution_count": null,
   "id": "bcdc43b9",
   "metadata": {},
   "outputs": [],
   "source": [
    "np.arange(2, 10, dtype=float)"
   ]
  },
  {
   "cell_type": "code",
   "execution_count": null,
   "id": "90665a1a",
   "metadata": {},
   "outputs": [],
   "source": [
    "np.arange(2, 3, 0.1)"
   ]
  },
  {
   "cell_type": "markdown",
   "id": "6262b63c",
   "metadata": {},
   "source": [
    "`numpy.linspace` will create arrays with a specified number of elements, and spaced equally between the specified beginning and end values:"
   ]
  },
  {
   "cell_type": "code",
   "execution_count": null,
   "id": "9216f02e",
   "metadata": {},
   "outputs": [],
   "source": [
    "np.linspace(1., 4., 10) # archetypical grades at German universities"
   ]
  },
  {
   "cell_type": "markdown",
   "id": "a25b55a0",
   "metadata": {},
   "source": [
    "For higher dimensional `ndarrays` you can use the functions `numpy.ones` and `numpy.zeros` to create an array which is initalized by 0's or 1's. As an argument you pass a tuple which represents the number of elements in every dimension:"
   ]
  },
  {
   "cell_type": "code",
   "execution_count": null,
   "id": "fc46dbae",
   "metadata": {},
   "outputs": [],
   "source": [
    "np.zeros((2, 3))"
   ]
  },
  {
   "cell_type": "code",
   "execution_count": null,
   "id": "2166e3de",
   "metadata": {
    "tags": []
   },
   "outputs": [],
   "source": [
    "np.ones((2, 3, 2, 4))"
   ]
  },
  {
   "cell_type": "markdown",
   "id": "253cca2e-03ad-48c7-9c59-150d40391625",
   "metadata": {},
   "source": [
    "<a id=\"arrayProperties\"></a>\n",
    "### [Main properties of Arrays](#top)"
   ]
  },
  {
   "cell_type": "markdown",
   "id": "48ad8f4d-0afe-4c4e-b9c3-0b1be2413d24",
   "metadata": {},
   "source": [
    "Let's check for some of the important properties of a 2d-Array:"
   ]
  },
  {
   "cell_type": "code",
   "execution_count": null,
   "id": "6678dc83-ff3c-4615-a09a-d7bc67fcdc5e",
   "metadata": {},
   "outputs": [],
   "source": [
    "LofL = [[11,12,13], [21,22,23], [31,32,33]]\n",
    "x = np.array(LofL, dtype=np.int16)\n",
    "x"
   ]
  },
  {
   "cell_type": "code",
   "execution_count": null,
   "id": "ac00e227-1a70-4eff-ab0b-a8bcaed85c16",
   "metadata": {},
   "outputs": [],
   "source": [
    "print(f'{type(x)} has {x.ndim} dimensions with {x.size} elements needing {x.nbytes} bytes storage space.'\\\n",
    "      .format(x.ndim, x.size, x.nbytes) )"
   ]
  },
  {
   "cell_type": "markdown",
   "id": "af4c538b-8764-439b-9565-74d2aa515ce9",
   "metadata": {},
   "source": [
    "Three and more dimensions are possible:"
   ]
  },
  {
   "cell_type": "code",
   "execution_count": null,
   "id": "2df18abd-65b2-4dea-b348-c2104eedc49e",
   "metadata": {},
   "outputs": [],
   "source": [
    "x = np.array ([[[111,112,113],\n",
    "         [121,122,123],\n",
    "         [131,132,133]],\n",
    "         [[211,212,213],\n",
    "         [221,222,223],\n",
    "         [231,232,233]],\n",
    "         [[311,312,313],\n",
    "         [321,322,323],\n",
    "         [331,332,333]]], dtype=np.int16)\n",
    "print(f'{type(x)}\\nx =\\n{x}')"
   ]
  },
  {
   "cell_type": "code",
   "execution_count": null,
   "id": "b0b96ef0-4cc7-4479-a417-5c3712046bff",
   "metadata": {},
   "outputs": [],
   "source": [
    "print(f'{type(x)} has {x.ndim} dimensions with {x.size} elements needing {x.nbytes} bytes storage space.'\\\n",
    "      .format(x.ndim, x.size, x.nbytes) )"
   ]
  },
  {
   "cell_type": "markdown",
   "id": "b264784b-bdcd-41e3-8a7c-26d1ad06043d",
   "metadata": {},
   "source": [
    "---\n",
    "<a id=\"arrayVsList\"></a>\n",
    "## [Array vs. List](#top)\n",
    "Arrays are very similar to lists containing an _indexed sequence of items_, but are restricted to a *homogeneous item data type*. This allows for more efficient implementations of functions and needs less storage space. For this, when creating an array object, you shoulld specify the item type representation (for which default types exist)."
   ]
  },
  {
   "cell_type": "markdown",
   "id": "2105229e-1967-44a3-9a83-4da4c2284606",
   "metadata": {},
   "source": [
    "### [Array element data types](#top)"
   ]
  },
  {
   "cell_type": "code",
   "execution_count": null,
   "id": "f7478a90-499c-46da-90af-efcf0c4c8365",
   "metadata": {},
   "outputs": [],
   "source": [
    "x = np.array([1, 2, 3])\n",
    "x.dtype"
   ]
  },
  {
   "cell_type": "code",
   "execution_count": null,
   "id": "dfbc53b4-d3b9-4474-8801-ad1c1fce7abe",
   "metadata": {},
   "outputs": [],
   "source": [
    "x = np.array([1.4, 2.2, 3.5])\n",
    "x.dtype"
   ]
  },
  {
   "cell_type": "code",
   "execution_count": null,
   "id": "ff2d89b7-a450-466f-b650-3457b3f11c3f",
   "metadata": {},
   "outputs": [],
   "source": [
    "x = np.array(['somewhat', 'short', 'text']) # longest unicode string has 8 characters\n",
    "x.dtype"
   ]
  },
  {
   "cell_type": "code",
   "execution_count": null,
   "id": "43b35d0e-8cca-4bfd-8c62-88413b3f11c8",
   "metadata": {},
   "outputs": [],
   "source": [
    "x = np.array([True, False])\n",
    "x.dtype"
   ]
  },
  {
   "cell_type": "code",
   "execution_count": null,
   "id": "87bf399d-2073-4f05-a702-6fa3468f41c4",
   "metadata": {},
   "outputs": [],
   "source": [
    "x = np.array([1, 2, 3], dtype=np.float16)\n",
    "x"
   ]
  },
  {
   "cell_type": "code",
   "execution_count": null,
   "id": "a0f09ebe-fc10-4881-9c21-ed5ede6a5818",
   "metadata": {},
   "outputs": [],
   "source": [
    "x = np.array([1, 0, 3], dtype=bool)\n",
    "x"
   ]
  },
  {
   "cell_type": "code",
   "execution_count": null,
   "id": "97a959b8-07a8-4057-88a3-cf1345b88000",
   "metadata": {},
   "outputs": [],
   "source": [
    "x = np.array([1, 2, 3], dtype=np.int16)\n",
    "x"
   ]
  },
  {
   "cell_type": "code",
   "execution_count": null,
   "id": "eb373e97-254c-4a13-876b-73ccbaa90469",
   "metadata": {},
   "outputs": [],
   "source": [
    "x = np.array(['somewhat', 'short', 'text'], dtype='<U20') # longest unicode string can have 20 characters\n",
    "x.dtype"
   ]
  },
  {
   "cell_type": "markdown",
   "id": "28ffcaea-ffe7-4e26-a7a7-f1727cf82eaf",
   "metadata": {
    "tags": []
   },
   "source": [
    "<a id=\"storage\"></a>\n",
    "### [Storage Space](#top)\n",
    "Storage for elements of an array can be optimized, because all items are of the same type and thus can be organized as a block of *equal size* items. Also indexing and iterating can be implemented more efficiently, because instead of iterating over single items until you reach the intended index, the atorage address can easily be computed as `starting_adr + index*item_size` "
   ]
  },
  {
   "cell_type": "markdown",
   "id": "3f5bf5c0-5710-4748-ba84-d25816c627a7",
   "metadata": {},
   "source": [
    "The difference in storage space is most effective when working with very many integers, which are not huge (e.g. < 2^31). \n",
    "\n",
    "How much storage space is needed for each case? To check how many bytes of storage are needed for a data structure, we can use the function `getsizeof( )` from the module `sys`:"
   ]
  },
  {
   "cell_type": "code",
   "execution_count": null,
   "id": "0697c8e3-f2ee-493d-8cd2-4d0717d6e755",
   "metadata": {},
   "outputs": [],
   "source": [
    "from sys import getsizeof as size\n",
    "lst = [1, 2, 3, 4, 5, 6, 7, 8, 9, 10]\n",
    "print('size of an empty list:', size([]))\n",
    "print('size of the administration of a list with 10 elements:', size(lst))\n",
    "print('size per reference to item:', (size(lst)-size([]))/len(lst))\n",
    "print('size each of the list elements:', size(lst[0]))\n",
    "print('number of elements:', len(lst))\n",
    "print('List of 10 int bytes in total:', size(lst) + len(lst)*size(lst[0]))"
   ]
  },
  {
   "attachments": {
    "List-Storage.png": {
     "image/png": "[encoded data removed]"
    }
   },
   "cell_type": "markdown",
   "id": "c50a54da",
   "metadata": {},
   "source": [
    "![List-Storage.png](attachment:List-Storage.png)\n",
    "\n",
    "The `list object` itself occupies 72 bytes for its features. For each `int element` it takes 8 bytes for the reference to the int object, plus 28 for the `int object` itself. A list of n `int` values needs `72 + n * 36` bytes."
   ]
  },
  {
   "cell_type": "code",
   "execution_count": null,
   "id": "073bfcc9-900f-4457-bbb8-1bbd92fafa21",
   "metadata": {},
   "outputs": [],
   "source": [
    "a = np.array(lst, dtype=np.int16) # if we know that 16 bit int are large enough\n",
    "print('size of an empty array:', size(np.array([])))\n",
    "print('size array with 10 int16 elements:', size(a))"
   ]
  },
  {
   "attachments": {
    "Array-Storage.png": {
     "image/png": "[encoded data removed]"
    }
   },
   "cell_type": "markdown",
   "id": "4a3f1a59",
   "metadata": {},
   "source": [
    "![Array-Storage.png](attachment:Array-Storage.png)\n",
    "\n",
    "The int values are **contained within the array** as a block, not individual objects. Thus, depending on the `dtype` each int value only takes between 1 .. 4 bytes (dtype `int8` .. `int64`) without additional administrative storage space for references and objects. So the overall size of the array only sums up to `96 + n * (1..4)` Byte.\n",
    "\n",
    "Thus the difference in storage space per item between a list and an array lies between 32 .. 35 bytes.\n",
    "\n",
    "E.g.for 100.000 `int` values:\n",
    "* __list:__ 3'600'072 Bytes total space\n",
    "* __array:__ 100'096 .. 400'096 bytes total space"
   ]
  },
  {
   "cell_type": "markdown",
   "id": "391b9210-50d9-428f-b4c6-b4a574c9113a",
   "metadata": {},
   "source": [
    "<a id=\"compEffeciency\"></a>\n",
    "### [Computing efficiency](#top)\n",
    "For the same reason, there is also an advantage in computing time, if a computation is to be done for each element. In a list, each element is *referenced* by the list, so evaluating means *accessing* the list object in the heap, and then adressing the item reference in the list object (in an internal array data structure), and then accessing the value from the referenced object in the heap. In an array, each value is directly adressed within the array, bacause its adress is immediately computed as `starting_adress + index*item_size`.\n",
    "\n",
    "Also, if a new value is computed and is meant to overwrite the value within the array, this can be done *in place*. With a list, a new `int object` is created and placed in the heap, the reference to the object is to be written at the place of the item withing the list (or many times in a copy of), and the old object is to be deleted from the heap. "
   ]
  },
  {
   "cell_type": "code",
   "execution_count": null,
   "id": "a6b89539-5dc4-4143-b5df-f1bd5044cba5",
   "metadata": {},
   "outputs": [],
   "source": [
    "import numpy as np\n",
    "import time\n",
    "size = 1000000\n",
    "\n",
    "def lst():\n",
    "    t1 = time.time()\n",
    "    X = range(size)\n",
    "    Y = range(size)\n",
    "    Z = [X[i] + Y[i] for i in range(len(X))]\n",
    "    return time.time() - t1\n",
    "\n",
    "def arr():\n",
    "    t1 = time.time()\n",
    "    X = np.arange(size)\n",
    "    Y = np.arange(size)\n",
    "    Z = X + Y\n",
    "    return time.time() - t1"
   ]
  },
  {
   "cell_type": "markdown",
   "id": "1b5716cc-97a9-4aba-9281-eba7abeb6db6",
   "metadata": {},
   "source": [
    "We use the method `time( )` from the `time module` to measure how long it takes to create two lists resp. arrays of 10.000 items and add them itemwise (difference from starting the operation until returning)."
   ]
  },
  {
   "cell_type": "code",
   "execution_count": null,
   "id": "63af98f2-b21c-4fdf-9db7-2168d514e10b",
   "metadata": {},
   "outputs": [],
   "source": [
    "l_time = lst()\n",
    "a_time = arr()\n",
    "print('time for list operation:', l_time)\n",
    "print('time for array operation:', a_time)\n",
    "print('list takes {:.2f} times longer than np.array'.format(l_time/a_time))"
   ]
  },
  {
   "cell_type": "markdown",
   "id": "d157b938-728a-4582-8e55-cc36d6eee159",
   "metadata": {},
   "source": [
    "Within our interactive IPython shell, it is easier to just use the `%timeit` magic. See https://ipython.org/ipython-doc/dev/interactive/magics.html#magic-timeit on an explanation of magic functions like `%timeit`. For that, we do not need the time object from the time module."
   ]
  },
  {
   "cell_type": "code",
   "execution_count": null,
   "id": "5a3d6f76-0d8c-454c-ab6e-8447d9391182",
   "metadata": {},
   "outputs": [],
   "source": [
    "import timeit\n",
    "size = 100000\n",
    "\n",
    "def lst():\n",
    "    X = range(size)\n",
    "    Y = range(size)\n",
    "    Z = [X[i] + Y[i] for i in range(len(X))]\n",
    "     \n",
    "\n",
    "def arr():\n",
    "    X = np.arange(size)\n",
    "    Y = np.arange(size)\n",
    "    Z = X + Y"
   ]
  },
  {
   "cell_type": "markdown",
   "id": "36a3c0b5-8bb4-4d9b-963d-77bc7dfbc457",
   "metadata": {},
   "source": [
    "Caution: when running the following `%timeit` code cells, execution might take a while. Please wait until the `[*]` before the cell showing that it is busy is replaced by the execution counter (a number)."
   ]
  },
  {
   "cell_type": "code",
   "execution_count": null,
   "id": "c52a4d19-6b3e-4d1e-bfa2-dfbf1e6abdaf",
   "metadata": {},
   "outputs": [],
   "source": [
    "%timeit lst()"
   ]
  },
  {
   "cell_type": "code",
   "execution_count": null,
   "id": "066bf60c-bc73-4fec-968a-aa6ea3161131",
   "metadata": {},
   "outputs": [],
   "source": [
    "%timeit arr()"
   ]
  },
  {
   "cell_type": "markdown",
   "id": "749f0975",
   "metadata": {
    "tags": []
   },
   "source": [
    "---\n",
    "<a name=\"shape\"></a>\n",
    "## [Shape](#top)\n",
    "The shape of an `ndarray` is a tuple of the sizes of each of its dimensions (called axis in Python terminology):"
   ]
  },
  {
   "cell_type": "code",
   "execution_count": null,
   "id": "6f467ad3-1773-4084-9261-3c2b059e3070",
   "metadata": {},
   "outputs": [],
   "source": [
    "x = np.array(42) # zero-dimensional => scalar\n",
    "x"
   ]
  },
  {
   "cell_type": "code",
   "execution_count": null,
   "id": "4cb51436-79c4-4c66-9910-34d1b490966d",
   "metadata": {
    "tags": []
   },
   "outputs": [],
   "source": [
    "x.shape"
   ]
  },
  {
   "cell_type": "code",
   "execution_count": null,
   "id": "47c15b9e-01a3-4057-9045-3a580d6dd5ae",
   "metadata": {},
   "outputs": [],
   "source": [
    "x = np.array([1, 2, 3, 4]) # one-dimensional, 4 items\n",
    "x"
   ]
  },
  {
   "cell_type": "code",
   "execution_count": null,
   "id": "dbd09823-a6f7-4bd2-a87a-a0cb492ab6cb",
   "metadata": {
    "tags": []
   },
   "outputs": [],
   "source": [
    "x.shape"
   ]
  },
  {
   "cell_type": "code",
   "execution_count": null,
   "id": "991e4c2b-ad6c-4cc8-9999-94bf83b31bb5",
   "metadata": {},
   "outputs": [],
   "source": [
    "x[2]"
   ]
  },
  {
   "attachments": {
    "Shape-1.png": {
     "image/png": "[encoded data removed]"
    }
   },
   "cell_type": "markdown",
   "id": "13766966",
   "metadata": {},
   "source": [
    "![Shape-1.png](attachment:Shape-1.png)\n",
    "1-dimensional: 1 \"row\" of 4 items"
   ]
  },
  {
   "cell_type": "code",
   "execution_count": null,
   "id": "58f3eae8-b1a1-459f-b06b-2bd7e30ded8a",
   "metadata": {},
   "outputs": [],
   "source": [
    "x = np.array ([[1.1, 1.2, 1.3, 1.4],\n",
    "               [2.1, 2.2, 2.3, 2.4],\n",
    "               [3.1, 3.2, 3.3, 3.4]]) # 3 'rows' each with 2 'columns'\n",
    "x"
   ]
  },
  {
   "cell_type": "code",
   "execution_count": null,
   "id": "ee3f9c29-2640-4e3a-9a8b-b52feb2bab36",
   "metadata": {},
   "outputs": [],
   "source": [
    "x.shape"
   ]
  },
  {
   "cell_type": "code",
   "execution_count": null,
   "id": "76c5305b-e42a-48de-ae02-4dfa48ee26b3",
   "metadata": {},
   "outputs": [],
   "source": [
    "x[1] # second row"
   ]
  },
  {
   "cell_type": "code",
   "execution_count": null,
   "id": "f79fdba1-fb1b-4a24-b202-bd22b9581699",
   "metadata": {},
   "outputs": [],
   "source": [
    "x[0][2] # first row, 3rd col => do not use this notation!"
   ]
  },
  {
   "cell_type": "markdown",
   "id": "f9779968-b8e7-48fd-93b6-2ba9c34f868d",
   "metadata": {},
   "source": [
    "It is more efficient to address the same element with the comma notation (`x[0, 2]`), because in the first way, we first copy the line in which the third element is adressed. With the comma notation, we directly address the intended element (because it can be computed directly):"
   ]
  },
  {
   "cell_type": "code",
   "execution_count": null,
   "id": "0ea62c6a-654d-4048-ae7b-d73d27b61a3f",
   "metadata": {},
   "outputs": [],
   "source": [
    "x[0, 2] # first row, 3rd col"
   ]
  },
  {
   "attachments": {
    "Shape-2.png": {
     "image/png": "[encoded data removed]"
    }
   },
   "cell_type": "markdown",
   "id": "d1863319",
   "metadata": {},
   "source": [
    "![Shape-2.png](attachment:Shape-2.png)\n",
    "\n",
    "2-dimensional: 3 rows (`axis=0`) of 4 columns (`axis=1`) each"
   ]
  },
  {
   "cell_type": "code",
   "execution_count": null,
   "id": "ded6738a-8353-43ce-b426-e1393e69e448",
   "metadata": {},
   "outputs": [],
   "source": [
    "x = np.array([[[111, 112, 113, 114],\n",
    "               [121, 122, 123, 124],\n",
    "               [131, 132, 133, 134]],\n",
    "               \n",
    "              [[211, 212, 213, 214],\n",
    "               [221, 222, 223, 224],\n",
    "               [231, 232, 233, 234]]])\n",
    "x.shape # 2 planes (axis=0), with 3 rows (axis=1) with 4 columns (axis=2) each"
   ]
  },
  {
   "cell_type": "code",
   "execution_count": null,
   "id": "8b7217d5-7680-4d37-82b3-1ec2659bcbcb",
   "metadata": {},
   "outputs": [],
   "source": [
    "x[0] # first plane"
   ]
  },
  {
   "cell_type": "code",
   "execution_count": null,
   "id": "d7828595-d41b-44df-ba9d-e7fa7e40602f",
   "metadata": {},
   "outputs": [],
   "source": [
    "x[1, 0] # second plane, first row"
   ]
  },
  {
   "cell_type": "code",
   "execution_count": null,
   "id": "6e280f73-e52e-4051-b11f-93a8d2e7c3cf",
   "metadata": {},
   "outputs": [],
   "source": [
    "x[0, 1, 2] # first plane, second row, third item"
   ]
  },
  {
   "attachments": {
    "Shape-3.png": {
     "image/png": "[encoded data removed]"
    }
   },
   "cell_type": "markdown",
   "id": "eb48f896",
   "metadata": {},
   "source": [
    "![Shape-3.png](attachment:Shape-3.png)\n",
    "\n",
    "3-dimensional: 2 planes (`axis=0`) with 3 rows (`axis=1`) with 4 columns resp. items (`axis=2`) each"
   ]
  },
  {
   "cell_type": "markdown",
   "id": "cfeb3787-7ded-4ea3-ab34-bfcae2f5272f",
   "metadata": {},
   "source": [
    "Be careful with initializing arrays: if one of the dimensions is not met correctly, then a n-dimensional array of list objects is created:"
   ]
  },
  {
   "cell_type": "code",
   "execution_count": null,
   "id": "510846e2-984a-4adc-867f-6409713a7285",
   "metadata": {},
   "outputs": [],
   "source": [
    "x = np.array ([[[111,112,113],\n",
    "                 [121,122,123],\n",
    "                 [131,132,133]],\n",
    "               \n",
    "             [[211,212,213],\n",
    "                 [221,222,223],\n",
    "                 [231,232,233]],\n",
    "               \n",
    "             [[311,312,313],\n",
    "                 [321,322,323],\n",
    "                 [331,332]]])     # OOPS, the last 'col' is missing\n",
    "x"
   ]
  },
  {
   "cell_type": "code",
   "execution_count": null,
   "id": "71ba3214-2e94-42c4-8033-57237bd8d875",
   "metadata": {},
   "outputs": [],
   "source": [
    "x.shape"
   ]
  },
  {
   "cell_type": "markdown",
   "id": "9e67cb32",
   "metadata": {},
   "source": [
    "You can change the shape of an array with the function `numpy.reshape`. The new shape is given as a tuple of integers, where this new shape has to be compatible with the old shape, i.e. the total number of elements must be the same:"
   ]
  },
  {
   "cell_type": "code",
   "execution_count": null,
   "id": "9e093215",
   "metadata": {
    "tags": []
   },
   "outputs": [],
   "source": [
    "x = np.array([[1, 2, 3, 4, 5], [6, 7, 8, 9, 10], [16, 17, 18, 19, 110]])\n",
    "np.reshape(x, (5,3))"
   ]
  },
  {
   "cell_type": "code",
   "execution_count": null,
   "id": "0fd6f6de-1103-4c57-9918-a2c7b87afada",
   "metadata": {},
   "outputs": [],
   "source": [
    "np.reshape(x, (4,3))"
   ]
  },
  {
   "cell_type": "markdown",
   "id": "b2837af9",
   "metadata": {},
   "source": [
    "You can also leave one dimension out by using `-1`. Then NumPy calculates the last dimension for you:"
   ]
  },
  {
   "cell_type": "code",
   "execution_count": null,
   "id": "e52adc3c",
   "metadata": {},
   "outputs": [],
   "source": [
    "x = np.array([[1, 2, 3, 4, 5], [6, 7, 8, 9, 10], [16, 17, 18, 19, 110]])\n",
    "np.reshape(x, (5,-1))"
   ]
  },
  {
   "cell_type": "code",
   "execution_count": null,
   "id": "2f59d713-22aa-4f44-8d4a-af80fd521dcf",
   "metadata": {},
   "outputs": [],
   "source": [
    "x = np.array([[1, 2, 3, 4, 5], [6, 7, 8, 9, 10], [16, 17, 18, 19, 110]])\n",
    "print(np.reshape(x, (1,-1)))  # same as reshape(x, (1, 15))"
   ]
  },
  {
   "cell_type": "markdown",
   "id": "ce5121c4-ceed-44ad-88bd-167477bece05",
   "metadata": {},
   "source": [
    "Shapes come in handy, when creating and initializing (multi-dimensional) arrays."
   ]
  },
  {
   "cell_type": "markdown",
   "id": "76997d58-f129-4c21-b3b2-12c38cf97067",
   "metadata": {},
   "source": [
    "### Create arrays with shape\n",
    "Often, the elements of an array will be computed after creating the array, but its size is known. Thus, NumPy offers several functions to create arrays with initial placeholder content. These minimize the necessity of growing arrays, an expensive operation."
   ]
  },
  {
   "cell_type": "code",
   "execution_count": null,
   "id": "feed1abb-c2f5-4603-a04b-9ee9b5f65361",
   "metadata": {},
   "outputs": [],
   "source": [
    "x = np.zeros(10) # default element type ist float64\n",
    "print( x, x.dtype )"
   ]
  },
  {
   "cell_type": "code",
   "execution_count": null,
   "id": "2cdb0a11-7e39-4255-baff-5016c6e34798",
   "metadata": {},
   "outputs": [],
   "source": [
    "np.zeros( (5, 12), dtype=np.int16 ) # also specifying the element type"
   ]
  },
  {
   "cell_type": "code",
   "execution_count": null,
   "id": "0ca4016c-a940-4a30-a49a-88f40d3199f0",
   "metadata": {},
   "outputs": [],
   "source": [
    "np.zeros( (3, 4, 5), dtype=bool )"
   ]
  },
  {
   "cell_type": "code",
   "execution_count": null,
   "id": "acf97069-456c-4a49-80d8-e2ce13ab29a6",
   "metadata": {
    "tags": []
   },
   "outputs": [],
   "source": [
    "np.ones((4, 4), dtype=np.int16)"
   ]
  },
  {
   "cell_type": "code",
   "execution_count": null,
   "id": "702d9a0b-5f74-4603-b4a0-901180d8babe",
   "metadata": {
    "tags": []
   },
   "outputs": [],
   "source": [
    "np.ones((4, 8), dtype=bool)"
   ]
  },
  {
   "cell_type": "code",
   "execution_count": null,
   "id": "206065a3-3071-4d8e-8515-b883751864c1",
   "metadata": {},
   "outputs": [],
   "source": [
    "np.full((5, 10), 3.14)"
   ]
  },
  {
   "cell_type": "code",
   "execution_count": null,
   "id": "eaf1822e-bd17-43bb-9284-600cd6151173",
   "metadata": {
    "tags": []
   },
   "outputs": [],
   "source": [
    "np.random.randint(100, size=(3, 15))"
   ]
  },
  {
   "cell_type": "markdown",
   "id": "3aed6603-8f36-4df6-9b06-b1399bece548",
   "metadata": {},
   "source": [
    "### Creating diagonal matrices"
   ]
  },
  {
   "cell_type": "code",
   "execution_count": null,
   "id": "c3549ee6-86ba-4025-8eac-816ef91a7d53",
   "metadata": {},
   "outputs": [],
   "source": [
    "np.eye(4) # 2-d identity matrix "
   ]
  },
  {
   "cell_type": "code",
   "execution_count": null,
   "id": "e94e81d6-6dd2-4711-b3dd-7da547c09f5c",
   "metadata": {
    "tags": []
   },
   "outputs": [],
   "source": [
    "np.diag( [3, 4, 5, 6] )"
   ]
  },
  {
   "cell_type": "markdown",
   "id": "d2a3dded",
   "metadata": {},
   "source": [
    "---\n",
    "<a name=\"indexing\"></a>\n",
    "## [Indexing and Slicing `ndarrays`](#top)\n",
    "\n",
    "As with lists, indexing and slicing also works on arrays with the `[]`-syntax:"
   ]
  },
  {
   "cell_type": "code",
   "execution_count": null,
   "id": "f2615e5e",
   "metadata": {},
   "outputs": [],
   "source": [
    "x = np.arange(10)\n",
    "print(x)\n",
    "print(x[4])\n",
    "print(x[-2])"
   ]
  },
  {
   "cell_type": "markdown",
   "id": "d98e4a3d",
   "metadata": {},
   "source": [
    "When your array has more dimensions, you can index the elements with the comma-separated syntax `[x,y,...]`:"
   ]
  },
  {
   "cell_type": "code",
   "execution_count": null,
   "id": "f69bf99b",
   "metadata": {},
   "outputs": [],
   "source": [
    "x = np.array([[1,2],[3,4]])\n",
    "\n",
    "print(x)\n",
    "print(f'x[1, 0] = {x[1,0]}')\n",
    "print(f'x[0,-1] = {x[0,-1]}')"
   ]
  },
  {
   "cell_type": "markdown",
   "id": "d907233b",
   "metadata": {},
   "source": [
    "If you use less indices than the dimension, you get a subdimensional array. Here it is important to note, that the return array is a **view and not a copy** of the original array:"
   ]
  },
  {
   "cell_type": "code",
   "execution_count": null,
   "id": "1bacc394-18d9-43f6-8095-91dee1aa6d2d",
   "metadata": {},
   "outputs": [],
   "source": [
    "x = np.array([[1.1, 1.2, 1.3, 1.4], [2.1, 2.2, 2.3, 2.4], [3.1, 3.2, 3.3, 3.4]])\n",
    "x"
   ]
  },
  {
   "cell_type": "code",
   "execution_count": null,
   "id": "6008cea7-5e09-47c0-8df6-f2c5b3641d25",
   "metadata": {},
   "outputs": [],
   "source": [
    "x[0] # the first 'line'"
   ]
  },
  {
   "cell_type": "markdown",
   "id": "d0c7a8e0",
   "metadata": {},
   "source": [
    "> Note: You can also access the elements on a multidimensional array like in C, by accessing a subdimensional array and then use an index on this subdimension, i.e `x[1,3] == x[1][3]`. But the NumPy comma-seperated syntax is more efficient, because it does not create a new temporary array."
   ]
  },
  {
   "cell_type": "code",
   "execution_count": null,
   "id": "76044136-c9a7-417c-b7d6-c91481a748d7",
   "metadata": {},
   "outputs": [],
   "source": [
    "x[0, 1] # second element in the first line"
   ]
  },
  {
   "cell_type": "code",
   "execution_count": null,
   "id": "492b6744-11bd-4e1a-b429-67ad26a99489",
   "metadata": {},
   "outputs": [],
   "source": [
    "x[2, 3] # 4.th element of the third line"
   ]
  },
  {
   "cell_type": "markdown",
   "id": "de8424d7-4772-497b-b3ec-a9ffc74008d3",
   "metadata": {},
   "source": [
    "Also slicing is possible like you know it from the Python list with the `i:k:j`-syntax, where `i` is the start index, `j` is the stopping index (excluded) and `k` is the step size:"
   ]
  },
  {
   "cell_type": "code",
   "execution_count": null,
   "id": "1b0f3aa1-fd61-45b6-b365-1007e90cc56f",
   "metadata": {},
   "outputs": [],
   "source": [
    "x[1:3] # the second and third line"
   ]
  },
  {
   "cell_type": "code",
   "execution_count": null,
   "id": "707bae8b-fdcd-48f6-b4ea-5cabf229837c",
   "metadata": {},
   "outputs": [],
   "source": [
    "x[1, 1:3] # second and third element of the second line"
   ]
  },
  {
   "attachments": {
    "Slicing-1.png": {
     "image/png": "[encoded data removed]"
    }
   },
   "cell_type": "markdown",
   "id": "8d0ab991",
   "metadata": {},
   "source": [
    "![Slicing-1.png](attachment:Slicing-1.png)"
   ]
  },
  {
   "cell_type": "code",
   "execution_count": null,
   "id": "5cbbe22a-8235-47e0-84dd-11b2c866b0c5",
   "metadata": {},
   "outputs": [],
   "source": [
    "x[0:2, 2:] # 2-d array with the 3rd till the last element of each of the first two lines"
   ]
  },
  {
   "attachments": {
    "Slicing-2.png": {
     "image/png": "[encoded data removed]"
    }
   },
   "cell_type": "markdown",
   "id": "37cd6fd4",
   "metadata": {},
   "source": [
    "![Slicing-2.png](attachment:Slicing-2.png)"
   ]
  },
  {
   "cell_type": "code",
   "execution_count": null,
   "id": "04393243-4ca4-4038-985e-7c2ecf21d4d3",
   "metadata": {},
   "outputs": [],
   "source": [
    "x[:, 1] # the second element of each of the lines"
   ]
  },
  {
   "attachments": {
    "Slicing-3.png": {
     "image/png": "[encoded data removed]"
    }
   },
   "cell_type": "markdown",
   "id": "f4106c22",
   "metadata": {},
   "source": [
    "![Slicing-3.png](attachment:Slicing-3.png)"
   ]
  },
  {
   "cell_type": "code",
   "execution_count": null,
   "id": "4e8188ed-3e7c-4d5c-a762-41b66dc06025",
   "metadata": {},
   "outputs": [],
   "source": [
    "x[-1, -2:] # the last two elements in the last line"
   ]
  },
  {
   "cell_type": "code",
   "execution_count": null,
   "id": "445f6dca",
   "metadata": {},
   "outputs": [],
   "source": [
    "x = np.array([0, 1, 2, 3, 4, 5, 6, 7, 8, 9])\n",
    "x[1:7:2]"
   ]
  },
  {
   "cell_type": "markdown",
   "id": "3b8a715d",
   "metadata": {},
   "source": [
    "Slicing can be applied to every dimension of the `ndarray`:"
   ]
  },
  {
   "cell_type": "code",
   "execution_count": null,
   "id": "5d21d647",
   "metadata": {},
   "outputs": [],
   "source": [
    "x = np.array([[1, 2, 3, 4, 5], [6, 7, 8, 9, 10], [11, 12, 13, 14, 15]])\n",
    "x[1:3, 1:-1]"
   ]
  },
  {
   "cell_type": "markdown",
   "id": "84d7a71d-4a3f-4de2-9a0d-f2c63520c899",
   "metadata": {},
   "source": [
    "### Slices with steps"
   ]
  },
  {
   "cell_type": "code",
   "execution_count": null,
   "id": "207f5f14-bd03-4a9a-b763-e07f4b743a10",
   "metadata": {},
   "outputs": [],
   "source": [
    "# slices can also define a stepwidth\n",
    "y = np.array([1, 2, 3, 4, 5, 6, 7, 8, 9])\n",
    "y[1:7:2] # [start, stop, step] => every second element between the second and 7th (last excluded as always)"
   ]
  },
  {
   "cell_type": "code",
   "execution_count": null,
   "id": "bce6b718-d27e-4957-95e6-4a1249c9a33c",
   "metadata": {},
   "outputs": [],
   "source": [
    "#  every third element backwards\n",
    "y[-1::-3]"
   ]
  },
  {
   "cell_type": "code",
   "execution_count": null,
   "id": "1b9f4074-2182-4eb9-b055-e18d21728993",
   "metadata": {},
   "outputs": [],
   "source": [
    "# the array backwards\n",
    "y[-1::-1]"
   ]
  },
  {
   "cell_type": "markdown",
   "id": "8f8e2be9-fc0e-4ecd-a0a2-f07e33d75756",
   "metadata": {},
   "source": [
    "Of course steps in slices are possible in multi-dimensional arrays as well."
   ]
  },
  {
   "cell_type": "code",
   "execution_count": null,
   "id": "0d4fc64a-1d8b-4cff-aaf8-df49a00edf32",
   "metadata": {},
   "outputs": [],
   "source": [
    "x = np.arange(28).reshape(4, 7)\n",
    "x"
   ]
  },
  {
   "cell_type": "code",
   "execution_count": null,
   "id": "17add05d-9711-4866-bb45-3dc005728228",
   "metadata": {},
   "outputs": [],
   "source": [
    "# every third element in every second line in reverse order\n",
    "x[::-2, ::-3]"
   ]
  },
  {
   "cell_type": "markdown",
   "id": "215f1962-1c5a-4efe-b528-05db525d35ce",
   "metadata": {},
   "source": [
    "### Integer array indexing\n",
    "As a generalization of slicing, integer array indexing allows for the selection of arbitrary items in the array based on their N-dimensional index. Each integer array represents a number of indexes into the corresponsing dimension."
   ]
  },
  {
   "cell_type": "code",
   "execution_count": null,
   "id": "b88aea0a-e673-415d-91a0-e70a8cad3ce1",
   "metadata": {},
   "outputs": [],
   "source": [
    "x = np.array([[1.1, 1.2, 1.3, 1.4], [2.1, 2.2,2.3, 2.4], [3.1, 3.2, 3.3, 3.4]])\n",
    "x"
   ]
  },
  {
   "cell_type": "code",
   "execution_count": null,
   "id": "935418c3-86e3-4d96-bee9-fce4ddff3df7",
   "metadata": {},
   "outputs": [],
   "source": [
    "x[ [0, 2] ] # adresses first and third row (first dimension)"
   ]
  },
  {
   "cell_type": "code",
   "execution_count": null,
   "id": "b90e0466-7365-4b72-b0bb-e65ee6e50fc5",
   "metadata": {},
   "outputs": [],
   "source": [
    "#select a different value out of every column:\n",
    "x[ [0, 1, 2], [0, 3, 2] ]"
   ]
  },
  {
   "cell_type": "code",
   "execution_count": null,
   "id": "6d0686bc-76ca-4967-85c9-1ad793cb48e7",
   "metadata": {},
   "outputs": [],
   "source": [
    "#\"resorting\" of lines\n",
    "x[ [0, 2, 1] ]"
   ]
  },
  {
   "cell_type": "code",
   "execution_count": null,
   "id": "37ec19aa-3ee9-4401-aa41-68834f017c26",
   "metadata": {},
   "outputs": [],
   "source": [
    "# We can also duplicate lines with this\n",
    "x[ [0, 1, 2, 1, 2] ]"
   ]
  },
  {
   "cell_type": "code",
   "execution_count": null,
   "id": "57eedb93-243e-4087-a21d-0cdc05d362d0",
   "metadata": {},
   "outputs": [],
   "source": [
    "# or rearrange items within lines\n",
    "x[ [1], [3, 2, 1, 0] ]"
   ]
  },
  {
   "cell_type": "markdown",
   "id": "789f0382-a3b2-4824-ae8c-c6d2a18d244f",
   "metadata": {},
   "source": [
    "### Boolean indexing"
   ]
  },
  {
   "cell_type": "code",
   "execution_count": null,
   "id": "c3604bbf-cf16-4f28-9689-db3933dc0907",
   "metadata": {},
   "outputs": [],
   "source": [
    "x = np.array([[1.1, 1.2, 1.3, 1.4], [2.1, 2.2, 2.3, 2.4], [3.1, 3.2, 3.3, 3.4]])\n",
    "x"
   ]
  },
  {
   "cell_type": "code",
   "execution_count": null,
   "id": "7f9b4684-9ac9-4b14-b6b0-aecd0a0b7491",
   "metadata": {},
   "outputs": [],
   "source": [
    "index = x > 2.1\n",
    "index # pattern for values > 2.1"
   ]
  },
  {
   "cell_type": "code",
   "execution_count": null,
   "id": "c6c27ae7-418a-478e-be11-098fbef96cb6",
   "metadata": {},
   "outputs": [],
   "source": [
    "#note that the index must be an array of boolean!\n",
    "x[ index ]"
   ]
  },
  {
   "cell_type": "code",
   "execution_count": null,
   "id": "44531043-22c9-4552-940e-df8b9502d5b1",
   "metadata": {},
   "outputs": [],
   "source": [
    "index = 10*x % 2 == 0\n",
    "index"
   ]
  },
  {
   "cell_type": "code",
   "execution_count": null,
   "id": "a51aa126-c170-426d-97c5-d80924803849",
   "metadata": {},
   "outputs": [],
   "source": [
    "x[ index ].reshape( 3, 2) # even decimal part elements reshaped as 3x2 array"
   ]
  },
  {
   "cell_type": "markdown",
   "id": "88d8f4a9-9c90-45eb-bea7-94c1a4dbd844",
   "metadata": {},
   "source": [
    "### Combining advanced indexing\n",
    "You can also combine basic  and advanced indexing, e.g. slicing and integer array indexing:"
   ]
  },
  {
   "cell_type": "code",
   "execution_count": null,
   "id": "62277cc0-81be-4fec-8f52-2471779eade8",
   "metadata": {},
   "outputs": [],
   "source": [
    "# rearrange items within specified lines\n",
    "x[ 0:2, [3, 1, 2, 0] ]"
   ]
  },
  {
   "cell_type": "markdown",
   "id": "4f460e38-c1ca-46e7-91f6-552ddcce72b7",
   "metadata": {
    "tags": []
   },
   "source": [
    "---\n",
    "<a name=\"arrayManipulation\"></a>\n",
    "## [Array manipulation](#top)\n",
    "\n",
    "### Assigning values\n",
    "As with any other data structure you can directly assign valuers or substructures. "
   ]
  },
  {
   "cell_type": "code",
   "execution_count": null,
   "id": "bba559c5-c766-4694-9bed-62ceb161d983",
   "metadata": {},
   "outputs": [],
   "source": [
    "x = np.array([[1.1, 1.2, 1.3, 1.4], [2.1, 2.2,2.3, 2.4], [3.1, 3.2, 3.3, 3.4]])\n",
    "x"
   ]
  },
  {
   "cell_type": "markdown",
   "id": "d3245c02-8e8d-4876-b6e2-1de72676c511",
   "metadata": {},
   "source": [
    "To assign one value:"
   ]
  },
  {
   "cell_type": "code",
   "execution_count": null,
   "id": "1d1aa54b-2661-44b1-9d17-e30c60671c9b",
   "metadata": {},
   "outputs": [],
   "source": [
    "x[1, 1] = 98\n",
    "x"
   ]
  },
  {
   "cell_type": "markdown",
   "id": "b74b171e-fbd2-4940-b915-ca9d1c59d2d3",
   "metadata": {},
   "source": [
    "You can also assign a substructure such as a row:"
   ]
  },
  {
   "cell_type": "code",
   "execution_count": null,
   "id": "1fcafabd-fd7b-4d67-8882-771bacefa4c3",
   "metadata": {},
   "outputs": [],
   "source": [
    "x[1] = [201, 202, 203, 204]\n",
    "x"
   ]
  },
  {
   "cell_type": "markdown",
   "id": "8b5328d9-a008-4f2b-88f7-0ae27c4fb2a1",
   "metadata": {},
   "source": [
    "... or a column:"
   ]
  },
  {
   "cell_type": "code",
   "execution_count": null,
   "id": "7ea332e6-2c8c-46ba-8771-521206ea1d4c",
   "metadata": {},
   "outputs": [],
   "source": [
    "x[:,1] = [102, 202, 302]\n",
    "x"
   ]
  },
  {
   "cell_type": "markdown",
   "id": "a85fcb85-2f06-4281-9255-09fe4af85094",
   "metadata": {},
   "source": [
    "#### Reference semantics (aliasing)\n",
    ">__Careful:__ Slicing just creates a *view* on the existing array object! This is different to lists!"
   ]
  },
  {
   "cell_type": "code",
   "execution_count": null,
   "id": "097549ab-9d49-4e07-8956-319d4cdfdcd3",
   "metadata": {},
   "outputs": [],
   "source": [
    "x = np.array(\n",
    "    [[1,2,3,4],\n",
    "     [5,6,7,8],\n",
    "     [9,10,11,12]])\n",
    "y = x[1] # y references line 2 of the 2d-array x\n",
    "y"
   ]
  },
  {
   "cell_type": "code",
   "execution_count": null,
   "id": "66101fb5-c2ba-47ce-ac83-c9e95e66f78b",
   "metadata": {},
   "outputs": [],
   "source": [
    "y[1:-1] = 98\n",
    "y"
   ]
  },
  {
   "cell_type": "code",
   "execution_count": null,
   "id": "e1eeaed2-ab02-4458-8683-2c2faf7e9e95",
   "metadata": {},
   "outputs": [],
   "source": [
    "x"
   ]
  },
  {
   "cell_type": "markdown",
   "id": "18278b88-08ce-426a-bbe0-aecf8ee4eac6",
   "metadata": {},
   "source": [
    "If you want to compute some values based on a specific line of the matrix without affecting the line within the original matrix, you have to `copy` it:"
   ]
  },
  {
   "cell_type": "code",
   "execution_count": null,
   "id": "8fe45fc3-8536-422f-bbae-c1e74465ca68",
   "metadata": {},
   "outputs": [],
   "source": [
    "y = x[1].copy()\n",
    "print('copied line:', y)\n",
    "y = [42, 42, 42, 42]\n",
    "print('y changed to:', y)\n",
    "print('x not influenced:\\n', x)"
   ]
  },
  {
   "cell_type": "markdown",
   "id": "a30d59d6-31d7-473c-a60c-d48fda1f351f",
   "metadata": {
    "tags": []
   },
   "source": [
    "### Append\n",
    "One way to manipulate an array is by appending values to its end. This can be done with the function `numpy.append`. It requires three arguments: `arr`, `values`, `axis`.  `arr` is the array we want to change. It is important to note that the values will not be appended to this array, but to a new copy of the given array. `values` is an array containing the values which should be appended. This has to have the same shape as `arr` (exluding the axis-dimension). The optional argument `axis` gives the dimension (counting from 0) along which the values are appended. If this argument is not provided, `arr` and `values` are flattened into a 1-D-array"
   ]
  },
  {
   "cell_type": "markdown",
   "id": "d5b2d4b0",
   "metadata": {},
   "source": [
    "> Note: The required type of the arguments `arr` and `values` is not `ndarray` but `array_like`. This means that you can also give this function any object, that you could use for creation with `numpy.array` like a Python list. This holds for most of the NumPy functions."
   ]
  },
  {
   "cell_type": "code",
   "execution_count": null,
   "id": "3b7d5770-429a-4ca7-83bc-f33b7297251a",
   "metadata": {},
   "outputs": [],
   "source": [
    "x = np.array([[1, 2, 3], [4, 5, 6]])\n",
    "x"
   ]
  },
  {
   "cell_type": "code",
   "execution_count": null,
   "id": "1d8e63dd",
   "metadata": {
    "tags": []
   },
   "outputs": [],
   "source": [
    "np.append(x, [[7, 8, 9]], axis=0)"
   ]
  },
  {
   "cell_type": "code",
   "execution_count": null,
   "id": "2371a2c8",
   "metadata": {},
   "outputs": [],
   "source": [
    "np.append(x, [[7, 8, 9], [10, 11, 12]], axis=0)"
   ]
  },
  {
   "cell_type": "code",
   "execution_count": null,
   "id": "b8c6f164",
   "metadata": {},
   "outputs": [],
   "source": [
    "np.append(x, [[4, 5, 6], [7, 8, 9]], axis=1)"
   ]
  },
  {
   "cell_type": "code",
   "execution_count": null,
   "id": "55cbe158",
   "metadata": {
    "tags": []
   },
   "outputs": [],
   "source": [
    "np.append(x, [7, 8, 9]) # no axis flattens (reshapes) arguments"
   ]
  },
  {
   "cell_type": "markdown",
   "id": "a4275361",
   "metadata": {},
   "source": [
    "### Join\n",
    "\n",
    "To join two or more arrays we can use the function `numpy.concatenate`. In the arguments you sepcify a sequence of arrays which should be joined and the axis along which the elements are joined. Again, if you leave out the axis, the elements are flattened before they are concatenated:"
   ]
  },
  {
   "cell_type": "code",
   "execution_count": null,
   "id": "835c2666",
   "metadata": {},
   "outputs": [],
   "source": [
    "a = np.array([[1, 2], [3, 4]])\n",
    "b = np.array([[5, 6], [7, 8]])\n",
    "np.concatenate((a, b), axis=0)"
   ]
  },
  {
   "cell_type": "code",
   "execution_count": null,
   "id": "d92b95c1",
   "metadata": {},
   "outputs": [],
   "source": [
    "np.concatenate((a, b), axis=1)"
   ]
  },
  {
   "cell_type": "code",
   "execution_count": null,
   "id": "03d73c0f",
   "metadata": {},
   "outputs": [],
   "source": [
    "np.concatenate((a, b), axis=None)"
   ]
  },
  {
   "cell_type": "markdown",
   "id": "2a10cdd3",
   "metadata": {},
   "source": [
    "Another way to join arrays is the function `numpy.stack`. The difference here is, that the elements are not joined along an existing axis like in `numpy.concatenate` but along a new axis. This means joining 1-D-arrays will create a new 2-D-array, joining 2-D-arrays will create a 3-D-array ..."
   ]
  },
  {
   "cell_type": "code",
   "execution_count": null,
   "id": "f2e5f905",
   "metadata": {},
   "outputs": [],
   "source": [
    "a = np.array([[1, 2], [3, 4]])\n",
    "b = np.array([[5, 6], [7, 8]])\n",
    "np.stack((a, b), axis=0)"
   ]
  },
  {
   "cell_type": "code",
   "execution_count": null,
   "id": "36f6446b",
   "metadata": {},
   "outputs": [],
   "source": [
    "np.stack((a, b), axis=1)"
   ]
  },
  {
   "cell_type": "markdown",
   "id": "0d2ec44d",
   "metadata": {},
   "source": [
    "### Split\n",
    "The reverse opration of joining is splitting. For this purpose we can use the function `numpy.split` which splits a given array into smaller arrays and returns them as a list of arrays. It takes as arguments the array which should be split, the number of subarrays that the result should contain and the axis along which the array is split. The array gets split into equally sized arrays. If this is not possible an error is raised:"
   ]
  },
  {
   "cell_type": "code",
   "execution_count": null,
   "id": "8989a565",
   "metadata": {},
   "outputs": [],
   "source": [
    "arr = np.array([[2,3,4,5],[5,6,7,5],[8,9,10,5],[8,9,10,5]])\n",
    "print(arr)\n",
    "np.split(arr, 2, axis=1)  # change the axis and observe the split"
   ]
  },
  {
   "cell_type": "code",
   "execution_count": null,
   "id": "ec3eca69-ee08-47c7-bd0e-8f0b1fba6174",
   "metadata": {},
   "outputs": [],
   "source": [
    "arr = np.array([[2,3,4,5],[5,6,7,5],[8,9,10,5],[8,9,10,5]])\n",
    "print(arr)\n",
    "np.split(arr, 4, axis=0)  # change the axis and observe the split"
   ]
  },
  {
   "cell_type": "markdown",
   "id": "96de2d1c",
   "metadata": {},
   "source": [
    "You can also specify the size of each subarray explictly by giving a sorted 1D-array of integers, where each element indicate where along the axis the array is split. For example, `[2, 3]` would, for axis=0, result in `[arr[:2], arr[2:3], arr[3:]`"
   ]
  },
  {
   "cell_type": "code",
   "execution_count": 84,
   "id": "16f46fdc",
   "metadata": {},
   "outputs": [
    {
     "name": "stdout",
     "output_type": "stream",
     "text": [
      "[array([1, 2]), array([3]), array([4, 5])]\n"
     ]
    },
    {
     "data": {
      "text/plain": [
       "(5,)"
      ]
     },
     "execution_count": 84,
     "metadata": {},
     "output_type": "execute_result"
    }
   ],
   "source": [
    "arr = np.array([1,2,3,4,5])\n",
    "print(np.split(arr, [2,3], axis=0))\n",
    "arr.shape"
   ]
  },
  {
   "cell_type": "markdown",
   "id": "23586fdb",
   "metadata": {},
   "source": [
    "### Transpose\n",
    "\n",
    "Another way to manipulate an array is to transpose it, which means to change the axes. For a 1D-array this does not change the array, because there is only one axis. For a 2D-array the result is the normal Matrix-Transposition, i.e flipping along the diagonal. For higher dimensions you can use the optional argument `axes` to explicitly give the permutation of the axes as a tuple or list of integers $[i_1,i_2,...,i_n]$ where $n$ is the number of dimensions of the array and the sequence is a correct permutation of $[0,1,...n-1]$. The $k$’th axis of the result array will correspond to the axis numbered $i_k$ of the input array. If not specified the axes are reversed:"
   ]
  },
  {
   "cell_type": "code",
   "execution_count": null,
   "id": "420c0eee",
   "metadata": {},
   "outputs": [],
   "source": [
    "a = np.array([[1, 2], [3, 4]])\n",
    "a"
   ]
  },
  {
   "cell_type": "code",
   "execution_count": null,
   "id": "f8bb4467",
   "metadata": {},
   "outputs": [],
   "source": [
    "np.transpose(a)"
   ]
  },
  {
   "cell_type": "code",
   "execution_count": null,
   "id": "600d858a",
   "metadata": {},
   "outputs": [],
   "source": [
    "a = np.array([ [[1],[2]], [[3],[4]], [[5],[6]], [[7],[8]] ])\n",
    "print(a)\n",
    "np.transpose(a, (1, 2, 0))"
   ]
  },
  {
   "cell_type": "markdown",
   "id": "d76bdca6",
   "metadata": {},
   "source": [
    "### Sorting\n",
    "\n",
    "The last array manipulation function we have a look at is `numpy.sort`. As the name says, it returns a sorted copy of the array. The default algorithm which is used is quicksort, but you can choose from {‘quicksort’, ‘mergesort’, ‘heapsort’, ‘stable’} with the optional argument `kind`. You can also specify the axis along which the array is sorted, if the axis is `None`, the array is flattened before sorting. The default axis is `-1` i.e. the last axis:"
   ]
  },
  {
   "cell_type": "code",
   "execution_count": null,
   "id": "fa28ff88",
   "metadata": {},
   "outputs": [],
   "source": [
    "a = np.array([[6,4,0],[3,1,2],[9,2,5]])\n",
    "np.sort(a)"
   ]
  },
  {
   "cell_type": "code",
   "execution_count": null,
   "id": "3d4d6931-456f-4127-9dd9-1c860662d671",
   "metadata": {
    "tags": []
   },
   "outputs": [],
   "source": [
    "a = np.array([[6,4,0],[3,1,2],[9,2,5]])\n",
    "np.sort(a, axis=0)"
   ]
  },
  {
   "cell_type": "markdown",
   "id": "cbae8433",
   "metadata": {},
   "source": [
    "---\n",
    "<a name=\"broadcasting\"></a>\n",
    "## [Vectorization and Broadcasting](#top)\n",
    "\n",
    "Let's assume we have a vector and want to multiply it by a scalar:\n",
    "\n",
    "$\\left(\n",
    "\\begin{array}{c}\n",
    "x\\\\\n",
    "y\\\\\n",
    "z\\\\\n",
    "\\end{array}\n",
    "\\right) \\cdot a = \n",
    "\\left(\n",
    "\\begin{array}{c}\n",
    "x \\cdot a\\\\\n",
    "y \\cdot a\\\\\n",
    "z \\cdot a\\\\\n",
    "\\end{array}\n",
    "\\right)$\n",
    "\n",
    "If we want to implement this in Python (without NumPy) we represent the vector as a list and use a loop to multiply each item with the scalar:"
   ]
  },
  {
   "cell_type": "code",
   "execution_count": null,
   "id": "3ed611ab",
   "metadata": {},
   "outputs": [],
   "source": [
    "x = 2; y = 3; z = 2\n",
    "a = 2\n",
    "vector = [x, y, z]\n",
    "\n",
    "for i, el in enumerate(vector):\n",
    "    vector[i] = vector[i]*a\n",
    "    \n",
    "vector"
   ]
  },
  {
   "cell_type": "markdown",
   "id": "9f9be081",
   "metadata": {},
   "source": [
    "But as we already know, Python loops are quite slow compared to other languages (which is mainly caused by the dynamically typed nature of Python). This will be important when the vectors get bigger. With NumPy we can do this with a much better preformance and quite easy using the built-in scalar-multiplication:"
   ]
  },
  {
   "cell_type": "code",
   "execution_count": null,
   "id": "3eaf4839",
   "metadata": {},
   "outputs": [],
   "source": [
    "vector = np.array([x, y, z])\n",
    "vector * a"
   ]
  },
  {
   "cell_type": "code",
   "execution_count": null,
   "id": "f8d609b9-4ecb-495f-b9a3-81a9097aaba7",
   "metadata": {},
   "outputs": [],
   "source": [
    "a * vector  # communitative"
   ]
  },
  {
   "cell_type": "markdown",
   "id": "16ad092c-4271-47e2-bdf1-13802cf60fcc",
   "metadata": {},
   "source": [
    "But how does this work without iterating over the elements in a loop? Actually, there are still loops involved! Under the hood NumPy uses loops to calculate the multiplication. But because NumPy uses pre-compiled and optimized code written in C and can directly adress the elements, it can perform such a loop much faster. This means we are avoiding (slow Python) loops by delegating the computations to NumPy. This is called **vectorization**. \n",
    "\n",
    "To be more precise, the term vectorization means to apply a function simultaneously to many values instead of a single value, so that we do not have to loop over them. Of course saying \"simultaneously\" is only the Python view on it, internally there are still many loops happening, but we as Python programmers do not have to think about this. From our view the function is applied to all elements of the array without a loop, denominated by `vector * scalar`. This also reflects the notation of the mathematical equation and therefore is more intuitive. This means vectorization does not only make our code faster, but also more readable and shorter. "
   ]
  },
  {
   "cell_type": "markdown",
   "id": "99b51451-4b3a-4c3b-bc39-44f12d1f5c68",
   "metadata": {},
   "source": [
    "**Example**: a sequence of temperature values:"
   ]
  },
  {
   "cell_type": "code",
   "execution_count": null,
   "id": "233c8ab3-d7a5-46ef-994e-ae6229549782",
   "metadata": {},
   "outputs": [],
   "source": [
    "# Celsius temperature from 0:00 - 14:00\n",
    "cValues = [25.3, 24.7, 24.3, 23.9, 22.7, 22.4, 21.8, 22.5, 25.3, 26.7, 28.2, 29.7, 30.5, 31.8, 33.6]; \n",
    "C = np.array( cValues ) # represented as an NumPy array\n",
    "\n",
    "print( type( cValues ), cValues )\n",
    "print( type( C ), C )"
   ]
  },
  {
   "cell_type": "markdown",
   "id": "89064bd8-5ac4-4211-abbd-1be24f77f119",
   "metadata": {},
   "source": [
    "So far, it looks pretty similar. Now let's convert these values to Fahrenheit. With lists we use list comprehension (which internally loops over each list element), for the array that is a scalar vector operation:"
   ]
  },
  {
   "cell_type": "code",
   "execution_count": null,
   "id": "510352b4-d6d4-4cda-97bc-2eed8ace093a",
   "metadata": {},
   "outputs": [],
   "source": [
    "fValues = [ round(x * 9/5 + 32,2) for x in cValues] \n",
    "print('list:', fValues)\n",
    "\n",
    "F = C * 9/5 + 32\n",
    "print('array', F )"
   ]
  },
  {
   "cell_type": "markdown",
   "id": "42adf7ee-84ab-4e63-bde1-cb0799a95685",
   "metadata": {},
   "source": [
    "The same is true for **matrix operations**. We can easily add two matrices without an externally visible loop:"
   ]
  },
  {
   "cell_type": "code",
   "execution_count": null,
   "id": "3125f9c4",
   "metadata": {},
   "outputs": [],
   "source": [
    "m1 = np.array([[1, 2],[3, 4],[5, 6]])\n",
    "m2 = np.array([[10, 20],[30, 40],[50, 60]])\n",
    "\n",
    "m1 + m2"
   ]
  },
  {
   "cell_type": "markdown",
   "id": "6114fd97-7d3e-4491-a4f3-103cb93f3381",
   "metadata": {},
   "source": [
    "You can use all the operators for adding, subtracting, multiplying and dividing. The are also availbale as in-place operators:"
   ]
  },
  {
   "cell_type": "code",
   "execution_count": null,
   "id": "c40db124-4d4a-450d-a0ce-55c1a086e1b4",
   "metadata": {},
   "outputs": [],
   "source": [
    "x = np.array([[1,2],[3,4]])\n",
    "y = np.array([[5,6],[7,8]])\n",
    "print('x =\\n', x)\n",
    "print('y =\\n', y)\n",
    "x *= y\n",
    "print('x = x * y\\n', x)\n",
    "x //= y\n",
    "print('x = x // y\\n', x)"
   ]
  },
  {
   "cell_type": "markdown",
   "id": "c215fd46",
   "metadata": {},
   "source": [
    "But what happens when the matrices/arrays have different shapes? Can we add a one-dimensional vector with a two-dimensional matrix? Formally (mathematically) the operation is not defined. But since it is practical NumPy stretches the vector to a matrix of the needed shape:"
   ]
  },
  {
   "cell_type": "code",
   "execution_count": null,
   "id": "3dea70a3",
   "metadata": {},
   "outputs": [],
   "source": [
    "m = np.array([[1, 2],[3, 4],[5, 6]])\n",
    "v = np.array([10, 20])\n",
    "\n",
    "m + v"
   ]
  },
  {
   "attachments": {
    "Broadcast.png": {
     "image/png": "[encoded data removed]"
    }
   },
   "cell_type": "markdown",
   "id": "531ed946",
   "metadata": {},
   "source": [
    "We can apply vectorized arithmetic operations on arrays with different shapes. Even though the Matrix `m` has more dimensions than `v`, the addition of `v` is simply applied to every row of `m`. `v` is internally stretched to a higher dimensional matrix, where each row is equal to `v`:\n",
    "\n",
    "![Broadcast.png](attachment:Broadcast.png)\n",
    "\n",
    "This stretching of compatible dimensions is called **Broadcasting**. We call two dimensions compatible when\n",
    "\n",
    "* they are equal, or\n",
    "* one of them is 1."
   ]
  },
  {
   "cell_type": "code",
   "execution_count": null,
   "id": "946a65fb-1e73-4d06-bf8b-be08ce4b0d24",
   "metadata": {},
   "outputs": [],
   "source": [
    "m1 = np.array([[1, 2]])\n",
    "m3 = np.array([[10, 20],[30, 40],[50, 60]])\n",
    "\n",
    "m1 + m3"
   ]
  },
  {
   "cell_type": "code",
   "execution_count": null,
   "id": "d999702e-8926-49a6-a6c5-d0e53b719c3c",
   "metadata": {},
   "outputs": [],
   "source": [
    "m1 * m3"
   ]
  },
  {
   "cell_type": "markdown",
   "id": "1e8419f9-ae40-4723-826c-ac5ee4ef1849",
   "metadata": {},
   "source": [
    "The following operation cannot be broadcasted, because their shapes are not compatible:"
   ]
  },
  {
   "cell_type": "code",
   "execution_count": null,
   "id": "fcbb65dc-313a-4adf-aa90-ec1249118534",
   "metadata": {},
   "outputs": [],
   "source": [
    "m2 = np.array([[1, 2],[3, 4]])\n",
    "m3 = np.array([[10, 20],[30, 40],[50, 60]])\n",
    "\n",
    "m2 + m3"
   ]
  },
  {
   "cell_type": "markdown",
   "id": "924995e8",
   "metadata": {},
   "source": [
    "### Example functions\n",
    "\n",
    "Now that we understand vectorization and broadcasting we can have a look at some functions where we apply those concepts."
   ]
  },
  {
   "cell_type": "markdown",
   "id": "72c3c61e",
   "metadata": {},
   "source": [
    "The function `numpy.abs` returns the absolute value of a number. This we can apply to every element of an array with vectorization:"
   ]
  },
  {
   "cell_type": "code",
   "execution_count": null,
   "id": "f34f54ee",
   "metadata": {
    "tags": []
   },
   "outputs": [],
   "source": [
    "a = np.array([-1,2,-3,4])\n",
    "\n",
    "np.abs(a)"
   ]
  },
  {
   "cell_type": "markdown",
   "id": "983f1ea4",
   "metadata": {},
   "source": [
    "Another function is `numpy.log` which returns the natural logarithm of a number. By deviding it with `log(2)` we get the logarithm to base 2:"
   ]
  },
  {
   "cell_type": "code",
   "execution_count": null,
   "id": "0c1f10ff",
   "metadata": {},
   "outputs": [],
   "source": [
    "a = np.array([1,2,4,8,16,32,64])\n",
    "\n",
    "np.log(a)/np.log(2)"
   ]
  },
  {
   "cell_type": "markdown",
   "id": "91f2d081-21c7-4450-9a55-bfb9d3e179b8",
   "metadata": {},
   "source": [
    "Some more are `numpy.sqrt()` and `numpy.exp()`:"
   ]
  },
  {
   "cell_type": "code",
   "execution_count": null,
   "id": "3e6baf09-5c85-4b70-b2f0-fc3570e24ff0",
   "metadata": {},
   "outputs": [],
   "source": [
    "a = np.array([1,4,9,16,25,36])\n",
    "np.sqrt(a)"
   ]
  },
  {
   "cell_type": "code",
   "execution_count": null,
   "id": "5723af1d-aac4-4480-9f8f-9e339bcf2425",
   "metadata": {
    "tags": []
   },
   "outputs": [],
   "source": [
    "np.exp(a)"
   ]
  },
  {
   "cell_type": "markdown",
   "id": "e33e7c99-a1d7-465f-a685-19b49ed73875",
   "metadata": {},
   "source": [
    "<div class=\"learnmore\">Looking for a complete listing? See <a href=\"https://numpy.org/doc/stable/reference/routines.math.html\">NumPy - Mathematical functions</a>.</div>"
   ]
  },
  {
   "cell_type": "markdown",
   "id": "676aaa5d",
   "metadata": {},
   "source": [
    "---\n",
    "<a name=\"io\"></a>\n",
    "## [Array I/O](#top)\n",
    "\n",
    "Arrays can also be read from or written to files. `numpy.loadtxt` can read text- or csv-files withoptional arguments `delimiter` (default is whitespace) and the data-type `dtype`:"
   ]
  },
  {
   "cell_type": "code",
   "execution_count": null,
   "id": "08343cc2",
   "metadata": {
    "tags": []
   },
   "outputs": [],
   "source": [
    "np.loadtxt(\"data/numbers.csv\", delimiter = \",\")"
   ]
  },
  {
   "cell_type": "markdown",
   "id": "6435287c",
   "metadata": {},
   "source": [
    ">Note that our numbers are automatically interpreted as `floats`, but can be casted to integer with the `dtype`-argument:"
   ]
  },
  {
   "cell_type": "code",
   "execution_count": null,
   "id": "f82cab59",
   "metadata": {},
   "outputs": [],
   "source": [
    "np.loadtxt(\"data/numbers.csv\", delimiter = \",\", dtype=np.int_)"
   ]
  },
  {
   "cell_type": "markdown",
   "id": "e3da7741",
   "metadata": {},
   "source": [
    "To write data to a file we use the function `numpy.savetxt`:"
   ]
  },
  {
   "cell_type": "code",
   "execution_count": null,
   "id": "23dfe0c7",
   "metadata": {},
   "outputs": [],
   "source": [
    "data = np.array([[1,2,3],[2,3,4]]) \n",
    "np.savetxt(\"data/numbers2.csv\", data, delimiter = \",\")"
   ]
  },
  {
   "cell_type": "markdown",
   "id": "5e15a591",
   "metadata": {},
   "source": [
    "Again, the numbers in [data/numbers2.csv](./data/numbers2.csv) are stored in a floating-point format as default. If we want to specify the format our data is stored we can use the argument `fmt` to pass a format string:"
   ]
  },
  {
   "cell_type": "code",
   "execution_count": null,
   "id": "85df9a1c",
   "metadata": {},
   "outputs": [],
   "source": [
    "data = np.array([[1,2,3],[2,3,4]]) \n",
    "np.savetxt(\"data/numbers2.csv\", data, fmt=\"%d\", delimiter = \",\")"
   ]
  },
  {
   "cell_type": "markdown",
   "id": "12081a72",
   "metadata": {},
   "source": [
    "<div class=\"learnmore\"><b>Read more</b>: If you are not familiar with format strings you can read more about them in the <a href=\"https://numpy.org/doc/stable/reference/generated/numpy.savetxt.html\">documentation</a>.</div>"
   ]
  },
  {
   "cell_type": "markdown",
   "id": "a3851954",
   "metadata": {},
   "source": [
    "Up to now we used text files with the csv-format to store the data, which leads to human readable files. But if we want to store the data in a binary-format we can use the functions `load` and `save`. They use files with the extension `.npy` which is a binary format for representing NumPy arrays:"
   ]
  },
  {
   "cell_type": "code",
   "execution_count": null,
   "id": "fc7b3f78",
   "metadata": {},
   "outputs": [],
   "source": [
    "data = np.array([[1,2,3],[2,3,4]]) \n",
    "np.save(\"data/numbers_binary\", data)"
   ]
  },
  {
   "cell_type": "code",
   "execution_count": null,
   "id": "c13ccf6c",
   "metadata": {},
   "outputs": [],
   "source": [
    "np.load(\"data/numbers_binary.npy\")"
   ]
  },
  {
   "cell_type": "markdown",
   "id": "d85c34af",
   "metadata": {},
   "source": [
    "---\n",
    "<a id=\"statisitics\"></a>\n",
    "## [Statistical Analysis](#top)\n",
    "\n",
    "Machine learning methods are largely based on statistical functions. Many of basic statistical functions are implemented in NumPy. Here is a short list of only a few functions available in Numpy.\n",
    "\n",
    "To calculate the mean of an array you can use the function `numpy.mean`:"
   ]
  },
  {
   "cell_type": "code",
   "execution_count": null,
   "id": "110d5df6",
   "metadata": {},
   "outputs": [],
   "source": [
    "a = np.array([1,2,3,4,5,6])\n",
    "np.mean(a)"
   ]
  },
  {
   "cell_type": "markdown",
   "id": "39995029",
   "metadata": {},
   "source": [
    "The median is calculated with `numpy.median`:"
   ]
  },
  {
   "cell_type": "code",
   "execution_count": null,
   "id": "7007be33",
   "metadata": {},
   "outputs": [],
   "source": [
    "a = np.array([1,2,3,4,5])\n",
    "np.median(a)"
   ]
  },
  {
   "cell_type": "markdown",
   "id": "132cd558",
   "metadata": {},
   "source": [
    "The variance is calculated with `numpy.var`:"
   ]
  },
  {
   "cell_type": "code",
   "execution_count": null,
   "id": "87387810",
   "metadata": {},
   "outputs": [],
   "source": [
    "a = np.array([1,2,3,4,5])\n",
    "np.var(a)"
   ]
  },
  {
   "cell_type": "markdown",
   "id": "e8a5fabe",
   "metadata": {},
   "source": [
    "The standard deviation is calculated with `numpy.std`:"
   ]
  },
  {
   "cell_type": "code",
   "execution_count": null,
   "id": "01048ed0",
   "metadata": {},
   "outputs": [],
   "source": [
    "a = np.array([1,2,3,4,5])\n",
    "np.std(a)"
   ]
  },
  {
   "cell_type": "markdown",
   "id": "3606a1cb",
   "metadata": {},
   "source": [
    "The q-th percentile is calculated with `numpy.percentile` where q is given as an argument between 0 and 100:"
   ]
  },
  {
   "cell_type": "code",
   "execution_count": null,
   "id": "1ab731f3",
   "metadata": {},
   "outputs": [],
   "source": [
    "a = np.array([[1,2,3,4,5],[6,7,8,9,10]])\n",
    "np.percentile(a,50)"
   ]
  },
  {
   "cell_type": "markdown",
   "id": "c2f33f7a-9d7a-48d4-8912-373c84817f85",
   "metadata": {},
   "source": [
    "<div class=\"learnmore\">More on <a href=\"https://numpy.org/doc/stable/reference/routines.statistics.html\">statistics in Numpy</a>."
   ]
  },
  {
   "cell_type": "markdown",
   "id": "b74d9970",
   "metadata": {},
   "source": [
    "---\n",
    "<a name=\"linAlg\"></a>\n",
    "## [Linear Algebra](#top)"
   ]
  },
  {
   "cell_type": "markdown",
   "id": "49c0e4bc",
   "metadata": {},
   "source": [
    "Now we want to have a look at how we can do linear algebra with NumPy. As you know, linear algebra deals with vector spaces and linear mappings represented by vectors and matrices. Therefore vectors and matrices are the first things we have to realize with NumPy. This is done by simply using one- or two-dimensional arrays, as we have already seen."
   ]
  },
  {
   "cell_type": "markdown",
   "id": "3887d868",
   "metadata": {},
   "source": [
    "> **Note**: In linear algebra the dimension of a vector is equal to the amount of entries it has. In NumPy the dimension is equal to the number of axes. So a vector of any dimension is in NumPy always an array with dimension 1."
   ]
  },
  {
   "cell_type": "code",
   "execution_count": null,
   "id": "9a24ff09",
   "metadata": {},
   "outputs": [],
   "source": [
    "vector = np.array([1,2])\n",
    "matrix = np.array([[3,4],[5,6]])"
   ]
  },
  {
   "cell_type": "markdown",
   "id": "8885c001",
   "metadata": {},
   "source": [
    "### Basic Multiplication"
   ]
  },
  {
   "cell_type": "markdown",
   "id": "664c79f9",
   "metadata": {},
   "source": [
    "In the section about Broadcasting we have already learned how to add vectors or matrices and how to multiply them with a scalar:"
   ]
  },
  {
   "cell_type": "code",
   "execution_count": null,
   "id": "6bc2cee5",
   "metadata": {},
   "outputs": [],
   "source": [
    "vector1 = np.array([1,2])\n",
    "vector2 = np.array([3,4])\n",
    "\n",
    "(vector1 + vector2) * 2"
   ]
  },
  {
   "cell_type": "markdown",
   "id": "ec287656",
   "metadata": {},
   "source": [
    "But now we want to multiply vectors and matrices. If we simply use the standard operation for this, our arrays will get multiplied elment-wise:"
   ]
  },
  {
   "cell_type": "code",
   "execution_count": null,
   "id": "5d0451c2",
   "metadata": {},
   "outputs": [],
   "source": [
    "vector1 * vector2"
   ]
  },
  {
   "cell_type": "markdown",
   "id": "213f4495",
   "metadata": {},
   "source": [
    "Unfortunatly, in linear algebra most of the time this element-wise multiplication (also known as Hadamard product) is not the desired behavior. Often we are dealing with the dot-product of vectors. As a reminder, the dot-product of two vectors $a = (a_1, a_2, ..., a_n)$ and $b = (b_1, b_2, ..., b_n)$ is defined as follows: \n",
    "\n",
    "$a \\cdot b = \\sum_{i=1}^{n} a_ib_i = a_1b_1 + a_2b_2 + ... a_nb_n$\n",
    "\n",
    "To calculate this expression we use the function `numpy.dot`."
   ]
  },
  {
   "cell_type": "code",
   "execution_count": null,
   "id": "9bdebb55",
   "metadata": {},
   "outputs": [],
   "source": [
    " np.dot(vector1, vector2)"
   ]
  },
  {
   "cell_type": "markdown",
   "id": "6cc40885",
   "metadata": {},
   "source": [
    "We can also pass 2D-arrays (matrices) to the `dot`-function and it will result in the standard matrix multiplication, but this is not recommended, because mathematically the dot-product is only defined on vectors and therefore we get confusing semantics. For multiplications with matrices the function `numpy.matmul` is better suited:"
   ]
  },
  {
   "cell_type": "code",
   "execution_count": null,
   "id": "258528f5",
   "metadata": {},
   "outputs": [],
   "source": [
    "matrix = np.array([[1,2],[3,4]])\n",
    "np.matmul(matrix, vector1)"
   ]
  },
  {
   "cell_type": "code",
   "execution_count": null,
   "id": "6979bafb",
   "metadata": {},
   "outputs": [],
   "source": [
    "matrix = np.array([[1,2],[3,4]])\n",
    "np.matmul(matrix, matrix)"
   ]
  },
  {
   "cell_type": "markdown",
   "id": "1a2886fb",
   "metadata": {},
   "source": [
    "A short form for `matmul` is the `@` operator:"
   ]
  },
  {
   "cell_type": "code",
   "execution_count": null,
   "id": "6bf7475b",
   "metadata": {},
   "outputs": [],
   "source": [
    "matrix @ matrix"
   ]
  },
  {
   "cell_type": "markdown",
   "id": "1c44f249-dd95-4436-a675-05ffc88e242d",
   "metadata": {},
   "source": [
    "An again, matrix multiplication must be distinguished from the element-wise multiplication of matrices:"
   ]
  },
  {
   "cell_type": "code",
   "execution_count": null,
   "id": "20995e4a-d36b-4463-adc7-dca716da43d1",
   "metadata": {},
   "outputs": [],
   "source": [
    "matrix * matrix"
   ]
  },
  {
   "cell_type": "markdown",
   "id": "a86e22a7",
   "metadata": {},
   "source": [
    "### Higher Dimensional Multiplication"
   ]
  },
  {
   "attachments": {
    "Higher-Dimension-Matrix.png": {
     "image/png": "[encoded data removed]"
    }
   },
   "cell_type": "markdown",
   "id": "b8081539",
   "metadata": {},
   "source": [
    "This far we only looked at one- or two-dimensional arrays representing vectors and matrices. But what happens when we pass higher dimensional arrays to `dot` and `matmul`? When using `matmul` the array gets interpreted as a stack of matrices. For example a 3D-array with shape $(N,M,M)$ gets interpreted as a 1D-array with $N$ elements where each element is a matrix of size $M\\times M$. \n",
    "\n",
    "![Higher-Dimension-Matrix.png](attachment:Higher-Dimension-Matrix.png)\n",
    "\n",
    "Broadcasting is then happening accordingly to this 'matrix-elements'. For example, multipling a vector to a stack of matrices will result in a stack of vectors which are the result of multiplying each matrix with the input vector:"
   ]
  },
  {
   "cell_type": "code",
   "execution_count": null,
   "id": "ce76fcc1",
   "metadata": {},
   "outputs": [],
   "source": [
    "#two matrices in a stack (3D-array):\n",
    "m_stack = np.array([   [[1,2],[1,2]],   [[2,1],[2,1]]   ])\n",
    "v = np.array([1,2])\n",
    "\n",
    "m_stack @ v"
   ]
  },
  {
   "cell_type": "markdown",
   "id": "d300765a",
   "metadata": {},
   "source": [
    "For `dot` the behavior on higher-dimensional arrays is different. The documentation specifies the [behavior of `matmul`](https://numpy.org/devdocs/reference/generated/numpy.matmul.html) and the [behavior of `dot`](https://numpy.org/devdocs/reference/generated/numpy.dot.html) for any dimensional input arrays, but as recommonded above, `dot` should normally not be used with dimensions higher than 1.  "
   ]
  },
  {
   "cell_type": "markdown",
   "id": "05af81b1",
   "metadata": {},
   "source": [
    "### Eigenvalues and Matrix Decomposition\n",
    "\n",
    "The submodule `numpy.linalg` contains lots of functions related to linear algebra which are used frequently in machine learning. For example the function `linalg.eig` returns the the eigenvalues and the corresponding eigenvectors of a squared matrix. The result is a 2-tuple of arrays. The first array is one-dimensional and contains the eigenvalues. The second array is two-dimensional and contains the corresponding eigenvctors where each vector is represented by one column. I.e. if the result for the input `matrix` is the tuple `(w, v)` the following expression will be true (if rounding is ignored):\n",
    "\n",
    "```python\n",
    "matrix @ v[:,0] == w[0] * v[:,0]\n",
    "```"
   ]
  },
  {
   "cell_type": "code",
   "execution_count": null,
   "id": "60a83f36",
   "metadata": {
    "tags": []
   },
   "outputs": [],
   "source": [
    "w, v = np.linalg.eig(matrix)\n",
    "print(matrix @ v[:,0])\n",
    "print(w[0] * v[:,0])"
   ]
  },
  {
   "cell_type": "markdown",
   "id": "bf9f043c",
   "metadata": {},
   "source": [
    "Another frequently used function is `linalg.svd` which claculates the [Singular Value Decomposition](https://en.wikipedia.org/wiki/Singular_value_decomposition) of a given matrix."
   ]
  },
  {
   "cell_type": "code",
   "execution_count": null,
   "id": "3b2af671",
   "metadata": {},
   "outputs": [],
   "source": [
    "a = np.array([[1,2,3,4,5],[1,2,3,4,5]])\n",
    "print(a.shape)\n",
    "\n",
    "u, s, vh = np.linalg.svd(a, full_matrices=True)\n",
    "u.shape, s.shape, vh.shape"
   ]
  },
  {
   "cell_type": "markdown",
   "id": "9a77e115",
   "metadata": {},
   "source": [
    "<a name=\"random\"></a>\n",
    "## Random Number Generation"
   ]
  },
  {
   "cell_type": "markdown",
   "id": "52dacaa5",
   "metadata": {},
   "source": [
    "`numpy.random` is another submodule which you will use very often. \n",
    "\n",
    "For example the function `random.random` can generate a random float or an array of random floats uniformly from the interval $[0.0,1.0)$:"
   ]
  },
  {
   "cell_type": "code",
   "execution_count": null,
   "id": "7269ae6a",
   "metadata": {
    "tags": []
   },
   "outputs": [],
   "source": [
    "from numpy import random as rn\n",
    "\n",
    "rn.random()"
   ]
  },
  {
   "cell_type": "code",
   "execution_count": null,
   "id": "9627e2ba",
   "metadata": {},
   "outputs": [],
   "source": [
    "rn.random((2,3))"
   ]
  },
  {
   "cell_type": "markdown",
   "id": "ca280bc1",
   "metadata": {},
   "source": [
    "If you want to generate integer values from a given interval you can use `random.randint`. The first two arguments specify the lower (included) and upper (excluded) bounds of a interval, from which integers are chosen uniformly:"
   ]
  },
  {
   "cell_type": "code",
   "execution_count": null,
   "id": "415d2c81",
   "metadata": {},
   "outputs": [],
   "source": [
    "rn.randint(100, 200, (10,4))"
   ]
  },
  {
   "cell_type": "markdown",
   "id": "29dca0fd",
   "metadata": {},
   "source": [
    "To generate numbers (floats) which are not unifromly distributed, but are a sample of the standard gaussian distribution you can use `random.randn`. (Here the shape of the result array is not given by a tuple, but by several arguments):"
   ]
  },
  {
   "cell_type": "code",
   "execution_count": null,
   "id": "0f8cd977",
   "metadata": {},
   "outputs": [],
   "source": [
    "rn.randn(2,3)"
   ]
  },
  {
   "cell_type": "markdown",
   "id": "3fbf0f58",
   "metadata": {},
   "source": [
    "<div class=\"learnmore\">Of course there are much more functions available. You can find them in the <a href=\"https://numpy.org/doc/stable/reference/random/index.html\">documentation</a>.</div>"
   ]
  },
  {
   "cell_type": "markdown",
   "id": "f675b4bd",
   "metadata": {},
   "source": [
    "<a name=\"masking\"></a>\n",
    "## Masking and filtering"
   ]
  },
  {
   "cell_type": "markdown",
   "id": "016c11da",
   "metadata": {},
   "source": [
    "Sometimes datasets can be incomplete or contain invalid data. In such a case we want to make sure that we do not use the invalid data in our computations. For this purpose we can use the submodule `numpy.ma`. When using this package we are no longer talking about arrays, but about **masked arrays**. A masked array is a combination of an array containing our data and a mask. A mask is an array of the same shape as the data-array but containg boolean values indicating if the the corresponding data-entry is valid (not masked = False) or invalid (masked = True). The mask can also have the constant value `nomask` indicating that all the values are valid. You can create such a masked array with the function `ma.masked_array` from existing data:"
   ]
  },
  {
   "cell_type": "code",
   "execution_count": null,
   "id": "79176073",
   "metadata": {},
   "outputs": [],
   "source": [
    "from numpy import ma \n",
    "\n",
    "a = np.arange(1,7)\n",
    "masked_a = ma.masked_array(a,[0,0,0,0,0,1])\n",
    "ma.mean(masked_a)"
   ]
  },
  {
   "cell_type": "markdown",
   "id": "9eb3294f",
   "metadata": {},
   "source": [
    "As you can see, the 6 is ignored when computing the mean, because the mask has a 1 (True) at this position. \n",
    "\n",
    "But giving the mask explicitly as we did is most of the time not possible, because you already have to know which elements are the invalid ones. To mask an array based on boolean conditions we can again make use of the vectorization technique we have already learned. By applying a boolean operator to every element of our array we automatically get our mask: "
   ]
  },
  {
   "cell_type": "code",
   "execution_count": null,
   "id": "bad97c7c",
   "metadata": {},
   "outputs": [],
   "source": [
    "masked_a = ma.masked_array(a, a > 5) # second argument is a vectorized expression which returns our mask\n",
    "masked_a"
   ]
  },
  {
   "cell_type": "markdown",
   "id": "bf87d761-b6ee-42e4-a780-48e40874b35e",
   "metadata": {},
   "source": [
    "### Where"
   ]
  },
  {
   "cell_type": "markdown",
   "id": "8a79e8ce",
   "metadata": {},
   "source": [
    "With this technique we can also filter our arrays with the function `numpy.where`. It requires again a condition array (which we can create with vectorization) and two data-arrays. Depending on the condition array the result array will contain the element from the first or the second data-array at a given position:"
   ]
  },
  {
   "cell_type": "code",
   "execution_count": null,
   "id": "9589df64",
   "metadata": {},
   "outputs": [],
   "source": [
    "np.where(a>3, a, a*10)"
   ]
  },
  {
   "cell_type": "markdown",
   "id": "f3d7f42f",
   "metadata": {},
   "source": [
    "> Note that if we are dealing with masked arrays we have to use the `ma.where` function which is the equivalent function from the masked-module. Otherwise the default numpy function may handle the masked elements wrong. This holds for the most functions, i.e. if you are using masked arrays and there is a masked version of a function, you should use this one:"
   ]
  },
  {
   "cell_type": "code",
   "execution_count": null,
   "id": "9b248107",
   "metadata": {},
   "outputs": [],
   "source": [
    "# NumPy's default \"where\" cannot handle the mask on the 6\n",
    "np.where(masked_a>3, masked_a, 0) "
   ]
  },
  {
   "cell_type": "code",
   "execution_count": null,
   "id": "6e8dcafc",
   "metadata": {},
   "outputs": [],
   "source": [
    "# numpy.ma's \"where\" can handle the mask on the 6\n",
    "ma.where(masked_a>3, masked_a, 0)"
   ]
  },
  {
   "cell_type": "markdown",
   "id": "be505658-e622-46d2-b85d-ac9643cbb707",
   "metadata": {
    "tags": []
   },
   "source": [
    "### Select\n",
    "You can also `select` items by conditions and treat each of the selected group of elements accordingly, plus giving a value for not selected elements:"
   ]
  },
  {
   "cell_type": "code",
   "execution_count": null,
   "id": "34f7a64b-0ba8-4bc7-8c81-74ca06ee6f60",
   "metadata": {},
   "outputs": [],
   "source": [
    "a = rn.randint(100, 200, (10,4))\n",
    "print(a)\n",
    "\n",
    "condition = [a<130, a<160, a>170]  # not selected 160 .. 170\n",
    "treat = [a-200, a*2, a+100]\n",
    "np.select(condition, treat, 0)"
   ]
  },
  {
   "cell_type": "markdown",
   "id": "326e5fa2",
   "metadata": {},
   "source": [
    "## Summary\n",
    "\n",
    "Within this lecture you have made your first experiences with NumPy. This includes in particular:\n",
    "\n",
    "* The concept and performance advantages of the NumPy array and its functions.\n",
    "* The concept of Vectorization and Broadcasting to make your code more efficient and readable.\n",
    "* How to store and read data to and from files.\n",
    "* How to do basic statistics with NumPy.\n",
    "* How to do basic linear algebra with NumPy.\n",
    "* How to do basic random simulations with NumPy.\n",
    "* The concept of a masked array and how to use it."
   ]
  }
 ],
 "metadata": {
  "kernelspec": {
   "display_name": "Python 3 (ipykernel)",
   "language": "python",
   "name": "python3"
  },
  "language_info": {
   "codemirror_mode": {
    "name": "ipython",
    "version": 3
   },
   "file_extension": ".py",
   "mimetype": "text/x-python",
   "name": "python",
   "nbconvert_exporter": "python",
   "pygments_lexer": "ipython3",
   "version": "3.9.16"
  },
  "toc-showtags": true
 },
 "nbformat": 4,
 "nbformat_minor": 5
}
