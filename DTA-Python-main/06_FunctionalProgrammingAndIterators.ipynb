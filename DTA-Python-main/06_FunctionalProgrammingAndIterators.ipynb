{
 "cells": [
  {
   "cell_type": "code",
   "execution_count": null,
   "metadata": {
    "autorun": true,
    "jupyterlab-hide-cells:hidden": true,
    "tags": []
   },
   "outputs": [
    {
     "data": {
      "text/html": [
       "<style>summary {\n",
       "    display: list-item;\n",
       "    cursor: pointer;\n",
       "}\n",
       "\n",
       ".task {\n",
       "    border: 2px solid cornflowerblue;\n",
       "    padding: 0.5rem;\n",
       "    margin-top: 0.5rem;\n",
       "    margin-bottom: 0.5rem;\n",
       "    counter-increment: task-counter 1;\n",
       "}\n",
       "\n",
       ".excursion {\n",
       "    border: 2px solid darkgray;\n",
       "    padding: 0.5rem;\n",
       "    margin-top: 0.5rem;\n",
       "    margin-bottom: 0.5rem;\n",
       "    background: rgba(0, 0, 0, 0.1);\n",
       "    counter-increment: excursion-counter 1;\n",
       "}\n",
       "\n",
       ".pyfeature {\n",
       "    text-decoration: underline darkgreen;\n",
       "    text-decoration-thickness: 2px;\n",
       "}\n",
       "\n",
       ".javafeature {\n",
       "    text-decoration: underline darkorange;\n",
       "    text-decoration-thickness: 2px;\n",
       "}\n",
       "\n",
       ".title{\n",
       "    font-weight: bold;\n",
       "}\n",
       "\n",
       ".learnmore {\n",
       "    border: 2px solid burlywood;\n",
       "    padding: 0.5rem;\n",
       "    margin-top: 0.5rem;\n",
       "    margin-bottom: 0.5rem;\n",
       "}\n",
       "\n",
       ".meta {\n",
       "    border: 2px dashed darkgray;\n",
       "    padding: 0.5rem;\n",
       "    margin-top: 0.5rem;\n",
       "    margin-bottom: 0.5rem;\n",
       "}\n",
       "\n",
       "h2 {\n",
       "    margin-top: 50px;\n",
       "}</style>"
      ],
      "text/plain": [
       "<IPython.core.display.HTML object>"
      ]
     },
     "execution_count": 4,
     "metadata": {},
     "output_type": "execute_result"
    }
   ],
   "source": [
    "from IPython.display import HTML; HTML(f\"\"\"<style>{open(\"./styles/styles.css\").read()}</style>\"\"\")"
   ]
  },
  {
   "attachments": {
    "LuFgi9.png": {
     "image/png": "[encoded data removed]"
    }
   },
   "cell_type": "markdown",
   "metadata": {},
   "source": [
    "<center><img width=\"250\" align=\"right\" src=\"attachment:LuFgi9.png\" /></center>"
   ]
  },
  {
   "cell_type": "markdown",
   "metadata": {},
   "source": [
    "<a id=\"top\"></a>\n",
    "# Functional Programming & Iterators\n",
    "\n",
    "## Overview\n",
    "### [Functional Programming](#functional)\n",
    "* [`lambda` Functions](#lambdaFunctions)\n",
    "* [List Comprehensions](#listComprehension)\n",
    "* [Filter](#filter)\n",
    "* [Filtering Data](#filteringData)\n",
    "* [Cartesian Product](#cartesianProduct)\n",
    "* [Joining Collections Using a Zip](#JoiningCollectionsUsingAZip)\n",
    "* [The `reduce` Function](#theReduceFunction)\n",
    "### [Iterators](#iterators)\n",
    "* [Non-indexed Iterable](#nonindexedIterables)\n",
    "* [Iterator objects](#iterator)\n",
    "* [The module `itertools`](#theModuleItertools)\n",
    "* [Generators](#generators)\n",
    "  * [Fibonacchi Number Generator](#fibonacchiGenerator)\n",
    "  * [Fibonacchi Class with Iterator](#fibonacchiIterator)\n",
    "  * [Prime Generator](#primeGenerator)"
   ]
  },
  {
   "cell_type": "markdown",
   "metadata": {},
   "source": [
    "<a name=\"functional\"></a>\n",
    "# Functional Programming"
   ]
  },
  {
   "cell_type": "markdown",
   "metadata": {},
   "source": [
    "> **Reminder**: A function defnition starts with the keyword `def` followed by the function name and brackets `()` with optional parameters within, followed by `:` and the code as indented function block. \n",
    "\n",
    "\n",
    "However, there are also _function expressions_ which define _unnamed_ functions. Such functions can be assigned to variables and/or passed to other functions as argument. This is a key feature of _functional programming_. "
   ]
  },
  {
   "cell_type": "markdown",
   "metadata": {},
   "source": [
    "---\n",
    "<a name=\"lambdaFunctions\"></a>\n",
    "## [`lambda` Functions](#top)\n",
    "`lambda` functions are a very concise way to write a function. The syntax of a [lambda function](https://docs.python.org/3/tutorial/controlflow.html#lambda-expressions) within `Python` is: \n",
    "\n",
    "```Python\n",
    "lambda arguments: expressions\n",
    "```"
   ]
  },
  {
   "cell_type": "code",
   "execution_count": null,
   "metadata": {},
   "outputs": [],
   "source": [
    "f = lambda x: x*5 + 1\n",
    "\n",
    "# similar \"regular\" function:\n",
    "def regular_function(x):\n",
    "    return x*5 + 1"
   ]
  },
  {
   "cell_type": "code",
   "execution_count": null,
   "metadata": {},
   "outputs": [],
   "source": [
    "print('Lambda function assigned to f => f(2) =', f(2))\n",
    "print('regular_function(2) =', regular_function(2))"
   ]
  },
  {
   "cell_type": "markdown",
   "metadata": {},
   "source": [
    "The function expression can also be assigned to further variables, just like other objects or values."
   ]
  },
  {
   "cell_type": "code",
   "execution_count": null,
   "metadata": {},
   "outputs": [],
   "source": [
    "g = f\n",
    "g(3)"
   ]
  },
  {
   "cell_type": "markdown",
   "metadata": {},
   "source": [
    "This kind of **functional programing** can also be used as an input parameter to other functions. This is a nice abstraction mechanism, if we want to apply various functions on all items of a list:"
   ]
  },
  {
   "cell_type": "code",
   "execution_count": null,
   "metadata": {},
   "outputs": [],
   "source": [
    "def apply_on_items(f, lst): # f is a function, lst a list\n",
    "    result = list()\n",
    "    for i in lst: # iterate through the items (i) of the given list (lst)\n",
    "        result.append(f(i)) # apply f() on each item (i) of given list (lst)\n",
    "    return result\n",
    "\n",
    "f = lambda x: x*x # lambda function which squares every argument\n",
    "g = lambda x: -x # lambda function which negates every argument\n",
    "nums = [1, 2, 3, 4, 5, 6]\n",
    "print(\"list =\", nums)\n",
    "print(\"sqrs =\", apply_on_items(f, nums))\n",
    "print(\"negs =\", apply_on_items(g, nums))\n",
    "print(\"doubles =\", apply_on_items(lambda x: 2*x, nums)) # works directly without assignment"
   ]
  },
  {
   "cell_type": "markdown",
   "metadata": {},
   "source": [
    "__Sidenote__:\n",
    "> Actually, our `apply_on_items()` is the predefined `map( )`[(see link)](https://docs.python.org/3/library/functions.html#map) function, which applies a given function on all items of an iterable:"
   ]
  },
  {
   "cell_type": "code",
   "execution_count": null,
   "metadata": {},
   "outputs": [],
   "source": [
    "list(map(f, nums))"
   ]
  },
  {
   "cell_type": "code",
   "execution_count": null,
   "metadata": {},
   "outputs": [],
   "source": [
    "list(map(g, nums))"
   ]
  },
  {
   "cell_type": "code",
   "execution_count": null,
   "metadata": {},
   "outputs": [],
   "source": [
    "list(map(lambda x: 2*x, nums))"
   ]
  },
  {
   "cell_type": "markdown",
   "metadata": {},
   "source": [
    ">**Note:** The `map` function does not return a list but a \"mapping object\". Therefore, it has to be converted into a list."
   ]
  },
  {
   "cell_type": "code",
   "execution_count": null,
   "metadata": {},
   "outputs": [],
   "source": [
    "l = [1, 2, 3, 4, 5, 6]\n",
    "print(map(lambda x: 2*x, l))\n",
    "print(list(map(lambda x: 2*x, l)))"
   ]
  },
  {
   "cell_type": "markdown",
   "metadata": {},
   "source": [
    "---\n",
    "<a id=\"listComprehension\"></a>\n",
    "## [List Comprehensions](#top)"
   ]
  },
  {
   "cell_type": "markdown",
   "metadata": {},
   "source": [
    "Now with `lambda` functions and the functional programming style, we have an elegant way to __construct new lists in a very concise way__ as they offer a shorter syntax."
   ]
  },
  {
   "cell_type": "code",
   "execution_count": null,
   "metadata": {},
   "outputs": [],
   "source": [
    "my_list = [2, 6, 5, 4, 66, 9, 100, 55, 4, 6, 4, 2] # some random numbers for demo\n",
    "\n",
    "[2 * x for x in my_list]"
   ]
  },
  {
   "cell_type": "markdown",
   "metadata": {},
   "source": [
    "This is equivalent to:"
   ]
  },
  {
   "cell_type": "code",
   "execution_count": null,
   "metadata": {},
   "outputs": [],
   "source": [
    "new_list = []\n",
    "for x in my_list:\n",
    "    new_list.append(2*x)\n",
    "new_list"
   ]
  },
  {
   "cell_type": "markdown",
   "metadata": {},
   "source": [
    "... or equivalent to using the built-in `map( )` function:"
   ]
  },
  {
   "cell_type": "code",
   "execution_count": null,
   "metadata": {},
   "outputs": [],
   "source": [
    "list(map(lambda x: 2*x, my_list))"
   ]
  },
  {
   "cell_type": "markdown",
   "metadata": {},
   "source": [
    "A typical list comprehension uses the `range` class as the input `iterable`, e.g. to construct a list of the powers of two:"
   ]
  },
  {
   "cell_type": "code",
   "execution_count": null,
   "metadata": {},
   "outputs": [],
   "source": [
    "[2**x for x in range(11)]   # for x in 0..10: 2**x"
   ]
  },
  {
   "cell_type": "code",
   "execution_count": null,
   "metadata": {
    "tags": []
   },
   "outputs": [],
   "source": [
    "[round(c*5/9+32,1) for c in range(0,35)]   # range of temperatures in Fahrenheit"
   ]
  },
  {
   "cell_type": "markdown",
   "metadata": {},
   "source": [
    "We can also built multi-dimensional data structures with comprehensions. To build a 2d matrix `[[1, 2, 3, 4], [5, 6, 7, 8], [9, 10, 11, 12]]` we construct three rows with four incrementing numbers. THe frist row starts from 1..4, the second from 5..8 (which is 1..4 adding 4 to each item), the third from 9..12, equally to 1..4 adding 8 to each number):"
   ]
  },
  {
   "cell_type": "code",
   "execution_count": null,
   "metadata": {},
   "outputs": [],
   "source": [
    "matrix = [[i+j*4 for i in range(1,5)] for j in range(3)]\n",
    "matrix"
   ]
  },
  {
   "cell_type": "markdown",
   "metadata": {},
   "source": [
    "If we want to **transpose** a matrix, it is concisely done by a nested list comprehension: each row in the transposed matrix starts with the numbers of the first row in the original matrix etc.:"
   ]
  },
  {
   "cell_type": "code",
   "execution_count": null,
   "metadata": {},
   "outputs": [],
   "source": [
    "[[row[i] for row in matrix] for i in range(4)]"
   ]
  },
  {
   "cell_type": "markdown",
   "metadata": {},
   "source": [
    "<div class=\"learnmore\">List comprehensions are often used in Python. <a href=\"https://docs.python.org/3/tutorial/datastructures.html#list-comprehensions\">Here</a> you can find more information about this concept.</div>"
   ]
  },
  {
   "cell_type": "markdown",
   "metadata": {},
   "source": [
    "---\n",
    "<a name=\"filter\"></a>\n",
    "## [Filter](#top)\n",
    "The functional creation can also be combined with an `if`-clause to **filter** out values:"
   ]
  },
  {
   "cell_type": "code",
   "execution_count": null,
   "metadata": {},
   "outputs": [],
   "source": [
    "my_list = [2, 6, 5, 19, 66, 9, 100, 55, 4, 6, 4, 2]\n",
    "\n",
    "new_list = [2*x for x in my_list if x < 20] # only double elements of my_list which are smaller than 20 and do nothing with the others\n",
    "new_list"
   ]
  },
  {
   "cell_type": "markdown",
   "metadata": {},
   "source": [
    "The equivalent `for` loop to iteratively construct the same would be:"
   ]
  },
  {
   "cell_type": "code",
   "execution_count": null,
   "metadata": {},
   "outputs": [],
   "source": [
    "new_list = []\n",
    "for x in my_list:\n",
    "    if x < 20:\n",
    "        new_list.append(2*x)\n",
    "new_list"
   ]
  },
  {
   "cell_type": "markdown",
   "metadata": {},
   "source": [
    "Comprehensions work for all other collections as well, like sets or dictionaries:"
   ]
  },
  {
   "cell_type": "code",
   "execution_count": null,
   "metadata": {},
   "outputs": [],
   "source": [
    "print(\"my_list = \", my_list)\n",
    "set([x * x for x in my_list if x < 20])"
   ]
  },
  {
   "cell_type": "code",
   "execution_count": null,
   "metadata": {},
   "outputs": [],
   "source": [
    "{c: round(c*1.8+32,1) for c in range(24,36)} # summer temperatures in USA"
   ]
  },
  {
   "cell_type": "markdown",
   "metadata": {
    "slideshow": {
     "slide_type": "slide"
    }
   },
   "source": [
    "---\n",
    "<a name=\"filteringData\"></a>\n",
    "## [Filtering Data](#top)\n",
    "\n",
    "In general, we can filter a list by applying a **_predicate_** to each element of the list. A predicate is a function which takes a single argument, and returns a boolean value.\n",
    "\n",
    "> `filter(p, X)` is equivalent to $\\{ x : p(x) \\; \\forall x \\in X \\}$ in set-builder notation. For more information see the [docs](https://docs.python.org/3/library/functions.html#filter).\n"
   ]
  },
  {
   "cell_type": "code",
   "execution_count": null,
   "metadata": {},
   "outputs": [],
   "source": [
    "lst = [-5, 2, 3, -10, 0, 1]\n",
    "list(filter(lambda x: x > 0, lst)) # predicate ≙ lambda x: x > 0 => only positive values"
   ]
  },
  {
   "cell_type": "markdown",
   "metadata": {},
   "source": [
    "This is the same as defining the filtered list comprehension. "
   ]
  },
  {
   "cell_type": "code",
   "execution_count": null,
   "metadata": {},
   "outputs": [],
   "source": [
    "[x for x in lst if x > 0]"
   ]
  },
  {
   "cell_type": "markdown",
   "metadata": {
    "slideshow": {
     "slide_type": "subslide"
    }
   },
   "source": [
    "We can combine both `filter()` and `map()` on other collections such `str`s or `set`s."
   ]
  },
  {
   "cell_type": "code",
   "execution_count": null,
   "metadata": {},
   "outputs": [],
   "source": [
    "set(filter(lambda x: x > 0, [-5, 2, 3, -10, 0, 1, 2, 3])) # predicate ≙ lambda x: x> 0 => only positive values"
   ]
  },
  {
   "cell_type": "code",
   "execution_count": null,
   "metadata": {},
   "outputs": [],
   "source": [
    "s = \"This is a text containing spaces.\"\n",
    "print(list(filter(lambda x: x != ' ', s))) # put each character (except blanks) of the string s as an own element into a list and print this list\n",
    "\"\".join((filter(lambda x: x != ' ', s))) # join all characters (except blanks) of the string s into a single string"
   ]
  },
  {
   "cell_type": "markdown",
   "metadata": {},
   "source": [
    "> The `join()` [(see link)](https://docs.python.org/3/library/stdtypes.html#str.join) method of `str` takes an iterable of characters and joins them to a string. Thus, using the filter, we ignore all spaces."
   ]
  },
  {
   "attachments": {
    "Cartesian-Product.png": {
     "image/png": "[encoded data removed]"
    }
   },
   "cell_type": "markdown",
   "metadata": {},
   "source": [
    "---\n",
    "<a name=\"cartesianProduct\"></a>\n",
    "## [Cartesian Product](#top)\n",
    "The [Cartesian product](https://en.wikipedia.org/wiki/Cartesian_product) of two collections $X = A \\times B$ can be expressed by using multiple `for` statements in a comprehension. \n",
    "\n",
    "![Cartesian-Product.png](attachment:Cartesian-Product.png)"
   ]
  },
  {
   "cell_type": "code",
   "execution_count": null,
   "metadata": {},
   "outputs": [],
   "source": [
    "A = ['x', 'y', 'z', 'x']\n",
    "B = (1, 2)\n",
    "{(a,b) for a in A for b in B} # set to filter out the second 'x'"
   ]
  },
  {
   "cell_type": "markdown",
   "metadata": {},
   "source": [
    ">__Note:__ We used two different collections (iterables), a list and a tuple and for the result a set, to filter out any doubles."
   ]
  },
  {
   "cell_type": "markdown",
   "metadata": {},
   "source": [
    "Again, we can construct the same set of tuples with two nested for loops:"
   ]
  },
  {
   "cell_type": "code",
   "execution_count": null,
   "metadata": {},
   "outputs": [],
   "source": [
    "s = set()\n",
    "for a in A:\n",
    "    for b in B:\n",
    "        s.add((a, b))\n",
    "s"
   ]
  },
  {
   "cell_type": "markdown",
   "metadata": {},
   "source": [
    "---\n",
    "<a name=\"JoiningCollectionsUsingAZip\"></a>\n",
    "## [Joining Collections Using a Zip](#top)\n",
    "\n",
    "The Cartesian product pairs every combination of elements. If we want a 1-1 pairing we use the function `zip()` [(see link)](https://docs.python.org/3/library/functions.html#zip), which pairs values at the same position in each sequence.\n",
    "Therefore:\n",
    "* it can only be used with iterable sequences (not sets); and\n",
    "* both collections must be of the same length (actually it works with the shortest)"
   ]
  },
  {
   "attachments": {
    "Zip.png": {
     "image/png": "[encoded data removed]"
    }
   },
   "cell_type": "markdown",
   "metadata": {},
   "source": [
    "The built-in zip function joins two (or more) lists to one list of tuples. The length of the tuple equals the lenght of the shortest list:\n",
    "\n",
    "![Zip.png](attachment:Zip.png)"
   ]
  },
  {
   "cell_type": "code",
   "execution_count": null,
   "metadata": {},
   "outputs": [],
   "source": [
    "list_a = [1, 2, 3, 4, 5, 6, 7, 8, 9, 10] # 10 items\n",
    "list_b = [\"a\",\"b\",\"c\",\"d\",\"e\"] # 5 items\n",
    "list_c = [True, True, False, True, False, True] # 6 items\n",
    "one_list = list (zip (list_a, list_b, list_c))\n",
    "print(one_list)\n",
    "print(len(one_list))"
   ]
  },
  {
   "cell_type": "markdown",
   "metadata": {},
   "source": [
    "In the opposite direction, to get three lists of out one list of 3d-tuples we can use list comprehensions"
   ]
  },
  {
   "cell_type": "code",
   "execution_count": null,
   "metadata": {},
   "outputs": [],
   "source": [
    "list_a = [x[0] for x in one_list] # now of course only the first 5 elements of the original list\n",
    "list_b = [x[1] for x in one_list]\n",
    "list_c = [x[2] for x in one_list] # now of course only the first 5 elements of the original list\n",
    "print(list_a)\n",
    "print(list_b)\n",
    "print(list_c)"
   ]
  },
  {
   "cell_type": "markdown",
   "metadata": {},
   "source": [
    "Another way to acheive the same is using the `*` operator and assigning tuples to as many variables as the tuple dimension (three in our case)."
   ]
  },
  {
   "cell_type": "code",
   "execution_count": null,
   "metadata": {},
   "outputs": [],
   "source": [
    "t_a, t_b, t_c = zip(*one_list) \n",
    "print(\"list of tuples:\\n    \", one_list)\n",
    "print(\"The items (tuples):\\n     \", *one_list)\n",
    "print (\"Tuple of the first items of each tuple:\\n     \", t_a)\n",
    "print (\"Tuple of the second items of each tuple:\\n     \", t_b)\n",
    "print (\"Tuple of the second items of each tuple:\\n     \", t_c)"
   ]
  },
  {
   "cell_type": "markdown",
   "metadata": {
    "slideshow": {
     "slide_type": "slide"
    }
   },
   "source": [
    "---\n",
    "<a name=\"theReduceFunction\"></a>\n",
    "## [The `reduce` Function](#top)\n",
    "\n",
    "The `reduce()` function out of the library [_functools_](https://docs.python.org/3/library/functools.html) recursively applies a function to values over the entire list, resulting in a _single_ return value. So it _reduces_ the list to a single value:"
   ]
  },
  {
   "cell_type": "code",
   "execution_count": null,
   "metadata": {},
   "outputs": [],
   "source": [
    "from functools import reduce\n",
    "reduce(lambda x, y: x + y, [1, 2, 3, 4, 5, 6, 7, 8, 9, 10]) # sum 1 .. 10"
   ]
  },
  {
   "attachments": {
    "Reduce.png": {
     "image/png": "[encoded data removed]"
    }
   },
   "cell_type": "markdown",
   "metadata": {},
   "source": [
    "![Reduce.png](attachment:Reduce.png)"
   ]
  },
  {
   "cell_type": "code",
   "execution_count": null,
   "metadata": {},
   "outputs": [],
   "source": [
    "from functools import reduce\n",
    "reduce(lambda x, y: x * y, [1, 2, 3, 4, 5, 6, 7, 8, 9, 10]) # Prod 1 .. 10"
   ]
  },
  {
   "cell_type": "code",
   "execution_count": null,
   "metadata": {},
   "outputs": [],
   "source": [
    "from functools import reduce\n",
    "reduce(lambda x, y: x + y, ['A', 'a', 'c', 'h', 'e', 'n']) # concat strings"
   ]
  },
  {
   "cell_type": "markdown",
   "metadata": {},
   "source": [
    "---\n",
    "<a name=\"summary\"></a>\n",
    "## Functional Programming: Summary\n",
    "Within this lecture you have been introduced to another concept for the implementation of functions, called *functional programming*, and the advantage this has over the implementation of \"normal\" functions. This includes in particular:\n",
    "* [`lambda` Functions](#lambdaFunctions): define function expressions which can be assigned to variables or used as arguments for functions (functional abstraction).\n",
    "* [List Comprehensions](#listComprehension): are concise ways of creating and specifying list (or other containers) \n",
    "  * [Filtering](#filter):\n",
    "    * via `if`-clause\n",
    "    * via `filter` function\n",
    "* [Cartesian Product](#cartesianProduct): there are various ways to combine/join items from different lists/tuples/sets\n",
    "  * [`zip` function](#JoiningCollectionsUsingAZip)\n",
    "  * [`reduce` function](#theReduceFunction)\n",
    "  \n",
    "  \n",
    "<div class=\"learnmore\">If you do not know what error messages are indicating during your implementation, you can often solve this with the help of search engines. You can find corresponding examples of troubleshooting in an excursus notebook <a href=\"Excursion_Using_Search_Engines.ipynb\">Excursion_Using_Search_Engines</a>. This should help you to deal with incomprehensible error messages in the future.</div>"
   ]
  },
  {
   "cell_type": "markdown",
   "metadata": {},
   "source": [
    "<a name=\"iterators\"></a>\n",
    "# Iterators"
   ]
  },
  {
   "cell_type": "markdown",
   "metadata": {},
   "source": [
    "We used the for-loop to iterate over `iterables` (\"list-like\" objects like lists, tuples, dict_keys, dict_items, ...) using the `for ... in` syntax:"
   ]
  },
  {
   "cell_type": "code",
   "execution_count": null,
   "metadata": {},
   "outputs": [],
   "source": [
    "my_list = ['a', 'b', 'c', 42]\n",
    "\n",
    "for x in my_list:\n",
    "    print (x)"
   ]
  },
  {
   "cell_type": "code",
   "execution_count": null,
   "metadata": {},
   "outputs": [],
   "source": [
    "str_1 = \"Some text\"\n",
    "for c in str_1:\n",
    "    print(c)"
   ]
  },
  {
   "cell_type": "markdown",
   "metadata": {},
   "source": [
    "---\n",
    "<a id=\"nonindexedIterables\"></a>\n",
    "## [Iterating over non-indexed Iterables](#top)\n",
    "We can even iterate over sets and dictionaries, which have no defined sequence and cannot be addressed by indexing them: "
   ]
  },
  {
   "cell_type": "code",
   "execution_count": null,
   "metadata": {},
   "outputs": [],
   "source": [
    "german_population = {2022:84360000, 2021: 83240000, 2020: 83160000, 2019: 83166711, 2018: 83019213, 2017: 82792351, 2016: 82521653, 2015: 82175684}\n",
    "print(german_population)\n",
    "\n",
    "print('--------------------------------\\niterate over keys in for loop:')\n",
    "# for loop iterates over the keys of the dictionary:\n",
    "for year in german_population.keys():   # many times .keys() is not explicitly called\n",
    "    print(year, end=' - ')"
   ]
  },
  {
   "cell_type": "markdown",
   "metadata": {},
   "source": [
    "As we already know, we can also iterate over the values of an dictionary:"
   ]
  },
  {
   "cell_type": "code",
   "execution_count": null,
   "metadata": {},
   "outputs": [],
   "source": [
    "print(type(german_population.values()))\n",
    "print('--------------------------------\\niterate over values in for loop:')\n",
    "# for loop iterates over the keys of the dictionary:\n",
    "for population in german_population.values():\n",
    "    print(population, end=' - ')"
   ]
  },
  {
   "cell_type": "markdown",
   "metadata": {},
   "source": [
    "Or, as we have used it many times, iterating over the (key, value) pairs:"
   ]
  },
  {
   "cell_type": "code",
   "execution_count": null,
   "metadata": {},
   "outputs": [],
   "source": [
    "print(type(german_population.items()))\n",
    "print('--------------------------------\\niterate over tuples in for loop:')\n",
    "# for loop iterates over the keys of the dictionary:\n",
    "for year, pop in german_population.items():\n",
    "    print(f'In {year}, Germany had {pop:_d} inhbitants.')"
   ]
  },
  {
   "cell_type": "markdown",
   "metadata": {},
   "source": [
    "> __Note__: Newer Versions of Python do indeed guarantee that iterating over a dictionary returns items in the same order in which they were inserted. This however is more of an _implementation detail_ and should not be relied on - _conceptionally_, dictionaries are generally considered unordered."
   ]
  },
  {
   "cell_type": "markdown",
   "metadata": {},
   "source": [
    "And finally this also works with sets. As you can see, there is some 'magic' sequence of items:"
   ]
  },
  {
   "cell_type": "code",
   "execution_count": null,
   "metadata": {},
   "outputs": [],
   "source": [
    "fruits = {'banana', 'pineapple', 'orange', 'grapefruit', 'kiwi'}\n",
    "print(fruits)\n",
    "\n",
    "print('--------------------------------\\niterate over set elements in for loop:')\n",
    "for f in fruits:\n",
    "    print(f)"
   ]
  },
  {
   "cell_type": "markdown",
   "metadata": {},
   "source": [
    "---\n",
    "<a id=\"iterator\"></a>\n",
    "## [Iterator object](#top)\n",
    "\n",
    "What happens internally is, that an `iterator` __object__ is created. Calling the `next()` function on the iterator object, returns the *current* item and advances the internal *cursor* (referencing the current item) one position. Calling `next()` after the last item has been returned raises the `StopIteration` exception. This exception is handled by the interpreter when executing a for-loop.\n",
    "\n",
    "The built-in function `iter()` creates such an iterator object on an iterable."
   ]
  },
  {
   "cell_type": "code",
   "execution_count": null,
   "metadata": {},
   "outputs": [],
   "source": [
    "it = iter(my_list)\n",
    "print(next(it))\n",
    "print(next(it))\n",
    "print(next(it))\n",
    "print(next(it))\n",
    "print(next(it))"
   ]
  },
  {
   "cell_type": "markdown",
   "metadata": {},
   "source": [
    "So the `for` loop from above is internally executed with an iterator object and handling the `StopIteration` exception:"
   ]
  },
  {
   "cell_type": "code",
   "execution_count": null,
   "metadata": {},
   "outputs": [],
   "source": [
    "it = iter(my_list)\n",
    "try:\n",
    "    while True:\n",
    "        print(next(it))\n",
    "except StopIteration:\n",
    "    print(\">>> ok, we are through. No more elements to iterate. <<<\")"
   ]
  },
  {
   "cell_type": "markdown",
   "metadata": {
    "tags": []
   },
   "source": [
    "---\n",
    "<a id=\"theModuleItertools\"></a>\n",
    "## [The `itertools` module](#top)\n",
    "\n",
    "In the day-to-day reality of _Python_ programming, an overwhelmingly large part of your iterator needs will most likely be served not by implementing your own, but rather by using and combining ones found in the very handy standard library module called [`itertools`](https://docs.python.org/3/library/itertools.html)."
   ]
  },
  {
   "cell_type": "code",
   "execution_count": null,
   "metadata": {},
   "outputs": [],
   "source": [
    "import itertools"
   ]
  },
  {
   "cell_type": "markdown",
   "metadata": {},
   "source": [
    "Imagine we read a large file that has a header line, followed by a sequence of one interesting line and one uninteresting line, plus some additional lines at the tail end we do not need in our further processing. We might filter out the interesting lines using _slicing syntax_ like so:"
   ]
  },
  {
   "cell_type": "code",
   "execution_count": null,
   "metadata": {},
   "outputs": [],
   "source": [
    "hypothetical_file = ['header', 'good_line', 'boring line', 'good_line', 'boring_line', 'good_line', 'boring_line', 'stuff', 'stuff']\n",
    "for line in hypothetical_file[1:7:2]:\n",
    "    print(line)"
   ]
  },
  {
   "cell_type": "markdown",
   "metadata": {},
   "source": [
    "The problem with this approach is that this requires us to load our entire file into memory as a `list` to use slicing syntax. Depending on the size of that file, that is not feasible. Thankfully, `itertools` provides an _iterator_ equivalent called `islice`, which we can use to achieve the same effect without resorting to loading everything into a list first:"
   ]
  },
  {
   "cell_type": "code",
   "execution_count": null,
   "metadata": {},
   "outputs": [],
   "source": [
    "for line in itertools.islice(hypothetical_file, 1, 7, 2):\n",
    "    print(line)"
   ]
  },
  {
   "cell_type": "markdown",
   "metadata": {},
   "source": [
    "Similarly, we might want to iterate over two (or more) `iterables` in sequence. Rather than joining them into a new sequence first, using CPU cycles and memory, we can create an `iterator` that iterates over the items of the first sequence, then goes on with the second and so forth by using a `chain`:"
   ]
  },
  {
   "cell_type": "code",
   "execution_count": null,
   "metadata": {},
   "outputs": [],
   "source": [
    "first_list = ['a', 'b', 'c']\n",
    "second_list = ['d', 'e']\n",
    "\n",
    "for item in itertools.chain(first_list, second_list):\n",
    "    print(item)"
   ]
  },
  {
   "cell_type": "markdown",
   "metadata": {},
   "source": [
    "If rather than a fixed number of `iterables` we have an `iterable` of `iterables`, we can create a `chain` like so:"
   ]
  },
  {
   "cell_type": "code",
   "execution_count": null,
   "metadata": {},
   "outputs": [],
   "source": [
    "list_of_lists = [[1, 2], [3, 4], [5, 6]]\n",
    "\n",
    "for item in itertools.chain.from_iterable(list_of_lists):\n",
    "    print(item)"
   ]
  },
  {
   "cell_type": "markdown",
   "metadata": {},
   "source": [
    "Another very useful `iterator` is `cycle` - it _infinitely_ loops over the `iterable` passed to it as an argument. It is particularly useful in combination with `zip`, which we have already seen:"
   ]
  },
  {
   "cell_type": "code",
   "execution_count": null,
   "metadata": {},
   "outputs": [],
   "source": [
    "passengers = ['Alice', 'Bob', 'Charlotte', 'Danny', 'Eve']\n",
    "\n",
    "for seat_assignment in zip(passengers, itertools.cycle(['left', 'right'])):\n",
    "    print(seat_assignment)"
   ]
  },
  {
   "cell_type": "markdown",
   "metadata": {},
   "source": [
    "<div class=\"learnmore\">Whenever you need to iterate over one or more `iterable` in a slightly unusual way, it's always worth checking the <a href=\"https://docs.python.org/3/library/itertools.html\">documentation</a> of <b>itertools</b> first - most likely it's already got you covered!</div>"
   ]
  },
  {
   "cell_type": "markdown",
   "metadata": {},
   "source": [
    "---\n",
    "<a id=\"generators\"></a>\n",
    "## [Generators](#top)\n",
    "We can also create an iterating **function** using the keyword `yield`. When reaching `yield` the iterator function (then called **generator**) returns the computed value and yields at that statement, until the function is called the next time. All variables keep their value for the next run:"
   ]
  },
  {
   "cell_type": "code",
   "execution_count": null,
   "metadata": {},
   "outputs": [],
   "source": [
    "def squares():\n",
    "    # compute all the squares ... forever\n",
    "    i = 0\n",
    "    while True:\n",
    "        i = i + 1\n",
    "        yield i*i # return square( i ) and wait here for the next call to the function"
   ]
  },
  {
   "cell_type": "markdown",
   "metadata": {},
   "source": [
    ">__Note:__ The function does not contain a `return` statement. Instead, the resulting values are returned by `yield`. "
   ]
  },
  {
   "cell_type": "markdown",
   "metadata": {},
   "source": [
    "With this generator, we can produce as many square numbers as we need in some scenario:"
   ]
  },
  {
   "cell_type": "code",
   "execution_count": null,
   "metadata": {},
   "outputs": [],
   "source": [
    "x = squares()\n",
    "print(next(x))\n",
    "print(next(x))\n",
    "print(next(x))\n",
    "print(next(x))\n",
    "# ... go on as long as you wish"
   ]
  },
  {
   "cell_type": "markdown",
   "metadata": {},
   "source": [
    "With a generator you can organize loops, to iterate over a certain number of computed values. The computation is only executed as far, as needed in the loop, instead of producing a data structure with a fixed amount of pre-calculated values (such as `range(..)`. This is called __lazy evaluation__, another well known functional programming concept:"
   ]
  },
  {
   "cell_type": "code",
   "execution_count": null,
   "metadata": {},
   "outputs": [],
   "source": [
    "for x in squares(): # returns and yields for each element\n",
    "    print(x)\n",
    "    if x >= 36:\n",
    "        break"
   ]
  },
  {
   "cell_type": "markdown",
   "metadata": {},
   "source": [
    "In our example, the for loop is internally executed by calling the `next()` function until we explicitly break. This is necessary, because there is no `StopIteration`-Exception, thus the loop would go on 'eternally':"
   ]
  },
  {
   "cell_type": "code",
   "execution_count": null,
   "metadata": {},
   "outputs": [],
   "source": [
    "for x in squares(): # returns and yields for each element\n",
    "    print(x)\n",
    "    if x >= 1234:\n",
    "        break"
   ]
  },
  {
   "cell_type": "markdown",
   "metadata": {},
   "source": [
    "<a id='fibonacchiGenerator'></a>\n",
    "### [Fibonacchi number generator](#top)\n",
    "With this kind of lazy evaluation, we can compute fibonacchi numbers exactly so far as we need it in a certain situation.  "
   ]
  },
  {
   "cell_type": "code",
   "execution_count": null,
   "metadata": {},
   "outputs": [],
   "source": [
    "def fib(max):\n",
    "    '''Generator function for Fibonacci numbers.'''\n",
    "    a, b = 1, 1\n",
    "    while a < max:\n",
    "        yield a            # return val and wait for next call\n",
    "        print('fib:', a)   # for demo\n",
    "        a, b = b, a + b    # compute next value\n",
    "\n",
    "# test Generator function\n",
    "for n in fib( 10000 ):\n",
    "    print( 'loop:', n, end=' - ')\n",
    "    # demo: do not compute further \n",
    "    if n > 300:\n",
    "        break\n",
    "print( '--|' )"
   ]
  },
  {
   "cell_type": "markdown",
   "metadata": {},
   "source": [
    ">__Note:__ We called the generator function `fib(10000)` , but never computed that large numbers. We only use the generator function, until it produces a value > 300.\n",
    "\n",
    "Alternatively, we can create a class Fibonacchi, which offers its own iterator object:"
   ]
  },
  {
   "cell_type": "markdown",
   "metadata": {},
   "source": [
    "<a id='fibonacchiIterator'></a>\n",
    "### [Fibonacchi class with iterator](#top)"
   ]
  },
  {
   "cell_type": "code",
   "execution_count": null,
   "metadata": {},
   "outputs": [],
   "source": [
    "class Fib:\n",
    "    '''Class returning iterator object(s) that yield(s) numbers in the Fibonacci sequence up to max'''\n",
    "    def __init__(self, max):\n",
    "        self.max = max\n",
    "\n",
    "    def __iter__(self):\n",
    "        self.a = 1\n",
    "        self.b = 1\n",
    "        return self\n",
    "\n",
    "    def __next__(self):\n",
    "        fib = self.a\n",
    "        if fib > self.max:\n",
    "            raise StopIteration\n",
    "        self.a, self.b = self.b, self.a + self.b\n",
    "        return fib\n",
    "    \n",
    "    # represent the object as a string to be printable\n",
    "    def __repr__ (self):\n",
    "        return \"Fibo up to: \" + str(self.max) \n",
    "\n",
    "fib = Fib(1000000) # theoretically values up to 1.000.000\n",
    "# print( fib.__class__ )\n",
    "print( fib.__doc__ )\n",
    "# print( \"Fib directory: \", dir( fib ) )\n",
    "print( fib )\n",
    "\n",
    "for n in Fib( 5000 ):     # unnamed Fib iterator instance up to 5000\n",
    "    print( n, end=' - ')\n",
    "print( '--|')"
   ]
  },
  {
   "cell_type": "markdown",
   "metadata": {},
   "source": [
    "---"
   ]
  },
  {
   "cell_type": "markdown",
   "metadata": {},
   "source": [
    "<a id='primeGenerator'></a>\n",
    "### [Prime generator](#top)\n",
    "One typical Pythonian example is generating prime numbers:"
   ]
  },
  {
   "cell_type": "code",
   "execution_count": null,
   "metadata": {},
   "outputs": [],
   "source": [
    "def gen_primes(N):\n",
    "    '''Generate primes up to N'''\n",
    "    primes = set()\n",
    "    for n in range(2, N):\n",
    "        if all(n % p > 0 for p in primes):\n",
    "            primes.add(n)\n",
    "            yield n\n",
    "\n",
    "print(*gen_primes(1000), sep=', ', end='.')"
   ]
  },
  {
   "cell_type": "markdown",
   "metadata": {
    "tags": []
   },
   "source": [
    "In this example, the `*`-Operator calls the `gen_primes( )`-function again and again, until it ends without yield. Thus it returns all the primes up to 1.000 as an unpacked tuple, which are then printed.\n",
    "\n",
    "<div class=\"learnmore\">See many more <a href=\"https://treyhunner.com/2018/10/asterisks-in-python-what-they-are-and-how-to-use-them/\">uses of the `*`-operator</a>.</div>"
   ]
  },
  {
   "cell_type": "markdown",
   "metadata": {},
   "source": [
    "---\n",
    "# [Summary](#top)\n",
    "In this lesson, you learned\n",
    "\n",
    "+ what iterators are\n",
    "+ how to implement your own\n",
    "+ how use the `itertools` module\n",
    "+ how implement lazy-evaluated functions\n",
    "\n",
    "In the [next lecture](07_FilesAndExceptions.ipynb) you will learn how to work with files and exceptions."
   ]
  }
 ],
 "metadata": {
  "celltoolbar": "Edit Metadata",
  "interpreter": {
   "hash": "b0fa6594d8f4cbf19f97940f81e996739fb7646882a419484c72d19e05852a7e"
  },
  "kernelspec": {
   "display_name": "Python 3 (ipykernel)",
   "language": "python",
   "name": "python3"
  },
  "language_info": {
   "codemirror_mode": {
    "name": "ipython",
    "version": 3
   },
   "file_extension": ".py",
   "mimetype": "text/x-python",
   "name": "python",
   "nbconvert_exporter": "python",
   "pygments_lexer": "ipython3",
   "version": "3.10.11"
  },
  "nteract": {
   "version": "0.15.0"
  },
  "toc": {
   "colors": {
    "hover_highlight": "#DAA520",
    "navigate_num": "#000000",
    "navigate_text": "#333333",
    "running_highlight": "#FF0000",
    "selected_highlight": "#FFD700",
    "sidebar_border": "#EEEEEE",
    "wrapper_background": "#FFFFFF"
   },
   "moveMenuLeft": true,
   "nav_menu": {
    "height": "336px",
    "width": "252px"
   },
   "navigate_menu": true,
   "number_sections": true,
   "sideBar": true,
   "threshold": 4,
   "toc_cell": false,
   "toc_section_display": "block",
   "toc_window_display": false,
   "widenNotebook": false
  },
  "varInspector": {
   "cols": {
    "lenName": 16,
    "lenType": 16,
    "lenVar": 40
   },
   "kernels_config": {
    "python": {
     "delete_cmd_postfix": "",
     "delete_cmd_prefix": "del ",
     "library": "var_list.py",
     "varRefreshCmd": "print(var_dic_list())"
    },
    "r": {
     "delete_cmd_postfix": ") ",
     "delete_cmd_prefix": "rm(",
     "library": "var_list.r",
     "varRefreshCmd": "cat(var_dic_list()) "
    }
   },
   "types_to_exclude": [
    "module",
    "function",
    "builtin_function_or_method",
    "instance",
    "_Feature"
   ],
   "window_display": false
  }
 },
 "nbformat": 4,
 "nbformat_minor": 4
}
