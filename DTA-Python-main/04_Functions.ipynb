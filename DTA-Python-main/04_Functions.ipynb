{
 "cells": [
  {
   "cell_type": "code",
   "execution_count": 3,
   "metadata": {
    "autorun": true,
    "jupyterlab-hide-cells:hidden": true,
    "tags": []
   },
   "outputs": [
    {
     "data": {
      "text/html": [
       "<style>summary {\n",
       "    display: list-item;\n",
       "    cursor: pointer;\n",
       "}\n",
       "\n",
       ".task {\n",
       "    border: 2px solid cornflowerblue;\n",
       "    padding: 0.5rem;\n",
       "    margin-top: 0.5rem;\n",
       "    margin-bottom: 0.5rem;\n",
       "    counter-increment: task-counter 1;\n",
       "}\n",
       "\n",
       ".excursion {\n",
       "    border: 2px solid darkgray;\n",
       "    padding: 0.5rem;\n",
       "    margin-top: 0.5rem;\n",
       "    margin-bottom: 0.5rem;\n",
       "    background: rgba(0, 0, 0, 0.1);\n",
       "    counter-increment: excursion-counter 1;\n",
       "}\n",
       "\n",
       ".pyfeature {\n",
       "    text-decoration: underline darkgreen;\n",
       "    text-decoration-thickness: 2px;\n",
       "}\n",
       "\n",
       ".javafeature {\n",
       "    text-decoration: underline darkorange;\n",
       "    text-decoration-thickness: 2px;\n",
       "}\n",
       "\n",
       ".title{\n",
       "    font-weight: bold;\n",
       "}\n",
       "\n",
       ".learnmore {\n",
       "    border: 2px solid burlywood;\n",
       "    padding: 0.5rem;\n",
       "    margin-top: 0.5rem;\n",
       "    margin-bottom: 0.5rem;\n",
       "}\n",
       "\n",
       ".meta {\n",
       "    border: 2px dashed darkgray;\n",
       "    padding: 0.5rem;\n",
       "    margin-top: 0.5rem;\n",
       "    margin-bottom: 0.5rem;\n",
       "}\n",
       "\n",
       "h2 {\n",
       "    margin-top: 50px;\n",
       "}</style>"
      ],
      "text/plain": [
       "<IPython.core.display.HTML object>"
      ]
     },
     "execution_count": 3,
     "metadata": {},
     "output_type": "execute_result"
    }
   ],
   "source": [
    "from IPython.display import HTML; HTML(f\"\"\"<style>{open(\"./styles/styles.css\").read()}</style>\"\"\")"
   ]
  },
  {
   "attachments": {
    "LuFgi9.png": {
     "image/png": "[encoded data removed]"
    }
   },
   "cell_type": "markdown",
   "metadata": {},
   "source": [
    "<center><img width=\"250\" align=\"right\" src=\"attachment:LuFgi9.png\" /></center>"
   ]
  },
  {
   "cell_type": "markdown",
   "metadata": {
    "tags": []
   },
   "source": [
    "<a id=\"top\"></a>\n",
    "# Functions\n",
    "\n",
    "## Overview\n",
    "* [Basic Function Definition](#basicFunctionDefintion)\n",
    "  * [Function and Parameter Naming](#naming)\n",
    "  * [Arbitrary Number of Arguments](#arbitraryNumberOfArguments)\n",
    "  * [Calling Parameters by Name](#callingParametersByName)\n",
    "  * [Argument Default Values](#argumentDefaultValues)\n",
    "  * [Keyword Arguments](#keywordArguments)\n",
    "* [Scope](#scope)\n",
    "* [Coffee Example](#coffee_example04)\n",
    "\n",
    "In the previous chapters you have used different built-in functions such as `len(list)` or methods like `sort( )` to be invoked on objects of the class `list`. Thus, the built-in functions differ on  the way they are invoked, and  how data is passed to the function/method:\n",
    "\n",
    "| Built-In Function | kind of function | Dot-Notation | Passing Data as Argument | Returning a value\n",
    "|----|:----:|:----:|:----:|:----:|\n",
    "|**`len(`**_`list`_**`)`** | generic function |❌ | ✔ | the length of the list |\n",
    "|**_`list`_.`sort( )`** | method | ✔ | ❌ | ❌ |\n",
    "\n",
    "Actually, since `sort( )` is a method, it has access to all the internal data of that object (e.g. the list items), while `len( )` as a generic function can only access data, which is handed over as an argument, as you know it from mathematical functions. `len( )` works on different objects of different types like `str`, `list`, `dict` etc. (actually all `iterable` types), while a method works specifically on the object it is invoked for via `dot notation`.\n",
    "\n",
    "In this lecture you will learn how to program and use your own functions (with and without passing data to the function)."
   ]
  },
  {
   "cell_type": "markdown",
   "metadata": {},
   "source": [
    "---\n",
    "<a name=\"basicFunctionDefintion\"></a>\n",
    "## [Basic Function Definition](#top)\n",
    "\n",
    "A corner stone for writing more complex programs is the ability to define your own functions. They encapsulate code for reuse. So each time you invoke a function, the same code is executed.\n",
    "\n",
    "In order to call a function, you must know its *name* and how many *arguments* it expects. Third, you have to distinguish between functions that return a result, which might be assigned to a variable, and so called _procedures_, which execute code, but do not return any result: \n",
    "\n",
    "| Component | Defintion | Example\n",
    "|-----|-----|-----|\n",
    "| name | the name to be invoked. | `len`, `print` |\n",
    "| input parameters (optional) | Passing data into the function. | `len(list_1)`, `print('hello')` |\n",
    "| return statement (optional) | Returning data as a result. | `lenght = len( list_1 )`, `print(list_1)` |\n",
    "\n",
    "\n",
    "In `Python` a function definition starts with the keyword `def` followed by the function name and brackets `( )` followed by `:` and then an indented block, which contains the function code. All input parameters (if any) are defined within these brackets.\n",
    "\n",
    "Our first function increments its argument by one and returns this value as a result:"
   ]
  },
  {
   "cell_type": "code",
   "execution_count": null,
   "metadata": {
    "tags": []
   },
   "outputs": [],
   "source": [
    "def increment_function( number ): # function name: increment, input parameter: number\n",
    "    return number + 1 # return newly computed value depending on argument"
   ]
  },
  {
   "attachments": {
    "12b5b4ba-1e4a-4b8b-b46c-0e57b588f4a7.png": {
     "image/png": "[encoded data removed]"
    }
   },
   "cell_type": "markdown",
   "metadata": {
    "tags": []
   },
   "source": [
    "![Function.png](attachment:12b5b4ba-1e4a-4b8b-b46c-0e57b588f4a7.png)"
   ]
  },
  {
   "cell_type": "markdown",
   "metadata": {},
   "source": [
    "Now the newly defined function can be called just as built-in functions:"
   ]
  },
  {
   "cell_type": "code",
   "execution_count": null,
   "metadata": {},
   "outputs": [],
   "source": [
    "y = increment_function(2)\n",
    "y"
   ]
  },
  {
   "cell_type": "markdown",
   "metadata": {},
   "source": [
    "When executing the function, the computed value is returned and replaces the function call in the calling expression. Thus, the result is assigned to the value y in the above example."
   ]
  },
  {
   "cell_type": "markdown",
   "metadata": {},
   "source": [
    "The `return` ends the execution of a function. Every code after the return statement will not be executed. Therefore, calling the following function will not produce a print output."
   ]
  },
  {
   "cell_type": "code",
   "execution_count": null,
   "metadata": {},
   "outputs": [],
   "source": [
    "def increment_and_print_function(number):\n",
    "    return number + 1\n",
    "    print('new computed value:', number+1)"
   ]
  },
  {
   "cell_type": "code",
   "execution_count": null,
   "metadata": {},
   "outputs": [],
   "source": [
    "increment_and_print_function(42)"
   ]
  },
  {
   "cell_type": "markdown",
   "metadata": {},
   "source": [
    "We can also have functions without input parameter and/or without return value (thus we call it a procedure):"
   ]
  },
  {
   "cell_type": "code",
   "execution_count": null,
   "metadata": {},
   "outputs": [],
   "source": [
    "def print_full_address():\n",
    "    print(\"Max Mustermann\")\n",
    "    print(\"Musterstrasse 5\")\n",
    "    print(\"52062 Aachen\")"
   ]
  },
  {
   "cell_type": "code",
   "execution_count": null,
   "metadata": {},
   "outputs": [],
   "source": [
    "print_full_address()"
   ]
  },
  {
   "cell_type": "markdown",
   "metadata": {},
   "source": [
    "If no return value is specified, a special object called `None` is returned."
   ]
  },
  {
   "cell_type": "code",
   "execution_count": null,
   "metadata": {},
   "outputs": [],
   "source": [
    "x = print_full_address()\n",
    "print(\"-\"*15)\n",
    "print(x)"
   ]
  },
  {
   "cell_type": "markdown",
   "metadata": {},
   "source": [
    "<a name=\"naming\"></a>\n",
    "### [Function and Parameter Naming](#top)\n",
    "For function names and the names of their parameters, the same fundamental rules apply as for variables:\n",
    "1. The name should indicate the function's semantic\n",
    "2. The name should be written in lowercase with words separated by underscores\n",
    "3. Abbreviations should be clear and used with caution"
   ]
  },
  {
   "cell_type": "markdown",
   "metadata": {},
   "source": [
    "Functions can also have more arguments than just one."
   ]
  },
  {
   "cell_type": "code",
   "execution_count": null,
   "metadata": {},
   "outputs": [],
   "source": [
    "def add(numOne, numTwo): \n",
    "    return numOne + numTwo\n",
    "\n",
    "add(13, 42)"
   ]
  },
  {
   "cell_type": "code",
   "execution_count": null,
   "metadata": {},
   "outputs": [],
   "source": [
    "add(13,42,5)"
   ]
  },
  {
   "cell_type": "markdown",
   "metadata": {
    "jp-MarkdownHeadingCollapsed": true,
    "tags": []
   },
   "source": [
    "> **Note:** Functions with an exact number of input parameters need the exact number of arguments when called, otherwise it leads to a `TypeError`.\n",
    "\n",
    "To avoid this error, there are also some functions, such as `print()`, which can even have a __variable number__ of arguments. These can be specified, by packing a various number of positional arguments as a tuple."
   ]
  },
  {
   "cell_type": "markdown",
   "metadata": {},
   "source": [
    "---\n",
    "<a name=\"arbitraryNumberOfArguments\"></a>\n",
    "## [Arbitrary Number of Arguments](#top)\n",
    "\n",
    "If a function should be callable with various number of arguments (such as the built-in `print()` function), this can be defined in `Python` with the help of the __* parameter__.\n",
    "\n",
    "This allows a passing of arbitrary number of objects as an __iterable__:"
   ]
  },
  {
   "cell_type": "code",
   "execution_count": null,
   "metadata": {},
   "outputs": [],
   "source": [
    "def my_sum(*args):\n",
    "    result = 0\n",
    "    print(type(args), 'args:', args)\n",
    "    for element in args:\n",
    "        result += element\n",
    "    return result"
   ]
  },
  {
   "cell_type": "code",
   "execution_count": null,
   "metadata": {},
   "outputs": [],
   "source": [
    "my_sum (1, 2, 3, 4, 5, 6, 7, 8, 20)"
   ]
  },
  {
   "cell_type": "markdown",
   "metadata": {},
   "source": [
    "We already know this behavior from the built-in `print` function:"
   ]
  },
  {
   "cell_type": "code",
   "execution_count": null,
   "metadata": {},
   "outputs": [],
   "source": [
    "print(\"One argument string.\")\n",
    "print (\"Many\", \"arguments\", \"can\", \"be\", \"printed,\", \"even\", 42, \"numbers.\")"
   ]
  },
  {
   "cell_type": "markdown",
   "metadata": {},
   "source": [
    "On the other hand, using the `*` operator on an iterable returns its items:"
   ]
  },
  {
   "cell_type": "code",
   "execution_count": null,
   "metadata": {},
   "outputs": [],
   "source": [
    "def sum_all_items(iter):\n",
    "    result = 0\n",
    "    print('argument is an iterable:', iter)\n",
    "    print('type of argument: ', type(iter))\n",
    "    for element in iter:\n",
    "        result += element\n",
    "    return result"
   ]
  },
  {
   "cell_type": "code",
   "execution_count": null,
   "metadata": {},
   "outputs": [],
   "source": [
    "items = (3,7,-22,3.5)\n",
    "result_sum = sum_all_items(items)\n",
    "print(result_sum)"
   ]
  },
  {
   "cell_type": "markdown",
   "metadata": {},
   "source": [
    ">__Note:__ sum_all_items must be called with __one__ argument, which must be an **iterable** (e.g. a `list`). It can not be called with a varying number of arguments:\n",
    "\n",
    "**Error Message** `TypeError: sum_all_items() takes 1 positional argument but 6 were given`"
   ]
  },
  {
   "cell_type": "code",
   "execution_count": null,
   "metadata": {},
   "outputs": [],
   "source": [
    "sum_all_items( 1, 3, 5, 7, 9, 11 ) # This will return an error"
   ]
  },
  {
   "cell_type": "code",
   "execution_count": null,
   "metadata": {},
   "outputs": [],
   "source": [
    "sum_all_items( ( 1, 3, 5, 7, 9, 11 ) ) "
   ]
  },
  {
   "cell_type": "code",
   "execution_count": null,
   "metadata": {},
   "outputs": [],
   "source": [
    "sum_all_items( [] ) # empty lists are ok"
   ]
  },
  {
   "cell_type": "markdown",
   "metadata": {},
   "source": [
    "So you have __two options__ to define functions, which are to operate on an arbitrary number of arguments: \n",
    "* either define __one__ parameter as an iterable, which can contain a variable number of values\n",
    "* or define a function with a variable number of arguments with the `*` operator"
   ]
  },
  {
   "cell_type": "markdown",
   "metadata": {},
   "source": [
    "---\n",
    "<a name=\"callingParametersByName\"></a>\n",
    "## [Calling Parameters by Name ](#top) "
   ]
  },
  {
   "cell_type": "code",
   "execution_count": null,
   "metadata": {},
   "outputs": [],
   "source": [
    "def my_division( numerator, denominator ):\n",
    "    return numerator / denominator\n",
    "\n",
    "my_division(10, 5)"
   ]
  },
  {
   "cell_type": "markdown",
   "metadata": {},
   "source": [
    "In some contexts, it might make sense to change the order of the arguments, when calling the function, or to make it obvious, what the call means. So when calling the function, you can expicitly assign values to the parameters (by using their name):"
   ]
  },
  {
   "cell_type": "code",
   "execution_count": null,
   "metadata": {},
   "outputs": [],
   "source": [
    "my_division(denominator=10, numerator=5) "
   ]
  },
  {
   "cell_type": "markdown",
   "metadata": {},
   "source": [
    "---\n",
    "<a name=\"argumentDefaultValues\"></a>\n",
    "## [Argument Default Values](#top)\n",
    "Default values make specifying parameters in a call optional. If the value is not specified, then the default is used. <br>\n",
    "\n",
    "E.g. our division might be a division by two, if the denominator is not specified as an argument, when calling the function."
   ]
  },
  {
   "cell_type": "code",
   "execution_count": null,
   "metadata": {},
   "outputs": [],
   "source": [
    "def division_default(numerator = 1, denominator = 2): # divide by two, if denomiantor is not given\n",
    "    return numerator / denominator"
   ]
  },
  {
   "cell_type": "code",
   "execution_count": null,
   "metadata": {},
   "outputs": [],
   "source": [
    "print(division_default(10, 5)) # normal call\n",
    "print(division_default(10)) # leave out second positional argument => denominator takes default value\n",
    "print(division_default()) # both default\n",
    "print(division_default(denominator=4)) # nominator default"
   ]
  },
  {
   "cell_type": "markdown",
   "metadata": {},
   "source": [
    "---\n",
    "<a name=\"keywordArguments\"></a>\n",
    "## [Keyword Arguments](#top)\n",
    "\n",
    "Keyword arguments can only be called by name. Mostly they are omitted (default values). \n",
    "\n",
    "`Python` has a number of functions that take an unlimited number of positional arguments. These functions sometimes have optional arguments that can be provided to customize their functionality. Those arguments must be provided as named arguments to distinguish them from the unlimited positional arguments.\n",
    "\n",
    "The built-in `print` function accepts the optional `sep`, `end`, `file`, and `flush` attributes as _keyword-only_ arguments, because it has generally an arbitrary number of _positional_ arguments:"
   ]
  },
  {
   "cell_type": "code",
   "execution_count": null,
   "metadata": {},
   "outputs": [],
   "source": [
    "print('comma', 'separated', 'words', sep=', ', end='.') "
   ]
  },
  {
   "cell_type": "markdown",
   "metadata": {},
   "source": [
    "__Keyword arguments__ allow for passing any additional parameters (typically after a variable number of positional arguments) and their names as a `dictionary`. This is usually named as `**kwargs`:"
   ]
  },
  {
   "cell_type": "code",
   "execution_count": null,
   "metadata": {
    "tags": []
   },
   "outputs": [],
   "source": [
    "# function with a variable number of positional arguments, as well as key word parameters\n",
    "def func(*args, **kwargs): \n",
    "    print('args =', args) \n",
    "    print('kwargs =', kwargs)"
   ]
  },
  {
   "cell_type": "code",
   "execution_count": null,
   "metadata": {
    "tags": []
   },
   "outputs": [],
   "source": [
    "func(1,2,3)"
   ]
  },
  {
   "cell_type": "code",
   "execution_count": null,
   "metadata": {
    "tags": []
   },
   "outputs": [],
   "source": [
    "func(1,2,3,4,additional=5,further=6)"
   ]
  },
  {
   "cell_type": "code",
   "execution_count": null,
   "metadata": {
    "tags": []
   },
   "outputs": [],
   "source": [
    "# function with a variable number of positional arguments, as well as key word parameters\n",
    "def sum_up(*args, **kwargs): \n",
    "    print('args =', args) \n",
    "    print('kwargs =', kwargs)\n",
    "    \n",
    "    # compute sum over all positional arguments\n",
    "    result = 0\n",
    "    for i in args:\n",
    "        result += i\n",
    "    print('result only utilizing positional arguments:', result)\n",
    "    \n",
    "    return result"
   ]
  },
  {
   "cell_type": "code",
   "execution_count": null,
   "metadata": {
    "tags": []
   },
   "outputs": [],
   "source": [
    "sum_up()"
   ]
  },
  {
   "cell_type": "code",
   "execution_count": null,
   "metadata": {
    "tags": []
   },
   "outputs": [],
   "source": [
    "sum_up(1,2,3)"
   ]
  },
  {
   "cell_type": "code",
   "execution_count": null,
   "metadata": {
    "tags": []
   },
   "outputs": [],
   "source": [
    "sum_up(1,2,3,4,additional=5,further=6)"
   ]
  },
  {
   "cell_type": "code",
   "execution_count": null,
   "metadata": {
    "tags": []
   },
   "outputs": [],
   "source": [
    "# sum over variable number of positional arguments, and optional computation via key word parameters\n",
    "def sum_up(*args, **kwargs): \n",
    "    print('args =', args) \n",
    "    print('kwargs =', kwargs)\n",
    "    \n",
    "    # compute sum over all positional arguments\n",
    "    result = 0\n",
    "    for i in args:\n",
    "        result += i\n",
    "    print('intermediate result only with positional arguments:', result)\n",
    "    \n",
    "    # now use the additional keyword arguments to compute the final result\n",
    "    for key in kwargs:\n",
    "        if key == 'subtract':\n",
    "            result -= kwargs[key]\n",
    "            print('subtract ', kwargs[key], '=>', result)\n",
    "        if key == 'multiply':\n",
    "            result *= kwargs[key]\n",
    "            print('multiply by', kwargs[key], '=>', result)\n",
    "        if key == 'divide':\n",
    "            result /= kwargs[key]\n",
    "            print('divide by', kwargs[key], '=>', result)\n",
    "            \n",
    "    return result"
   ]
  },
  {
   "cell_type": "code",
   "execution_count": null,
   "metadata": {
    "tags": []
   },
   "outputs": [],
   "source": [
    "sum_up(1, 2, 3, subtract=20, divide=2) "
   ]
  },
  {
   "cell_type": "markdown",
   "metadata": {},
   "source": [
    "> **Reminder:** [Integer Division vs. (Float) Division](01_intro.ipynb#arithmeticOperators)\n",
    "\n",
    "If you specify a keyword argument, which is not defined within the function, it is \"ignored\":"
   ]
  },
  {
   "cell_type": "code",
   "execution_count": null,
   "metadata": {
    "tags": []
   },
   "outputs": [],
   "source": [
    "sum_up(42, add=2)"
   ]
  },
  {
   "cell_type": "code",
   "execution_count": null,
   "metadata": {
    "tags": []
   },
   "outputs": [],
   "source": [
    "sum_up(29,13,multiply=0.5,subtract=-21)"
   ]
  },
  {
   "cell_type": "markdown",
   "metadata": {},
   "source": [
    "---\n",
    "<a name=\"scope\"></a>\n",
    "## [Scope](#top)"
   ]
  },
  {
   "cell_type": "markdown",
   "metadata": {},
   "source": [
    "<a id=\"namespace\"></a>\n",
    "Variables _locally defined within a function_ are only valid within that function. Thus, functions define their own __namespace__."
   ]
  },
  {
   "cell_type": "code",
   "execution_count": null,
   "metadata": {},
   "outputs": [],
   "source": [
    "glob = 42 # some \"global variable\"\n",
    "\n",
    "def f(x):\n",
    "    local = 2 * x + 1 # this is a local variable and the argument x\n",
    "    print('Within f( ) the argument x = ', x, ', local variable local =', local, ', glob =', glob )\n",
    "    return local\n",
    "\n",
    "x = f(glob) # this is a new \"global\" variable x\n",
    "print(\"( global ) x has value\", x, \"after calling f( glob ). Local x is not visible here.\")"
   ]
  },
  {
   "attachments": {
    "690e2a63-6664-48ee-ba56-b5cf73dece5c.png": {
     "image/png": "[encoded data removed]"
    },
    "Scope.png": {
     "image/png": "[encoded data removed]"
    }
   },
   "cell_type": "markdown",
   "metadata": {},
   "source": [
    "![Scope.png](attachment:690e2a63-6664-48ee-ba56-b5cf73dece5c.png)\n",
    "\n",
    "Below, a reduced example is given that will produce an error, as a local variable is accessed outside its namespace: <br>\n",
    "**Error Message** `NameError: name 'local' is not defined`"
   ]
  },
  {
   "cell_type": "code",
   "execution_count": null,
   "metadata": {},
   "outputs": [],
   "source": [
    "glob = 42\n",
    "\n",
    "def f(x):\n",
    "    local = 42 + x\n",
    "    return local\n",
    "\n",
    "print('f(5) =', f(5))\n",
    "print('local =', local)"
   ]
  },
  {
   "cell_type": "markdown",
   "metadata": {},
   "source": [
    "> **Note:** Calling the local variable `local` will force a `NameError`, as the variable is not callable from outside the function `f(x)`.\n",
    "\n",
    "Variables that get assigned new values only have the new value inside the function:"
   ]
  },
  {
   "cell_type": "code",
   "execution_count": null,
   "metadata": {},
   "outputs": [],
   "source": [
    "glob = 42 # some \"global variable\"\n",
    "\n",
    "def f(x):\n",
    "    local = 2 * x + 1 # this is a local variable y and the argument x\n",
    "    glob = 0 # this is a local var overshadowing the global one\n",
    "\n",
    "    print('Within f( ) the argument x = ', x, ', local variable local =', local, 'glob =', glob )\n",
    "    return local\n",
    "\n",
    "x = f(glob) # x becomes a new \"global\" variable which is distinct from the parameter x inside the funtion\n",
    "print(\"x has value\", x, \"after calling f( glob )\")\n",
    "print(\"glob has not changed: glob =\", glob )"
   ]
  },
  {
   "cell_type": "markdown",
   "metadata": {},
   "source": [
    "So we have two distinct scopes, which define namespaces: \n",
    "1. global namespace (module  => in our case the current JuNB)\n",
    "2. a namespace within the function\n",
    "\n",
    "Outside the function, only variables initialized outside the function (thus in the scope of the current module) are visible.\n",
    "\n",
    "Inside the function, all three, the __*global*__ variables, the __*parameters*__ and the __*local*__ variables assigned within the function are visible and valid.\n",
    "\n",
    "From a software engineering standpoint, it seems dangerous to rely on global variables within functions. There is one reason, where it makes sense:\n",
    "* when you program a whole module with various functions, which share common values (mostly constants), then those might be declared globally\n",
    "* a module is specified by the file name, in which variables and functions are commonly defined\n",
    "\n",
    "> **Note:** In `Python`, constants are written in uppercase letter. In the following example, $\\pi$ is initialized as a constant, written as `PI`."
   ]
  },
  {
   "cell_type": "code",
   "execution_count": null,
   "metadata": {},
   "outputs": [],
   "source": [
    "# file circle.py\n",
    "PI = 3.14159 # constant in our module, to be used in all functions\n",
    "\n",
    "def circum( r ):\n",
    "    return 2 * PI * r\n",
    "\n",
    "def circarea( r ):\n",
    "    return PI * r * r"
   ]
  },
  {
   "cell_type": "code",
   "execution_count": null,
   "metadata": {},
   "outputs": [],
   "source": [
    "# in another file:\n",
    "# from circum import *\n",
    "\n",
    "print('the circumference of this circle is', circum(42))\n",
    "print('the circle area is', circarea(42))"
   ]
  },
  {
   "cell_type": "markdown",
   "metadata": {},
   "source": [
    "What exactly these modules are and how to import other files in Python skripts' will be introduced in the [next module](05_ExternalModules.ipynb)."
   ]
  },
  {
   "cell_type": "markdown",
   "metadata": {},
   "source": [
    "---\n",
    "<a name=\"coffee_example04\"></a>\n",
    "## [Coffee Example](#top)\n",
    "Before we summarize this module, let's look again at our coffee price calculator. Previously we improved the user input check and put the code in a loop such that we can calculate prices constantly without executing the code again:"
   ]
  },
  {
   "cell_type": "code",
   "execution_count": null,
   "metadata": {},
   "outputs": [],
   "source": [
    "PRICE_COFFEE = 1.20\n",
    "PRICE_MILK = 0.30\n",
    "PRICE_SUGAR = 0.10\n",
    "\n",
    "while True:\n",
    "    print('Configure your coffee:')\n",
    "    want_milk = input('Do you want milk: ')\n",
    "    want_sugar = input('Do you want sugar: ')\n",
    "\n",
    "    # Check if the input in lower cases was 'yes'\n",
    "    want_milk = want_milk.lower() == 'yes'\n",
    "    want_sugar = want_sugar.lower() == 'yes'\n",
    "\n",
    "    to_pay = PRICE_COFFEE + int(want_milk) * PRICE_MILK + int(want_sugar) * PRICE_SUGAR\n",
    "    print(f'Your coffee costs € {to_pay:4.2f}')\n",
    "    # Add a visual separator of the single input and output groups\n",
    "    print('===========================')\n",
    "    if input('Another coffee?: ').lower() != 'yes':\n",
    "        break"
   ]
  },
  {
   "cell_type": "markdown",
   "metadata": {},
   "source": [
    "Now, we want to wrap this code in a function:"
   ]
  },
  {
   "cell_type": "code",
   "execution_count": null,
   "metadata": {},
   "outputs": [],
   "source": [
    "# Define the prices as global constants\n",
    "PRICE_COFFEE = 1.20\n",
    "PRICE_MILK = 0.30\n",
    "PRICE_SUGAR = 0.10\n",
    "\n",
    "def calculate_coffee_price(want_milk, want_sugar):\n",
    "    return PRICE_COFFEE + int(want_milk) * PRICE_MILK + int(want_sugar) * PRICE_SUGAR\n",
    "\n",
    "while True:\n",
    "    print('Configure your coffee:')\n",
    "    want_milk = input('Do you want milk: ')\n",
    "    want_sugar = input('Do you want sugar: ')\n",
    "    \n",
    "    # Check if the input in lower cases was 'yes'\n",
    "    want_milk = want_milk.lower() == 'yes'\n",
    "    want_sugar = want_sugar.lower() == 'yes'\n",
    "\n",
    "    # use our newly defined function to calculate the proce\n",
    "    print(f'Your coffee costs € {calculate_coffee_price(want_milk, want_sugar):4.2f}')\n",
    "    \n",
    "    # Add a visual separator of the single input and output groups\n",
    "    print('===========================')\n",
    "    \n",
    "    # stop endless loop\n",
    "    if input('Another coffee?: ').lower() != 'yes':\n",
    "        break"
   ]
  },
  {
   "cell_type": "markdown",
   "metadata": {},
   "source": [
    "We encapsulated the price calculation in its own function which takes two parameters to determine if milk and sugar are added to the coffee.\n",
    "\n",
    "Next, we want to encapsulate the reading of the user input and return two `bool`s, stating if the customer wants milk or sugar:"
   ]
  },
  {
   "cell_type": "code",
   "execution_count": null,
   "metadata": {},
   "outputs": [],
   "source": [
    "# Define the prices as global constants\n",
    "PRICE_COFFEE = 1.20\n",
    "PRICE_MILK = 0.30\n",
    "PRICE_SUGAR = 0.10\n",
    "\n",
    "def read_user_input():\n",
    "    want_milk = input('Do you want milk: ')\n",
    "    want_sugar = input('Do you want sugar: ')\n",
    "\n",
    "    # Check if the input in lower cases was 'yes'\n",
    "    want_milk = int(want_milk.lower() == 'yes')\n",
    "    want_sugar = int(want_sugar.lower() == 'yes')\n",
    "    \n",
    "    return (want_milk, want_sugar)\n",
    "\n",
    "def calculate_coffee_price(want_milk, want_sugar):\n",
    "    return PRICE_COFFEE + want_milk*PRICE_MILK + want_sugar*PRICE_SUGAR\n",
    "\n",
    "while True:\n",
    "    print('Configure your coffee:')\n",
    "    want_milk, want_sugar = read_user_input()\n",
    "    \n",
    "    print(f'Your coffee costs € {calculate_coffee_price(want_milk, want_sugar):4.2f}')\n",
    "    print('='*25)\n",
    "    if input('Another one: ').lower() != 'yes':\n",
    "        break"
   ]
  },
  {
   "cell_type": "markdown",
   "metadata": {},
   "source": [
    "One __positive side effect__ is the __increased readability__ of our main loop. The names of the functions describe their functionality and if we want to see the details of the implementation, we can look it up in the function definition separately. If the greeting of the user would be longer than just this one print statement, it might also be moved into its own function.\n",
    "Another advantage is the already mentioned __encapsulation__. If later the functionality of a feature changes, just the function will be adjusted while the input parameter and return values might stay the same, so no adjustments in the main loop are necessary.\n",
    "\n",
    "Until now, we just moved code from the main loop into seperate functions. Next, we want to write a function to reduce the amount of code we have to write ourself:"
   ]
  },
  {
   "cell_type": "code",
   "execution_count": null,
   "metadata": {},
   "outputs": [],
   "source": [
    "# Define the prices as global constants\n",
    "PRICE_COFFEE = 1.20\n",
    "PRICE_MILK = 0.30\n",
    "PRICE_SUGAR = 0.10\n",
    "    \n",
    "def ask_yes_no_question(question_text):\n",
    "    user_response = input(question_text)\n",
    "    # Check if the input in lower cases was 'yes'\n",
    "    return user_response.lower() == 'yes'\n",
    "\n",
    "def ask_addition():\n",
    "    want_milk = ask_yes_no_question('Do you want milk: ')\n",
    "    want_sugar = ask_yes_no_question('Do you want sugar: ')\n",
    "    return (int(want_milk), int(want_sugar))\n",
    "\n",
    "def calculate_coffee_price(want_milk, want_sugar):\n",
    "    return PRICE_COFFEE + want_milk*PRICE_MILK + want_sugar*PRICE_SUGAR\n",
    "\n",
    "while True:\n",
    "    print('Please configure your coffee:')\n",
    "    want_milk, want_sugar = read_user_input()\n",
    "    \n",
    "    print(f'Your coffee costs € {calculate_coffee_price(want_milk, want_sugar):4.2f}')\n",
    "    # Add a visual separator of the single input and output groups\n",
    "    print('='*25)\n",
    "    if not ask_yes_no_question('Another coffee? '):\n",
    "        break"
   ]
  },
  {
   "cell_type": "markdown",
   "metadata": {},
   "source": [
    "The `ask_yes_no_question` function takes a question text to ask the user and returns if the answer was _yes_. This reduces the need to write the evaluation of the user input two times. In a small example like this one, it might not be that problematic but in bigger software, writing the same functionality twice is hard to maintain and might result in slightly different implementation which will lead to false behaviour of the software.\n",
    "\n",
    "We might want to accept 'yes', 'yo' or 'y' as positive answers. To do so, now we just need to change our code at exactly one defined location.\n",
    "\n",
    "Therefore: Whenever you have to use a functionality more than once, write an own function for it."
   ]
  },
  {
   "cell_type": "code",
   "execution_count": null,
   "metadata": {
    "tags": []
   },
   "outputs": [],
   "source": [
    "def ask_yes_no_question(question_text):\n",
    "    answer = input(question_text).lower()\n",
    "    # Check if the input in lower cases was 'yes', 'yo', or 'y'\n",
    "    return answer == 'yes' or answer == 'yo' or answer == 'y' "
   ]
  },
  {
   "cell_type": "code",
   "execution_count": null,
   "metadata": {},
   "outputs": [],
   "source": [
    "ask_yes_no_question(\"Yes or no?: \")"
   ]
  },
  {
   "cell_type": "code",
   "execution_count": null,
   "metadata": {},
   "outputs": [],
   "source": [
    "while True:\n",
    "    print('Please configure your coffee:')\n",
    "    want_milk, want_sugar = ask_addition()\n",
    "    \n",
    "    print(f'Your coffee costs € {calculate_coffee_price(want_milk, want_sugar):4.2f}')\n",
    "    print('='*25)\n",
    "    if not ask_yes_no_question('Another coffee? '):\n",
    "        break"
   ]
  },
  {
   "cell_type": "markdown",
   "metadata": {},
   "source": [
    "---\n",
    "<a name=\"summary\"></a>\n",
    "# Summary\n",
    "Within this lecture you have been introduced to the principle of functions, their added value and how to implement your own functions. This includes in particular:\n",
    "* Syntax: `def function_name(args):`\n",
    "    * computing and `return`ing a result\n",
    "    * as procedure returning `None`\n",
    "* different kind of input parameters:\n",
    "    * positional \n",
    "    * default values \n",
    "    * arbitrary positional \n",
    "    * arbitrary keyword \n",
    "* Function calls \n",
    "    * positional\n",
    "    * named arguments\n",
    "    * returned value replacing the call in the calling expression\n",
    "* Scope of variables\n",
    "\n",
    "In the [next lecture](05_ExternalModulesAndRefSem.ipynb), you will get to know different modules, why they exist and how to use them."
   ]
  }
 ],
 "metadata": {
  "celltoolbar": "Edit Metadata",
  "interpreter": {
   "hash": "31f2aee4e71d21fbe5cf8b01ff0e069b9275f58929596ceb00d14d90e3e16cd6"
  },
  "kernelspec": {
   "display_name": "Python 3 (ipykernel)",
   "language": "python",
   "name": "python3"
  },
  "language_info": {
   "codemirror_mode": {
    "name": "ipython",
    "version": 3
   },
   "file_extension": ".py",
   "mimetype": "text/x-python",
   "name": "python",
   "nbconvert_exporter": "python",
   "pygments_lexer": "ipython3",
   "version": "3.9.17"
  },
  "nteract": {
   "version": "0.15.0"
  },
  "toc": {
   "colors": {
    "hover_highlight": "#DAA520",
    "navigate_num": "#000000",
    "navigate_text": "#333333",
    "running_highlight": "#FF0000",
    "selected_highlight": "#FFD700",
    "sidebar_border": "#EEEEEE",
    "wrapper_background": "#FFFFFF"
   },
   "moveMenuLeft": true,
   "nav_menu": {
    "height": "336px",
    "width": "252px"
   },
   "navigate_menu": true,
   "number_sections": true,
   "sideBar": true,
   "threshold": 4,
   "toc_cell": false,
   "toc_section_display": "block",
   "toc_window_display": false,
   "widenNotebook": false
  },
  "varInspector": {
   "cols": {
    "lenName": 16,
    "lenType": 16,
    "lenVar": 40
   },
   "kernels_config": {
    "python": {
     "delete_cmd_postfix": "",
     "delete_cmd_prefix": "del ",
     "library": "var_list.py",
     "varRefreshCmd": "print(var_dic_list())"
    },
    "r": {
     "delete_cmd_postfix": ") ",
     "delete_cmd_prefix": "rm(",
     "library": "var_list.r",
     "varRefreshCmd": "cat(var_dic_list()) "
    }
   },
   "types_to_exclude": [
    "module",
    "function",
    "builtin_function_or_method",
    "instance",
    "_Feature"
   ],
   "window_display": false
  }
 },
 "nbformat": 4,
 "nbformat_minor": 4
}
