{
 "cells": [
  {
   "cell_type": "code",
   "execution_count": 1,
   "metadata": {
    "autorun": true,
    "jupyterlab-hide-cells:hidden": true,
    "tags": []
   },
   "outputs": [
    {
     "data": {
      "text/html": [
       "<style>summary {\n",
       "    display: list-item;\n",
       "    cursor: pointer;\n",
       "}\n",
       "\n",
       ".task {\n",
       "    border: 2px solid cornflowerblue;\n",
       "    padding: 0.5rem;\n",
       "    margin-top: 0.5rem;\n",
       "    margin-bottom: 0.5rem;\n",
       "    counter-increment: task-counter 1;\n",
       "}\n",
       "\n",
       ".excursion {\n",
       "    border: 2px solid darkgray;\n",
       "    padding: 0.5rem;\n",
       "    margin-top: 0.5rem;\n",
       "    margin-bottom: 0.5rem;\n",
       "    background: rgba(0, 0, 0, 0.1);\n",
       "    counter-increment: excursion-counter 1;\n",
       "}\n",
       "\n",
       ".pyfeature {\n",
       "    text-decoration: underline darkgreen;\n",
       "    text-decoration-thickness: 2px;\n",
       "}\n",
       "\n",
       ".javafeature {\n",
       "    text-decoration: underline darkorange;\n",
       "    text-decoration-thickness: 2px;\n",
       "}\n",
       "\n",
       ".title{\n",
       "    font-weight: bold;\n",
       "}\n",
       "\n",
       ".learnmore {\n",
       "    border: 2px solid burlywood;\n",
       "    padding: 0.5rem;\n",
       "    margin-top: 0.5rem;\n",
       "    margin-bottom: 0.5rem;\n",
       "}\n",
       "\n",
       ".meta {\n",
       "    border: 2px dashed darkgray;\n",
       "    padding: 0.5rem;\n",
       "    margin-top: 0.5rem;\n",
       "    margin-bottom: 0.5rem;\n",
       "}\n",
       "\n",
       "h2 {\n",
       "    margin-top: 50px;\n",
       "}</style>"
      ],
      "text/plain": [
       "<IPython.core.display.HTML object>"
      ]
     },
     "execution_count": 1,
     "metadata": {},
     "output_type": "execute_result"
    }
   ],
   "source": [
    "from IPython.display import HTML; HTML(f\"\"\"<style>{open(\"./styles/styles.css\").read()}</style>\"\"\")"
   ]
  },
  {
   "attachments": {
    "LuFgi9.png": {
     "image/png": "[encoded data removed]"
    }
   },
   "cell_type": "markdown",
   "metadata": {},
   "source": [
    "<center><img width=\"250\" align=\"right\" src=\"attachment:LuFgi9.png\" /></center>"
   ]
  },
  {
   "cell_type": "markdown",
   "metadata": {
    "tags": []
   },
   "source": [
    "<a id=\"top\"></a>\n",
    "# Pandas\n",
    "\n",
    "## Overview\n",
    "* [Getting Started](#gettingStarted)\n",
    "* [Focussing on a Single Column](#focussingOnASingleColumn)\n",
    "* [Modifying `DataFrames`](#ModifyingDataFrames)\n",
    "* [Selecting and Filtering Rows](#SelectingAndFilteringRows)\n",
    "* [Aggregating Data](#aggregatingData)\n",
    "* [Mystery - Is Aachen the rainiest city in Germany?](#RainiestCityInGermany)"
   ]
  },
  {
   "cell_type": "markdown",
   "metadata": {},
   "source": [
    "__Pandas__ is a popular Python package for exploration and analysis of large datasets. You'll get an intuition for what that means through the course of this notebook.\n",
    "\n",
    "Why would you even want to use a complex package such as _Pandas_ with its own data structures, long documentation and way of thinking, when you could potentially do any data analysis imaginable using the ordinary Python data structures and functionality we've already learned?\n",
    "There are two main reasons:\n",
    "1. __Performance__ - Python is a very convenient language in many regards, but this convenience comes at a cost - performance.\n",
    "We might not have run into slowdowns thus far, but once we start handling huge amounts of data, pure Python quickly reaches its limits.\n",
    "_Pandas_ provides its own data structures which trade some convenience for __huge gains in performance__ by internally utilizing _Numpy_.\n",
    "2. __Convenience__ - _Pandas_ provides a lot of ready-to-use high level functions for common data analysis tasks, which would be time-consuming, error-prone and tedious to write by hand.\n",
    "We'll see examples of this in the form of _grouping_, _resampling time series_ and _filtering_.\n",
    "\n",
    "Doing data science effectively always involves working with __incomplete__ and __inconveniently formatted data__, hence a large part of this work is adapting to the input format and cleaning data.\n",
    "Most importantly, we should always ask ourselves whether what we see in terms of data, be it input data or derived, makes sense within our domain - and if it doesn't, investigate and try to find the culprit.\n",
    "It may seem a little unglamerous, but 90% of data science is importing data correctly and accounting for missing data and cleaning what we have found. We'll try to replicate a bit of that experience here.\n",
    "\n",
    "Let's go ahead and import _Pandas_ then."
   ]
  },
  {
   "cell_type": "markdown",
   "metadata": {},
   "source": [
    "---\n",
    "<a  id='gettingStarted'></a>\n",
    "## [Getting Started](#top)"
   ]
  },
  {
   "cell_type": "code",
   "execution_count": 2,
   "metadata": {
    "autorun": true,
    "tags": []
   },
   "outputs": [],
   "source": [
    "import pandas as pd"
   ]
  },
  {
   "cell_type": "markdown",
   "metadata": {},
   "source": [
    "While we're at it, let's also import __numpy__, which is the _numerical_ library that powers _Pandas_ under the hood. _Pandas_ will internally import it anyway, the reason we're also doing it is that we want access to a few handy symbols from _numpy_ later on."
   ]
  },
  {
   "cell_type": "code",
   "execution_count": 3,
   "metadata": {
    "autorun": true,
    "tags": []
   },
   "outputs": [],
   "source": [
    "import numpy as np"
   ]
  },
  {
   "cell_type": "markdown",
   "metadata": {},
   "source": [
    "It's always easier to learn libraries when you have a little task to guide you along. Hence in this notebook, we'll try to answer one of humanity's oldest and most vexing questions - _is Aachen really the rainiest place in Germany?_\n",
    "\n",
    "Historical weather data can be downloaded from the [archives](http://opendata.dwd.de) of the German Meteorological Services (Deutscher Wetterdienst, DWD). For your convenience, we've already done that, so let's have a look at some hourly precipitation data for Aachen."
   ]
  },
  {
   "cell_type": "code",
   "execution_count": 4,
   "metadata": {},
   "outputs": [],
   "source": [
    "aachen_raindata_file = \"data/weather/aachen_precipitation.txt\""
   ]
  },
  {
   "cell_type": "markdown",
   "metadata": {},
   "source": [
    "When working with _Pandas_, we keep our data in its specialised data structure, the __Pandas `DataFrame`__, which enables highly efficient operations on huge datasets. Let's create one by loading our precipitation data using the `read_csv` function of the Pandas package:"
   ]
  },
  {
   "cell_type": "code",
   "execution_count": 5,
   "metadata": {},
   "outputs": [
    {
     "data": {
      "text/html": [
       "<div>\n",
       "<style scoped>\n",
       "    .dataframe tbody tr th:only-of-type {\n",
       "        vertical-align: middle;\n",
       "    }\n",
       "\n",
       "    .dataframe tbody tr th {\n",
       "        vertical-align: top;\n",
       "    }\n",
       "\n",
       "    .dataframe thead th {\n",
       "        text-align: right;\n",
       "    }\n",
       "</style>\n",
       "<table border=\"1\" class=\"dataframe\">\n",
       "  <thead>\n",
       "    <tr style=\"text-align: right;\">\n",
       "      <th></th>\n",
       "      <th>STATIONS_ID;MESS_DATUM;QN_8;  R1;RS_IND;WRTR;eor</th>\n",
       "    </tr>\n",
       "  </thead>\n",
       "  <tbody>\n",
       "    <tr>\n",
       "      <th>0</th>\n",
       "      <td>3;1995090100;    1;   0.0;   0;-999;eor</td>\n",
       "    </tr>\n",
       "    <tr>\n",
       "      <th>1</th>\n",
       "      <td>3;1995090101;    1;   0.0;   0;-999;eor</td>\n",
       "    </tr>\n",
       "    <tr>\n",
       "      <th>2</th>\n",
       "      <td>3;1995090102;    1;   0.0;   0;-999;eor</td>\n",
       "    </tr>\n",
       "    <tr>\n",
       "      <th>3</th>\n",
       "      <td>3;1995090103;    1;   0.0;   0;-999;eor</td>\n",
       "    </tr>\n",
       "    <tr>\n",
       "      <th>4</th>\n",
       "      <td>3;1995090104;    1;   0.0;   0;-999;eor</td>\n",
       "    </tr>\n",
       "    <tr>\n",
       "      <th>...</th>\n",
       "      <td>...</td>\n",
       "    </tr>\n",
       "    <tr>\n",
       "      <th>135464</th>\n",
       "      <td>3;2011033119;    3;   0.0;   0;   0;eor</td>\n",
       "    </tr>\n",
       "    <tr>\n",
       "      <th>135465</th>\n",
       "      <td>3;2011033120;    3;   0.0;   0;   0;eor</td>\n",
       "    </tr>\n",
       "    <tr>\n",
       "      <th>135466</th>\n",
       "      <td>3;2011033121;    3;   0.0;   0;-999;eor</td>\n",
       "    </tr>\n",
       "    <tr>\n",
       "      <th>135467</th>\n",
       "      <td>3;2011033122;    3;   0.0;   1;   6;eor</td>\n",
       "    </tr>\n",
       "    <tr>\n",
       "      <th>135468</th>\n",
       "      <td>3;2011033123;    3;   0.0;   0;   0;eor</td>\n",
       "    </tr>\n",
       "  </tbody>\n",
       "</table>\n",
       "<p>135469 rows × 1 columns</p>\n",
       "</div>"
      ],
      "text/plain": [
       "         STATIONS_ID;MESS_DATUM;QN_8;  R1;RS_IND;WRTR;eor\n",
       "0                 3;1995090100;    1;   0.0;   0;-999;eor\n",
       "1                 3;1995090101;    1;   0.0;   0;-999;eor\n",
       "2                 3;1995090102;    1;   0.0;   0;-999;eor\n",
       "3                 3;1995090103;    1;   0.0;   0;-999;eor\n",
       "4                 3;1995090104;    1;   0.0;   0;-999;eor\n",
       "...                                                   ...\n",
       "135464            3;2011033119;    3;   0.0;   0;   0;eor\n",
       "135465            3;2011033120;    3;   0.0;   0;   0;eor\n",
       "135466            3;2011033121;    3;   0.0;   0;-999;eor\n",
       "135467            3;2011033122;    3;   0.0;   1;   6;eor\n",
       "135468            3;2011033123;    3;   0.0;   0;   0;eor\n",
       "\n",
       "[135469 rows x 1 columns]"
      ]
     },
     "execution_count": 5,
     "metadata": {},
     "output_type": "execute_result"
    }
   ],
   "source": [
    "aachen_raindata = pd.read_csv(aachen_raindata_file)\n",
    "aachen_raindata # shows the first 5 and the last 5 rows of the dataFrame"
   ]
  },
  {
   "cell_type": "markdown",
   "metadata": {},
   "source": [
    "A __Pandas `DataFrame`__ represents a table in which data is represented in rows and columns, much like in an _Excel spreadsheet_."
   ]
  },
  {
   "cell_type": "code",
   "execution_count": 6,
   "metadata": {},
   "outputs": [
    {
     "data": {
      "text/plain": [
       "pandas.core.frame.DataFrame"
      ]
     },
     "execution_count": 6,
     "metadata": {},
     "output_type": "execute_result"
    }
   ],
   "source": [
    "type(aachen_raindata)"
   ]
  },
  {
   "cell_type": "markdown",
   "metadata": {},
   "source": [
    "Each row in our table can be adressed using its _index_. What that index is might change depending on the application - we might want to index our data by timestamps, a combination of timestamps and weather station ids or something else entirely. We can find how our `DataFrame` is currently indexed like so:"
   ]
  },
  {
   "cell_type": "code",
   "execution_count": 7,
   "metadata": {},
   "outputs": [
    {
     "data": {
      "text/plain": [
       "RangeIndex(start=0, stop=135469, step=1)"
      ]
     },
     "execution_count": 7,
     "metadata": {},
     "output_type": "execute_result"
    }
   ],
   "source": [
    "aachen_raindata.index"
   ]
  },
  {
   "cell_type": "markdown",
   "metadata": {},
   "source": [
    "Currently, our data is simply indexed by ascending integers, starting at zero. That is the default behavior. We have 135.469 rows (entries). We can also explicitly find out the number of rows by using the well known built-in function `len`:"
   ]
  },
  {
   "cell_type": "code",
   "execution_count": 8,
   "metadata": {},
   "outputs": [
    {
     "data": {
      "text/plain": [
       "135469"
      ]
     },
     "execution_count": 8,
     "metadata": {},
     "output_type": "execute_result"
    }
   ],
   "source": [
    "len(aachen_raindata)"
   ]
  },
  {
   "cell_type": "markdown",
   "metadata": {},
   "source": [
    "Now that we know what our rows are - what are our columns?"
   ]
  },
  {
   "cell_type": "code",
   "execution_count": 9,
   "metadata": {},
   "outputs": [
    {
     "data": {
      "text/plain": [
       "Index(['STATIONS_ID;MESS_DATUM;QN_8;  R1;RS_IND;WRTR;eor'], dtype='object')"
      ]
     },
     "execution_count": 9,
     "metadata": {},
     "output_type": "execute_result"
    }
   ],
   "source": [
    "aachen_raindata.columns"
   ]
  },
  {
   "cell_type": "markdown",
   "metadata": {},
   "source": [
    "Now this doesn't look right - we've only got a single column with all the data squished together. Let's look at the [documentation](https://pandas.pydata.org/pandas-docs/stable/reference/api/pandas.read_csv.html) for `read_csv`:"
   ]
  },
  {
   "cell_type": "code",
   "execution_count": 10,
   "metadata": {
    "tags": []
   },
   "outputs": [],
   "source": [
    "# uncomment to view documentation inline\n",
    "# help(pd.read_csv)"
   ]
  },
  {
   "cell_type": "markdown",
   "metadata": {},
   "source": [
    "The default separator for identifying columns is a comma (thus csv - comma separated values), but our file uses semicolons. This we can tell read_csv, when reading in data. Let's try again:"
   ]
  },
  {
   "cell_type": "code",
   "execution_count": 11,
   "metadata": {},
   "outputs": [
    {
     "data": {
      "text/html": [
       "<div>\n",
       "<style scoped>\n",
       "    .dataframe tbody tr th:only-of-type {\n",
       "        vertical-align: middle;\n",
       "    }\n",
       "\n",
       "    .dataframe tbody tr th {\n",
       "        vertical-align: top;\n",
       "    }\n",
       "\n",
       "    .dataframe thead th {\n",
       "        text-align: right;\n",
       "    }\n",
       "</style>\n",
       "<table border=\"1\" class=\"dataframe\">\n",
       "  <thead>\n",
       "    <tr style=\"text-align: right;\">\n",
       "      <th></th>\n",
       "      <th>STATIONS_ID</th>\n",
       "      <th>MESS_DATUM</th>\n",
       "      <th>QN_8</th>\n",
       "      <th>R1</th>\n",
       "      <th>RS_IND</th>\n",
       "      <th>WRTR</th>\n",
       "      <th>eor</th>\n",
       "    </tr>\n",
       "  </thead>\n",
       "  <tbody>\n",
       "    <tr>\n",
       "      <th>0</th>\n",
       "      <td>3</td>\n",
       "      <td>1995090100</td>\n",
       "      <td>1</td>\n",
       "      <td>0.0</td>\n",
       "      <td>0</td>\n",
       "      <td>-999</td>\n",
       "      <td>eor</td>\n",
       "    </tr>\n",
       "    <tr>\n",
       "      <th>1</th>\n",
       "      <td>3</td>\n",
       "      <td>1995090101</td>\n",
       "      <td>1</td>\n",
       "      <td>0.0</td>\n",
       "      <td>0</td>\n",
       "      <td>-999</td>\n",
       "      <td>eor</td>\n",
       "    </tr>\n",
       "    <tr>\n",
       "      <th>2</th>\n",
       "      <td>3</td>\n",
       "      <td>1995090102</td>\n",
       "      <td>1</td>\n",
       "      <td>0.0</td>\n",
       "      <td>0</td>\n",
       "      <td>-999</td>\n",
       "      <td>eor</td>\n",
       "    </tr>\n",
       "    <tr>\n",
       "      <th>3</th>\n",
       "      <td>3</td>\n",
       "      <td>1995090103</td>\n",
       "      <td>1</td>\n",
       "      <td>0.0</td>\n",
       "      <td>0</td>\n",
       "      <td>-999</td>\n",
       "      <td>eor</td>\n",
       "    </tr>\n",
       "    <tr>\n",
       "      <th>4</th>\n",
       "      <td>3</td>\n",
       "      <td>1995090104</td>\n",
       "      <td>1</td>\n",
       "      <td>0.0</td>\n",
       "      <td>0</td>\n",
       "      <td>-999</td>\n",
       "      <td>eor</td>\n",
       "    </tr>\n",
       "    <tr>\n",
       "      <th>...</th>\n",
       "      <td>...</td>\n",
       "      <td>...</td>\n",
       "      <td>...</td>\n",
       "      <td>...</td>\n",
       "      <td>...</td>\n",
       "      <td>...</td>\n",
       "      <td>...</td>\n",
       "    </tr>\n",
       "    <tr>\n",
       "      <th>135464</th>\n",
       "      <td>3</td>\n",
       "      <td>2011033119</td>\n",
       "      <td>3</td>\n",
       "      <td>0.0</td>\n",
       "      <td>0</td>\n",
       "      <td>0</td>\n",
       "      <td>eor</td>\n",
       "    </tr>\n",
       "    <tr>\n",
       "      <th>135465</th>\n",
       "      <td>3</td>\n",
       "      <td>2011033120</td>\n",
       "      <td>3</td>\n",
       "      <td>0.0</td>\n",
       "      <td>0</td>\n",
       "      <td>0</td>\n",
       "      <td>eor</td>\n",
       "    </tr>\n",
       "    <tr>\n",
       "      <th>135466</th>\n",
       "      <td>3</td>\n",
       "      <td>2011033121</td>\n",
       "      <td>3</td>\n",
       "      <td>0.0</td>\n",
       "      <td>0</td>\n",
       "      <td>-999</td>\n",
       "      <td>eor</td>\n",
       "    </tr>\n",
       "    <tr>\n",
       "      <th>135467</th>\n",
       "      <td>3</td>\n",
       "      <td>2011033122</td>\n",
       "      <td>3</td>\n",
       "      <td>0.0</td>\n",
       "      <td>1</td>\n",
       "      <td>6</td>\n",
       "      <td>eor</td>\n",
       "    </tr>\n",
       "    <tr>\n",
       "      <th>135468</th>\n",
       "      <td>3</td>\n",
       "      <td>2011033123</td>\n",
       "      <td>3</td>\n",
       "      <td>0.0</td>\n",
       "      <td>0</td>\n",
       "      <td>0</td>\n",
       "      <td>eor</td>\n",
       "    </tr>\n",
       "  </tbody>\n",
       "</table>\n",
       "<p>135469 rows × 7 columns</p>\n",
       "</div>"
      ],
      "text/plain": [
       "        STATIONS_ID  MESS_DATUM  QN_8    R1  RS_IND  WRTR  eor\n",
       "0                 3  1995090100     1   0.0       0  -999  eor\n",
       "1                 3  1995090101     1   0.0       0  -999  eor\n",
       "2                 3  1995090102     1   0.0       0  -999  eor\n",
       "3                 3  1995090103     1   0.0       0  -999  eor\n",
       "4                 3  1995090104     1   0.0       0  -999  eor\n",
       "...             ...         ...   ...   ...     ...   ...  ...\n",
       "135464            3  2011033119     3   0.0       0     0  eor\n",
       "135465            3  2011033120     3   0.0       0     0  eor\n",
       "135466            3  2011033121     3   0.0       0  -999  eor\n",
       "135467            3  2011033122     3   0.0       1     6  eor\n",
       "135468            3  2011033123     3   0.0       0     0  eor\n",
       "\n",
       "[135469 rows x 7 columns]"
      ]
     },
     "execution_count": 11,
     "metadata": {},
     "output_type": "execute_result"
    }
   ],
   "source": [
    "aachen_raindata = pd.read_csv(aachen_raindata_file, sep=\";\") # alternative: delimiter=\";\"\n",
    "aachen_raindata"
   ]
  },
  {
   "cell_type": "markdown",
   "metadata": {},
   "source": [
    "This looks more like a table/spreadsheet with data in several columns. Let's have another look at the `columns` attribute:"
   ]
  },
  {
   "cell_type": "code",
   "execution_count": 12,
   "metadata": {},
   "outputs": [
    {
     "data": {
      "text/plain": [
       "Index(['STATIONS_ID', 'MESS_DATUM', 'QN_8', '  R1', 'RS_IND', 'WRTR', 'eor'], dtype='object')"
      ]
     },
     "execution_count": 12,
     "metadata": {},
     "output_type": "execute_result"
    }
   ],
   "source": [
    "aachen_raindata.columns"
   ]
  },
  {
   "cell_type": "markdown",
   "metadata": {},
   "source": [
    "Much better, but there is some leading whitespace before `R1`. That's confusing and not what we wanted. Looking a the [documentation](https://pandas.pydata.org/docs/reference/api/pandas.read_csv.html) again, we learn that we can instruct `read_csv` to trim whitespace following the separating semicolons. This is good for trimming the header of the columns as well as data entries. Thus retry like this:"
   ]
  },
  {
   "cell_type": "code",
   "execution_count": 13,
   "metadata": {},
   "outputs": [
    {
     "data": {
      "text/html": [
       "<div>\n",
       "<style scoped>\n",
       "    .dataframe tbody tr th:only-of-type {\n",
       "        vertical-align: middle;\n",
       "    }\n",
       "\n",
       "    .dataframe tbody tr th {\n",
       "        vertical-align: top;\n",
       "    }\n",
       "\n",
       "    .dataframe thead th {\n",
       "        text-align: right;\n",
       "    }\n",
       "</style>\n",
       "<table border=\"1\" class=\"dataframe\">\n",
       "  <thead>\n",
       "    <tr style=\"text-align: right;\">\n",
       "      <th></th>\n",
       "      <th>STATIONS_ID</th>\n",
       "      <th>MESS_DATUM</th>\n",
       "      <th>QN_8</th>\n",
       "      <th>R1</th>\n",
       "      <th>RS_IND</th>\n",
       "      <th>WRTR</th>\n",
       "      <th>eor</th>\n",
       "    </tr>\n",
       "  </thead>\n",
       "  <tbody>\n",
       "    <tr>\n",
       "      <th>0</th>\n",
       "      <td>3</td>\n",
       "      <td>1995090100</td>\n",
       "      <td>1</td>\n",
       "      <td>0.0</td>\n",
       "      <td>0</td>\n",
       "      <td>-999</td>\n",
       "      <td>eor</td>\n",
       "    </tr>\n",
       "    <tr>\n",
       "      <th>1</th>\n",
       "      <td>3</td>\n",
       "      <td>1995090101</td>\n",
       "      <td>1</td>\n",
       "      <td>0.0</td>\n",
       "      <td>0</td>\n",
       "      <td>-999</td>\n",
       "      <td>eor</td>\n",
       "    </tr>\n",
       "    <tr>\n",
       "      <th>2</th>\n",
       "      <td>3</td>\n",
       "      <td>1995090102</td>\n",
       "      <td>1</td>\n",
       "      <td>0.0</td>\n",
       "      <td>0</td>\n",
       "      <td>-999</td>\n",
       "      <td>eor</td>\n",
       "    </tr>\n",
       "    <tr>\n",
       "      <th>3</th>\n",
       "      <td>3</td>\n",
       "      <td>1995090103</td>\n",
       "      <td>1</td>\n",
       "      <td>0.0</td>\n",
       "      <td>0</td>\n",
       "      <td>-999</td>\n",
       "      <td>eor</td>\n",
       "    </tr>\n",
       "    <tr>\n",
       "      <th>4</th>\n",
       "      <td>3</td>\n",
       "      <td>1995090104</td>\n",
       "      <td>1</td>\n",
       "      <td>0.0</td>\n",
       "      <td>0</td>\n",
       "      <td>-999</td>\n",
       "      <td>eor</td>\n",
       "    </tr>\n",
       "    <tr>\n",
       "      <th>...</th>\n",
       "      <td>...</td>\n",
       "      <td>...</td>\n",
       "      <td>...</td>\n",
       "      <td>...</td>\n",
       "      <td>...</td>\n",
       "      <td>...</td>\n",
       "      <td>...</td>\n",
       "    </tr>\n",
       "    <tr>\n",
       "      <th>135464</th>\n",
       "      <td>3</td>\n",
       "      <td>2011033119</td>\n",
       "      <td>3</td>\n",
       "      <td>0.0</td>\n",
       "      <td>0</td>\n",
       "      <td>0</td>\n",
       "      <td>eor</td>\n",
       "    </tr>\n",
       "    <tr>\n",
       "      <th>135465</th>\n",
       "      <td>3</td>\n",
       "      <td>2011033120</td>\n",
       "      <td>3</td>\n",
       "      <td>0.0</td>\n",
       "      <td>0</td>\n",
       "      <td>0</td>\n",
       "      <td>eor</td>\n",
       "    </tr>\n",
       "    <tr>\n",
       "      <th>135466</th>\n",
       "      <td>3</td>\n",
       "      <td>2011033121</td>\n",
       "      <td>3</td>\n",
       "      <td>0.0</td>\n",
       "      <td>0</td>\n",
       "      <td>-999</td>\n",
       "      <td>eor</td>\n",
       "    </tr>\n",
       "    <tr>\n",
       "      <th>135467</th>\n",
       "      <td>3</td>\n",
       "      <td>2011033122</td>\n",
       "      <td>3</td>\n",
       "      <td>0.0</td>\n",
       "      <td>1</td>\n",
       "      <td>6</td>\n",
       "      <td>eor</td>\n",
       "    </tr>\n",
       "    <tr>\n",
       "      <th>135468</th>\n",
       "      <td>3</td>\n",
       "      <td>2011033123</td>\n",
       "      <td>3</td>\n",
       "      <td>0.0</td>\n",
       "      <td>0</td>\n",
       "      <td>0</td>\n",
       "      <td>eor</td>\n",
       "    </tr>\n",
       "  </tbody>\n",
       "</table>\n",
       "<p>135469 rows × 7 columns</p>\n",
       "</div>"
      ],
      "text/plain": [
       "        STATIONS_ID  MESS_DATUM  QN_8   R1  RS_IND  WRTR  eor\n",
       "0                 3  1995090100     1  0.0       0  -999  eor\n",
       "1                 3  1995090101     1  0.0       0  -999  eor\n",
       "2                 3  1995090102     1  0.0       0  -999  eor\n",
       "3                 3  1995090103     1  0.0       0  -999  eor\n",
       "4                 3  1995090104     1  0.0       0  -999  eor\n",
       "...             ...         ...   ...  ...     ...   ...  ...\n",
       "135464            3  2011033119     3  0.0       0     0  eor\n",
       "135465            3  2011033120     3  0.0       0     0  eor\n",
       "135466            3  2011033121     3  0.0       0  -999  eor\n",
       "135467            3  2011033122     3  0.0       1     6  eor\n",
       "135468            3  2011033123     3  0.0       0     0  eor\n",
       "\n",
       "[135469 rows x 7 columns]"
      ]
     },
     "execution_count": 13,
     "metadata": {},
     "output_type": "execute_result"
    }
   ],
   "source": [
    "aachen_raindata = pd.read_csv(aachen_raindata_file, delimiter=\";\", skipinitialspace=True)\n",
    "aachen_raindata"
   ]
  },
  {
   "cell_type": "markdown",
   "metadata": {},
   "source": [
    "One final look:"
   ]
  },
  {
   "cell_type": "code",
   "execution_count": 14,
   "metadata": {},
   "outputs": [
    {
     "data": {
      "text/plain": [
       "Index(['STATIONS_ID', 'MESS_DATUM', 'QN_8', 'R1', 'RS_IND', 'WRTR', 'eor'], dtype='object')"
      ]
     },
     "execution_count": 14,
     "metadata": {},
     "output_type": "execute_result"
    }
   ],
   "source": [
    "aachen_raindata.columns"
   ]
  },
  {
   "cell_type": "markdown",
   "metadata": {},
   "source": [
    "Looks good!\n",
    "\n",
    "To make sense of this data, we need to look at the documentation also provided by the DWD alongside the dataset. Here's the important bits for us:\n",
    "\n",
    "| Column Name | Description|\n",
    "|-------------|------------|\n",
    "|STATIONS_ID|The id of the weather station. Aachen is number 3.|\n",
    "|MESS_DATUM|A timestamp for the measurement in the format `yyyymmddhh`.|\n",
    "|QN_8|A quality level indicator for each measurement.|\n",
    "|R1|Hourly precipitation in mm|\n",
    "|RS_IND|`1` if there was any precipitation, `0` otherwise|\n",
    "|WRTR|Classification of precipitation (snow, hail, rain, etc.)|\n",
    "|eor|`End Of Record` - each line in original file ends like this.|"
   ]
  },
  {
   "cell_type": "markdown",
   "metadata": {},
   "source": [
    "We can also check the data type of each of the columns:"
   ]
  },
  {
   "cell_type": "code",
   "execution_count": 15,
   "metadata": {},
   "outputs": [
    {
     "data": {
      "text/plain": [
       "STATIONS_ID      int64\n",
       "MESS_DATUM       int64\n",
       "QN_8             int64\n",
       "R1             float64\n",
       "RS_IND           int64\n",
       "WRTR             int64\n",
       "eor             object\n",
       "dtype: object"
      ]
     },
     "execution_count": 15,
     "metadata": {},
     "output_type": "execute_result"
    }
   ],
   "source": [
    "aachen_raindata.dtypes"
   ]
  },
  {
   "cell_type": "markdown",
   "metadata": {},
   "source": [
    "How to address single rows, we'll introduce in a while. Let's first have a look at the columns of our dataset."
   ]
  },
  {
   "cell_type": "markdown",
   "metadata": {},
   "source": [
    "---\n",
    "<a  id='focussingOnASingleColumn'></a>\n",
    "## [Focussing on a Single Column](#top)"
   ]
  },
  {
   "cell_type": "markdown",
   "metadata": {},
   "source": [
    "From the preview of our dataFrame we've seen so far, it seems as if all entries might be zero. Let's have a closer look at that particular column. We can use a dictionary-like syntax for that:"
   ]
  },
  {
   "cell_type": "code",
   "execution_count": 16,
   "metadata": {},
   "outputs": [
    {
     "data": {
      "text/plain": [
       "0         0.0\n",
       "1         0.0\n",
       "2         0.0\n",
       "3         0.0\n",
       "4         0.0\n",
       "         ... \n",
       "135464    0.0\n",
       "135465    0.0\n",
       "135466    0.0\n",
       "135467    0.0\n",
       "135468    0.0\n",
       "Name: R1, Length: 135469, dtype: float64"
      ]
     },
     "execution_count": 16,
     "metadata": {},
     "output_type": "execute_result"
    }
   ],
   "source": [
    "hourly_precipitation = aachen_raindata['R1']\n",
    "hourly_precipitation"
   ]
  },
  {
   "cell_type": "markdown",
   "metadata": {},
   "source": [
    "An alternative way to address a single column is using the header string of the column as if it was an attribute of the dataFrame:"
   ]
  },
  {
   "cell_type": "code",
   "execution_count": 17,
   "metadata": {},
   "outputs": [
    {
     "data": {
      "text/plain": [
       "0         0.0\n",
       "1         0.0\n",
       "2         0.0\n",
       "3         0.0\n",
       "4         0.0\n",
       "         ... \n",
       "135464    0.0\n",
       "135465    0.0\n",
       "135466    0.0\n",
       "135467    0.0\n",
       "135468    0.0\n",
       "Name: R1, Length: 135469, dtype: float64"
      ]
     },
     "execution_count": 17,
     "metadata": {},
     "output_type": "execute_result"
    }
   ],
   "source": [
    "aachen_raindata.R1"
   ]
  },
  {
   "cell_type": "markdown",
   "metadata": {},
   "source": [
    "Each column of a pandas `DataFrame` corresponds to the pandas data type `Series`, on which already small analyses can be performed by using built-in functions, like `max()` or `mean()`. "
   ]
  },
  {
   "cell_type": "markdown",
   "metadata": {},
   "source": [
    "Let's quickly check the type of this `hourly_precipitation` object we've just created:"
   ]
  },
  {
   "cell_type": "code",
   "execution_count": 18,
   "metadata": {},
   "outputs": [
    {
     "data": {
      "text/plain": [
       "pandas.core.series.Series"
      ]
     },
     "execution_count": 18,
     "metadata": {},
     "output_type": "execute_result"
    }
   ],
   "source": [
    "type(hourly_precipitation)"
   ]
  },
  {
   "cell_type": "markdown",
   "metadata": {},
   "source": [
    "A __Series__ the specialised data structure for _one-dimensional_ data in _Pandas_. That is in contrast to _`DataFrames`_, which represent tables, i.e. _two-dimensional_ data.\n",
    "\n",
    "Internally, _Pandas_ stores its __Series__ data in an __array__, which we can access like so:"
   ]
  },
  {
   "cell_type": "code",
   "execution_count": 19,
   "metadata": {},
   "outputs": [
    {
     "data": {
      "text/plain": [
       "<NumpyExtensionArray>\n",
       "[0.0, 0.0, 0.0, 0.0, 0.0, 0.0, 0.0, 0.0, 0.0, 0.0,\n",
       " ...\n",
       " 0.0, 0.0, 0.0, 0.0, 0.0, 0.0, 0.0, 0.0, 0.0, 0.0]\n",
       "Length: 135469, dtype: float64"
      ]
     },
     "execution_count": 19,
     "metadata": {},
     "output_type": "execute_result"
    }
   ],
   "source": [
    "hourly_precipitation.array"
   ]
  },
  {
   "cell_type": "markdown",
   "metadata": {},
   "source": [
    "<a id=\"arrays\"></a>\n",
    "Though arrays have many conceptional similarites with `lists`, they differ in two key points:\n",
    "- they may only contain __data of one type__\n",
    "- their __length is fixed__\n",
    "These two properties enable a significantly more efficient representation in memory, which is one of the key reasons _Pandas_ operations can achieve such high performance."
   ]
  },
  {
   "cell_type": "markdown",
   "metadata": {},
   "source": [
    "\n",
    "There are a lot of useful methods on _Series_, which you can check out in the [documentation](https://pandas.pydata.org/docs/reference/api/pandas.Series.html#pandas.Series). We'll start by using a few functions from _univariate statistics_ (i.e. statistical analysis with a single variable):\n",
    "\n",
    "- `max`\n",
    "- `mean`"
   ]
  },
  {
   "cell_type": "code",
   "execution_count": 20,
   "metadata": {},
   "outputs": [
    {
     "name": "stdout",
     "output_type": "stream",
     "text": [
      "maximum: 28.1\n",
      "mean: -1.7384766994662988\n",
      "median: 0.0\n"
     ]
    }
   ],
   "source": [
    "print(\"maximum:\", hourly_precipitation.max())\n",
    "print(\"mean:\", hourly_precipitation.mean())\n",
    "print(\"median:\", hourly_precipitation.median())"
   ]
  },
  {
   "cell_type": "markdown",
   "metadata": {},
   "source": [
    "How can the mean hourly precipitation be negative? That doesn't make sense. Let's use the convenient `describe` method to give us a couple of statistical indicators all at once for an overview:"
   ]
  },
  {
   "cell_type": "code",
   "execution_count": 21,
   "metadata": {},
   "outputs": [
    {
     "data": {
      "text/plain": [
       "count    135469.000000\n",
       "mean         -1.738477\n",
       "std          42.710992\n",
       "min        -999.000000\n",
       "25%           0.000000\n",
       "50%           0.000000\n",
       "75%           0.000000\n",
       "max          28.100000\n",
       "Name: R1, dtype: float64"
      ]
     },
     "execution_count": 21,
     "metadata": {},
     "output_type": "execute_result"
    }
   ],
   "source": [
    "hourly_precipitation.describe()"
   ]
  },
  {
   "cell_type": "markdown",
   "metadata": {},
   "source": [
    "There seems to be at least one negative value in our dataset, namely `-999`.\n",
    "\n",
    "We can find out how many there are by filtering the _Series_ using a _lambda expression_ to specify certain values, and then count how many there are:"
   ]
  },
  {
   "cell_type": "code",
   "execution_count": 22,
   "metadata": {},
   "outputs": [
    {
     "data": {
      "text/plain": [
       "248"
      ]
     },
     "execution_count": 22,
     "metadata": {},
     "output_type": "execute_result"
    }
   ],
   "source": [
    "hourly_precipitation[lambda x: x == -999].count()"
   ]
  },
  {
   "cell_type": "markdown",
   "metadata": {},
   "source": [
    "Considering there are 248 such values in our dataset, these must have some special meaning.\n",
    "And indeed - the documentation that came with the DWD data explains that `-999` is used to indicate _missing data_.\n",
    "\n",
    "Missing data is simply a fact of life when dealing with real-world datasets.\n",
    "However, we need to teach _Pandas_ which values to interpret as missing data, right now it will just assume that `-999` is the precipitation value in that particular cell.\n",
    "\n",
    "Let's modify our _`DataFrame`_ by replacing `-999` with `np.nan`. `np` is the name we gave the `numpy` package when importing it (as is the convention within the `numpy` community) and `nan` stands for \"not a number\", which is used to indicate missing data.\n",
    "The `inplace` option tells the `replace` method to modify the existing `DataFrame` rather than returning a new one."
   ]
  },
  {
   "cell_type": "code",
   "execution_count": 23,
   "metadata": {},
   "outputs": [
    {
     "data": {
      "text/plain": [
       "count    135221.000000\n",
       "mean          0.090535\n",
       "std           0.460728\n",
       "min           0.000000\n",
       "25%           0.000000\n",
       "50%           0.000000\n",
       "75%           0.000000\n",
       "max          28.100000\n",
       "Name: R1, dtype: float64"
      ]
     },
     "execution_count": 23,
     "metadata": {},
     "output_type": "execute_result"
    }
   ],
   "source": [
    "aachen_raindata.replace(to_replace=-999, value=np.nan, inplace=True)\n",
    "hourly_precipitation = aachen_raindata['R1']\n",
    "hourly_precipitation.describe()"
   ]
  },
  {
   "cell_type": "markdown",
   "metadata": {},
   "source": [
    "Now this looks much more reasonable."
   ]
  },
  {
   "cell_type": "markdown",
   "metadata": {},
   "source": [
    "Let's get back to working with our entire table! We can check, how many measured data are missing, now coded as `NaN` values, which are not counted:"
   ]
  },
  {
   "cell_type": "code",
   "execution_count": 24,
   "metadata": {},
   "outputs": [
    {
     "data": {
      "text/plain": [
       "STATIONS_ID    135469\n",
       "MESS_DATUM     135469\n",
       "QN_8           135469\n",
       "R1             135221\n",
       "RS_IND         135221\n",
       "WRTR            58328\n",
       "eor            135469\n",
       "dtype: int64"
      ]
     },
     "execution_count": 24,
     "metadata": {},
     "output_type": "execute_result"
    }
   ],
   "source": [
    "aachen_raindata.count()"
   ]
  },
  {
   "cell_type": "markdown",
   "metadata": {},
   "source": [
    "We have more dates than data:"
   ]
  },
  {
   "cell_type": "code",
   "execution_count": 25,
   "metadata": {},
   "outputs": [
    {
     "data": {
      "text/plain": [
       "248"
      ]
     },
     "execution_count": 25,
     "metadata": {},
     "output_type": "execute_result"
    }
   ],
   "source": [
    "len(aachen_raindata) - aachen_raindata.R1.count()"
   ]
  },
  {
   "cell_type": "markdown",
   "metadata": {},
   "source": [
    "For the classification of the type of precipitation, we are even missing many more values. If we want to ignore the dates, where data is missing, we can drop all rows with missing values:"
   ]
  },
  {
   "cell_type": "code",
   "execution_count": 26,
   "metadata": {},
   "outputs": [
    {
     "data": {
      "text/plain": [
       "STATIONS_ID    58115\n",
       "MESS_DATUM     58115\n",
       "QN_8           58115\n",
       "R1             58115\n",
       "RS_IND         58115\n",
       "WRTR           58115\n",
       "eor            58115\n",
       "dtype: int64"
      ]
     },
     "execution_count": 26,
     "metadata": {},
     "output_type": "execute_result"
    }
   ],
   "source": [
    "only_complete_data = aachen_raindata.dropna()\n",
    "only_complete_data.count()"
   ]
  },
  {
   "cell_type": "markdown",
   "metadata": {},
   "source": [
    "For our analytics, we continue with the missing data, because we only sum up values and compute averages and the like, in which cases `NaN` values are ignored anyways."
   ]
  },
  {
   "cell_type": "markdown",
   "metadata": {},
   "source": [
    "---\n",
    "<a id='ModifyingDataFrames'></a>\n",
    "## [Modifying `DataFrames`](#top)"
   ]
  },
  {
   "cell_type": "code",
   "execution_count": 27,
   "metadata": {},
   "outputs": [
    {
     "data": {
      "text/html": [
       "<div>\n",
       "<style scoped>\n",
       "    .dataframe tbody tr th:only-of-type {\n",
       "        vertical-align: middle;\n",
       "    }\n",
       "\n",
       "    .dataframe tbody tr th {\n",
       "        vertical-align: top;\n",
       "    }\n",
       "\n",
       "    .dataframe thead th {\n",
       "        text-align: right;\n",
       "    }\n",
       "</style>\n",
       "<table border=\"1\" class=\"dataframe\">\n",
       "  <thead>\n",
       "    <tr style=\"text-align: right;\">\n",
       "      <th></th>\n",
       "      <th>STATIONS_ID</th>\n",
       "      <th>MESS_DATUM</th>\n",
       "      <th>QN_8</th>\n",
       "      <th>R1</th>\n",
       "      <th>RS_IND</th>\n",
       "      <th>WRTR</th>\n",
       "      <th>eor</th>\n",
       "    </tr>\n",
       "  </thead>\n",
       "  <tbody>\n",
       "    <tr>\n",
       "      <th>0</th>\n",
       "      <td>3</td>\n",
       "      <td>1995090100</td>\n",
       "      <td>1</td>\n",
       "      <td>0.0</td>\n",
       "      <td>0.0</td>\n",
       "      <td>NaN</td>\n",
       "      <td>eor</td>\n",
       "    </tr>\n",
       "    <tr>\n",
       "      <th>1</th>\n",
       "      <td>3</td>\n",
       "      <td>1995090101</td>\n",
       "      <td>1</td>\n",
       "      <td>0.0</td>\n",
       "      <td>0.0</td>\n",
       "      <td>NaN</td>\n",
       "      <td>eor</td>\n",
       "    </tr>\n",
       "    <tr>\n",
       "      <th>2</th>\n",
       "      <td>3</td>\n",
       "      <td>1995090102</td>\n",
       "      <td>1</td>\n",
       "      <td>0.0</td>\n",
       "      <td>0.0</td>\n",
       "      <td>NaN</td>\n",
       "      <td>eor</td>\n",
       "    </tr>\n",
       "    <tr>\n",
       "      <th>3</th>\n",
       "      <td>3</td>\n",
       "      <td>1995090103</td>\n",
       "      <td>1</td>\n",
       "      <td>0.0</td>\n",
       "      <td>0.0</td>\n",
       "      <td>NaN</td>\n",
       "      <td>eor</td>\n",
       "    </tr>\n",
       "    <tr>\n",
       "      <th>4</th>\n",
       "      <td>3</td>\n",
       "      <td>1995090104</td>\n",
       "      <td>1</td>\n",
       "      <td>0.0</td>\n",
       "      <td>0.0</td>\n",
       "      <td>NaN</td>\n",
       "      <td>eor</td>\n",
       "    </tr>\n",
       "    <tr>\n",
       "      <th>...</th>\n",
       "      <td>...</td>\n",
       "      <td>...</td>\n",
       "      <td>...</td>\n",
       "      <td>...</td>\n",
       "      <td>...</td>\n",
       "      <td>...</td>\n",
       "      <td>...</td>\n",
       "    </tr>\n",
       "    <tr>\n",
       "      <th>135464</th>\n",
       "      <td>3</td>\n",
       "      <td>2011033119</td>\n",
       "      <td>3</td>\n",
       "      <td>0.0</td>\n",
       "      <td>0.0</td>\n",
       "      <td>0.0</td>\n",
       "      <td>eor</td>\n",
       "    </tr>\n",
       "    <tr>\n",
       "      <th>135465</th>\n",
       "      <td>3</td>\n",
       "      <td>2011033120</td>\n",
       "      <td>3</td>\n",
       "      <td>0.0</td>\n",
       "      <td>0.0</td>\n",
       "      <td>0.0</td>\n",
       "      <td>eor</td>\n",
       "    </tr>\n",
       "    <tr>\n",
       "      <th>135466</th>\n",
       "      <td>3</td>\n",
       "      <td>2011033121</td>\n",
       "      <td>3</td>\n",
       "      <td>0.0</td>\n",
       "      <td>0.0</td>\n",
       "      <td>NaN</td>\n",
       "      <td>eor</td>\n",
       "    </tr>\n",
       "    <tr>\n",
       "      <th>135467</th>\n",
       "      <td>3</td>\n",
       "      <td>2011033122</td>\n",
       "      <td>3</td>\n",
       "      <td>0.0</td>\n",
       "      <td>1.0</td>\n",
       "      <td>6.0</td>\n",
       "      <td>eor</td>\n",
       "    </tr>\n",
       "    <tr>\n",
       "      <th>135468</th>\n",
       "      <td>3</td>\n",
       "      <td>2011033123</td>\n",
       "      <td>3</td>\n",
       "      <td>0.0</td>\n",
       "      <td>0.0</td>\n",
       "      <td>0.0</td>\n",
       "      <td>eor</td>\n",
       "    </tr>\n",
       "  </tbody>\n",
       "</table>\n",
       "<p>135469 rows × 7 columns</p>\n",
       "</div>"
      ],
      "text/plain": [
       "        STATIONS_ID  MESS_DATUM  QN_8   R1  RS_IND  WRTR  eor\n",
       "0                 3  1995090100     1  0.0     0.0   NaN  eor\n",
       "1                 3  1995090101     1  0.0     0.0   NaN  eor\n",
       "2                 3  1995090102     1  0.0     0.0   NaN  eor\n",
       "3                 3  1995090103     1  0.0     0.0   NaN  eor\n",
       "4                 3  1995090104     1  0.0     0.0   NaN  eor\n",
       "...             ...         ...   ...  ...     ...   ...  ...\n",
       "135464            3  2011033119     3  0.0     0.0   0.0  eor\n",
       "135465            3  2011033120     3  0.0     0.0   0.0  eor\n",
       "135466            3  2011033121     3  0.0     0.0   NaN  eor\n",
       "135467            3  2011033122     3  0.0     1.0   6.0  eor\n",
       "135468            3  2011033123     3  0.0     0.0   0.0  eor\n",
       "\n",
       "[135469 rows x 7 columns]"
      ]
     },
     "execution_count": 27,
     "metadata": {},
     "output_type": "execute_result"
    }
   ],
   "source": [
    "aachen_raindata"
   ]
  },
  {
   "cell_type": "code",
   "execution_count": 28,
   "metadata": {},
   "outputs": [
    {
     "data": {
      "text/plain": [
       "count    135469.0\n",
       "mean          3.0\n",
       "std           0.0\n",
       "min           3.0\n",
       "25%           3.0\n",
       "50%           3.0\n",
       "75%           3.0\n",
       "max           3.0\n",
       "Name: STATIONS_ID, dtype: float64"
      ]
     },
     "execution_count": 28,
     "metadata": {},
     "output_type": "execute_result"
    }
   ],
   "source": [
    "aachen_raindata.STATIONS_ID.describe()"
   ]
  },
  {
   "cell_type": "markdown",
   "metadata": {},
   "source": [
    "Here's a quick reminder of what the columns mean, along with what we're going to do with them:\n",
    "\n",
    "| Column Name | Description| Action |\n",
    "|-------------|------------|--------|\n",
    "|STATIONS_ID|The id of the weather station. Aachen is number 3.| Discard - they're all identical |\n",
    "|MESS_DATUM|A timestamp for the measurement in the format `yyyymmddhh`.| Parse into proper Python timestamp |\n",
    "|QN_8|A quality level indicator for each measurement.| Discard - we won't use this |\n",
    "|R1|Hourly precipitation in mm|Keep|\n",
    "|RS_IND|`1` if there was any precipitation, `0` otherwise|Keep|\n",
    "|WRTR|Classification of precipitation (snow, hail, rain, etc.)|Discard - we won't use this|\n",
    "|eor|`End Of Record` - each line in original file ends like this.|Discard - does not contain information|"
   ]
  },
  {
   "cell_type": "markdown",
   "metadata": {},
   "source": [
    "First, we discard the data that is unimportant to us using the function `drop()`: By passing `inplace=True` to the `drop` method, we tell Pandas to alter our existing `DataFrame`, rather than returning a new one with the columns dropped."
   ]
  },
  {
   "cell_type": "code",
   "execution_count": 29,
   "metadata": {},
   "outputs": [
    {
     "data": {
      "text/html": [
       "<div>\n",
       "<style scoped>\n",
       "    .dataframe tbody tr th:only-of-type {\n",
       "        vertical-align: middle;\n",
       "    }\n",
       "\n",
       "    .dataframe tbody tr th {\n",
       "        vertical-align: top;\n",
       "    }\n",
       "\n",
       "    .dataframe thead th {\n",
       "        text-align: right;\n",
       "    }\n",
       "</style>\n",
       "<table border=\"1\" class=\"dataframe\">\n",
       "  <thead>\n",
       "    <tr style=\"text-align: right;\">\n",
       "      <th></th>\n",
       "      <th>MESS_DATUM</th>\n",
       "      <th>R1</th>\n",
       "      <th>RS_IND</th>\n",
       "    </tr>\n",
       "  </thead>\n",
       "  <tbody>\n",
       "    <tr>\n",
       "      <th>0</th>\n",
       "      <td>1995090100</td>\n",
       "      <td>0.0</td>\n",
       "      <td>0.0</td>\n",
       "    </tr>\n",
       "    <tr>\n",
       "      <th>1</th>\n",
       "      <td>1995090101</td>\n",
       "      <td>0.0</td>\n",
       "      <td>0.0</td>\n",
       "    </tr>\n",
       "    <tr>\n",
       "      <th>2</th>\n",
       "      <td>1995090102</td>\n",
       "      <td>0.0</td>\n",
       "      <td>0.0</td>\n",
       "    </tr>\n",
       "    <tr>\n",
       "      <th>3</th>\n",
       "      <td>1995090103</td>\n",
       "      <td>0.0</td>\n",
       "      <td>0.0</td>\n",
       "    </tr>\n",
       "    <tr>\n",
       "      <th>4</th>\n",
       "      <td>1995090104</td>\n",
       "      <td>0.0</td>\n",
       "      <td>0.0</td>\n",
       "    </tr>\n",
       "    <tr>\n",
       "      <th>...</th>\n",
       "      <td>...</td>\n",
       "      <td>...</td>\n",
       "      <td>...</td>\n",
       "    </tr>\n",
       "    <tr>\n",
       "      <th>135464</th>\n",
       "      <td>2011033119</td>\n",
       "      <td>0.0</td>\n",
       "      <td>0.0</td>\n",
       "    </tr>\n",
       "    <tr>\n",
       "      <th>135465</th>\n",
       "      <td>2011033120</td>\n",
       "      <td>0.0</td>\n",
       "      <td>0.0</td>\n",
       "    </tr>\n",
       "    <tr>\n",
       "      <th>135466</th>\n",
       "      <td>2011033121</td>\n",
       "      <td>0.0</td>\n",
       "      <td>0.0</td>\n",
       "    </tr>\n",
       "    <tr>\n",
       "      <th>135467</th>\n",
       "      <td>2011033122</td>\n",
       "      <td>0.0</td>\n",
       "      <td>1.0</td>\n",
       "    </tr>\n",
       "    <tr>\n",
       "      <th>135468</th>\n",
       "      <td>2011033123</td>\n",
       "      <td>0.0</td>\n",
       "      <td>0.0</td>\n",
       "    </tr>\n",
       "  </tbody>\n",
       "</table>\n",
       "<p>135469 rows × 3 columns</p>\n",
       "</div>"
      ],
      "text/plain": [
       "        MESS_DATUM   R1  RS_IND\n",
       "0       1995090100  0.0     0.0\n",
       "1       1995090101  0.0     0.0\n",
       "2       1995090102  0.0     0.0\n",
       "3       1995090103  0.0     0.0\n",
       "4       1995090104  0.0     0.0\n",
       "...            ...  ...     ...\n",
       "135464  2011033119  0.0     0.0\n",
       "135465  2011033120  0.0     0.0\n",
       "135466  2011033121  0.0     0.0\n",
       "135467  2011033122  0.0     1.0\n",
       "135468  2011033123  0.0     0.0\n",
       "\n",
       "[135469 rows x 3 columns]"
      ]
     },
     "execution_count": 29,
     "metadata": {},
     "output_type": "execute_result"
    }
   ],
   "source": [
    "aachen_raindata.drop(columns=['STATIONS_ID', 'QN_8', 'WRTR', 'eor'], inplace=True)\n",
    "aachen_raindata"
   ]
  },
  {
   "cell_type": "markdown",
   "metadata": {},
   "source": [
    "Alternatively, we can create a new DataFrame and address only the columns we are interested in. Then the original DataFrame is not changed:"
   ]
  },
  {
   "cell_type": "code",
   "execution_count": 30,
   "metadata": {},
   "outputs": [
    {
     "data": {
      "text/html": [
       "<div>\n",
       "<style scoped>\n",
       "    .dataframe tbody tr th:only-of-type {\n",
       "        vertical-align: middle;\n",
       "    }\n",
       "\n",
       "    .dataframe tbody tr th {\n",
       "        vertical-align: top;\n",
       "    }\n",
       "\n",
       "    .dataframe thead th {\n",
       "        text-align: right;\n",
       "    }\n",
       "</style>\n",
       "<table border=\"1\" class=\"dataframe\">\n",
       "  <thead>\n",
       "    <tr style=\"text-align: right;\">\n",
       "      <th></th>\n",
       "      <th>R1</th>\n",
       "      <th>RS_IND</th>\n",
       "      <th>MESS_DATUM</th>\n",
       "    </tr>\n",
       "  </thead>\n",
       "  <tbody>\n",
       "    <tr>\n",
       "      <th>0</th>\n",
       "      <td>0.0</td>\n",
       "      <td>0.0</td>\n",
       "      <td>1995090100</td>\n",
       "    </tr>\n",
       "    <tr>\n",
       "      <th>1</th>\n",
       "      <td>0.0</td>\n",
       "      <td>0.0</td>\n",
       "      <td>1995090101</td>\n",
       "    </tr>\n",
       "    <tr>\n",
       "      <th>2</th>\n",
       "      <td>0.0</td>\n",
       "      <td>0.0</td>\n",
       "      <td>1995090102</td>\n",
       "    </tr>\n",
       "    <tr>\n",
       "      <th>3</th>\n",
       "      <td>0.0</td>\n",
       "      <td>0.0</td>\n",
       "      <td>1995090103</td>\n",
       "    </tr>\n",
       "    <tr>\n",
       "      <th>4</th>\n",
       "      <td>0.0</td>\n",
       "      <td>0.0</td>\n",
       "      <td>1995090104</td>\n",
       "    </tr>\n",
       "    <tr>\n",
       "      <th>...</th>\n",
       "      <td>...</td>\n",
       "      <td>...</td>\n",
       "      <td>...</td>\n",
       "    </tr>\n",
       "    <tr>\n",
       "      <th>135464</th>\n",
       "      <td>0.0</td>\n",
       "      <td>0.0</td>\n",
       "      <td>2011033119</td>\n",
       "    </tr>\n",
       "    <tr>\n",
       "      <th>135465</th>\n",
       "      <td>0.0</td>\n",
       "      <td>0.0</td>\n",
       "      <td>2011033120</td>\n",
       "    </tr>\n",
       "    <tr>\n",
       "      <th>135466</th>\n",
       "      <td>0.0</td>\n",
       "      <td>0.0</td>\n",
       "      <td>2011033121</td>\n",
       "    </tr>\n",
       "    <tr>\n",
       "      <th>135467</th>\n",
       "      <td>0.0</td>\n",
       "      <td>1.0</td>\n",
       "      <td>2011033122</td>\n",
       "    </tr>\n",
       "    <tr>\n",
       "      <th>135468</th>\n",
       "      <td>0.0</td>\n",
       "      <td>0.0</td>\n",
       "      <td>2011033123</td>\n",
       "    </tr>\n",
       "  </tbody>\n",
       "</table>\n",
       "<p>135469 rows × 3 columns</p>\n",
       "</div>"
      ],
      "text/plain": [
       "         R1  RS_IND  MESS_DATUM\n",
       "0       0.0     0.0  1995090100\n",
       "1       0.0     0.0  1995090101\n",
       "2       0.0     0.0  1995090102\n",
       "3       0.0     0.0  1995090103\n",
       "4       0.0     0.0  1995090104\n",
       "...     ...     ...         ...\n",
       "135464  0.0     0.0  2011033119\n",
       "135465  0.0     0.0  2011033120\n",
       "135466  0.0     0.0  2011033121\n",
       "135467  0.0     1.0  2011033122\n",
       "135468  0.0     0.0  2011033123\n",
       "\n",
       "[135469 rows x 3 columns]"
      ]
     },
     "execution_count": 30,
     "metadata": {},
     "output_type": "execute_result"
    }
   ],
   "source": [
    "ac_rain = aachen_raindata[['R1', 'RS_IND', 'MESS_DATUM']]\n",
    "ac_rain"
   ]
  },
  {
   "cell_type": "markdown",
   "metadata": {},
   "source": [
    "Right now, the timestamps in the `MESS_DATUM` column are simply long numbers to Python. Let's parse them into proper __datetime__ objects so we can work with them. _Pandas_ provides a handy function for that:"
   ]
  },
  {
   "cell_type": "code",
   "execution_count": 31,
   "metadata": {},
   "outputs": [
    {
     "data": {
      "text/html": [
       "<div>\n",
       "<style scoped>\n",
       "    .dataframe tbody tr th:only-of-type {\n",
       "        vertical-align: middle;\n",
       "    }\n",
       "\n",
       "    .dataframe tbody tr th {\n",
       "        vertical-align: top;\n",
       "    }\n",
       "\n",
       "    .dataframe thead th {\n",
       "        text-align: right;\n",
       "    }\n",
       "</style>\n",
       "<table border=\"1\" class=\"dataframe\">\n",
       "  <thead>\n",
       "    <tr style=\"text-align: right;\">\n",
       "      <th></th>\n",
       "      <th>MESS_DATUM</th>\n",
       "      <th>R1</th>\n",
       "      <th>RS_IND</th>\n",
       "      <th>time</th>\n",
       "    </tr>\n",
       "  </thead>\n",
       "  <tbody>\n",
       "    <tr>\n",
       "      <th>0</th>\n",
       "      <td>1995090100</td>\n",
       "      <td>0.0</td>\n",
       "      <td>0.0</td>\n",
       "      <td>1970-01-01 00:00:01.995090100</td>\n",
       "    </tr>\n",
       "    <tr>\n",
       "      <th>1</th>\n",
       "      <td>1995090101</td>\n",
       "      <td>0.0</td>\n",
       "      <td>0.0</td>\n",
       "      <td>1970-01-01 00:00:01.995090101</td>\n",
       "    </tr>\n",
       "    <tr>\n",
       "      <th>2</th>\n",
       "      <td>1995090102</td>\n",
       "      <td>0.0</td>\n",
       "      <td>0.0</td>\n",
       "      <td>1970-01-01 00:00:01.995090102</td>\n",
       "    </tr>\n",
       "    <tr>\n",
       "      <th>3</th>\n",
       "      <td>1995090103</td>\n",
       "      <td>0.0</td>\n",
       "      <td>0.0</td>\n",
       "      <td>1970-01-01 00:00:01.995090103</td>\n",
       "    </tr>\n",
       "    <tr>\n",
       "      <th>4</th>\n",
       "      <td>1995090104</td>\n",
       "      <td>0.0</td>\n",
       "      <td>0.0</td>\n",
       "      <td>1970-01-01 00:00:01.995090104</td>\n",
       "    </tr>\n",
       "    <tr>\n",
       "      <th>...</th>\n",
       "      <td>...</td>\n",
       "      <td>...</td>\n",
       "      <td>...</td>\n",
       "      <td>...</td>\n",
       "    </tr>\n",
       "    <tr>\n",
       "      <th>135464</th>\n",
       "      <td>2011033119</td>\n",
       "      <td>0.0</td>\n",
       "      <td>0.0</td>\n",
       "      <td>1970-01-01 00:00:02.011033119</td>\n",
       "    </tr>\n",
       "    <tr>\n",
       "      <th>135465</th>\n",
       "      <td>2011033120</td>\n",
       "      <td>0.0</td>\n",
       "      <td>0.0</td>\n",
       "      <td>1970-01-01 00:00:02.011033120</td>\n",
       "    </tr>\n",
       "    <tr>\n",
       "      <th>135466</th>\n",
       "      <td>2011033121</td>\n",
       "      <td>0.0</td>\n",
       "      <td>0.0</td>\n",
       "      <td>1970-01-01 00:00:02.011033121</td>\n",
       "    </tr>\n",
       "    <tr>\n",
       "      <th>135467</th>\n",
       "      <td>2011033122</td>\n",
       "      <td>0.0</td>\n",
       "      <td>1.0</td>\n",
       "      <td>1970-01-01 00:00:02.011033122</td>\n",
       "    </tr>\n",
       "    <tr>\n",
       "      <th>135468</th>\n",
       "      <td>2011033123</td>\n",
       "      <td>0.0</td>\n",
       "      <td>0.0</td>\n",
       "      <td>1970-01-01 00:00:02.011033123</td>\n",
       "    </tr>\n",
       "  </tbody>\n",
       "</table>\n",
       "<p>135469 rows × 4 columns</p>\n",
       "</div>"
      ],
      "text/plain": [
       "        MESS_DATUM   R1  RS_IND                          time\n",
       "0       1995090100  0.0     0.0 1970-01-01 00:00:01.995090100\n",
       "1       1995090101  0.0     0.0 1970-01-01 00:00:01.995090101\n",
       "2       1995090102  0.0     0.0 1970-01-01 00:00:01.995090102\n",
       "3       1995090103  0.0     0.0 1970-01-01 00:00:01.995090103\n",
       "4       1995090104  0.0     0.0 1970-01-01 00:00:01.995090104\n",
       "...            ...  ...     ...                           ...\n",
       "135464  2011033119  0.0     0.0 1970-01-01 00:00:02.011033119\n",
       "135465  2011033120  0.0     0.0 1970-01-01 00:00:02.011033120\n",
       "135466  2011033121  0.0     0.0 1970-01-01 00:00:02.011033121\n",
       "135467  2011033122  0.0     1.0 1970-01-01 00:00:02.011033122\n",
       "135468  2011033123  0.0     0.0 1970-01-01 00:00:02.011033123\n",
       "\n",
       "[135469 rows x 4 columns]"
      ]
     },
     "execution_count": 31,
     "metadata": {},
     "output_type": "execute_result"
    }
   ],
   "source": [
    "aachen_raindata['time'] = pd.to_datetime(aachen_raindata['MESS_DATUM'])\n",
    "aachen_raindata"
   ]
  },
  {
   "cell_type": "markdown",
   "metadata": {},
   "source": [
    "Again, this doesn't quite look right. Apparently our timestamps weren't in the format that `to_datetime` expects by default. We can specify an input format for our timestamps by providing a format string using the building blocks described in the [documentation](https://docs.python.org/3/library/datetime.html#strftime-and-strptime-format-codes). Let's try again:"
   ]
  },
  {
   "cell_type": "code",
   "execution_count": 32,
   "metadata": {},
   "outputs": [
    {
     "data": {
      "text/html": [
       "<div>\n",
       "<style scoped>\n",
       "    .dataframe tbody tr th:only-of-type {\n",
       "        vertical-align: middle;\n",
       "    }\n",
       "\n",
       "    .dataframe tbody tr th {\n",
       "        vertical-align: top;\n",
       "    }\n",
       "\n",
       "    .dataframe thead th {\n",
       "        text-align: right;\n",
       "    }\n",
       "</style>\n",
       "<table border=\"1\" class=\"dataframe\">\n",
       "  <thead>\n",
       "    <tr style=\"text-align: right;\">\n",
       "      <th></th>\n",
       "      <th>MESS_DATUM</th>\n",
       "      <th>R1</th>\n",
       "      <th>RS_IND</th>\n",
       "      <th>time</th>\n",
       "    </tr>\n",
       "  </thead>\n",
       "  <tbody>\n",
       "    <tr>\n",
       "      <th>0</th>\n",
       "      <td>1995090100</td>\n",
       "      <td>0.0</td>\n",
       "      <td>0.0</td>\n",
       "      <td>1995-09-01 00:00:00</td>\n",
       "    </tr>\n",
       "    <tr>\n",
       "      <th>1</th>\n",
       "      <td>1995090101</td>\n",
       "      <td>0.0</td>\n",
       "      <td>0.0</td>\n",
       "      <td>1995-09-01 01:00:00</td>\n",
       "    </tr>\n",
       "    <tr>\n",
       "      <th>2</th>\n",
       "      <td>1995090102</td>\n",
       "      <td>0.0</td>\n",
       "      <td>0.0</td>\n",
       "      <td>1995-09-01 02:00:00</td>\n",
       "    </tr>\n",
       "    <tr>\n",
       "      <th>3</th>\n",
       "      <td>1995090103</td>\n",
       "      <td>0.0</td>\n",
       "      <td>0.0</td>\n",
       "      <td>1995-09-01 03:00:00</td>\n",
       "    </tr>\n",
       "    <tr>\n",
       "      <th>4</th>\n",
       "      <td>1995090104</td>\n",
       "      <td>0.0</td>\n",
       "      <td>0.0</td>\n",
       "      <td>1995-09-01 04:00:00</td>\n",
       "    </tr>\n",
       "    <tr>\n",
       "      <th>...</th>\n",
       "      <td>...</td>\n",
       "      <td>...</td>\n",
       "      <td>...</td>\n",
       "      <td>...</td>\n",
       "    </tr>\n",
       "    <tr>\n",
       "      <th>135464</th>\n",
       "      <td>2011033119</td>\n",
       "      <td>0.0</td>\n",
       "      <td>0.0</td>\n",
       "      <td>2011-03-31 19:00:00</td>\n",
       "    </tr>\n",
       "    <tr>\n",
       "      <th>135465</th>\n",
       "      <td>2011033120</td>\n",
       "      <td>0.0</td>\n",
       "      <td>0.0</td>\n",
       "      <td>2011-03-31 20:00:00</td>\n",
       "    </tr>\n",
       "    <tr>\n",
       "      <th>135466</th>\n",
       "      <td>2011033121</td>\n",
       "      <td>0.0</td>\n",
       "      <td>0.0</td>\n",
       "      <td>2011-03-31 21:00:00</td>\n",
       "    </tr>\n",
       "    <tr>\n",
       "      <th>135467</th>\n",
       "      <td>2011033122</td>\n",
       "      <td>0.0</td>\n",
       "      <td>1.0</td>\n",
       "      <td>2011-03-31 22:00:00</td>\n",
       "    </tr>\n",
       "    <tr>\n",
       "      <th>135468</th>\n",
       "      <td>2011033123</td>\n",
       "      <td>0.0</td>\n",
       "      <td>0.0</td>\n",
       "      <td>2011-03-31 23:00:00</td>\n",
       "    </tr>\n",
       "  </tbody>\n",
       "</table>\n",
       "<p>135469 rows × 4 columns</p>\n",
       "</div>"
      ],
      "text/plain": [
       "        MESS_DATUM   R1  RS_IND                time\n",
       "0       1995090100  0.0     0.0 1995-09-01 00:00:00\n",
       "1       1995090101  0.0     0.0 1995-09-01 01:00:00\n",
       "2       1995090102  0.0     0.0 1995-09-01 02:00:00\n",
       "3       1995090103  0.0     0.0 1995-09-01 03:00:00\n",
       "4       1995090104  0.0     0.0 1995-09-01 04:00:00\n",
       "...            ...  ...     ...                 ...\n",
       "135464  2011033119  0.0     0.0 2011-03-31 19:00:00\n",
       "135465  2011033120  0.0     0.0 2011-03-31 20:00:00\n",
       "135466  2011033121  0.0     0.0 2011-03-31 21:00:00\n",
       "135467  2011033122  0.0     1.0 2011-03-31 22:00:00\n",
       "135468  2011033123  0.0     0.0 2011-03-31 23:00:00\n",
       "\n",
       "[135469 rows x 4 columns]"
      ]
     },
     "execution_count": 32,
     "metadata": {},
     "output_type": "execute_result"
    }
   ],
   "source": [
    "aachen_raindata['time'] = pd.to_datetime(aachen_raindata['MESS_DATUM'], format=\"%Y%m%d%H\")\n",
    "aachen_raindata"
   ]
  },
  {
   "cell_type": "markdown",
   "metadata": {},
   "source": [
    "Third, we rename the headers for better understanding. We also delete the column with the old timestamp format, as we no longer need this either:"
   ]
  },
  {
   "cell_type": "code",
   "execution_count": 33,
   "metadata": {
    "tags": []
   },
   "outputs": [
    {
     "data": {
      "text/html": [
       "<div>\n",
       "<style scoped>\n",
       "    .dataframe tbody tr th:only-of-type {\n",
       "        vertical-align: middle;\n",
       "    }\n",
       "\n",
       "    .dataframe tbody tr th {\n",
       "        vertical-align: top;\n",
       "    }\n",
       "\n",
       "    .dataframe thead th {\n",
       "        text-align: right;\n",
       "    }\n",
       "</style>\n",
       "<table border=\"1\" class=\"dataframe\">\n",
       "  <thead>\n",
       "    <tr style=\"text-align: right;\">\n",
       "      <th></th>\n",
       "      <th>mm</th>\n",
       "      <th>prec</th>\n",
       "      <th>time</th>\n",
       "    </tr>\n",
       "  </thead>\n",
       "  <tbody>\n",
       "    <tr>\n",
       "      <th>0</th>\n",
       "      <td>0.0</td>\n",
       "      <td>0.0</td>\n",
       "      <td>1995-09-01 00:00:00</td>\n",
       "    </tr>\n",
       "    <tr>\n",
       "      <th>1</th>\n",
       "      <td>0.0</td>\n",
       "      <td>0.0</td>\n",
       "      <td>1995-09-01 01:00:00</td>\n",
       "    </tr>\n",
       "    <tr>\n",
       "      <th>2</th>\n",
       "      <td>0.0</td>\n",
       "      <td>0.0</td>\n",
       "      <td>1995-09-01 02:00:00</td>\n",
       "    </tr>\n",
       "    <tr>\n",
       "      <th>3</th>\n",
       "      <td>0.0</td>\n",
       "      <td>0.0</td>\n",
       "      <td>1995-09-01 03:00:00</td>\n",
       "    </tr>\n",
       "    <tr>\n",
       "      <th>4</th>\n",
       "      <td>0.0</td>\n",
       "      <td>0.0</td>\n",
       "      <td>1995-09-01 04:00:00</td>\n",
       "    </tr>\n",
       "    <tr>\n",
       "      <th>...</th>\n",
       "      <td>...</td>\n",
       "      <td>...</td>\n",
       "      <td>...</td>\n",
       "    </tr>\n",
       "    <tr>\n",
       "      <th>135464</th>\n",
       "      <td>0.0</td>\n",
       "      <td>0.0</td>\n",
       "      <td>2011-03-31 19:00:00</td>\n",
       "    </tr>\n",
       "    <tr>\n",
       "      <th>135465</th>\n",
       "      <td>0.0</td>\n",
       "      <td>0.0</td>\n",
       "      <td>2011-03-31 20:00:00</td>\n",
       "    </tr>\n",
       "    <tr>\n",
       "      <th>135466</th>\n",
       "      <td>0.0</td>\n",
       "      <td>0.0</td>\n",
       "      <td>2011-03-31 21:00:00</td>\n",
       "    </tr>\n",
       "    <tr>\n",
       "      <th>135467</th>\n",
       "      <td>0.0</td>\n",
       "      <td>1.0</td>\n",
       "      <td>2011-03-31 22:00:00</td>\n",
       "    </tr>\n",
       "    <tr>\n",
       "      <th>135468</th>\n",
       "      <td>0.0</td>\n",
       "      <td>0.0</td>\n",
       "      <td>2011-03-31 23:00:00</td>\n",
       "    </tr>\n",
       "  </tbody>\n",
       "</table>\n",
       "<p>135469 rows × 3 columns</p>\n",
       "</div>"
      ],
      "text/plain": [
       "         mm  prec                time\n",
       "0       0.0   0.0 1995-09-01 00:00:00\n",
       "1       0.0   0.0 1995-09-01 01:00:00\n",
       "2       0.0   0.0 1995-09-01 02:00:00\n",
       "3       0.0   0.0 1995-09-01 03:00:00\n",
       "4       0.0   0.0 1995-09-01 04:00:00\n",
       "...     ...   ...                 ...\n",
       "135464  0.0   0.0 2011-03-31 19:00:00\n",
       "135465  0.0   0.0 2011-03-31 20:00:00\n",
       "135466  0.0   0.0 2011-03-31 21:00:00\n",
       "135467  0.0   1.0 2011-03-31 22:00:00\n",
       "135468  0.0   0.0 2011-03-31 23:00:00\n",
       "\n",
       "[135469 rows x 3 columns]"
      ]
     },
     "execution_count": 33,
     "metadata": {},
     "output_type": "execute_result"
    }
   ],
   "source": [
    "aachen_raindata.rename(columns={'R1': 'mm', 'RS_IND': 'prec'}, inplace=True)\n",
    "aachen_raindata.drop(columns=\"MESS_DATUM\", inplace=True)\n",
    "aachen_raindata"
   ]
  },
  {
   "cell_type": "markdown",
   "metadata": {},
   "source": [
    "Now we have turned the weather data into a usable dataset that we can analyze. This we will save, so that we need not redo all the cleaning and preparation erverytime when we want to re-analyze or look for further information."
   ]
  },
  {
   "cell_type": "code",
   "execution_count": 34,
   "metadata": {},
   "outputs": [],
   "source": [
    "aachen_raindata.to_csv(\"data/weather/aachen_raindata.csv\")"
   ]
  },
  {
   "cell_type": "markdown",
   "metadata": {},
   "source": [
    "Check out the written csv file [aachen_raindata.csv](\"p4ds-data/weather/aachen_raindata.csv\"). You will find, that we wrote complete DataFrame including the index, which is automatically added, when we read in the same data again. "
   ]
  },
  {
   "cell_type": "code",
   "execution_count": 35,
   "metadata": {},
   "outputs": [
    {
     "data": {
      "text/html": [
       "<div>\n",
       "<style scoped>\n",
       "    .dataframe tbody tr th:only-of-type {\n",
       "        vertical-align: middle;\n",
       "    }\n",
       "\n",
       "    .dataframe tbody tr th {\n",
       "        vertical-align: top;\n",
       "    }\n",
       "\n",
       "    .dataframe thead th {\n",
       "        text-align: right;\n",
       "    }\n",
       "</style>\n",
       "<table border=\"1\" class=\"dataframe\">\n",
       "  <thead>\n",
       "    <tr style=\"text-align: right;\">\n",
       "      <th></th>\n",
       "      <th>Unnamed: 0</th>\n",
       "      <th>mm</th>\n",
       "      <th>prec</th>\n",
       "      <th>time</th>\n",
       "    </tr>\n",
       "  </thead>\n",
       "  <tbody>\n",
       "    <tr>\n",
       "      <th>0</th>\n",
       "      <td>0</td>\n",
       "      <td>0.0</td>\n",
       "      <td>0.0</td>\n",
       "      <td>1995-09-01 00:00:00</td>\n",
       "    </tr>\n",
       "    <tr>\n",
       "      <th>1</th>\n",
       "      <td>1</td>\n",
       "      <td>0.0</td>\n",
       "      <td>0.0</td>\n",
       "      <td>1995-09-01 01:00:00</td>\n",
       "    </tr>\n",
       "    <tr>\n",
       "      <th>2</th>\n",
       "      <td>2</td>\n",
       "      <td>0.0</td>\n",
       "      <td>0.0</td>\n",
       "      <td>1995-09-01 02:00:00</td>\n",
       "    </tr>\n",
       "    <tr>\n",
       "      <th>3</th>\n",
       "      <td>3</td>\n",
       "      <td>0.0</td>\n",
       "      <td>0.0</td>\n",
       "      <td>1995-09-01 03:00:00</td>\n",
       "    </tr>\n",
       "    <tr>\n",
       "      <th>4</th>\n",
       "      <td>4</td>\n",
       "      <td>0.0</td>\n",
       "      <td>0.0</td>\n",
       "      <td>1995-09-01 04:00:00</td>\n",
       "    </tr>\n",
       "    <tr>\n",
       "      <th>...</th>\n",
       "      <td>...</td>\n",
       "      <td>...</td>\n",
       "      <td>...</td>\n",
       "      <td>...</td>\n",
       "    </tr>\n",
       "    <tr>\n",
       "      <th>135464</th>\n",
       "      <td>135464</td>\n",
       "      <td>0.0</td>\n",
       "      <td>0.0</td>\n",
       "      <td>2011-03-31 19:00:00</td>\n",
       "    </tr>\n",
       "    <tr>\n",
       "      <th>135465</th>\n",
       "      <td>135465</td>\n",
       "      <td>0.0</td>\n",
       "      <td>0.0</td>\n",
       "      <td>2011-03-31 20:00:00</td>\n",
       "    </tr>\n",
       "    <tr>\n",
       "      <th>135466</th>\n",
       "      <td>135466</td>\n",
       "      <td>0.0</td>\n",
       "      <td>0.0</td>\n",
       "      <td>2011-03-31 21:00:00</td>\n",
       "    </tr>\n",
       "    <tr>\n",
       "      <th>135467</th>\n",
       "      <td>135467</td>\n",
       "      <td>0.0</td>\n",
       "      <td>1.0</td>\n",
       "      <td>2011-03-31 22:00:00</td>\n",
       "    </tr>\n",
       "    <tr>\n",
       "      <th>135468</th>\n",
       "      <td>135468</td>\n",
       "      <td>0.0</td>\n",
       "      <td>0.0</td>\n",
       "      <td>2011-03-31 23:00:00</td>\n",
       "    </tr>\n",
       "  </tbody>\n",
       "</table>\n",
       "<p>135469 rows × 4 columns</p>\n",
       "</div>"
      ],
      "text/plain": [
       "        Unnamed: 0   mm  prec                 time\n",
       "0                0  0.0   0.0  1995-09-01 00:00:00\n",
       "1                1  0.0   0.0  1995-09-01 01:00:00\n",
       "2                2  0.0   0.0  1995-09-01 02:00:00\n",
       "3                3  0.0   0.0  1995-09-01 03:00:00\n",
       "4                4  0.0   0.0  1995-09-01 04:00:00\n",
       "...            ...  ...   ...                  ...\n",
       "135464      135464  0.0   0.0  2011-03-31 19:00:00\n",
       "135465      135465  0.0   0.0  2011-03-31 20:00:00\n",
       "135466      135466  0.0   0.0  2011-03-31 21:00:00\n",
       "135467      135467  0.0   1.0  2011-03-31 22:00:00\n",
       "135468      135468  0.0   0.0  2011-03-31 23:00:00\n",
       "\n",
       "[135469 rows x 4 columns]"
      ]
     },
     "execution_count": 35,
     "metadata": {},
     "output_type": "execute_result"
    }
   ],
   "source": [
    "aachen_raindata = pd.read_csv(\"data/weather/aachen_raindata.csv\")\n",
    "aachen_raindata"
   ]
  },
  {
   "cell_type": "markdown",
   "metadata": {},
   "source": [
    "Thus, we want to write the data without the index. Let's repair our data set (which also shows the way how to get rid of the duplicate index."
   ]
  },
  {
   "cell_type": "code",
   "execution_count": 36,
   "metadata": {},
   "outputs": [
    {
     "data": {
      "text/html": [
       "<div>\n",
       "<style scoped>\n",
       "    .dataframe tbody tr th:only-of-type {\n",
       "        vertical-align: middle;\n",
       "    }\n",
       "\n",
       "    .dataframe tbody tr th {\n",
       "        vertical-align: top;\n",
       "    }\n",
       "\n",
       "    .dataframe thead th {\n",
       "        text-align: right;\n",
       "    }\n",
       "</style>\n",
       "<table border=\"1\" class=\"dataframe\">\n",
       "  <thead>\n",
       "    <tr style=\"text-align: right;\">\n",
       "      <th></th>\n",
       "      <th>mm</th>\n",
       "      <th>prec</th>\n",
       "      <th>time</th>\n",
       "    </tr>\n",
       "  </thead>\n",
       "  <tbody>\n",
       "    <tr>\n",
       "      <th>0</th>\n",
       "      <td>0.0</td>\n",
       "      <td>0.0</td>\n",
       "      <td>1995-09-01 00:00:00</td>\n",
       "    </tr>\n",
       "    <tr>\n",
       "      <th>1</th>\n",
       "      <td>0.0</td>\n",
       "      <td>0.0</td>\n",
       "      <td>1995-09-01 01:00:00</td>\n",
       "    </tr>\n",
       "    <tr>\n",
       "      <th>2</th>\n",
       "      <td>0.0</td>\n",
       "      <td>0.0</td>\n",
       "      <td>1995-09-01 02:00:00</td>\n",
       "    </tr>\n",
       "    <tr>\n",
       "      <th>3</th>\n",
       "      <td>0.0</td>\n",
       "      <td>0.0</td>\n",
       "      <td>1995-09-01 03:00:00</td>\n",
       "    </tr>\n",
       "    <tr>\n",
       "      <th>4</th>\n",
       "      <td>0.0</td>\n",
       "      <td>0.0</td>\n",
       "      <td>1995-09-01 04:00:00</td>\n",
       "    </tr>\n",
       "    <tr>\n",
       "      <th>...</th>\n",
       "      <td>...</td>\n",
       "      <td>...</td>\n",
       "      <td>...</td>\n",
       "    </tr>\n",
       "    <tr>\n",
       "      <th>135464</th>\n",
       "      <td>0.0</td>\n",
       "      <td>0.0</td>\n",
       "      <td>2011-03-31 19:00:00</td>\n",
       "    </tr>\n",
       "    <tr>\n",
       "      <th>135465</th>\n",
       "      <td>0.0</td>\n",
       "      <td>0.0</td>\n",
       "      <td>2011-03-31 20:00:00</td>\n",
       "    </tr>\n",
       "    <tr>\n",
       "      <th>135466</th>\n",
       "      <td>0.0</td>\n",
       "      <td>0.0</td>\n",
       "      <td>2011-03-31 21:00:00</td>\n",
       "    </tr>\n",
       "    <tr>\n",
       "      <th>135467</th>\n",
       "      <td>0.0</td>\n",
       "      <td>1.0</td>\n",
       "      <td>2011-03-31 22:00:00</td>\n",
       "    </tr>\n",
       "    <tr>\n",
       "      <th>135468</th>\n",
       "      <td>0.0</td>\n",
       "      <td>0.0</td>\n",
       "      <td>2011-03-31 23:00:00</td>\n",
       "    </tr>\n",
       "  </tbody>\n",
       "</table>\n",
       "<p>135469 rows × 3 columns</p>\n",
       "</div>"
      ],
      "text/plain": [
       "         mm  prec                 time\n",
       "0       0.0   0.0  1995-09-01 00:00:00\n",
       "1       0.0   0.0  1995-09-01 01:00:00\n",
       "2       0.0   0.0  1995-09-01 02:00:00\n",
       "3       0.0   0.0  1995-09-01 03:00:00\n",
       "4       0.0   0.0  1995-09-01 04:00:00\n",
       "...     ...   ...                  ...\n",
       "135464  0.0   0.0  2011-03-31 19:00:00\n",
       "135465  0.0   0.0  2011-03-31 20:00:00\n",
       "135466  0.0   0.0  2011-03-31 21:00:00\n",
       "135467  0.0   1.0  2011-03-31 22:00:00\n",
       "135468  0.0   0.0  2011-03-31 23:00:00\n",
       "\n",
       "[135469 rows x 3 columns]"
      ]
     },
     "execution_count": 36,
     "metadata": {},
     "output_type": "execute_result"
    }
   ],
   "source": [
    "aachen_raindata.drop(columns='Unnamed: 0', inplace=True)\n",
    "aachen_raindata"
   ]
  },
  {
   "cell_type": "markdown",
   "metadata": {},
   "source": [
    "And now write without the index:"
   ]
  },
  {
   "cell_type": "code",
   "execution_count": 37,
   "metadata": {},
   "outputs": [],
   "source": [
    "aachen_raindata.to_csv(\"data/weather/aachen_raindata.csv\", index=False)"
   ]
  },
  {
   "cell_type": "markdown",
   "metadata": {},
   "source": [
    "Check out the file [aachen_raindata.csv](\"p4ds-data/weather/aachen_raindata.csv\") again."
   ]
  },
  {
   "cell_type": "markdown",
   "metadata": {},
   "source": [
    "---\n",
    "<a  id='SelectingAndFilteringRows'></a>\n",
    "## [Selecting and Filtering Rows](#top)"
   ]
  },
  {
   "cell_type": "markdown",
   "metadata": {},
   "source": [
    "Now let's start this section with the cleaned and saved data. We use the `parse_dates` option to interpret our time series correctly (rather than loading it as strings)."
   ]
  },
  {
   "cell_type": "code",
   "execution_count": 38,
   "metadata": {},
   "outputs": [
    {
     "data": {
      "text/html": [
       "<div>\n",
       "<style scoped>\n",
       "    .dataframe tbody tr th:only-of-type {\n",
       "        vertical-align: middle;\n",
       "    }\n",
       "\n",
       "    .dataframe tbody tr th {\n",
       "        vertical-align: top;\n",
       "    }\n",
       "\n",
       "    .dataframe thead th {\n",
       "        text-align: right;\n",
       "    }\n",
       "</style>\n",
       "<table border=\"1\" class=\"dataframe\">\n",
       "  <thead>\n",
       "    <tr style=\"text-align: right;\">\n",
       "      <th></th>\n",
       "      <th>mm</th>\n",
       "      <th>prec</th>\n",
       "      <th>time</th>\n",
       "    </tr>\n",
       "  </thead>\n",
       "  <tbody>\n",
       "    <tr>\n",
       "      <th>0</th>\n",
       "      <td>0.0</td>\n",
       "      <td>0.0</td>\n",
       "      <td>1995-09-01 00:00:00</td>\n",
       "    </tr>\n",
       "    <tr>\n",
       "      <th>1</th>\n",
       "      <td>0.0</td>\n",
       "      <td>0.0</td>\n",
       "      <td>1995-09-01 01:00:00</td>\n",
       "    </tr>\n",
       "    <tr>\n",
       "      <th>2</th>\n",
       "      <td>0.0</td>\n",
       "      <td>0.0</td>\n",
       "      <td>1995-09-01 02:00:00</td>\n",
       "    </tr>\n",
       "    <tr>\n",
       "      <th>3</th>\n",
       "      <td>0.0</td>\n",
       "      <td>0.0</td>\n",
       "      <td>1995-09-01 03:00:00</td>\n",
       "    </tr>\n",
       "    <tr>\n",
       "      <th>4</th>\n",
       "      <td>0.0</td>\n",
       "      <td>0.0</td>\n",
       "      <td>1995-09-01 04:00:00</td>\n",
       "    </tr>\n",
       "    <tr>\n",
       "      <th>...</th>\n",
       "      <td>...</td>\n",
       "      <td>...</td>\n",
       "      <td>...</td>\n",
       "    </tr>\n",
       "    <tr>\n",
       "      <th>135464</th>\n",
       "      <td>0.0</td>\n",
       "      <td>0.0</td>\n",
       "      <td>2011-03-31 19:00:00</td>\n",
       "    </tr>\n",
       "    <tr>\n",
       "      <th>135465</th>\n",
       "      <td>0.0</td>\n",
       "      <td>0.0</td>\n",
       "      <td>2011-03-31 20:00:00</td>\n",
       "    </tr>\n",
       "    <tr>\n",
       "      <th>135466</th>\n",
       "      <td>0.0</td>\n",
       "      <td>0.0</td>\n",
       "      <td>2011-03-31 21:00:00</td>\n",
       "    </tr>\n",
       "    <tr>\n",
       "      <th>135467</th>\n",
       "      <td>0.0</td>\n",
       "      <td>1.0</td>\n",
       "      <td>2011-03-31 22:00:00</td>\n",
       "    </tr>\n",
       "    <tr>\n",
       "      <th>135468</th>\n",
       "      <td>0.0</td>\n",
       "      <td>0.0</td>\n",
       "      <td>2011-03-31 23:00:00</td>\n",
       "    </tr>\n",
       "  </tbody>\n",
       "</table>\n",
       "<p>135469 rows × 3 columns</p>\n",
       "</div>"
      ],
      "text/plain": [
       "         mm  prec                time\n",
       "0       0.0   0.0 1995-09-01 00:00:00\n",
       "1       0.0   0.0 1995-09-01 01:00:00\n",
       "2       0.0   0.0 1995-09-01 02:00:00\n",
       "3       0.0   0.0 1995-09-01 03:00:00\n",
       "4       0.0   0.0 1995-09-01 04:00:00\n",
       "...     ...   ...                 ...\n",
       "135464  0.0   0.0 2011-03-31 19:00:00\n",
       "135465  0.0   0.0 2011-03-31 20:00:00\n",
       "135466  0.0   0.0 2011-03-31 21:00:00\n",
       "135467  0.0   1.0 2011-03-31 22:00:00\n",
       "135468  0.0   0.0 2011-03-31 23:00:00\n",
       "\n",
       "[135469 rows x 3 columns]"
      ]
     },
     "execution_count": 38,
     "metadata": {},
     "output_type": "execute_result"
    }
   ],
   "source": [
    "import pandas as pd\n",
    "import numpy as np\n",
    "aachen_raindata = pd.read_csv(\"data/weather/aachen_raindata.csv\", parse_dates=[2])\n",
    "aachen_raindata"
   ]
  },
  {
   "cell_type": "markdown",
   "metadata": {},
   "source": [
    "When browsing our dataset, we need a way to access any particular set of rows we might want. Let's look at a few methods that allow us to do just that:"
   ]
  },
  {
   "cell_type": "markdown",
   "metadata": {},
   "source": [
    "We can access the first `n` rows using `head(n)` like so:"
   ]
  },
  {
   "cell_type": "code",
   "execution_count": 39,
   "metadata": {},
   "outputs": [
    {
     "data": {
      "text/html": [
       "<div>\n",
       "<style scoped>\n",
       "    .dataframe tbody tr th:only-of-type {\n",
       "        vertical-align: middle;\n",
       "    }\n",
       "\n",
       "    .dataframe tbody tr th {\n",
       "        vertical-align: top;\n",
       "    }\n",
       "\n",
       "    .dataframe thead th {\n",
       "        text-align: right;\n",
       "    }\n",
       "</style>\n",
       "<table border=\"1\" class=\"dataframe\">\n",
       "  <thead>\n",
       "    <tr style=\"text-align: right;\">\n",
       "      <th></th>\n",
       "      <th>mm</th>\n",
       "      <th>prec</th>\n",
       "      <th>time</th>\n",
       "    </tr>\n",
       "  </thead>\n",
       "  <tbody>\n",
       "    <tr>\n",
       "      <th>0</th>\n",
       "      <td>0.0</td>\n",
       "      <td>0.0</td>\n",
       "      <td>1995-09-01 00:00:00</td>\n",
       "    </tr>\n",
       "    <tr>\n",
       "      <th>1</th>\n",
       "      <td>0.0</td>\n",
       "      <td>0.0</td>\n",
       "      <td>1995-09-01 01:00:00</td>\n",
       "    </tr>\n",
       "    <tr>\n",
       "      <th>2</th>\n",
       "      <td>0.0</td>\n",
       "      <td>0.0</td>\n",
       "      <td>1995-09-01 02:00:00</td>\n",
       "    </tr>\n",
       "  </tbody>\n",
       "</table>\n",
       "</div>"
      ],
      "text/plain": [
       "    mm  prec                time\n",
       "0  0.0   0.0 1995-09-01 00:00:00\n",
       "1  0.0   0.0 1995-09-01 01:00:00\n",
       "2  0.0   0.0 1995-09-01 02:00:00"
      ]
     },
     "execution_count": 39,
     "metadata": {},
     "output_type": "execute_result"
    }
   ],
   "source": [
    "aachen_raindata.head(3)"
   ]
  },
  {
   "cell_type": "markdown",
   "metadata": {},
   "source": [
    "Similarly for the last rows:"
   ]
  },
  {
   "cell_type": "code",
   "execution_count": 40,
   "metadata": {},
   "outputs": [
    {
     "data": {
      "text/html": [
       "<div>\n",
       "<style scoped>\n",
       "    .dataframe tbody tr th:only-of-type {\n",
       "        vertical-align: middle;\n",
       "    }\n",
       "\n",
       "    .dataframe tbody tr th {\n",
       "        vertical-align: top;\n",
       "    }\n",
       "\n",
       "    .dataframe thead th {\n",
       "        text-align: right;\n",
       "    }\n",
       "</style>\n",
       "<table border=\"1\" class=\"dataframe\">\n",
       "  <thead>\n",
       "    <tr style=\"text-align: right;\">\n",
       "      <th></th>\n",
       "      <th>mm</th>\n",
       "      <th>prec</th>\n",
       "      <th>time</th>\n",
       "    </tr>\n",
       "  </thead>\n",
       "  <tbody>\n",
       "    <tr>\n",
       "      <th>135466</th>\n",
       "      <td>0.0</td>\n",
       "      <td>0.0</td>\n",
       "      <td>2011-03-31 21:00:00</td>\n",
       "    </tr>\n",
       "    <tr>\n",
       "      <th>135467</th>\n",
       "      <td>0.0</td>\n",
       "      <td>1.0</td>\n",
       "      <td>2011-03-31 22:00:00</td>\n",
       "    </tr>\n",
       "    <tr>\n",
       "      <th>135468</th>\n",
       "      <td>0.0</td>\n",
       "      <td>0.0</td>\n",
       "      <td>2011-03-31 23:00:00</td>\n",
       "    </tr>\n",
       "  </tbody>\n",
       "</table>\n",
       "</div>"
      ],
      "text/plain": [
       "         mm  prec                time\n",
       "135466  0.0   0.0 2011-03-31 21:00:00\n",
       "135467  0.0   1.0 2011-03-31 22:00:00\n",
       "135468  0.0   0.0 2011-03-31 23:00:00"
      ]
     },
     "execution_count": 40,
     "metadata": {},
     "output_type": "execute_result"
    }
   ],
   "source": [
    "aachen_raindata.tail(3)"
   ]
  },
  {
   "cell_type": "markdown",
   "metadata": {},
   "source": [
    "Or a few randomly chosen ones:"
   ]
  },
  {
   "cell_type": "code",
   "execution_count": 41,
   "metadata": {},
   "outputs": [
    {
     "data": {
      "text/html": [
       "<div>\n",
       "<style scoped>\n",
       "    .dataframe tbody tr th:only-of-type {\n",
       "        vertical-align: middle;\n",
       "    }\n",
       "\n",
       "    .dataframe tbody tr th {\n",
       "        vertical-align: top;\n",
       "    }\n",
       "\n",
       "    .dataframe thead th {\n",
       "        text-align: right;\n",
       "    }\n",
       "</style>\n",
       "<table border=\"1\" class=\"dataframe\">\n",
       "  <thead>\n",
       "    <tr style=\"text-align: right;\">\n",
       "      <th></th>\n",
       "      <th>mm</th>\n",
       "      <th>prec</th>\n",
       "      <th>time</th>\n",
       "    </tr>\n",
       "  </thead>\n",
       "  <tbody>\n",
       "    <tr>\n",
       "      <th>87072</th>\n",
       "      <td>0.0</td>\n",
       "      <td>0.0</td>\n",
       "      <td>2005-09-21 18:00:00</td>\n",
       "    </tr>\n",
       "    <tr>\n",
       "      <th>116419</th>\n",
       "      <td>0.0</td>\n",
       "      <td>0.0</td>\n",
       "      <td>2009-01-27 06:00:00</td>\n",
       "    </tr>\n",
       "    <tr>\n",
       "      <th>117523</th>\n",
       "      <td>0.0</td>\n",
       "      <td>0.0</td>\n",
       "      <td>2009-03-14 06:00:00</td>\n",
       "    </tr>\n",
       "  </tbody>\n",
       "</table>\n",
       "</div>"
      ],
      "text/plain": [
       "         mm  prec                time\n",
       "87072   0.0   0.0 2005-09-21 18:00:00\n",
       "116419  0.0   0.0 2009-01-27 06:00:00\n",
       "117523  0.0   0.0 2009-03-14 06:00:00"
      ]
     },
     "execution_count": 41,
     "metadata": {},
     "output_type": "execute_result"
    }
   ],
   "source": [
    "aachen_raindata.sample(3)"
   ]
  },
  {
   "cell_type": "markdown",
   "metadata": {},
   "source": [
    "If we want to access a particular row in our `DataFrame` by its label, we can do so using the `loc` property in combination with the subscript operator (the index):"
   ]
  },
  {
   "cell_type": "code",
   "execution_count": 42,
   "metadata": {},
   "outputs": [
    {
     "data": {
      "text/plain": [
       "mm                      0.3\n",
       "prec                    1.0\n",
       "time    1995-09-03 00:00:00\n",
       "Name: 47, dtype: object"
      ]
     },
     "execution_count": 42,
     "metadata": {},
     "output_type": "execute_result"
    }
   ],
   "source": [
    "aachen_raindata.loc[47]"
   ]
  },
  {
   "cell_type": "markdown",
   "metadata": {},
   "source": [
    "It works for ranges of rows as well, but confusingly includes both endpoints, unlike regular `list` slicing syntax in Python:"
   ]
  },
  {
   "cell_type": "code",
   "execution_count": 43,
   "metadata": {},
   "outputs": [
    {
     "data": {
      "text/html": [
       "<div>\n",
       "<style scoped>\n",
       "    .dataframe tbody tr th:only-of-type {\n",
       "        vertical-align: middle;\n",
       "    }\n",
       "\n",
       "    .dataframe tbody tr th {\n",
       "        vertical-align: top;\n",
       "    }\n",
       "\n",
       "    .dataframe thead th {\n",
       "        text-align: right;\n",
       "    }\n",
       "</style>\n",
       "<table border=\"1\" class=\"dataframe\">\n",
       "  <thead>\n",
       "    <tr style=\"text-align: right;\">\n",
       "      <th></th>\n",
       "      <th>mm</th>\n",
       "      <th>prec</th>\n",
       "      <th>time</th>\n",
       "    </tr>\n",
       "  </thead>\n",
       "  <tbody>\n",
       "    <tr>\n",
       "      <th>47</th>\n",
       "      <td>0.3</td>\n",
       "      <td>1.0</td>\n",
       "      <td>1995-09-03 00:00:00</td>\n",
       "    </tr>\n",
       "    <tr>\n",
       "      <th>48</th>\n",
       "      <td>0.1</td>\n",
       "      <td>1.0</td>\n",
       "      <td>1995-09-03 01:00:00</td>\n",
       "    </tr>\n",
       "    <tr>\n",
       "      <th>49</th>\n",
       "      <td>0.0</td>\n",
       "      <td>1.0</td>\n",
       "      <td>1995-09-03 02:00:00</td>\n",
       "    </tr>\n",
       "    <tr>\n",
       "      <th>50</th>\n",
       "      <td>0.0</td>\n",
       "      <td>0.0</td>\n",
       "      <td>1995-09-03 03:00:00</td>\n",
       "    </tr>\n",
       "    <tr>\n",
       "      <th>51</th>\n",
       "      <td>0.0</td>\n",
       "      <td>0.0</td>\n",
       "      <td>1995-09-03 04:00:00</td>\n",
       "    </tr>\n",
       "    <tr>\n",
       "      <th>52</th>\n",
       "      <td>0.0</td>\n",
       "      <td>0.0</td>\n",
       "      <td>1995-09-03 05:00:00</td>\n",
       "    </tr>\n",
       "    <tr>\n",
       "      <th>53</th>\n",
       "      <td>0.0</td>\n",
       "      <td>0.0</td>\n",
       "      <td>1995-09-03 06:00:00</td>\n",
       "    </tr>\n",
       "  </tbody>\n",
       "</table>\n",
       "</div>"
      ],
      "text/plain": [
       "     mm  prec                time\n",
       "47  0.3   1.0 1995-09-03 00:00:00\n",
       "48  0.1   1.0 1995-09-03 01:00:00\n",
       "49  0.0   1.0 1995-09-03 02:00:00\n",
       "50  0.0   0.0 1995-09-03 03:00:00\n",
       "51  0.0   0.0 1995-09-03 04:00:00\n",
       "52  0.0   0.0 1995-09-03 05:00:00\n",
       "53  0.0   0.0 1995-09-03 06:00:00"
      ]
     },
     "execution_count": 43,
     "metadata": {},
     "output_type": "execute_result"
    }
   ],
   "source": [
    "aachen_raindata.loc[47:53]"
   ]
  },
  {
   "cell_type": "markdown",
   "metadata": {},
   "source": [
    "Now let's select rows based on their data, i. e. filter them. The `loc` property we've used so far can take a `Series` of `boolean` values for that use case. Let's say we're interested in all rows where the precipitation indicator is `1.0` - we can define a filter `Series` like so:"
   ]
  },
  {
   "cell_type": "code",
   "execution_count": 44,
   "metadata": {},
   "outputs": [
    {
     "data": {
      "text/plain": [
       "0         False\n",
       "1         False\n",
       "2         False\n",
       "3         False\n",
       "4         False\n",
       "          ...  \n",
       "135464    False\n",
       "135465    False\n",
       "135466    False\n",
       "135467     True\n",
       "135468    False\n",
       "Name: prec, Length: 135469, dtype: bool"
      ]
     },
     "execution_count": 44,
     "metadata": {},
     "output_type": "execute_result"
    }
   ],
   "source": [
    "rain_indices = aachen_raindata.prec == 1.0\n",
    "rain_indices"
   ]
  },
  {
   "cell_type": "markdown",
   "metadata": {},
   "source": [
    "Passing it to `loc` gives us only the rows where the `Series` is `True`:"
   ]
  },
  {
   "cell_type": "code",
   "execution_count": 45,
   "metadata": {},
   "outputs": [
    {
     "data": {
      "text/html": [
       "<div>\n",
       "<style scoped>\n",
       "    .dataframe tbody tr th:only-of-type {\n",
       "        vertical-align: middle;\n",
       "    }\n",
       "\n",
       "    .dataframe tbody tr th {\n",
       "        vertical-align: top;\n",
       "    }\n",
       "\n",
       "    .dataframe thead th {\n",
       "        text-align: right;\n",
       "    }\n",
       "</style>\n",
       "<table border=\"1\" class=\"dataframe\">\n",
       "  <thead>\n",
       "    <tr style=\"text-align: right;\">\n",
       "      <th></th>\n",
       "      <th>mm</th>\n",
       "      <th>prec</th>\n",
       "      <th>time</th>\n",
       "    </tr>\n",
       "  </thead>\n",
       "  <tbody>\n",
       "    <tr>\n",
       "      <th>39</th>\n",
       "      <td>0.0</td>\n",
       "      <td>1.0</td>\n",
       "      <td>1995-09-02 16:00:00</td>\n",
       "    </tr>\n",
       "    <tr>\n",
       "      <th>41</th>\n",
       "      <td>0.0</td>\n",
       "      <td>1.0</td>\n",
       "      <td>1995-09-02 18:00:00</td>\n",
       "    </tr>\n",
       "    <tr>\n",
       "      <th>42</th>\n",
       "      <td>0.0</td>\n",
       "      <td>1.0</td>\n",
       "      <td>1995-09-02 19:00:00</td>\n",
       "    </tr>\n",
       "    <tr>\n",
       "      <th>43</th>\n",
       "      <td>0.0</td>\n",
       "      <td>1.0</td>\n",
       "      <td>1995-09-02 20:00:00</td>\n",
       "    </tr>\n",
       "    <tr>\n",
       "      <th>44</th>\n",
       "      <td>0.0</td>\n",
       "      <td>1.0</td>\n",
       "      <td>1995-09-02 21:00:00</td>\n",
       "    </tr>\n",
       "    <tr>\n",
       "      <th>...</th>\n",
       "      <td>...</td>\n",
       "      <td>...</td>\n",
       "      <td>...</td>\n",
       "    </tr>\n",
       "    <tr>\n",
       "      <th>135456</th>\n",
       "      <td>2.0</td>\n",
       "      <td>1.0</td>\n",
       "      <td>2011-03-31 11:00:00</td>\n",
       "    </tr>\n",
       "    <tr>\n",
       "      <th>135457</th>\n",
       "      <td>1.1</td>\n",
       "      <td>1.0</td>\n",
       "      <td>2011-03-31 12:00:00</td>\n",
       "    </tr>\n",
       "    <tr>\n",
       "      <th>135458</th>\n",
       "      <td>0.0</td>\n",
       "      <td>1.0</td>\n",
       "      <td>2011-03-31 13:00:00</td>\n",
       "    </tr>\n",
       "    <tr>\n",
       "      <th>135460</th>\n",
       "      <td>0.0</td>\n",
       "      <td>1.0</td>\n",
       "      <td>2011-03-31 15:00:00</td>\n",
       "    </tr>\n",
       "    <tr>\n",
       "      <th>135467</th>\n",
       "      <td>0.0</td>\n",
       "      <td>1.0</td>\n",
       "      <td>2011-03-31 22:00:00</td>\n",
       "    </tr>\n",
       "  </tbody>\n",
       "</table>\n",
       "<p>37410 rows × 3 columns</p>\n",
       "</div>"
      ],
      "text/plain": [
       "         mm  prec                time\n",
       "39      0.0   1.0 1995-09-02 16:00:00\n",
       "41      0.0   1.0 1995-09-02 18:00:00\n",
       "42      0.0   1.0 1995-09-02 19:00:00\n",
       "43      0.0   1.0 1995-09-02 20:00:00\n",
       "44      0.0   1.0 1995-09-02 21:00:00\n",
       "...     ...   ...                 ...\n",
       "135456  2.0   1.0 2011-03-31 11:00:00\n",
       "135457  1.1   1.0 2011-03-31 12:00:00\n",
       "135458  0.0   1.0 2011-03-31 13:00:00\n",
       "135460  0.0   1.0 2011-03-31 15:00:00\n",
       "135467  0.0   1.0 2011-03-31 22:00:00\n",
       "\n",
       "[37410 rows x 3 columns]"
      ]
     },
     "execution_count": 45,
     "metadata": {},
     "output_type": "execute_result"
    }
   ],
   "source": [
    "aachen_raindata.loc[rain_indices]"
   ]
  },
  {
   "cell_type": "markdown",
   "metadata": {},
   "source": [
    "Instead of saving our index `Series` to a variable first, we can just as well define it directly within the subscript operator. When combining multiple `booelan Series` with `and` or `or`, as a quirk resulting from their implementation in _Pandas_, we have to use the following operators:\n",
    "\n",
    "- `&` for `and`\n",
    "- `|` for `or`\n",
    "\n",
    "Hence we can find all the rows representing hours during which it rained an amount that did not get rounded to zero like this:"
   ]
  },
  {
   "cell_type": "code",
   "execution_count": 46,
   "metadata": {},
   "outputs": [
    {
     "data": {
      "text/html": [
       "<div>\n",
       "<style scoped>\n",
       "    .dataframe tbody tr th:only-of-type {\n",
       "        vertical-align: middle;\n",
       "    }\n",
       "\n",
       "    .dataframe tbody tr th {\n",
       "        vertical-align: top;\n",
       "    }\n",
       "\n",
       "    .dataframe thead th {\n",
       "        text-align: right;\n",
       "    }\n",
       "</style>\n",
       "<table border=\"1\" class=\"dataframe\">\n",
       "  <thead>\n",
       "    <tr style=\"text-align: right;\">\n",
       "      <th></th>\n",
       "      <th>mm</th>\n",
       "      <th>prec</th>\n",
       "      <th>time</th>\n",
       "    </tr>\n",
       "  </thead>\n",
       "  <tbody>\n",
       "    <tr>\n",
       "      <th>46</th>\n",
       "      <td>0.7</td>\n",
       "      <td>1.0</td>\n",
       "      <td>1995-09-02 23:00:00</td>\n",
       "    </tr>\n",
       "    <tr>\n",
       "      <th>47</th>\n",
       "      <td>0.3</td>\n",
       "      <td>1.0</td>\n",
       "      <td>1995-09-03 00:00:00</td>\n",
       "    </tr>\n",
       "    <tr>\n",
       "      <th>48</th>\n",
       "      <td>0.1</td>\n",
       "      <td>1.0</td>\n",
       "      <td>1995-09-03 01:00:00</td>\n",
       "    </tr>\n",
       "    <tr>\n",
       "      <th>59</th>\n",
       "      <td>1.7</td>\n",
       "      <td>1.0</td>\n",
       "      <td>1995-09-03 12:00:00</td>\n",
       "    </tr>\n",
       "    <tr>\n",
       "      <th>60</th>\n",
       "      <td>0.3</td>\n",
       "      <td>1.0</td>\n",
       "      <td>1995-09-03 13:00:00</td>\n",
       "    </tr>\n",
       "    <tr>\n",
       "      <th>...</th>\n",
       "      <td>...</td>\n",
       "      <td>...</td>\n",
       "      <td>...</td>\n",
       "    </tr>\n",
       "    <tr>\n",
       "      <th>135165</th>\n",
       "      <td>0.1</td>\n",
       "      <td>1.0</td>\n",
       "      <td>2011-03-19 08:00:00</td>\n",
       "    </tr>\n",
       "    <tr>\n",
       "      <th>135454</th>\n",
       "      <td>0.3</td>\n",
       "      <td>1.0</td>\n",
       "      <td>2011-03-31 09:00:00</td>\n",
       "    </tr>\n",
       "    <tr>\n",
       "      <th>135455</th>\n",
       "      <td>1.7</td>\n",
       "      <td>1.0</td>\n",
       "      <td>2011-03-31 10:00:00</td>\n",
       "    </tr>\n",
       "    <tr>\n",
       "      <th>135456</th>\n",
       "      <td>2.0</td>\n",
       "      <td>1.0</td>\n",
       "      <td>2011-03-31 11:00:00</td>\n",
       "    </tr>\n",
       "    <tr>\n",
       "      <th>135457</th>\n",
       "      <td>1.1</td>\n",
       "      <td>1.0</td>\n",
       "      <td>2011-03-31 12:00:00</td>\n",
       "    </tr>\n",
       "  </tbody>\n",
       "</table>\n",
       "<p>16676 rows × 3 columns</p>\n",
       "</div>"
      ],
      "text/plain": [
       "         mm  prec                time\n",
       "46      0.7   1.0 1995-09-02 23:00:00\n",
       "47      0.3   1.0 1995-09-03 00:00:00\n",
       "48      0.1   1.0 1995-09-03 01:00:00\n",
       "59      1.7   1.0 1995-09-03 12:00:00\n",
       "60      0.3   1.0 1995-09-03 13:00:00\n",
       "...     ...   ...                 ...\n",
       "135165  0.1   1.0 2011-03-19 08:00:00\n",
       "135454  0.3   1.0 2011-03-31 09:00:00\n",
       "135455  1.7   1.0 2011-03-31 10:00:00\n",
       "135456  2.0   1.0 2011-03-31 11:00:00\n",
       "135457  1.1   1.0 2011-03-31 12:00:00\n",
       "\n",
       "[16676 rows x 3 columns]"
      ]
     },
     "execution_count": 46,
     "metadata": {},
     "output_type": "execute_result"
    }
   ],
   "source": [
    "aachen_raindata[(aachen_raindata.prec == 1) & aachen_raindata.mm > 0]"
   ]
  },
  {
   "cell_type": "code",
   "execution_count": 47,
   "metadata": {},
   "outputs": [
    {
     "data": {
      "text/plain": [
       "20734"
      ]
     },
     "execution_count": 47,
     "metadata": {},
     "output_type": "execute_result"
    }
   ],
   "source": [
    "len(aachen_raindata[aachen_raindata.prec > 0.0]) - len(aachen_raindata[aachen_raindata.mm > 0])"
   ]
  },
  {
   "cell_type": "markdown",
   "metadata": {},
   "source": [
    "So now we know that we had 16.676 hours with measurable precipitation in Aachen in the observed 135.457 hours between 1995 and 2011. (and also that there were 20.734 hours of rain with precepitation rounded to zero). "
   ]
  },
  {
   "cell_type": "code",
   "execution_count": 48,
   "metadata": {},
   "outputs": [
    {
     "data": {
      "text/plain": [
       "0.1231"
      ]
     },
     "execution_count": 48,
     "metadata": {},
     "output_type": "execute_result"
    }
   ],
   "source": [
    "aachen_realtive_precip = round(16.676 / 135.457, 4)\n",
    "aachen_realtive_precip"
   ]
  },
  {
   "cell_type": "markdown",
   "metadata": {},
   "source": [
    "And we can look for heavy rain occasions, such as:"
   ]
  },
  {
   "cell_type": "code",
   "execution_count": 49,
   "metadata": {},
   "outputs": [
    {
     "data": {
      "text/html": [
       "<div>\n",
       "<style scoped>\n",
       "    .dataframe tbody tr th:only-of-type {\n",
       "        vertical-align: middle;\n",
       "    }\n",
       "\n",
       "    .dataframe tbody tr th {\n",
       "        vertical-align: top;\n",
       "    }\n",
       "\n",
       "    .dataframe thead th {\n",
       "        text-align: right;\n",
       "    }\n",
       "</style>\n",
       "<table border=\"1\" class=\"dataframe\">\n",
       "  <thead>\n",
       "    <tr style=\"text-align: right;\">\n",
       "      <th></th>\n",
       "      <th>mm</th>\n",
       "      <th>prec</th>\n",
       "      <th>time</th>\n",
       "    </tr>\n",
       "  </thead>\n",
       "  <tbody>\n",
       "    <tr>\n",
       "      <th>8199</th>\n",
       "      <td>21.5</td>\n",
       "      <td>1.0</td>\n",
       "      <td>1996-08-20 22:00:00</td>\n",
       "    </tr>\n",
       "    <tr>\n",
       "      <th>41529</th>\n",
       "      <td>17.9</td>\n",
       "      <td>1.0</td>\n",
       "      <td>2000-07-02 21:00:00</td>\n",
       "    </tr>\n",
       "    <tr>\n",
       "      <th>59531</th>\n",
       "      <td>28.1</td>\n",
       "      <td>1.0</td>\n",
       "      <td>2002-07-30 14:00:00</td>\n",
       "    </tr>\n",
       "    <tr>\n",
       "      <th>68136</th>\n",
       "      <td>16.7</td>\n",
       "      <td>1.0</td>\n",
       "      <td>2003-07-24 14:00:00</td>\n",
       "    </tr>\n",
       "    <tr>\n",
       "      <th>76867</th>\n",
       "      <td>15.8</td>\n",
       "      <td>1.0</td>\n",
       "      <td>2004-07-23 02:00:00</td>\n",
       "    </tr>\n",
       "    <tr>\n",
       "      <th>92252</th>\n",
       "      <td>19.2</td>\n",
       "      <td>1.0</td>\n",
       "      <td>2006-04-25 18:00:00</td>\n",
       "    </tr>\n",
       "    <tr>\n",
       "      <th>94666</th>\n",
       "      <td>17.5</td>\n",
       "      <td>1.0</td>\n",
       "      <td>2006-08-04 08:00:00</td>\n",
       "    </tr>\n",
       "    <tr>\n",
       "      <th>102116</th>\n",
       "      <td>15.8</td>\n",
       "      <td>1.0</td>\n",
       "      <td>2007-06-10 20:00:00</td>\n",
       "    </tr>\n",
       "    <tr>\n",
       "      <th>110752</th>\n",
       "      <td>21.5</td>\n",
       "      <td>1.0</td>\n",
       "      <td>2008-06-04 18:00:00</td>\n",
       "    </tr>\n",
       "    <tr>\n",
       "      <th>112047</th>\n",
       "      <td>15.4</td>\n",
       "      <td>1.0</td>\n",
       "      <td>2008-07-28 17:00:00</td>\n",
       "    </tr>\n",
       "  </tbody>\n",
       "</table>\n",
       "</div>"
      ],
      "text/plain": [
       "          mm  prec                time\n",
       "8199    21.5   1.0 1996-08-20 22:00:00\n",
       "41529   17.9   1.0 2000-07-02 21:00:00\n",
       "59531   28.1   1.0 2002-07-30 14:00:00\n",
       "68136   16.7   1.0 2003-07-24 14:00:00\n",
       "76867   15.8   1.0 2004-07-23 02:00:00\n",
       "92252   19.2   1.0 2006-04-25 18:00:00\n",
       "94666   17.5   1.0 2006-08-04 08:00:00\n",
       "102116  15.8   1.0 2007-06-10 20:00:00\n",
       "110752  21.5   1.0 2008-06-04 18:00:00\n",
       "112047  15.4   1.0 2008-07-28 17:00:00"
      ]
     },
     "execution_count": 49,
     "metadata": {},
     "output_type": "execute_result"
    }
   ],
   "source": [
    "aachen_raindata[aachen_raindata.mm > 15]"
   ]
  },
  {
   "cell_type": "markdown",
   "metadata": {},
   "source": [
    "We observe that heavy rain occasions are rare, usually occur in August (some June/July) and seem to become more frequent lately."
   ]
  },
  {
   "cell_type": "markdown",
   "metadata": {},
   "source": [
    "---\n",
    "<a  id='aggregatingData'></a>\n",
    "## [Aggregating Data](#top)"
   ]
  },
  {
   "cell_type": "markdown",
   "metadata": {},
   "source": [
    "Great! Now that we've got our data parsed and prepared, we can start asking it questions. Like how many milliliters of total precipitation were recorded year over year? What do we need to do to get that information?\n",
    "\n",
    "_Pandas `DataFrames`_ offer a handy method called `resample` that allows aggregating rows over a specified period of time. All we have to do is to provide the time period (the notation for which we find in the [docs](https://pandas.pydata.org/pandas-docs/stable/user_guide/timeseries.html#offset-aliases)), the name of the column we'd like to be interpreted as timestamps, as well as call a method for the actual aggregation, in our case `sum`:"
   ]
  },
  {
   "cell_type": "code",
   "execution_count": 50,
   "metadata": {},
   "outputs": [
    {
     "data": {
      "text/html": [
       "<div>\n",
       "<style scoped>\n",
       "    .dataframe tbody tr th:only-of-type {\n",
       "        vertical-align: middle;\n",
       "    }\n",
       "\n",
       "    .dataframe tbody tr th {\n",
       "        vertical-align: top;\n",
       "    }\n",
       "\n",
       "    .dataframe thead th {\n",
       "        text-align: right;\n",
       "    }\n",
       "</style>\n",
       "<table border=\"1\" class=\"dataframe\">\n",
       "  <thead>\n",
       "    <tr style=\"text-align: right;\">\n",
       "      <th></th>\n",
       "      <th>mm</th>\n",
       "      <th>prec</th>\n",
       "    </tr>\n",
       "    <tr>\n",
       "      <th>time</th>\n",
       "      <th></th>\n",
       "      <th></th>\n",
       "    </tr>\n",
       "  </thead>\n",
       "  <tbody>\n",
       "    <tr>\n",
       "      <th>1995-12-31</th>\n",
       "      <td>169.8</td>\n",
       "      <td>681.0</td>\n",
       "    </tr>\n",
       "    <tr>\n",
       "      <th>1996-12-31</th>\n",
       "      <td>621.8</td>\n",
       "      <td>2380.0</td>\n",
       "    </tr>\n",
       "    <tr>\n",
       "      <th>1997-12-31</th>\n",
       "      <td>652.2</td>\n",
       "      <td>2246.0</td>\n",
       "    </tr>\n",
       "    <tr>\n",
       "      <th>1998-12-31</th>\n",
       "      <td>862.4</td>\n",
       "      <td>2723.0</td>\n",
       "    </tr>\n",
       "    <tr>\n",
       "      <th>1999-12-31</th>\n",
       "      <td>796.3</td>\n",
       "      <td>2560.0</td>\n",
       "    </tr>\n",
       "    <tr>\n",
       "      <th>2000-12-31</th>\n",
       "      <td>907.9</td>\n",
       "      <td>2690.0</td>\n",
       "    </tr>\n",
       "    <tr>\n",
       "      <th>2001-12-31</th>\n",
       "      <td>892.8</td>\n",
       "      <td>2652.0</td>\n",
       "    </tr>\n",
       "    <tr>\n",
       "      <th>2002-12-31</th>\n",
       "      <td>830.3</td>\n",
       "      <td>2430.0</td>\n",
       "    </tr>\n",
       "    <tr>\n",
       "      <th>2003-12-31</th>\n",
       "      <td>617.1</td>\n",
       "      <td>1912.0</td>\n",
       "    </tr>\n",
       "    <tr>\n",
       "      <th>2004-12-31</th>\n",
       "      <td>850.5</td>\n",
       "      <td>2358.0</td>\n",
       "    </tr>\n",
       "    <tr>\n",
       "      <th>2005-12-31</th>\n",
       "      <td>703.9</td>\n",
       "      <td>2488.0</td>\n",
       "    </tr>\n",
       "    <tr>\n",
       "      <th>2006-12-31</th>\n",
       "      <td>800.3</td>\n",
       "      <td>2187.0</td>\n",
       "    </tr>\n",
       "    <tr>\n",
       "      <th>2007-12-31</th>\n",
       "      <td>962.5</td>\n",
       "      <td>2298.0</td>\n",
       "    </tr>\n",
       "    <tr>\n",
       "      <th>2008-12-31</th>\n",
       "      <td>902.4</td>\n",
       "      <td>2250.0</td>\n",
       "    </tr>\n",
       "    <tr>\n",
       "      <th>2009-12-31</th>\n",
       "      <td>731.5</td>\n",
       "      <td>2180.0</td>\n",
       "    </tr>\n",
       "    <tr>\n",
       "      <th>2010-12-31</th>\n",
       "      <td>780.3</td>\n",
       "      <td>2736.0</td>\n",
       "    </tr>\n",
       "    <tr>\n",
       "      <th>2011-12-31</th>\n",
       "      <td>160.3</td>\n",
       "      <td>639.0</td>\n",
       "    </tr>\n",
       "  </tbody>\n",
       "</table>\n",
       "</div>"
      ],
      "text/plain": [
       "               mm    prec\n",
       "time                     \n",
       "1995-12-31  169.8   681.0\n",
       "1996-12-31  621.8  2380.0\n",
       "1997-12-31  652.2  2246.0\n",
       "1998-12-31  862.4  2723.0\n",
       "1999-12-31  796.3  2560.0\n",
       "2000-12-31  907.9  2690.0\n",
       "2001-12-31  892.8  2652.0\n",
       "2002-12-31  830.3  2430.0\n",
       "2003-12-31  617.1  1912.0\n",
       "2004-12-31  850.5  2358.0\n",
       "2005-12-31  703.9  2488.0\n",
       "2006-12-31  800.3  2187.0\n",
       "2007-12-31  962.5  2298.0\n",
       "2008-12-31  902.4  2250.0\n",
       "2009-12-31  731.5  2180.0\n",
       "2010-12-31  780.3  2736.0\n",
       "2011-12-31  160.3   639.0"
      ]
     },
     "execution_count": 50,
     "metadata": {},
     "output_type": "execute_result"
    }
   ],
   "source": [
    "# sum up all the values (mm, prec) per year ('y') specified in column 'time'\n",
    "aggregated_yearly_precipitation = aachen_raindata.resample('y', on=\"time\").sum()\n",
    "aggregated_yearly_precipitation"
   ]
  },
  {
   "cell_type": "markdown",
   "metadata": {},
   "source": [
    "Let's quickly plot that data to get a sense of it:\n"
   ]
  },
  {
   "cell_type": "code",
   "execution_count": 51,
   "metadata": {},
   "outputs": [
    {
     "data": {
      "text/plain": [
       "<Axes: xlabel='time'>"
      ]
     },
     "execution_count": 51,
     "metadata": {},
     "output_type": "execute_result"
    },
    {
     "data": {
      "image/png": "[encoded data removed]",
      "text/plain": [
       "<Figure size 640x480 with 1 Axes>"
      ]
     },
     "metadata": {},
     "output_type": "display_data"
    }
   ],
   "source": [
    "import matplotlib\n",
    "aggregated_yearly_precipitation.plot.bar()"
   ]
  },
  {
   "cell_type": "markdown",
   "metadata": {},
   "source": [
    "The plotting functionality in _Pandas_ `DataFrames` is rather limited as it's mostly intended for visual data exploration, rather than elegant presentation.\n",
    "\n",
    "There's one interesting thing we immediately see - the total number of rainy hours for 1995 and 2011 is much lower than for all other years. The reason for that is that we don't have data for every month of these years. Depending on what we want to find or show, we should probably have cleaned those rows before. "
   ]
  },
  {
   "cell_type": "markdown",
   "metadata": {},
   "source": [
    "Let's look at the values from the first row in our aggregated data:"
   ]
  },
  {
   "cell_type": "code",
   "execution_count": 52,
   "metadata": {},
   "outputs": [
    {
     "ename": "KeyError",
     "evalue": "0",
     "output_type": "error",
     "traceback": [
      "\u001b[0;31m---------------------------------------------------------------------------\u001b[0m",
      "\u001b[0;31mKeyError\u001b[0m                                  Traceback (most recent call last)",
      "Cell \u001b[0;32mIn[52], line 1\u001b[0m\n\u001b[0;32m----> 1\u001b[0m aggregated_yearly_precipitation\u001b[38;5;241m.\u001b[39mloc[\u001b[38;5;241m0\u001b[39m]\n",
      "File \u001b[0;32m~/anaconda3/lib/python3.11/site-packages/pandas/core/indexing.py:1153\u001b[0m, in \u001b[0;36m_LocationIndexer.__getitem__\u001b[0;34m(self, key)\u001b[0m\n\u001b[1;32m   1150\u001b[0m axis \u001b[38;5;241m=\u001b[39m \u001b[38;5;28mself\u001b[39m\u001b[38;5;241m.\u001b[39maxis \u001b[38;5;129;01mor\u001b[39;00m \u001b[38;5;241m0\u001b[39m\n\u001b[1;32m   1152\u001b[0m maybe_callable \u001b[38;5;241m=\u001b[39m com\u001b[38;5;241m.\u001b[39mapply_if_callable(key, \u001b[38;5;28mself\u001b[39m\u001b[38;5;241m.\u001b[39mobj)\n\u001b[0;32m-> 1153\u001b[0m \u001b[38;5;28;01mreturn\u001b[39;00m \u001b[38;5;28mself\u001b[39m\u001b[38;5;241m.\u001b[39m_getitem_axis(maybe_callable, axis\u001b[38;5;241m=\u001b[39maxis)\n",
      "File \u001b[0;32m~/anaconda3/lib/python3.11/site-packages/pandas/core/indexing.py:1393\u001b[0m, in \u001b[0;36m_LocIndexer._getitem_axis\u001b[0;34m(self, key, axis)\u001b[0m\n\u001b[1;32m   1391\u001b[0m \u001b[38;5;66;03m# fall thru to straight lookup\u001b[39;00m\n\u001b[1;32m   1392\u001b[0m \u001b[38;5;28mself\u001b[39m\u001b[38;5;241m.\u001b[39m_validate_key(key, axis)\n\u001b[0;32m-> 1393\u001b[0m \u001b[38;5;28;01mreturn\u001b[39;00m \u001b[38;5;28mself\u001b[39m\u001b[38;5;241m.\u001b[39m_get_label(key, axis\u001b[38;5;241m=\u001b[39maxis)\n",
      "File \u001b[0;32m~/anaconda3/lib/python3.11/site-packages/pandas/core/indexing.py:1343\u001b[0m, in \u001b[0;36m_LocIndexer._get_label\u001b[0;34m(self, label, axis)\u001b[0m\n\u001b[1;32m   1341\u001b[0m \u001b[38;5;28;01mdef\u001b[39;00m \u001b[38;5;21m_get_label\u001b[39m(\u001b[38;5;28mself\u001b[39m, label, axis: AxisInt):\n\u001b[1;32m   1342\u001b[0m     \u001b[38;5;66;03m# GH#5567 this will fail if the label is not present in the axis.\u001b[39;00m\n\u001b[0;32m-> 1343\u001b[0m     \u001b[38;5;28;01mreturn\u001b[39;00m \u001b[38;5;28mself\u001b[39m\u001b[38;5;241m.\u001b[39mobj\u001b[38;5;241m.\u001b[39mxs(label, axis\u001b[38;5;241m=\u001b[39maxis)\n",
      "File \u001b[0;32m~/anaconda3/lib/python3.11/site-packages/pandas/core/generic.py:4236\u001b[0m, in \u001b[0;36mNDFrame.xs\u001b[0;34m(self, key, axis, level, drop_level)\u001b[0m\n\u001b[1;32m   4234\u001b[0m             new_index \u001b[38;5;241m=\u001b[39m index[loc]\n\u001b[1;32m   4235\u001b[0m \u001b[38;5;28;01melse\u001b[39;00m:\n\u001b[0;32m-> 4236\u001b[0m     loc \u001b[38;5;241m=\u001b[39m index\u001b[38;5;241m.\u001b[39mget_loc(key)\n\u001b[1;32m   4238\u001b[0m     \u001b[38;5;28;01mif\u001b[39;00m \u001b[38;5;28misinstance\u001b[39m(loc, np\u001b[38;5;241m.\u001b[39mndarray):\n\u001b[1;32m   4239\u001b[0m         \u001b[38;5;28;01mif\u001b[39;00m loc\u001b[38;5;241m.\u001b[39mdtype \u001b[38;5;241m==\u001b[39m np\u001b[38;5;241m.\u001b[39mbool_:\n",
      "File \u001b[0;32m~/anaconda3/lib/python3.11/site-packages/pandas/core/indexes/datetimes.py:628\u001b[0m, in \u001b[0;36mDatetimeIndex.get_loc\u001b[0;34m(self, key)\u001b[0m\n\u001b[1;32m    624\u001b[0m     \u001b[38;5;28;01mreturn\u001b[39;00m \u001b[38;5;28mself\u001b[39m\u001b[38;5;241m.\u001b[39mindexer_at_time(key)\n\u001b[1;32m    626\u001b[0m \u001b[38;5;28;01melse\u001b[39;00m:\n\u001b[1;32m    627\u001b[0m     \u001b[38;5;66;03m# unrecognized type\u001b[39;00m\n\u001b[0;32m--> 628\u001b[0m     \u001b[38;5;28;01mraise\u001b[39;00m \u001b[38;5;167;01mKeyError\u001b[39;00m(key)\n\u001b[1;32m    630\u001b[0m \u001b[38;5;28;01mtry\u001b[39;00m:\n\u001b[1;32m    631\u001b[0m     \u001b[38;5;28;01mreturn\u001b[39;00m Index\u001b[38;5;241m.\u001b[39mget_loc(\u001b[38;5;28mself\u001b[39m, key)\n",
      "\u001b[0;31mKeyError\u001b[0m: 0"
     ]
    }
   ],
   "source": [
    "aggregated_yearly_precipitation.loc[0]"
   ]
  },
  {
   "cell_type": "markdown",
   "metadata": {},
   "source": [
    "Now what happened there? Why is there no _index_ `0`? Why can't we use indices of type `int` anymore? It used to work before aggregation, what is the _index_ now?"
   ]
  },
  {
   "cell_type": "code",
   "execution_count": 53,
   "metadata": {},
   "outputs": [
    {
     "data": {
      "text/plain": [
       "DatetimeIndex(['1995-12-31', '1996-12-31', '1997-12-31', '1998-12-31',\n",
       "               '1999-12-31', '2000-12-31', '2001-12-31', '2002-12-31',\n",
       "               '2003-12-31', '2004-12-31', '2005-12-31', '2006-12-31',\n",
       "               '2007-12-31', '2008-12-31', '2009-12-31', '2010-12-31',\n",
       "               '2011-12-31'],\n",
       "              dtype='datetime64[ns]', name='time', freq='A-DEC')"
      ]
     },
     "execution_count": 53,
     "metadata": {},
     "output_type": "execute_result"
    }
   ],
   "source": [
    "aggregated_yearly_precipitation.index"
   ]
  },
  {
   "cell_type": "markdown",
   "metadata": {},
   "source": [
    "Our _indices_ now are __timestamps__, so we might access the first row like so:"
   ]
  },
  {
   "cell_type": "code",
   "execution_count": 54,
   "metadata": {},
   "outputs": [
    {
     "data": {
      "text/plain": [
       "mm       902.4\n",
       "prec    2250.0\n",
       "Name: 2008-12-31 00:00:00, dtype: float64"
      ]
     },
     "execution_count": 54,
     "metadata": {},
     "output_type": "execute_result"
    }
   ],
   "source": [
    "aggregated_yearly_precipitation.loc['2008-12-31']"
   ]
  },
  {
   "cell_type": "markdown",
   "metadata": {},
   "source": [
    "Now that's a little cumbersome and we do need to know the _label_ of the first row. How do we access the first row regardless of it's label type? By using the `iloc` property (think \"integer location\"), like so:"
   ]
  },
  {
   "cell_type": "code",
   "execution_count": 55,
   "metadata": {},
   "outputs": [
    {
     "data": {
      "text/plain": [
       "mm       902.4\n",
       "prec    2250.0\n",
       "Name: 2008-12-31 00:00:00, dtype: float64"
      ]
     },
     "execution_count": 55,
     "metadata": {},
     "output_type": "execute_result"
    }
   ],
   "source": [
    "aggregated_yearly_precipitation.iloc[13]"
   ]
  },
  {
   "cell_type": "markdown",
   "metadata": {},
   "source": [
    "Let's use our newfound aggregation powers to find out which month is the rainiest over the observed time period - first we sum up the hourly precipitation for each month:"
   ]
  },
  {
   "cell_type": "code",
   "execution_count": 56,
   "metadata": {},
   "outputs": [
    {
     "data": {
      "text/html": [
       "<div>\n",
       "<style scoped>\n",
       "    .dataframe tbody tr th:only-of-type {\n",
       "        vertical-align: middle;\n",
       "    }\n",
       "\n",
       "    .dataframe tbody tr th {\n",
       "        vertical-align: top;\n",
       "    }\n",
       "\n",
       "    .dataframe thead th {\n",
       "        text-align: right;\n",
       "    }\n",
       "</style>\n",
       "<table border=\"1\" class=\"dataframe\">\n",
       "  <thead>\n",
       "    <tr style=\"text-align: right;\">\n",
       "      <th></th>\n",
       "      <th>prec</th>\n",
       "      <th>time</th>\n",
       "    </tr>\n",
       "  </thead>\n",
       "  <tbody>\n",
       "    <tr>\n",
       "      <th>0</th>\n",
       "      <td>0.0</td>\n",
       "      <td>1995-09-01 00:00:00</td>\n",
       "    </tr>\n",
       "    <tr>\n",
       "      <th>1</th>\n",
       "      <td>0.0</td>\n",
       "      <td>1995-09-01 01:00:00</td>\n",
       "    </tr>\n",
       "    <tr>\n",
       "      <th>2</th>\n",
       "      <td>0.0</td>\n",
       "      <td>1995-09-01 02:00:00</td>\n",
       "    </tr>\n",
       "    <tr>\n",
       "      <th>3</th>\n",
       "      <td>0.0</td>\n",
       "      <td>1995-09-01 03:00:00</td>\n",
       "    </tr>\n",
       "    <tr>\n",
       "      <th>4</th>\n",
       "      <td>0.0</td>\n",
       "      <td>1995-09-01 04:00:00</td>\n",
       "    </tr>\n",
       "    <tr>\n",
       "      <th>...</th>\n",
       "      <td>...</td>\n",
       "      <td>...</td>\n",
       "    </tr>\n",
       "    <tr>\n",
       "      <th>135464</th>\n",
       "      <td>0.0</td>\n",
       "      <td>2011-03-31 19:00:00</td>\n",
       "    </tr>\n",
       "    <tr>\n",
       "      <th>135465</th>\n",
       "      <td>0.0</td>\n",
       "      <td>2011-03-31 20:00:00</td>\n",
       "    </tr>\n",
       "    <tr>\n",
       "      <th>135466</th>\n",
       "      <td>0.0</td>\n",
       "      <td>2011-03-31 21:00:00</td>\n",
       "    </tr>\n",
       "    <tr>\n",
       "      <th>135467</th>\n",
       "      <td>1.0</td>\n",
       "      <td>2011-03-31 22:00:00</td>\n",
       "    </tr>\n",
       "    <tr>\n",
       "      <th>135468</th>\n",
       "      <td>0.0</td>\n",
       "      <td>2011-03-31 23:00:00</td>\n",
       "    </tr>\n",
       "  </tbody>\n",
       "</table>\n",
       "<p>135469 rows × 2 columns</p>\n",
       "</div>"
      ],
      "text/plain": [
       "        prec                time\n",
       "0        0.0 1995-09-01 00:00:00\n",
       "1        0.0 1995-09-01 01:00:00\n",
       "2        0.0 1995-09-01 02:00:00\n",
       "3        0.0 1995-09-01 03:00:00\n",
       "4        0.0 1995-09-01 04:00:00\n",
       "...      ...                 ...\n",
       "135464   0.0 2011-03-31 19:00:00\n",
       "135465   0.0 2011-03-31 20:00:00\n",
       "135466   0.0 2011-03-31 21:00:00\n",
       "135467   1.0 2011-03-31 22:00:00\n",
       "135468   0.0 2011-03-31 23:00:00\n",
       "\n",
       "[135469 rows x 2 columns]"
      ]
     },
     "execution_count": 56,
     "metadata": {},
     "output_type": "execute_result"
    }
   ],
   "source": [
    "# focus on prec and time (which we need for aggregation per month)\n",
    "aachen_raindata.filter(['prec', 'time'])"
   ]
  },
  {
   "cell_type": "code",
   "execution_count": 57,
   "metadata": {},
   "outputs": [
    {
     "data": {
      "text/html": [
       "<div>\n",
       "<style scoped>\n",
       "    .dataframe tbody tr th:only-of-type {\n",
       "        vertical-align: middle;\n",
       "    }\n",
       "\n",
       "    .dataframe tbody tr th {\n",
       "        vertical-align: top;\n",
       "    }\n",
       "\n",
       "    .dataframe thead th {\n",
       "        text-align: right;\n",
       "    }\n",
       "</style>\n",
       "<table border=\"1\" class=\"dataframe\">\n",
       "  <thead>\n",
       "    <tr style=\"text-align: right;\">\n",
       "      <th></th>\n",
       "      <th>prec</th>\n",
       "    </tr>\n",
       "    <tr>\n",
       "      <th>time</th>\n",
       "      <th></th>\n",
       "    </tr>\n",
       "  </thead>\n",
       "  <tbody>\n",
       "    <tr>\n",
       "      <th>1995-09-30</th>\n",
       "      <td>182.0</td>\n",
       "    </tr>\n",
       "    <tr>\n",
       "      <th>1995-10-31</th>\n",
       "      <td>86.0</td>\n",
       "    </tr>\n",
       "    <tr>\n",
       "      <th>1995-11-30</th>\n",
       "      <td>194.0</td>\n",
       "    </tr>\n",
       "    <tr>\n",
       "      <th>1995-12-31</th>\n",
       "      <td>219.0</td>\n",
       "    </tr>\n",
       "    <tr>\n",
       "      <th>1996-01-31</th>\n",
       "      <td>62.0</td>\n",
       "    </tr>\n",
       "    <tr>\n",
       "      <th>...</th>\n",
       "      <td>...</td>\n",
       "    </tr>\n",
       "    <tr>\n",
       "      <th>2010-11-30</th>\n",
       "      <td>296.0</td>\n",
       "    </tr>\n",
       "    <tr>\n",
       "      <th>2010-12-31</th>\n",
       "      <td>346.0</td>\n",
       "    </tr>\n",
       "    <tr>\n",
       "      <th>2011-01-31</th>\n",
       "      <td>342.0</td>\n",
       "    </tr>\n",
       "    <tr>\n",
       "      <th>2011-02-28</th>\n",
       "      <td>204.0</td>\n",
       "    </tr>\n",
       "    <tr>\n",
       "      <th>2011-03-31</th>\n",
       "      <td>93.0</td>\n",
       "    </tr>\n",
       "  </tbody>\n",
       "</table>\n",
       "<p>187 rows × 1 columns</p>\n",
       "</div>"
      ],
      "text/plain": [
       "             prec\n",
       "time             \n",
       "1995-09-30  182.0\n",
       "1995-10-31   86.0\n",
       "1995-11-30  194.0\n",
       "1995-12-31  219.0\n",
       "1996-01-31   62.0\n",
       "...           ...\n",
       "2010-11-30  296.0\n",
       "2010-12-31  346.0\n",
       "2011-01-31  342.0\n",
       "2011-02-28  204.0\n",
       "2011-03-31   93.0\n",
       "\n",
       "[187 rows x 1 columns]"
      ]
     },
     "execution_count": 57,
     "metadata": {},
     "output_type": "execute_result"
    }
   ],
   "source": [
    "# sum up precipitation per month\n",
    "rain_hours_per_month = aachen_raindata.filter(['prec', 'time']).resample('m', on='time').sum()\n",
    "rain_hours_per_month"
   ]
  },
  {
   "cell_type": "code",
   "execution_count": 58,
   "metadata": {},
   "outputs": [
    {
     "data": {
      "text/html": [
       "<div>\n",
       "<style scoped>\n",
       "    .dataframe tbody tr th:only-of-type {\n",
       "        vertical-align: middle;\n",
       "    }\n",
       "\n",
       "    .dataframe tbody tr th {\n",
       "        vertical-align: top;\n",
       "    }\n",
       "\n",
       "    .dataframe thead th {\n",
       "        text-align: right;\n",
       "    }\n",
       "</style>\n",
       "<table border=\"1\" class=\"dataframe\">\n",
       "  <thead>\n",
       "    <tr style=\"text-align: right;\">\n",
       "      <th></th>\n",
       "      <th>prec</th>\n",
       "    </tr>\n",
       "  </thead>\n",
       "  <tbody>\n",
       "    <tr>\n",
       "      <th>count</th>\n",
       "      <td>187.000000</td>\n",
       "    </tr>\n",
       "    <tr>\n",
       "      <th>mean</th>\n",
       "      <td>200.053476</td>\n",
       "    </tr>\n",
       "    <tr>\n",
       "      <th>std</th>\n",
       "      <td>78.377411</td>\n",
       "    </tr>\n",
       "    <tr>\n",
       "      <th>min</th>\n",
       "      <td>4.000000</td>\n",
       "    </tr>\n",
       "    <tr>\n",
       "      <th>25%</th>\n",
       "      <td>140.500000</td>\n",
       "    </tr>\n",
       "    <tr>\n",
       "      <th>50%</th>\n",
       "      <td>194.000000</td>\n",
       "    </tr>\n",
       "    <tr>\n",
       "      <th>75%</th>\n",
       "      <td>257.000000</td>\n",
       "    </tr>\n",
       "    <tr>\n",
       "      <th>max</th>\n",
       "      <td>378.000000</td>\n",
       "    </tr>\n",
       "  </tbody>\n",
       "</table>\n",
       "</div>"
      ],
      "text/plain": [
       "             prec\n",
       "count  187.000000\n",
       "mean   200.053476\n",
       "std     78.377411\n",
       "min      4.000000\n",
       "25%    140.500000\n",
       "50%    194.000000\n",
       "75%    257.000000\n",
       "max    378.000000"
      ]
     },
     "execution_count": 58,
     "metadata": {},
     "output_type": "execute_result"
    }
   ],
   "source": [
    "rain_hours_per_month.describe()"
   ]
  },
  {
   "cell_type": "markdown",
   "metadata": {},
   "source": [
    "Over the observed time period of 187 months, the driest month only had 4 hour-intervals of _measurable_ precipitation, the rainiest 378 hour-intervals. The mean over all monthly precipitation values is 200 hour slots.\n",
    "\n",
    "If we are interested in the concrete months, which were the driest and the rainiest:"
   ]
  },
  {
   "cell_type": "code",
   "execution_count": 59,
   "metadata": {},
   "outputs": [
    {
     "data": {
      "text/html": [
       "<div>\n",
       "<style scoped>\n",
       "    .dataframe tbody tr th:only-of-type {\n",
       "        vertical-align: middle;\n",
       "    }\n",
       "\n",
       "    .dataframe tbody tr th {\n",
       "        vertical-align: top;\n",
       "    }\n",
       "\n",
       "    .dataframe thead th {\n",
       "        text-align: right;\n",
       "    }\n",
       "</style>\n",
       "<table border=\"1\" class=\"dataframe\">\n",
       "  <thead>\n",
       "    <tr style=\"text-align: right;\">\n",
       "      <th></th>\n",
       "      <th>prec</th>\n",
       "    </tr>\n",
       "    <tr>\n",
       "      <th>time</th>\n",
       "      <th></th>\n",
       "    </tr>\n",
       "  </thead>\n",
       "  <tbody>\n",
       "    <tr>\n",
       "      <th>2007-04-30</th>\n",
       "      <td>4.0</td>\n",
       "    </tr>\n",
       "  </tbody>\n",
       "</table>\n",
       "</div>"
      ],
      "text/plain": [
       "            prec\n",
       "time            \n",
       "2007-04-30   4.0"
      ]
     },
     "execution_count": 59,
     "metadata": {},
     "output_type": "execute_result"
    }
   ],
   "source": [
    "rain_hours_per_month.loc[rain_hours_per_month.prec == 4]"
   ]
  },
  {
   "cell_type": "code",
   "execution_count": 60,
   "metadata": {},
   "outputs": [
    {
     "data": {
      "text/html": [
       "<div>\n",
       "<style scoped>\n",
       "    .dataframe tbody tr th:only-of-type {\n",
       "        vertical-align: middle;\n",
       "    }\n",
       "\n",
       "    .dataframe tbody tr th {\n",
       "        vertical-align: top;\n",
       "    }\n",
       "\n",
       "    .dataframe thead th {\n",
       "        text-align: right;\n",
       "    }\n",
       "</style>\n",
       "<table border=\"1\" class=\"dataframe\">\n",
       "  <thead>\n",
       "    <tr style=\"text-align: right;\">\n",
       "      <th></th>\n",
       "      <th>prec</th>\n",
       "    </tr>\n",
       "    <tr>\n",
       "      <th>time</th>\n",
       "      <th></th>\n",
       "    </tr>\n",
       "  </thead>\n",
       "  <tbody>\n",
       "    <tr>\n",
       "      <th>1996-02-29</th>\n",
       "      <td>378.0</td>\n",
       "    </tr>\n",
       "  </tbody>\n",
       "</table>\n",
       "</div>"
      ],
      "text/plain": [
       "             prec\n",
       "time             \n",
       "1996-02-29  378.0"
      ]
     },
     "execution_count": 60,
     "metadata": {},
     "output_type": "execute_result"
    }
   ],
   "source": [
    "rain_hours_per_month.loc[rain_hours_per_month.prec == 378]"
   ]
  },
  {
   "cell_type": "markdown",
   "metadata": {},
   "source": [
    "In order to compute the average precipitation per calender month, we group by month and compute the mean. The `groupby` method takes a function that transforms a row's _index_ into whatever we want to group by. It's the perfect use case for `lambda` functions:"
   ]
  },
  {
   "cell_type": "code",
   "execution_count": 61,
   "metadata": {},
   "outputs": [
    {
     "data": {
      "text/html": [
       "<div>\n",
       "<style scoped>\n",
       "    .dataframe tbody tr th:only-of-type {\n",
       "        vertical-align: middle;\n",
       "    }\n",
       "\n",
       "    .dataframe tbody tr th {\n",
       "        vertical-align: top;\n",
       "    }\n",
       "\n",
       "    .dataframe thead th {\n",
       "        text-align: right;\n",
       "    }\n",
       "</style>\n",
       "<table border=\"1\" class=\"dataframe\">\n",
       "  <thead>\n",
       "    <tr style=\"text-align: right;\">\n",
       "      <th></th>\n",
       "      <th>prec</th>\n",
       "    </tr>\n",
       "    <tr>\n",
       "      <th>time</th>\n",
       "      <th></th>\n",
       "    </tr>\n",
       "  </thead>\n",
       "  <tbody>\n",
       "    <tr>\n",
       "      <th>1</th>\n",
       "      <td>244.625000</td>\n",
       "    </tr>\n",
       "    <tr>\n",
       "      <th>2</th>\n",
       "      <td>265.500000</td>\n",
       "    </tr>\n",
       "    <tr>\n",
       "      <th>3</th>\n",
       "      <td>242.812500</td>\n",
       "    </tr>\n",
       "    <tr>\n",
       "      <th>4</th>\n",
       "      <td>169.800000</td>\n",
       "    </tr>\n",
       "    <tr>\n",
       "      <th>5</th>\n",
       "      <td>184.400000</td>\n",
       "    </tr>\n",
       "    <tr>\n",
       "      <th>6</th>\n",
       "      <td>145.133333</td>\n",
       "    </tr>\n",
       "    <tr>\n",
       "      <th>7</th>\n",
       "      <td>169.400000</td>\n",
       "    </tr>\n",
       "    <tr>\n",
       "      <th>8</th>\n",
       "      <td>156.066667</td>\n",
       "    </tr>\n",
       "    <tr>\n",
       "      <th>9</th>\n",
       "      <td>152.875000</td>\n",
       "    </tr>\n",
       "    <tr>\n",
       "      <th>10</th>\n",
       "      <td>166.437500</td>\n",
       "    </tr>\n",
       "    <tr>\n",
       "      <th>11</th>\n",
       "      <td>234.500000</td>\n",
       "    </tr>\n",
       "    <tr>\n",
       "      <th>12</th>\n",
       "      <td>258.125000</td>\n",
       "    </tr>\n",
       "  </tbody>\n",
       "</table>\n",
       "</div>"
      ],
      "text/plain": [
       "            prec\n",
       "time            \n",
       "1     244.625000\n",
       "2     265.500000\n",
       "3     242.812500\n",
       "4     169.800000\n",
       "5     184.400000\n",
       "6     145.133333\n",
       "7     169.400000\n",
       "8     156.066667\n",
       "9     152.875000\n",
       "10    166.437500\n",
       "11    234.500000\n",
       "12    258.125000"
      ]
     },
     "execution_count": 61,
     "metadata": {},
     "output_type": "execute_result"
    }
   ],
   "source": [
    "mean_rain_hous_per_month = rain_hours_per_month.groupby(lambda time: time.month).mean()\n",
    "mean_rain_hous_per_month"
   ]
  },
  {
   "cell_type": "markdown",
   "metadata": {},
   "source": [
    "Now again let's plot that:"
   ]
  },
  {
   "cell_type": "code",
   "execution_count": 62,
   "metadata": {},
   "outputs": [
    {
     "data": {
      "text/plain": [
       "<Axes: xlabel='time'>"
      ]
     },
     "execution_count": 62,
     "metadata": {},
     "output_type": "execute_result"
    },
    {
     "data": {
      "image/png": "[encoded data removed]",
      "text/plain": [
       "<Figure size 640x480 with 1 Axes>"
      ]
     },
     "metadata": {},
     "output_type": "display_data"
    }
   ],
   "source": [
    "mean_rain_hous_per_month.plot.bar()"
   ]
  },
  {
   "cell_type": "markdown",
   "metadata": {},
   "source": [
    "Obviously, there are more rainy days in January .. March and Novermber .. December. The least rainy hour intervals have been observed in June."
   ]
  },
  {
   "cell_type": "markdown",
   "metadata": {},
   "source": [
    "When looking for the intensity of precipitation, we don't necessarily have to save our intermediate steps in variables, we might just as well do the complete computation in one line:\n",
    "1. filter out rain data to only include the time and millimeters of rain per hour, \n",
    "2. sum the data up for each day, \n",
    "3. group by weekday and compute the average _all in one go_"
   ]
  },
  {
   "cell_type": "code",
   "execution_count": 65,
   "metadata": {},
   "outputs": [
    {
     "ename": "TypeError",
     "evalue": "'<' not supported between instances of 'method' and 'method'",
     "output_type": "error",
     "traceback": [
      "\u001b[0;31m---------------------------------------------------------------------------\u001b[0m",
      "\u001b[0;31mTypeError\u001b[0m                                 Traceback (most recent call last)",
      "File \u001b[0;32m~/anaconda3/lib/python3.11/site-packages/pandas/core/algorithms.py:1596\u001b[0m, in \u001b[0;36msafe_sort\u001b[0;34m(values, codes, use_na_sentinel, assume_unique, verify)\u001b[0m\n\u001b[1;32m   1595\u001b[0m \u001b[38;5;28;01mtry\u001b[39;00m:\n\u001b[0;32m-> 1596\u001b[0m     sorter \u001b[38;5;241m=\u001b[39m values\u001b[38;5;241m.\u001b[39margsort()\n\u001b[1;32m   1597\u001b[0m     ordered \u001b[38;5;241m=\u001b[39m values\u001b[38;5;241m.\u001b[39mtake(sorter)\n",
      "\u001b[0;31mTypeError\u001b[0m: '<' not supported between instances of 'method' and 'method'",
      "\nDuring handling of the above exception, another exception occurred:\n",
      "\u001b[0;31mTypeError\u001b[0m                                 Traceback (most recent call last)",
      "File \u001b[0;32m~/anaconda3/lib/python3.11/site-packages/numpy/core/fromnumeric.py:59\u001b[0m, in \u001b[0;36m_wrapfunc\u001b[0;34m(obj, method, *args, **kwds)\u001b[0m\n\u001b[1;32m     58\u001b[0m \u001b[38;5;28;01mtry\u001b[39;00m:\n\u001b[0;32m---> 59\u001b[0m     \u001b[38;5;28;01mreturn\u001b[39;00m bound(\u001b[38;5;241m*\u001b[39margs, \u001b[38;5;241m*\u001b[39m\u001b[38;5;241m*\u001b[39mkwds)\n\u001b[1;32m     60\u001b[0m \u001b[38;5;28;01mexcept\u001b[39;00m \u001b[38;5;167;01mTypeError\u001b[39;00m:\n\u001b[1;32m     61\u001b[0m     \u001b[38;5;66;03m# A TypeError occurs if the object does have such a method in its\u001b[39;00m\n\u001b[1;32m     62\u001b[0m     \u001b[38;5;66;03m# class, but its signature is not identical to that of NumPy's. This\u001b[39;00m\n\u001b[0;32m   (...)\u001b[0m\n\u001b[1;32m     66\u001b[0m     \u001b[38;5;66;03m# Call _wrapit from within the except clause to ensure a potential\u001b[39;00m\n\u001b[1;32m     67\u001b[0m     \u001b[38;5;66;03m# exception has a traceback chain.\u001b[39;00m\n",
      "\u001b[0;31mTypeError\u001b[0m: '<' not supported between instances of 'method' and 'method'",
      "\nDuring handling of the above exception, another exception occurred:\n",
      "\u001b[0;31mTypeError\u001b[0m                                 Traceback (most recent call last)",
      "Cell \u001b[0;32mIn[65], line 1\u001b[0m\n\u001b[0;32m----> 1\u001b[0m mean_mms_of_rain_by_weekday \u001b[38;5;241m=\u001b[39m aachen_raindata\u001b[38;5;241m.\u001b[39mfilter([\u001b[38;5;124m'\u001b[39m\u001b[38;5;124mtime\u001b[39m\u001b[38;5;124m'\u001b[39m, \u001b[38;5;124m'\u001b[39m\u001b[38;5;124mmm\u001b[39m\u001b[38;5;124m'\u001b[39m])\u001b[38;5;241m.\u001b[39mresample(\u001b[38;5;124m\"\u001b[39m\u001b[38;5;124md\u001b[39m\u001b[38;5;124m\"\u001b[39m, on\u001b[38;5;241m=\u001b[39m\u001b[38;5;124m'\u001b[39m\u001b[38;5;124mtime\u001b[39m\u001b[38;5;124m'\u001b[39m)\u001b[38;5;241m.\u001b[39msum()\u001b[38;5;241m.\u001b[39mgroupby(\u001b[38;5;28;01mlambda\u001b[39;00m time: time\u001b[38;5;241m.\u001b[39mweekday)\u001b[38;5;241m.\u001b[39mmean()\n\u001b[1;32m      2\u001b[0m mean_mms_of_rain_by_weekday\n",
      "File \u001b[0;32m~/anaconda3/lib/python3.11/site-packages/pandas/core/groupby/groupby.py:2378\u001b[0m, in \u001b[0;36mGroupBy.mean\u001b[0;34m(self, numeric_only, engine, engine_kwargs)\u001b[0m\n\u001b[1;32m   2371\u001b[0m     \u001b[38;5;28;01mreturn\u001b[39;00m \u001b[38;5;28mself\u001b[39m\u001b[38;5;241m.\u001b[39m_numba_agg_general(\n\u001b[1;32m   2372\u001b[0m         grouped_mean,\n\u001b[1;32m   2373\u001b[0m         executor\u001b[38;5;241m.\u001b[39mfloat_dtype_mapping,\n\u001b[1;32m   2374\u001b[0m         engine_kwargs,\n\u001b[1;32m   2375\u001b[0m         min_periods\u001b[38;5;241m=\u001b[39m\u001b[38;5;241m0\u001b[39m,\n\u001b[1;32m   2376\u001b[0m     )\n\u001b[1;32m   2377\u001b[0m \u001b[38;5;28;01melse\u001b[39;00m:\n\u001b[0;32m-> 2378\u001b[0m     result \u001b[38;5;241m=\u001b[39m \u001b[38;5;28mself\u001b[39m\u001b[38;5;241m.\u001b[39m_cython_agg_general(\n\u001b[1;32m   2379\u001b[0m         \u001b[38;5;124m\"\u001b[39m\u001b[38;5;124mmean\u001b[39m\u001b[38;5;124m\"\u001b[39m,\n\u001b[1;32m   2380\u001b[0m         alt\u001b[38;5;241m=\u001b[39m\u001b[38;5;28;01mlambda\u001b[39;00m x: Series(x)\u001b[38;5;241m.\u001b[39mmean(numeric_only\u001b[38;5;241m=\u001b[39mnumeric_only),\n\u001b[1;32m   2381\u001b[0m         numeric_only\u001b[38;5;241m=\u001b[39mnumeric_only,\n\u001b[1;32m   2382\u001b[0m     )\n\u001b[1;32m   2383\u001b[0m     \u001b[38;5;28;01mreturn\u001b[39;00m result\u001b[38;5;241m.\u001b[39m__finalize__(\u001b[38;5;28mself\u001b[39m\u001b[38;5;241m.\u001b[39mobj, method\u001b[38;5;241m=\u001b[39m\u001b[38;5;124m\"\u001b[39m\u001b[38;5;124mgroupby\u001b[39m\u001b[38;5;124m\"\u001b[39m)\n",
      "File \u001b[0;32m~/anaconda3/lib/python3.11/site-packages/pandas/core/groupby/groupby.py:1929\u001b[0m, in \u001b[0;36mGroupBy._cython_agg_general\u001b[0;34m(self, how, alt, numeric_only, min_count, **kwargs)\u001b[0m\n\u001b[1;32m   1926\u001b[0m     result \u001b[38;5;241m=\u001b[39m \u001b[38;5;28mself\u001b[39m\u001b[38;5;241m.\u001b[39m_agg_py_fallback(how, values, ndim\u001b[38;5;241m=\u001b[39mdata\u001b[38;5;241m.\u001b[39mndim, alt\u001b[38;5;241m=\u001b[39malt)\n\u001b[1;32m   1927\u001b[0m     \u001b[38;5;28;01mreturn\u001b[39;00m result\n\u001b[0;32m-> 1929\u001b[0m new_mgr \u001b[38;5;241m=\u001b[39m data\u001b[38;5;241m.\u001b[39mgrouped_reduce(array_func)\n\u001b[1;32m   1930\u001b[0m res \u001b[38;5;241m=\u001b[39m \u001b[38;5;28mself\u001b[39m\u001b[38;5;241m.\u001b[39m_wrap_agged_manager(new_mgr)\n\u001b[1;32m   1931\u001b[0m out \u001b[38;5;241m=\u001b[39m \u001b[38;5;28mself\u001b[39m\u001b[38;5;241m.\u001b[39m_wrap_aggregated_output(res)\n",
      "File \u001b[0;32m~/anaconda3/lib/python3.11/site-packages/pandas/core/internals/managers.py:1431\u001b[0m, in \u001b[0;36mBlockManager.grouped_reduce\u001b[0;34m(self, func)\u001b[0m\n\u001b[1;32m   1429\u001b[0m             result_blocks \u001b[38;5;241m=\u001b[39m extend_blocks(applied, result_blocks)\n\u001b[1;32m   1430\u001b[0m     \u001b[38;5;28;01melse\u001b[39;00m:\n\u001b[0;32m-> 1431\u001b[0m         applied \u001b[38;5;241m=\u001b[39m blk\u001b[38;5;241m.\u001b[39mapply(func)\n\u001b[1;32m   1432\u001b[0m         result_blocks \u001b[38;5;241m=\u001b[39m extend_blocks(applied, result_blocks)\n\u001b[1;32m   1434\u001b[0m \u001b[38;5;28;01mif\u001b[39;00m \u001b[38;5;28mlen\u001b[39m(result_blocks) \u001b[38;5;241m==\u001b[39m \u001b[38;5;241m0\u001b[39m:\n",
      "File \u001b[0;32m~/anaconda3/lib/python3.11/site-packages/pandas/core/internals/blocks.py:366\u001b[0m, in \u001b[0;36mBlock.apply\u001b[0;34m(self, func, **kwargs)\u001b[0m\n\u001b[1;32m    360\u001b[0m \u001b[38;5;129m@final\u001b[39m\n\u001b[1;32m    361\u001b[0m \u001b[38;5;28;01mdef\u001b[39;00m \u001b[38;5;21mapply\u001b[39m(\u001b[38;5;28mself\u001b[39m, func, \u001b[38;5;241m*\u001b[39m\u001b[38;5;241m*\u001b[39mkwargs) \u001b[38;5;241m-\u001b[39m\u001b[38;5;241m>\u001b[39m \u001b[38;5;28mlist\u001b[39m[Block]:\n\u001b[1;32m    362\u001b[0m \u001b[38;5;250m    \u001b[39m\u001b[38;5;124;03m\"\"\"\u001b[39;00m\n\u001b[1;32m    363\u001b[0m \u001b[38;5;124;03m    apply the function to my values; return a block if we are not\u001b[39;00m\n\u001b[1;32m    364\u001b[0m \u001b[38;5;124;03m    one\u001b[39;00m\n\u001b[1;32m    365\u001b[0m \u001b[38;5;124;03m    \"\"\"\u001b[39;00m\n\u001b[0;32m--> 366\u001b[0m     result \u001b[38;5;241m=\u001b[39m func(\u001b[38;5;28mself\u001b[39m\u001b[38;5;241m.\u001b[39mvalues, \u001b[38;5;241m*\u001b[39m\u001b[38;5;241m*\u001b[39mkwargs)\n\u001b[1;32m    368\u001b[0m     result \u001b[38;5;241m=\u001b[39m maybe_coerce_values(result)\n\u001b[1;32m    369\u001b[0m     \u001b[38;5;28;01mreturn\u001b[39;00m \u001b[38;5;28mself\u001b[39m\u001b[38;5;241m.\u001b[39m_split_op_result(result)\n",
      "File \u001b[0;32m~/anaconda3/lib/python3.11/site-packages/pandas/core/groupby/groupby.py:1905\u001b[0m, in \u001b[0;36mGroupBy._cython_agg_general.<locals>.array_func\u001b[0;34m(values)\u001b[0m\n\u001b[1;32m   1903\u001b[0m \u001b[38;5;28;01mdef\u001b[39;00m \u001b[38;5;21marray_func\u001b[39m(values: ArrayLike) \u001b[38;5;241m-\u001b[39m\u001b[38;5;241m>\u001b[39m ArrayLike:\n\u001b[1;32m   1904\u001b[0m     \u001b[38;5;28;01mtry\u001b[39;00m:\n\u001b[0;32m-> 1905\u001b[0m         result \u001b[38;5;241m=\u001b[39m \u001b[38;5;28mself\u001b[39m\u001b[38;5;241m.\u001b[39mgrouper\u001b[38;5;241m.\u001b[39m_cython_operation(\n\u001b[1;32m   1906\u001b[0m             \u001b[38;5;124m\"\u001b[39m\u001b[38;5;124maggregate\u001b[39m\u001b[38;5;124m\"\u001b[39m,\n\u001b[1;32m   1907\u001b[0m             values,\n\u001b[1;32m   1908\u001b[0m             how,\n\u001b[1;32m   1909\u001b[0m             axis\u001b[38;5;241m=\u001b[39mdata\u001b[38;5;241m.\u001b[39mndim \u001b[38;5;241m-\u001b[39m \u001b[38;5;241m1\u001b[39m,\n\u001b[1;32m   1910\u001b[0m             min_count\u001b[38;5;241m=\u001b[39mmin_count,\n\u001b[1;32m   1911\u001b[0m             \u001b[38;5;241m*\u001b[39m\u001b[38;5;241m*\u001b[39mkwargs,\n\u001b[1;32m   1912\u001b[0m         )\n\u001b[1;32m   1913\u001b[0m     \u001b[38;5;28;01mexcept\u001b[39;00m \u001b[38;5;167;01mNotImplementedError\u001b[39;00m:\n\u001b[1;32m   1914\u001b[0m         \u001b[38;5;66;03m# generally if we have numeric_only=False\u001b[39;00m\n\u001b[1;32m   1915\u001b[0m         \u001b[38;5;66;03m# and non-applicable functions\u001b[39;00m\n\u001b[1;32m   1916\u001b[0m         \u001b[38;5;66;03m# try to python agg\u001b[39;00m\n\u001b[1;32m   1917\u001b[0m         \u001b[38;5;66;03m# TODO: shouldn't min_count matter?\u001b[39;00m\n\u001b[1;32m   1918\u001b[0m         \u001b[38;5;66;03m# TODO: avoid special casing SparseArray here\u001b[39;00m\n\u001b[1;32m   1919\u001b[0m         \u001b[38;5;28;01mif\u001b[39;00m how \u001b[38;5;129;01min\u001b[39;00m [\u001b[38;5;124m\"\u001b[39m\u001b[38;5;124many\u001b[39m\u001b[38;5;124m\"\u001b[39m, \u001b[38;5;124m\"\u001b[39m\u001b[38;5;124mall\u001b[39m\u001b[38;5;124m\"\u001b[39m] \u001b[38;5;129;01mand\u001b[39;00m \u001b[38;5;28misinstance\u001b[39m(values, SparseArray):\n",
      "File \u001b[0;32m~/anaconda3/lib/python3.11/site-packages/pandas/core/groupby/ops.py:812\u001b[0m, in \u001b[0;36mBaseGrouper._cython_operation\u001b[0;34m(self, kind, values, how, axis, min_count, **kwargs)\u001b[0m\n\u001b[1;32m    807\u001b[0m \u001b[38;5;250m\u001b[39m\u001b[38;5;124;03m\"\"\"\u001b[39;00m\n\u001b[1;32m    808\u001b[0m \u001b[38;5;124;03mReturns the values of a cython operation.\u001b[39;00m\n\u001b[1;32m    809\u001b[0m \u001b[38;5;124;03m\"\"\"\u001b[39;00m\n\u001b[1;32m    810\u001b[0m \u001b[38;5;28;01massert\u001b[39;00m kind \u001b[38;5;129;01min\u001b[39;00m [\u001b[38;5;124m\"\u001b[39m\u001b[38;5;124mtransform\u001b[39m\u001b[38;5;124m\"\u001b[39m, \u001b[38;5;124m\"\u001b[39m\u001b[38;5;124maggregate\u001b[39m\u001b[38;5;124m\"\u001b[39m]\n\u001b[0;32m--> 812\u001b[0m cy_op \u001b[38;5;241m=\u001b[39m WrappedCythonOp(kind\u001b[38;5;241m=\u001b[39mkind, how\u001b[38;5;241m=\u001b[39mhow, has_dropped_na\u001b[38;5;241m=\u001b[39m\u001b[38;5;28mself\u001b[39m\u001b[38;5;241m.\u001b[39mhas_dropped_na)\n\u001b[1;32m    814\u001b[0m ids, _, _ \u001b[38;5;241m=\u001b[39m \u001b[38;5;28mself\u001b[39m\u001b[38;5;241m.\u001b[39mgroup_info\n\u001b[1;32m    815\u001b[0m ngroups \u001b[38;5;241m=\u001b[39m \u001b[38;5;28mself\u001b[39m\u001b[38;5;241m.\u001b[39mngroups\n",
      "File \u001b[0;32mproperties.pyx:36\u001b[0m, in \u001b[0;36mpandas._libs.properties.CachedProperty.__get__\u001b[0;34m()\u001b[0m\n",
      "File \u001b[0;32m~/anaconda3/lib/python3.11/site-packages/pandas/core/groupby/ops.py:726\u001b[0m, in \u001b[0;36mBaseGrouper.has_dropped_na\u001b[0;34m(self)\u001b[0m\n\u001b[1;32m    720\u001b[0m \u001b[38;5;129m@final\u001b[39m\n\u001b[1;32m    721\u001b[0m \u001b[38;5;129m@cache_readonly\u001b[39m\n\u001b[1;32m    722\u001b[0m \u001b[38;5;28;01mdef\u001b[39;00m \u001b[38;5;21mhas_dropped_na\u001b[39m(\u001b[38;5;28mself\u001b[39m) \u001b[38;5;241m-\u001b[39m\u001b[38;5;241m>\u001b[39m \u001b[38;5;28mbool\u001b[39m:\n\u001b[1;32m    723\u001b[0m \u001b[38;5;250m    \u001b[39m\u001b[38;5;124;03m\"\"\"\u001b[39;00m\n\u001b[1;32m    724\u001b[0m \u001b[38;5;124;03m    Whether grouper has null value(s) that are dropped.\u001b[39;00m\n\u001b[1;32m    725\u001b[0m \u001b[38;5;124;03m    \"\"\"\u001b[39;00m\n\u001b[0;32m--> 726\u001b[0m     \u001b[38;5;28;01mreturn\u001b[39;00m \u001b[38;5;28mbool\u001b[39m((\u001b[38;5;28mself\u001b[39m\u001b[38;5;241m.\u001b[39mgroup_info[\u001b[38;5;241m0\u001b[39m] \u001b[38;5;241m<\u001b[39m \u001b[38;5;241m0\u001b[39m)\u001b[38;5;241m.\u001b[39many())\n",
      "File \u001b[0;32mproperties.pyx:36\u001b[0m, in \u001b[0;36mpandas._libs.properties.CachedProperty.__get__\u001b[0;34m()\u001b[0m\n",
      "File \u001b[0;32m~/anaconda3/lib/python3.11/site-packages/pandas/core/groupby/ops.py:730\u001b[0m, in \u001b[0;36mBaseGrouper.group_info\u001b[0;34m(self)\u001b[0m\n\u001b[1;32m    728\u001b[0m \u001b[38;5;129m@cache_readonly\u001b[39m\n\u001b[1;32m    729\u001b[0m \u001b[38;5;28;01mdef\u001b[39;00m \u001b[38;5;21mgroup_info\u001b[39m(\u001b[38;5;28mself\u001b[39m) \u001b[38;5;241m-\u001b[39m\u001b[38;5;241m>\u001b[39m \u001b[38;5;28mtuple\u001b[39m[npt\u001b[38;5;241m.\u001b[39mNDArray[np\u001b[38;5;241m.\u001b[39mintp], npt\u001b[38;5;241m.\u001b[39mNDArray[np\u001b[38;5;241m.\u001b[39mintp], \u001b[38;5;28mint\u001b[39m]:\n\u001b[0;32m--> 730\u001b[0m     comp_ids, obs_group_ids \u001b[38;5;241m=\u001b[39m \u001b[38;5;28mself\u001b[39m\u001b[38;5;241m.\u001b[39m_get_compressed_codes()\n\u001b[1;32m    732\u001b[0m     ngroups \u001b[38;5;241m=\u001b[39m \u001b[38;5;28mlen\u001b[39m(obs_group_ids)\n\u001b[1;32m    733\u001b[0m     comp_ids \u001b[38;5;241m=\u001b[39m ensure_platform_int(comp_ids)\n",
      "File \u001b[0;32m~/anaconda3/lib/python3.11/site-packages/pandas/core/groupby/ops.py:754\u001b[0m, in \u001b[0;36mBaseGrouper._get_compressed_codes\u001b[0;34m(self)\u001b[0m\n\u001b[1;32m    751\u001b[0m     \u001b[38;5;66;03m# FIXME: compress_group_index's second return value is int64, not intp\u001b[39;00m\n\u001b[1;32m    753\u001b[0m ping \u001b[38;5;241m=\u001b[39m \u001b[38;5;28mself\u001b[39m\u001b[38;5;241m.\u001b[39mgroupings[\u001b[38;5;241m0\u001b[39m]\n\u001b[0;32m--> 754\u001b[0m \u001b[38;5;28;01mreturn\u001b[39;00m ping\u001b[38;5;241m.\u001b[39mcodes, np\u001b[38;5;241m.\u001b[39marange(\u001b[38;5;28mlen\u001b[39m(ping\u001b[38;5;241m.\u001b[39mgroup_index), dtype\u001b[38;5;241m=\u001b[39mnp\u001b[38;5;241m.\u001b[39mintp)\n",
      "File \u001b[0;32m~/anaconda3/lib/python3.11/site-packages/pandas/core/groupby/grouper.py:691\u001b[0m, in \u001b[0;36mGrouping.codes\u001b[0;34m(self)\u001b[0m\n\u001b[1;32m    689\u001b[0m \u001b[38;5;129m@property\u001b[39m\n\u001b[1;32m    690\u001b[0m \u001b[38;5;28;01mdef\u001b[39;00m \u001b[38;5;21mcodes\u001b[39m(\u001b[38;5;28mself\u001b[39m) \u001b[38;5;241m-\u001b[39m\u001b[38;5;241m>\u001b[39m npt\u001b[38;5;241m.\u001b[39mNDArray[np\u001b[38;5;241m.\u001b[39msignedinteger]:\n\u001b[0;32m--> 691\u001b[0m     \u001b[38;5;28;01mreturn\u001b[39;00m \u001b[38;5;28mself\u001b[39m\u001b[38;5;241m.\u001b[39m_codes_and_uniques[\u001b[38;5;241m0\u001b[39m]\n",
      "File \u001b[0;32mproperties.pyx:36\u001b[0m, in \u001b[0;36mpandas._libs.properties.CachedProperty.__get__\u001b[0;34m()\u001b[0m\n",
      "File \u001b[0;32m~/anaconda3/lib/python3.11/site-packages/pandas/core/groupby/grouper.py:801\u001b[0m, in \u001b[0;36mGrouping._codes_and_uniques\u001b[0;34m(self)\u001b[0m\n\u001b[1;32m    796\u001b[0m     uniques \u001b[38;5;241m=\u001b[39m \u001b[38;5;28mself\u001b[39m\u001b[38;5;241m.\u001b[39m_uniques\n\u001b[1;32m    797\u001b[0m \u001b[38;5;28;01melse\u001b[39;00m:\n\u001b[1;32m    798\u001b[0m     \u001b[38;5;66;03m# GH35667, replace dropna=False with use_na_sentinel=False\u001b[39;00m\n\u001b[1;32m    799\u001b[0m     \u001b[38;5;66;03m# error: Incompatible types in assignment (expression has type \"Union[\u001b[39;00m\n\u001b[1;32m    800\u001b[0m     \u001b[38;5;66;03m# ndarray[Any, Any], Index]\", variable has type \"Categorical\")\u001b[39;00m\n\u001b[0;32m--> 801\u001b[0m     codes, uniques \u001b[38;5;241m=\u001b[39m algorithms\u001b[38;5;241m.\u001b[39mfactorize(  \u001b[38;5;66;03m# type: ignore[assignment]\u001b[39;00m\n\u001b[1;32m    802\u001b[0m         \u001b[38;5;28mself\u001b[39m\u001b[38;5;241m.\u001b[39mgrouping_vector, sort\u001b[38;5;241m=\u001b[39m\u001b[38;5;28mself\u001b[39m\u001b[38;5;241m.\u001b[39m_sort, use_na_sentinel\u001b[38;5;241m=\u001b[39m\u001b[38;5;28mself\u001b[39m\u001b[38;5;241m.\u001b[39m_dropna\n\u001b[1;32m    803\u001b[0m     )\n\u001b[1;32m    804\u001b[0m \u001b[38;5;28;01mreturn\u001b[39;00m codes, uniques\n",
      "File \u001b[0;32m~/anaconda3/lib/python3.11/site-packages/pandas/core/algorithms.py:763\u001b[0m, in \u001b[0;36mfactorize\u001b[0;34m(values, sort, use_na_sentinel, size_hint)\u001b[0m\n\u001b[1;32m    754\u001b[0m \u001b[38;5;66;03m# Implementation notes: This method is responsible for 3 things\u001b[39;00m\n\u001b[1;32m    755\u001b[0m \u001b[38;5;66;03m# 1.) coercing data to array-like (ndarray, Index, extension array)\u001b[39;00m\n\u001b[1;32m    756\u001b[0m \u001b[38;5;66;03m# 2.) factorizing codes and uniques\u001b[39;00m\n\u001b[0;32m   (...)\u001b[0m\n\u001b[1;32m    760\u001b[0m \u001b[38;5;66;03m# responsible only for factorization. All data coercion, sorting and boxing\u001b[39;00m\n\u001b[1;32m    761\u001b[0m \u001b[38;5;66;03m# should happen here.\u001b[39;00m\n\u001b[1;32m    762\u001b[0m \u001b[38;5;28;01mif\u001b[39;00m \u001b[38;5;28misinstance\u001b[39m(values, (ABCIndex, ABCSeries)):\n\u001b[0;32m--> 763\u001b[0m     \u001b[38;5;28;01mreturn\u001b[39;00m values\u001b[38;5;241m.\u001b[39mfactorize(sort\u001b[38;5;241m=\u001b[39msort, use_na_sentinel\u001b[38;5;241m=\u001b[39muse_na_sentinel)\n\u001b[1;32m    765\u001b[0m values \u001b[38;5;241m=\u001b[39m _ensure_arraylike(values, func_name\u001b[38;5;241m=\u001b[39m\u001b[38;5;124m\"\u001b[39m\u001b[38;5;124mfactorize\u001b[39m\u001b[38;5;124m\"\u001b[39m)\n\u001b[1;32m    766\u001b[0m original \u001b[38;5;241m=\u001b[39m values\n",
      "File \u001b[0;32m~/anaconda3/lib/python3.11/site-packages/pandas/core/base.py:1195\u001b[0m, in \u001b[0;36mIndexOpsMixin.factorize\u001b[0;34m(self, sort, use_na_sentinel)\u001b[0m\n\u001b[1;32m   1177\u001b[0m \u001b[38;5;129m@doc\u001b[39m(\n\u001b[1;32m   1178\u001b[0m     algorithms\u001b[38;5;241m.\u001b[39mfactorize,\n\u001b[1;32m   1179\u001b[0m     values\u001b[38;5;241m=\u001b[39m\u001b[38;5;124m\"\u001b[39m\u001b[38;5;124m\"\u001b[39m,\n\u001b[0;32m   (...)\u001b[0m\n\u001b[1;32m   1193\u001b[0m     use_na_sentinel: \u001b[38;5;28mbool\u001b[39m \u001b[38;5;241m=\u001b[39m \u001b[38;5;28;01mTrue\u001b[39;00m,\n\u001b[1;32m   1194\u001b[0m ) \u001b[38;5;241m-\u001b[39m\u001b[38;5;241m>\u001b[39m \u001b[38;5;28mtuple\u001b[39m[npt\u001b[38;5;241m.\u001b[39mNDArray[np\u001b[38;5;241m.\u001b[39mintp], Index]:\n\u001b[0;32m-> 1195\u001b[0m     codes, uniques \u001b[38;5;241m=\u001b[39m algorithms\u001b[38;5;241m.\u001b[39mfactorize(\n\u001b[1;32m   1196\u001b[0m         \u001b[38;5;28mself\u001b[39m\u001b[38;5;241m.\u001b[39m_values, sort\u001b[38;5;241m=\u001b[39msort, use_na_sentinel\u001b[38;5;241m=\u001b[39muse_na_sentinel\n\u001b[1;32m   1197\u001b[0m     )\n\u001b[1;32m   1198\u001b[0m     \u001b[38;5;28;01mif\u001b[39;00m uniques\u001b[38;5;241m.\u001b[39mdtype \u001b[38;5;241m==\u001b[39m np\u001b[38;5;241m.\u001b[39mfloat16:\n\u001b[1;32m   1199\u001b[0m         uniques \u001b[38;5;241m=\u001b[39m uniques\u001b[38;5;241m.\u001b[39mastype(np\u001b[38;5;241m.\u001b[39mfloat32)\n",
      "File \u001b[0;32m~/anaconda3/lib/python3.11/site-packages/pandas/core/algorithms.py:802\u001b[0m, in \u001b[0;36mfactorize\u001b[0;34m(values, sort, use_na_sentinel, size_hint)\u001b[0m\n\u001b[1;32m    795\u001b[0m     codes, uniques \u001b[38;5;241m=\u001b[39m factorize_array(\n\u001b[1;32m    796\u001b[0m         values,\n\u001b[1;32m    797\u001b[0m         use_na_sentinel\u001b[38;5;241m=\u001b[39muse_na_sentinel,\n\u001b[1;32m    798\u001b[0m         size_hint\u001b[38;5;241m=\u001b[39msize_hint,\n\u001b[1;32m    799\u001b[0m     )\n\u001b[1;32m    801\u001b[0m \u001b[38;5;28;01mif\u001b[39;00m sort \u001b[38;5;129;01mand\u001b[39;00m \u001b[38;5;28mlen\u001b[39m(uniques) \u001b[38;5;241m>\u001b[39m \u001b[38;5;241m0\u001b[39m:\n\u001b[0;32m--> 802\u001b[0m     uniques, codes \u001b[38;5;241m=\u001b[39m safe_sort(\n\u001b[1;32m    803\u001b[0m         uniques,\n\u001b[1;32m    804\u001b[0m         codes,\n\u001b[1;32m    805\u001b[0m         use_na_sentinel\u001b[38;5;241m=\u001b[39muse_na_sentinel,\n\u001b[1;32m    806\u001b[0m         assume_unique\u001b[38;5;241m=\u001b[39m\u001b[38;5;28;01mTrue\u001b[39;00m,\n\u001b[1;32m    807\u001b[0m         verify\u001b[38;5;241m=\u001b[39m\u001b[38;5;28;01mFalse\u001b[39;00m,\n\u001b[1;32m    808\u001b[0m     )\n\u001b[1;32m    810\u001b[0m uniques \u001b[38;5;241m=\u001b[39m _reconstruct_data(uniques, original\u001b[38;5;241m.\u001b[39mdtype, original)\n\u001b[1;32m    812\u001b[0m \u001b[38;5;28;01mreturn\u001b[39;00m codes, uniques\n",
      "File \u001b[0;32m~/anaconda3/lib/python3.11/site-packages/pandas/core/algorithms.py:1608\u001b[0m, in \u001b[0;36msafe_sort\u001b[0;34m(values, codes, use_na_sentinel, assume_unique, verify)\u001b[0m\n\u001b[1;32m   1606\u001b[0m             ordered \u001b[38;5;241m=\u001b[39m _sort_tuples(values)  \u001b[38;5;66;03m# type: ignore[arg-type]\u001b[39;00m\n\u001b[1;32m   1607\u001b[0m         \u001b[38;5;28;01melse\u001b[39;00m:\n\u001b[0;32m-> 1608\u001b[0m             ordered \u001b[38;5;241m=\u001b[39m _sort_mixed(values)\n\u001b[1;32m   1610\u001b[0m \u001b[38;5;66;03m# codes:\u001b[39;00m\n\u001b[1;32m   1612\u001b[0m \u001b[38;5;28;01mif\u001b[39;00m codes \u001b[38;5;129;01mis\u001b[39;00m \u001b[38;5;28;01mNone\u001b[39;00m:\n",
      "File \u001b[0;32m~/anaconda3/lib/python3.11/site-packages/pandas/core/algorithms.py:1667\u001b[0m, in \u001b[0;36m_sort_mixed\u001b[0;34m(values)\u001b[0m\n\u001b[1;32m   1665\u001b[0m num_pos \u001b[38;5;241m=\u001b[39m \u001b[38;5;241m~\u001b[39mstr_pos \u001b[38;5;241m&\u001b[39m \u001b[38;5;241m~\u001b[39mnull_pos\n\u001b[1;32m   1666\u001b[0m str_argsort \u001b[38;5;241m=\u001b[39m np\u001b[38;5;241m.\u001b[39margsort(values[str_pos])\n\u001b[0;32m-> 1667\u001b[0m num_argsort \u001b[38;5;241m=\u001b[39m np\u001b[38;5;241m.\u001b[39margsort(values[num_pos])\n\u001b[1;32m   1668\u001b[0m \u001b[38;5;66;03m# convert boolean arrays to positional indices, then order by underlying values\u001b[39;00m\n\u001b[1;32m   1669\u001b[0m str_locs \u001b[38;5;241m=\u001b[39m str_pos\u001b[38;5;241m.\u001b[39mnonzero()[\u001b[38;5;241m0\u001b[39m]\u001b[38;5;241m.\u001b[39mtake(str_argsort)\n",
      "File \u001b[0;32m~/anaconda3/lib/python3.11/site-packages/numpy/core/fromnumeric.py:1133\u001b[0m, in \u001b[0;36margsort\u001b[0;34m(a, axis, kind, order)\u001b[0m\n\u001b[1;32m   1025\u001b[0m \u001b[38;5;129m@array_function_dispatch\u001b[39m(_argsort_dispatcher)\n\u001b[1;32m   1026\u001b[0m \u001b[38;5;28;01mdef\u001b[39;00m \u001b[38;5;21margsort\u001b[39m(a, axis\u001b[38;5;241m=\u001b[39m\u001b[38;5;241m-\u001b[39m\u001b[38;5;241m1\u001b[39m, kind\u001b[38;5;241m=\u001b[39m\u001b[38;5;28;01mNone\u001b[39;00m, order\u001b[38;5;241m=\u001b[39m\u001b[38;5;28;01mNone\u001b[39;00m):\n\u001b[1;32m   1027\u001b[0m \u001b[38;5;250m    \u001b[39m\u001b[38;5;124;03m\"\"\"\u001b[39;00m\n\u001b[1;32m   1028\u001b[0m \u001b[38;5;124;03m    Returns the indices that would sort an array.\u001b[39;00m\n\u001b[1;32m   1029\u001b[0m \n\u001b[0;32m   (...)\u001b[0m\n\u001b[1;32m   1131\u001b[0m \n\u001b[1;32m   1132\u001b[0m \u001b[38;5;124;03m    \"\"\"\u001b[39;00m\n\u001b[0;32m-> 1133\u001b[0m     \u001b[38;5;28;01mreturn\u001b[39;00m _wrapfunc(a, \u001b[38;5;124m'\u001b[39m\u001b[38;5;124margsort\u001b[39m\u001b[38;5;124m'\u001b[39m, axis\u001b[38;5;241m=\u001b[39maxis, kind\u001b[38;5;241m=\u001b[39mkind, order\u001b[38;5;241m=\u001b[39morder)\n",
      "File \u001b[0;32m~/anaconda3/lib/python3.11/site-packages/numpy/core/fromnumeric.py:68\u001b[0m, in \u001b[0;36m_wrapfunc\u001b[0;34m(obj, method, *args, **kwds)\u001b[0m\n\u001b[1;32m     59\u001b[0m     \u001b[38;5;28;01mreturn\u001b[39;00m bound(\u001b[38;5;241m*\u001b[39margs, \u001b[38;5;241m*\u001b[39m\u001b[38;5;241m*\u001b[39mkwds)\n\u001b[1;32m     60\u001b[0m \u001b[38;5;28;01mexcept\u001b[39;00m \u001b[38;5;167;01mTypeError\u001b[39;00m:\n\u001b[1;32m     61\u001b[0m     \u001b[38;5;66;03m# A TypeError occurs if the object does have such a method in its\u001b[39;00m\n\u001b[1;32m     62\u001b[0m     \u001b[38;5;66;03m# class, but its signature is not identical to that of NumPy's. This\u001b[39;00m\n\u001b[0;32m   (...)\u001b[0m\n\u001b[1;32m     66\u001b[0m     \u001b[38;5;66;03m# Call _wrapit from within the except clause to ensure a potential\u001b[39;00m\n\u001b[1;32m     67\u001b[0m     \u001b[38;5;66;03m# exception has a traceback chain.\u001b[39;00m\n\u001b[0;32m---> 68\u001b[0m     \u001b[38;5;28;01mreturn\u001b[39;00m _wrapit(obj, method, \u001b[38;5;241m*\u001b[39margs, \u001b[38;5;241m*\u001b[39m\u001b[38;5;241m*\u001b[39mkwds)\n",
      "File \u001b[0;32m~/anaconda3/lib/python3.11/site-packages/numpy/core/fromnumeric.py:45\u001b[0m, in \u001b[0;36m_wrapit\u001b[0;34m(obj, method, *args, **kwds)\u001b[0m\n\u001b[1;32m     43\u001b[0m \u001b[38;5;28;01mexcept\u001b[39;00m \u001b[38;5;167;01mAttributeError\u001b[39;00m:\n\u001b[1;32m     44\u001b[0m     wrap \u001b[38;5;241m=\u001b[39m \u001b[38;5;28;01mNone\u001b[39;00m\n\u001b[0;32m---> 45\u001b[0m result \u001b[38;5;241m=\u001b[39m \u001b[38;5;28mgetattr\u001b[39m(asarray(obj), method)(\u001b[38;5;241m*\u001b[39margs, \u001b[38;5;241m*\u001b[39m\u001b[38;5;241m*\u001b[39mkwds)\n\u001b[1;32m     46\u001b[0m \u001b[38;5;28;01mif\u001b[39;00m wrap:\n\u001b[1;32m     47\u001b[0m     \u001b[38;5;28;01mif\u001b[39;00m \u001b[38;5;129;01mnot\u001b[39;00m \u001b[38;5;28misinstance\u001b[39m(result, mu\u001b[38;5;241m.\u001b[39mndarray):\n",
      "\u001b[0;31mTypeError\u001b[0m: '<' not supported between instances of 'method' and 'method'"
     ]
    }
   ],
   "source": [
    "mean_mms_of_rain_by_weekday = aachen_raindata.filter(['time', 'mm']).resample(\"d\", on='time').sum().groupby(lambda time: time.weekday).mean()\n",
    "mean_mms_of_rain_by_weekday"
   ]
  },
  {
   "cell_type": "markdown",
   "metadata": {},
   "source": [
    "And because we can, let's plot that:"
   ]
  },
  {
   "cell_type": "code",
   "execution_count": 66,
   "metadata": {},
   "outputs": [
    {
     "ename": "NameError",
     "evalue": "name 'mean_mms_of_rain_by_weekday' is not defined",
     "output_type": "error",
     "traceback": [
      "\u001b[0;31m---------------------------------------------------------------------------\u001b[0m",
      "\u001b[0;31mNameError\u001b[0m                                 Traceback (most recent call last)",
      "Cell \u001b[0;32mIn[66], line 1\u001b[0m\n\u001b[0;32m----> 1\u001b[0m mean_mms_of_rain_by_weekday\u001b[38;5;241m.\u001b[39mplot\u001b[38;5;241m.\u001b[39mbar()\n",
      "\u001b[0;31mNameError\u001b[0m: name 'mean_mms_of_rain_by_weekday' is not defined"
     ]
    }
   ],
   "source": [
    "mean_mms_of_rain_by_weekday.plot.bar()"
   ]
  },
  {
   "cell_type": "markdown",
   "metadata": {},
   "source": [
    "As expected, the rain does not really care about the weekdays ;-)"
   ]
  },
  {
   "cell_type": "markdown",
   "metadata": {},
   "source": [
    "---\n",
    "<a  id='RainiestCityInGermany'></a>\n",
    "## [Mystery - Is Aachen the rainiest city in Germany?](#top)"
   ]
  },
  {
   "cell_type": "markdown",
   "metadata": {},
   "source": [
    "Now let's finally find out if Aachen is actually the rainiest city in Germany - there is a second file of aggregated daily precipitation data for all German stations. This we can load and prepare just like we did before:"
   ]
  },
  {
   "cell_type": "code",
   "execution_count": null,
   "metadata": {},
   "outputs": [],
   "source": [
    "daily_precipitation_data_file = \"data/weather/germany_precipitation_aggregated_2010.txt\"\n",
    "germany_raindata = pd.read_csv(daily_precipitation_data_file, delimiter=\";\", skipinitialspace=True)\n",
    "germany_raindata"
   ]
  },
  {
   "cell_type": "markdown",
   "metadata": {},
   "source": [
    "In contrast to the previous file, which only contained measurements for Aachen, this file contains data from weather stations all from all over Germany, hence the stations ids are important now. In order to keep track of them, we have to keep the column of the `STATIONS_ID`.\n",
    "\n",
    "Apart from that, let's preprocess the data just like we did before:"
   ]
  },
  {
   "cell_type": "code",
   "execution_count": null,
   "metadata": {},
   "outputs": [],
   "source": [
    "germany_raindata['MESS_DATUM'] = pd.to_datetime(germany_raindata['MESS_DATUM'], format=\"%Y%m%d%H\")\n",
    "germany_raindata.drop(columns=[\"QN_8\", \"WRTR\", \"eor\"], inplace=True)\n",
    "germany_raindata.rename(columns={'STATIONS_ID': 'station_id', 'MESS_DATUM': 'time', 'R1': 'mm', 'RS_IND': 'prec'}, inplace=True)\n",
    "germany_raindata"
   ]
  },
  {
   "cell_type": "markdown",
   "metadata": {},
   "source": [
    "Overall, we have 349.904 entries for various weather stations over the year 2010."
   ]
  },
  {
   "cell_type": "markdown",
   "metadata": {},
   "source": [
    "Using the `groupby` method, we can introduce the _station\\_id_ as a new index, giving us a _compound index_ of _station id_ and _time stamp_. Resampling and summing up those gives us the yearly precipitation for any given _station id_:"
   ]
  },
  {
   "cell_type": "code",
   "execution_count": null,
   "metadata": {},
   "outputs": [],
   "source": [
    "yearly_data = germany_raindata.groupby('station_id', ).resample('y', on='time').sum()\n",
    "yearly_data"
   ]
  },
  {
   "cell_type": "markdown",
   "metadata": {},
   "source": [
    "As you can see, we now have the _station id_ as an index field, in addition to _time_. What we also have though is the sum of all _station ids_ for every _station id_, which doesn't make much sense. We can safely delete that colummn now that we have the _station id_ as index:"
   ]
  },
  {
   "cell_type": "code",
   "execution_count": null,
   "metadata": {},
   "outputs": [],
   "source": [
    "yearly_data.drop(columns=[\"station_id\"], inplace=True)\n",
    "yearly_data"
   ]
  },
  {
   "cell_type": "markdown",
   "metadata": {},
   "source": [
    "Neat. But what are these places? Let's load a list with a mapping between the _station id_ and the actual name of the station:"
   ]
  },
  {
   "cell_type": "code",
   "execution_count": null,
   "metadata": {},
   "outputs": [],
   "source": [
    "station_mapping_path = \"data/weather/stations.csv\"\n",
    "station_mapping = pd.read_csv(station_mapping_path)\n",
    "station_mapping"
   ]
  },
  {
   "cell_type": "markdown",
   "metadata": {},
   "source": [
    "Ok, there are 1459 weather stations in Germany. We already knew station number 3 in Aachen. Now let's insert this information into our weather data data frame:\n",
    "\n",
    "Using the `merge` method and passing it the column we want to use as keys for our join operation, we can get a `DataFrame` where the data for every station is matched up with it's name:"
   ]
  },
  {
   "cell_type": "code",
   "execution_count": null,
   "metadata": {},
   "outputs": [],
   "source": [
    "# JOIN both data frames using station_id as key (SQL: JOIN on ...)\n",
    "yearly_data_with_names = yearly_data.merge(station_mapping, on='station_id')\n",
    "yearly_data_with_names"
   ]
  },
  {
   "cell_type": "markdown",
   "metadata": {},
   "source": [
    "Now we can __finally__ find out the wettest and rainiest places in Germany:"
   ]
  },
  {
   "cell_type": "code",
   "execution_count": null,
   "metadata": {},
   "outputs": [],
   "source": [
    "wettest_places = yearly_data_with_names.sort_values(by='mm', ascending=False)\n",
    "wettest_places"
   ]
  },
  {
   "cell_type": "code",
   "execution_count": null,
   "metadata": {},
   "outputs": [],
   "source": [
    "rainiest_places = yearly_data_with_names.sort_values(by='prec', ascending=False)\n",
    "rainiest_places.head(40)"
   ]
  },
  {
   "cell_type": "markdown",
   "metadata": {},
   "source": [
    "And there we have it - the place in Germany with the highest amount of precipitation hour intertvals in 2010 was _Balderschwang_ in Bavaria and the rainiest place was the _Kahler Asten_, a mountain in the Sauerland region.\n",
    "\n",
    "Now whenever you hear someone whine about how it always rains in this wonderful city - you know what to tell them!"
   ]
  },
  {
   "cell_type": "code",
   "execution_count": null,
   "metadata": {},
   "outputs": [],
   "source": [
    "yearly_data_with_names.describe()"
   ]
  },
  {
   "cell_type": "code",
   "execution_count": null,
   "metadata": {},
   "outputs": [],
   "source": [
    "yearly_data_with_names.loc[yearly_data_with_names.station_name == 'Aachen']"
   ]
  },
  {
   "cell_type": "markdown",
   "metadata": {},
   "source": [
    "So Aachen has below average amount of rainfall! Let's not talk about the percipitation hour intervals though ;-)"
   ]
  },
  {
   "cell_type": "markdown",
   "metadata": {
    "tags": []
   },
   "source": [
    "---\n",
    "# [Summary](#top)\n",
    "\n",
    "In this chapter you have learned how to do the following with _Pandas_:\n",
    "\n",
    "+ import data\n",
    "+ deal with missing data\n",
    "+ filter and select rows\n",
    "+ aggregate data\n",
    "+ create quick and dirty plots for data exploration\n",
    "+ group data by arbitrary attributes\n",
    "+ merge multiple tables\n",
    "\n",
    "A short  quite complete documentation of the main functionality of Pandas you can find in the [10 minutes to Pandas](https://pandas.pydata.org/pandas-docs/stable/user_guide/10min.html) overview section."
   ]
  }
 ],
 "metadata": {
  "interpreter": {
   "hash": "ac2eaa0ea0ebeafcc7822e65e46aa9d4f966f30b695406963e145ea4a91cd4fc"
  },
  "kernelspec": {
   "display_name": "Python 3 (ipykernel)",
   "language": "python",
   "name": "python3"
  },
  "language_info": {
   "codemirror_mode": {
    "name": "ipython",
    "version": 3
   },
   "file_extension": ".py",
   "mimetype": "text/x-python",
   "name": "python",
   "nbconvert_exporter": "python",
   "pygments_lexer": "ipython3",
   "version": "3.11.5"
  }
 },
 "nbformat": 4,
 "nbformat_minor": 4
}
